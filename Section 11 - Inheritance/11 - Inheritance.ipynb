{
 "cells": [
  {
   "attachments": {},
   "cell_type": "markdown",
   "id": "1bdd282f",
   "metadata": {},
   "source": [
    "## Inheritance & more on OOPs\n",
    "Inheritance is a way of creating a new class from an existing class.\n",
    "\n",
    "\"---------------\"\n",
    "Syntax:\n",
    "\n",
    "class Emoloyee:\t#Base Class\n",
    "\t\n",
    "    #Code\n",
    "\n",
    "class Programmer(Employee):\t#Derived or child class\n",
    "\t\n",
    "    #Code\n",
    "    \n",
    "\"----------------------\"\n",
    "\n",
    "We can use the methods and attributes of Employee in Programmer object.\n",
    "\n",
    "Also, we can overwrite or add new attributes and methods in the Programmer class."
   ]
  },
  {
   "cell_type": "code",
   "execution_count": 3,
   "id": "e3114843",
   "metadata": {},
   "outputs": [
    {
     "name": "stdout",
     "output_type": "stream",
     "text": [
      "This is an employee\n",
      "This is an employee\n",
      "Google\n",
      "Google\n"
     ]
    }
   ],
   "source": [
    "class Employee:\n",
    "    company = \"Google\"\n",
    "\n",
    "    def showDetails(self):\n",
    "        print(\"This is an employee\")\n",
    "\n",
    "class Programmer(Employee):  # Inheritance introduced\n",
    "    language = \"Python\"\n",
    "    \n",
    "    def getLanguage(self):\n",
    "        print(f\"The language is {self.language}\")\n",
    "    \n",
    "e = Employee()\n",
    "e.showDetails()\n",
    "p = Programmer()\n",
    "p.showDetails()\n",
    "print(p.company)\n",
    "print(e.company)"
   ]
  },
  {
   "cell_type": "code",
   "execution_count": 4,
   "id": "19099068",
   "metadata": {},
   "outputs": [
    {
     "name": "stdout",
     "output_type": "stream",
     "text": [
      "This is an employee\n",
      "This is an programmer\n",
      "Google\n",
      "Google\n"
     ]
    }
   ],
   "source": [
    "# overwriting where applicable\n",
    "class Employee:\n",
    "    company = \"Google\"\n",
    "\n",
    "    def showDetails(self):\n",
    "        print(\"This is an employee\")\n",
    "\n",
    "class Programmer(Employee):  # Inheritance introduced\n",
    "    language = \"Python\"\n",
    "    # company = \"Youtube\"\n",
    "\n",
    "    def getLanguage(self):\n",
    "        print(f\"The language is {self.language}\")\n",
    "    \n",
    "    def showDetails(self):\n",
    "        print(\"This is an programmer\")\n",
    "\n",
    "\n",
    "e = Employee()\n",
    "e.showDetails()\n",
    "p = Programmer()\n",
    "p.showDetails()\n",
    "print(p.company)\n",
    "print(e.company)"
   ]
  },
  {
   "cell_type": "code",
   "execution_count": 2,
   "id": "a1707c9e",
   "metadata": {},
   "outputs": [
    {
     "name": "stdout",
     "output_type": "stream",
     "text": [
      "This is an employee\n",
      "This is an programmer\n",
      "Youtube\n",
      "Google\n"
     ]
    }
   ],
   "source": [
    "# over writing on parent class\n",
    "class Employee:\n",
    "    company = \"Google\"\n",
    "\n",
    "    def showDetails(self):\n",
    "        print(\"This is an employee\")\n",
    "\n",
    "class Programmer(Employee):  # Inheritance introduced\n",
    "    language = \"Python\"\n",
    "    company = \"Youtube\"\n",
    "\n",
    "    def getLanguage(self):\n",
    "        print(f\"The language is {self.language}\")\n",
    "    \n",
    "    def showDetails(self):\n",
    "        print(\"This is an programmer\")\n",
    "\n",
    "\n",
    "e = Employee()\n",
    "e.showDetails()\n",
    "p = Programmer()\n",
    "p.showDetails()\n",
    "print(p.company)\n",
    "print(e.company)"
   ]
  },
  {
   "attachments": {},
   "cell_type": "markdown",
   "id": "0ef89f07",
   "metadata": {},
   "source": [
    "Type of Inheritance\n",
    "- Single inheritance\n",
    "- Multiple inheritance\n",
    "- Multilevel inheritance"
   ]
  },
  {
   "attachments": {},
   "cell_type": "markdown",
   "id": "08c986a1",
   "metadata": {},
   "source": [
    "## Single Inheritance\n",
    "\n",
    "Single inheritance occurs when a child class inherits only a single parent class.\n",
    "\n",
    "Base -> Derived"
   ]
  },
  {
   "cell_type": "code",
   "execution_count": 8,
   "id": "372c561c",
   "metadata": {},
   "outputs": [
    {
     "name": "stdout",
     "output_type": "stream",
     "text": [
      "This is an employee\n",
      "This is an programmer\n",
      "Google\n"
     ]
    }
   ],
   "source": [
    "class Employee:\n",
    "    company = \"Google\"\n",
    "\n",
    "    def showDetails(self):\n",
    "        print(\"This is an employee\")\n",
    "\n",
    "class Programmer(Employee):\n",
    "    language = \"Python\"\n",
    "    # company = \"Youtube\"\n",
    "\n",
    "    def getLanguage(self):\n",
    "        print(f\"The language is {self.language}\")\n",
    "    \n",
    "    def showDetails(self):\n",
    "        print(\"This is an programmer\")\n",
    "\n",
    "\n",
    "e = Employee()\n",
    "e.showDetails()\n",
    "p = Programmer()\n",
    "p.showDetails()\n",
    "print(p.company)"
   ]
  },
  {
   "attachments": {},
   "cell_type": "markdown",
   "id": "715e2155",
   "metadata": {},
   "source": [
    "## Multiple Inheritance\n",
    "\n",
    "Multiple inheritances occurs when the child class inherits from more than one parent class."
   ]
  },
  {
   "cell_type": "code",
   "execution_count": 5,
   "id": "255ab456",
   "metadata": {},
   "outputs": [],
   "source": [
    "# Example multiple inheritance\n",
    "\n",
    "class Employee:\n",
    "    company = \"Visa\"\n",
    "    \n",
    "class Freelancer:\n",
    "    company = \"Fiverr\"\n",
    "\n",
    "class Programmer(Freelancer, Employee):  # Multiple inhertance defined\n",
    "    name = \"Khursheed\"\n",
    "\n",
    "p = Programmer()"
   ]
  },
  {
   "cell_type": "code",
   "execution_count": 11,
   "id": "909cc215",
   "metadata": {},
   "outputs": [
    {
     "name": "stdout",
     "output_type": "stream",
     "text": [
      "2\n",
      "120\n",
      "Khursheed\n"
     ]
    }
   ],
   "source": [
    "class Employee:\n",
    "    company = \"Visa\"\n",
    "    ecode = 120\n",
    "    \n",
    "class Freelancer:\n",
    "    company = \"Fiverr\"\n",
    "    level = 2\n",
    "\n",
    "class Programmer(Freelancer, Employee):  # Multiple inhertance defined\n",
    "    name = \"Khursheed\"\n",
    "\n",
    "p = Programmer()\n",
    "print(p.level)\n",
    "print(p.ecode)\n",
    "print(p.name)"
   ]
  },
  {
   "cell_type": "code",
   "execution_count": 10,
   "id": "1d470993",
   "metadata": {},
   "outputs": [
    {
     "name": "stdout",
     "output_type": "stream",
     "text": [
      "1\n"
     ]
    }
   ],
   "source": [
    "class Employee:\n",
    "    company = \"Visa\"\n",
    "    ecode = 120\n",
    "    \n",
    "class Freelancer:\n",
    "    company = \"Fiverr\"\n",
    "    level = 0\n",
    "    \n",
    "    def upgradeLevel(self):\n",
    "        self.level = self.level + 1\n",
    "\n",
    "class Programmer(Freelancer, Employee):  # Multiple inhertance defined\n",
    "    name = \"Khursheed\"\n",
    "\n",
    "p = Programmer()\n",
    "p.upgradeLevel()\n",
    "print(p.level)"
   ]
  },
  {
   "cell_type": "code",
   "execution_count": 2,
   "id": "b15b6c8e",
   "metadata": {},
   "outputs": [
    {
     "name": "stdout",
     "output_type": "stream",
     "text": [
      "Asman\n",
      "1\n"
     ]
    }
   ],
   "source": [
    "class Freelancer:\n",
    "    company = \"Asman\"\n",
    "    level = 0\n",
    "\n",
    "    def upgradeLevel(self):\n",
    "        self.level = self.level + 1\n",
    "\n",
    "class Employee:\n",
    "    company = \"Visa\"\n",
    "    eCode = 120\n",
    "\n",
    "\n",
    "class Programmer(Freelancer, Employee):\n",
    "    name = \"Khursheed\"\n",
    "\n",
    "p = Programmer()\n",
    "p.upgradeLevel()\n",
    "print(p.company) # which one print either Asman or Visa? here Asman will be print\n",
    "                 # because Freelancer is defined before Employee\n",
    "                 # class Programmer(Freelancer, Employee):\n",
    "                 # if Programmer(Freelancer, Employee): then Visa will be print\n",
    "print(p.level)"
   ]
  },
  {
   "attachments": {},
   "cell_type": "markdown",
   "id": "a79fd72c",
   "metadata": {},
   "source": [
    "# Multilevel Inheritance\n",
    "\n",
    "When a child class becomes a parent for another child class. (Grandparent - parent - Child)"
   ]
  },
  {
   "cell_type": "code",
   "execution_count": 7,
   "id": "8a4e546b",
   "metadata": {
    "scrolled": true
   },
   "outputs": [
    {
     "name": "stdout",
     "output_type": "stream",
     "text": [
      "I am breathing...\n",
      "I am an Employee so I am luckily breathing..\n",
      "I am a Progarmmer so I am breathing++..\n",
      "Self cleaning is important +++++++\n",
      "Honda\n",
      "Asman\n",
      "Pakistan\n"
     ]
    }
   ],
   "source": [
    "class Person:\n",
    "    country = \"Pakistan\"\n",
    "    def takeBreath(self):\n",
    "        print(\"I am breathing...\")\n",
    "        \n",
    "    def cleaningSelf(self):\n",
    "        print(\"Self cleaning is important\")\n",
    "\n",
    "class Employee(Person):\n",
    "    company = \"Honda\"\n",
    "\n",
    "    def getSalary(self):\n",
    "        print(f\"Salary is {self.salary}\")\n",
    "    \n",
    "    def takeBreath(self):\n",
    "        print(\"I am an Employee so I am luckily breathing..\")\n",
    "        \n",
    "    def cleaningSelf(self):\n",
    "        print(\"Self cleaning is important +++++++\")\n",
    "\n",
    "class Programmer(Employee):\n",
    "    company = \"Asman\"\n",
    "    \n",
    "    def getSalary(self):\n",
    "        print(f\"No salary to programmers\")\n",
    "    \n",
    "    def takeBreath(self):\n",
    "        print(\"I am a Progarmmer so I am breathing++..\")\n",
    "\n",
    "p = Person()\n",
    "e = Employee()\n",
    "pr = Programmer()\n",
    "\n",
    "p.takeBreath()\n",
    "e.takeBreath()\n",
    "pr.takeBreath()  # Take the imediate parents if not available with class\n",
    "pr.cleaningSelf() # it will use the latest one if both above have same\n",
    "print(e.company)\n",
    "print(pr.company)\n",
    "print(pr.country)\n",
    "# print(p.company) \n",
    "# throws an error - becasue no company define in grand parents level"
   ]
  },
  {
   "attachments": {},
   "cell_type": "markdown",
   "id": "710a810e",
   "metadata": {},
   "source": [
    "## Super method\n",
    "It is used to access the methods of a superclass in the derived class."
   ]
  },
  {
   "cell_type": "code",
   "execution_count": null,
   "id": "8aa89dcf",
   "metadata": {},
   "outputs": [],
   "source": [
    "# super().__init__()  #Calls constructor of the base class"
   ]
  },
  {
   "cell_type": "code",
   "execution_count": 15,
   "id": "ef00d90b",
   "metadata": {},
   "outputs": [
    {
     "name": "stdout",
     "output_type": "stream",
     "text": [
      "I am an Employee so I am luckily breathing BBBBBBBB..\n",
      "I am a Progarmmer so I am breathing  CCCCCC..\n"
     ]
    }
   ],
   "source": [
    "class Person:\n",
    "    country = \"Pakistan\"\n",
    "\n",
    "    def takeBreath(self):\n",
    "        print(\"I am breathing AAAAAAAAAA...\")\n",
    "\n",
    "class Employee(Person):\n",
    "    company = \"Honda\"\n",
    "\n",
    "    def getSalary(self):\n",
    "        print(f\"Salary is {self.salary}\")\n",
    "    \n",
    "    def takeBreath(self):\n",
    "        #super().takeBreath()\n",
    "        print(\"I am an Employee so I am luckily breathing BBBBBBBB..\")\n",
    "\n",
    "class Programmer(Employee):\n",
    "    company = \"Fiverr\"\n",
    "\n",
    "    def getSalary(self):\n",
    "        print(f\"No salary to programmers\")\n",
    "    \n",
    "    def takeBreath(self):\n",
    "        super().takeBreath() # methods of a superclass in the derived class\n",
    "        print(\"I am a Progarmmer so I am breathing  CCCCCC..\")\n",
    "        # Above super class allows to print parents function with same name\n",
    "p = Person()\n",
    "# p.takeBreath() \n",
    "e = Employee()\n",
    "# e.takeBreath() \n",
    "pr = Programmer()\n",
    "pr.takeBreath()"
   ]
  },
  {
   "cell_type": "code",
   "execution_count": 16,
   "id": "5e986421",
   "metadata": {},
   "outputs": [
    {
     "name": "stdout",
     "output_type": "stream",
     "text": [
      "I am breathing AAAAAAAAAA...\n",
      "I am an Employee so I am luckily breathing BBBBBBBB..\n",
      "I am a Progarmmer so I am breathing  CCCCCC..\n"
     ]
    }
   ],
   "source": [
    "class Person:\n",
    "    country = \"Pakistan\"\n",
    "\n",
    "    def takeBreath(self):\n",
    "        print(\"I am breathing AAAAAAAAAA...\")\n",
    "\n",
    "class Employee(Person):\n",
    "    company = \"Honda\"\n",
    "\n",
    "    def getSalary(self):\n",
    "        print(f\"Salary is {self.salary}\")\n",
    "    \n",
    "    def takeBreath(self):\n",
    "        super().takeBreath()\n",
    "        print(\"I am an Employee so I am luckily breathing BBBBBBBB..\")\n",
    "\n",
    "class Programmer(Employee):\n",
    "    company = \"Fiverr\"\n",
    "\n",
    "    def getSalary(self):\n",
    "        print(f\"No salary to programmers\")\n",
    "    \n",
    "    def takeBreath(self):\n",
    "        super().takeBreath() # methods of a superclass in the derived class\n",
    "        print(\"I am a Progarmmer so I am breathing  CCCCCC..\")\n",
    "        # Above super class allows to print parents function with same name\n",
    "p = Person()\n",
    "# p.takeBreath() \n",
    "e = Employee()\n",
    "# e.takeBreath() \n",
    "pr = Programmer()\n",
    "pr.takeBreath() \n"
   ]
  },
  {
   "attachments": {},
   "cell_type": "markdown",
   "id": "13afe5aa",
   "metadata": {},
   "source": [
    "First it start with grandson, where super().takeBreath() redirect to father where super().takeBreath() redirect to grandfather.\n",
    "\n",
    "Printing start with grandfather then father then grandson"
   ]
  },
  {
   "cell_type": "code",
   "execution_count": 19,
   "id": "d6b0f5c1",
   "metadata": {},
   "outputs": [
    {
     "name": "stdout",
     "output_type": "stream",
     "text": [
      "Initializing Programmer...\n",
      "\n"
     ]
    }
   ],
   "source": [
    "# introduce def __init__(self):  # it is constructor to start first\n",
    "class Person:\n",
    "    country = \"Pakistan\"\n",
    "\n",
    "    def __init__(self):  # it is constructor\n",
    "        print(\"Initializing Person...\\n\")\n",
    "\n",
    "    def takeBreath(self):\n",
    "        print(\"I am breathing...\")\n",
    "\n",
    "class Employee(Person):\n",
    "    company = \"Honda\"\n",
    "\n",
    "    def __init__(self):\n",
    "        super().__init__()\n",
    "        print(\"Initializing Employee...\\n\")\n",
    "\n",
    "    def getSalary(self):\n",
    "        print(f\"Salary is {self.salary}\")\n",
    "    \n",
    "    def takeBreath(self):\n",
    "        super().takeBreath()\n",
    "        print(\"I am an Employee so I am luckily breathing..\")\n",
    "\n",
    "class Programmer(Employee):\n",
    "    company = \"Fiverr\"\n",
    "\n",
    "    def __init__(self):\n",
    "        # super().__init__()\n",
    "        print(\"Initializing Programmer...\\n\")\n",
    "\n",
    "    def getSalary(self):\n",
    "        print(f\"No salary to programmers\")\n",
    "    \n",
    "    def takeBreath(self):\n",
    "        super().takeBreath()\n",
    "        print(\"I am a Progarmmer so I am breathing++..\")\n",
    "\n",
    "# p = Person()\n",
    "# p.takeBreath() \n",
    "\n",
    "# e = Employee()\n",
    "# e.takeBreath() \n",
    "\n",
    "pr = Programmer()\n",
    "# pr.takeBreath() \n"
   ]
  },
  {
   "cell_type": "code",
   "execution_count": 20,
   "id": "3780667b",
   "metadata": {},
   "outputs": [
    {
     "name": "stdout",
     "output_type": "stream",
     "text": [
      "Initializing Person...\n",
      "\n",
      "Initializing Employee...\n",
      "\n"
     ]
    }
   ],
   "source": [
    "# introduce def __init__(self):  # it is constructor to start first\n",
    "class Person:\n",
    "    country = \"Pakistan\"\n",
    "\n",
    "    def __init__(self):  # it is constructor\n",
    "        print(\"Initializing Person...\\n\")\n",
    "\n",
    "    def takeBreath(self):\n",
    "        print(\"I am breathing...\")\n",
    "\n",
    "class Employee(Person):\n",
    "    company = \"Honda\"\n",
    "\n",
    "    def __init__(self):\n",
    "        super().__init__()\n",
    "        print(\"Initializing Employee...\\n\")\n",
    "\n",
    "    def getSalary(self):\n",
    "        print(f\"Salary is {self.salary}\")\n",
    "    \n",
    "    def takeBreath(self):\n",
    "        super().takeBreath()\n",
    "        print(\"I am an Employee so I am luckily breathing..\")\n",
    "\n",
    "class Programmer(Employee):\n",
    "    company = \"Fiverr\"\n",
    "\n",
    "    def __init__(self):\n",
    "        super().__init__()\n",
    "        print(\"Initializing Programmer...\\n\")\n",
    "\n",
    "    def getSalary(self):\n",
    "        print(f\"No salary to programmers\")\n",
    "    \n",
    "    def takeBreath(self):\n",
    "        super().takeBreath()\n",
    "        print(\"I am a Progarmmer so I am breathing++..\")\n",
    "\n",
    "# p = Person()\n",
    "# p.takeBreath() \n",
    "\n",
    "e = Employee()\n",
    "# e.takeBreath() \n",
    "\n",
    "#pr = Programmer()\n",
    "# pr.takeBreath() \n"
   ]
  },
  {
   "cell_type": "code",
   "execution_count": 23,
   "id": "2480da69",
   "metadata": {},
   "outputs": [
    {
     "name": "stdout",
     "output_type": "stream",
     "text": [
      "Initializing Person...\n",
      "\n",
      "Initializing Employee...\n",
      "\n",
      "Initializing Programmer...\n",
      "\n"
     ]
    }
   ],
   "source": [
    "# introduce def __init__(self):  # it is constructor to start first\n",
    "class Person:\n",
    "    country = \"Pakistan\"\n",
    "\n",
    "    def __init__(self):  # it is constructor\n",
    "        print(\"Initializing Person...\\n\")\n",
    "\n",
    "    def takeBreath(self):\n",
    "        print(\"I am breathing...\")\n",
    "\n",
    "class Employee(Person):\n",
    "    company = \"Honda\"\n",
    "\n",
    "    def __init__(self):\n",
    "        super().__init__()\n",
    "        print(\"Initializing Employee...\\n\")\n",
    "\n",
    "    def getSalary(self):\n",
    "        print(f\"Salary is {self.salary}\")\n",
    "    \n",
    "    def takeBreath(self):\n",
    "        super().takeBreath()\n",
    "        print(\"I am an Employee so I am luckily breathing..\")\n",
    "\n",
    "class Programmer(Employee):\n",
    "    company = \"Fiverr\"\n",
    "\n",
    "    def __init__(self):\n",
    "        super().__init__()\n",
    "        # super().__init__()\n",
    "        print(\"Initializing Programmer...\\n\")\n",
    "\n",
    "    def getSalary(self):\n",
    "        print(f\"No salary to programmers\")\n",
    "    \n",
    "    def takeBreath(self):\n",
    "        super().takeBreath()\n",
    "        print(\"I am a Progarmmer so I am breathing++..\")\n",
    "\n",
    "# p = Person()\n",
    "# p.takeBreath() \n",
    "\n",
    "#e = Employee()\n",
    "# e.takeBreath() \n",
    "\n",
    "pr = Programmer()\n",
    "# pr.takeBreath() \n"
   ]
  },
  {
   "cell_type": "code",
   "execution_count": 24,
   "id": "6a3c3481",
   "metadata": {},
   "outputs": [
    {
     "name": "stdout",
     "output_type": "stream",
     "text": [
      "Initializing Programmer...\n",
      "\n",
      "I am breathing...\n",
      "I am an Employee so I am luckily breathing..\n",
      "I am a Progarmmer so I am breathing++..\n"
     ]
    }
   ],
   "source": [
    "class Person:\n",
    "    country = \"Pakistan\"\n",
    "\n",
    "    def __init__(self):\n",
    "        print(\"Initializing Person...\\n\")\n",
    "\n",
    "    def takeBreath(self):\n",
    "        print(\"I am breathing...\")\n",
    "\n",
    "class Employee(Person):\n",
    "    company = \"Honda\"\n",
    "\n",
    "    def __init__(self):\n",
    "        super().__init__()\n",
    "        \n",
    "        print(\"Initializing Employee...\\n\")\n",
    "\n",
    "    def getSalary(self):\n",
    "        print(f\"Salary is {self.salary}\")\n",
    "    \n",
    "    def takeBreath(self):\n",
    "        super().takeBreath()\n",
    "        print(\"I am an Employee so I am luckily breathing..\")\n",
    "\n",
    "class Programmer(Employee):\n",
    "    company = \"Fiverr\"\n",
    "\n",
    "    def __init__(self):\n",
    "        # super().__init__()\n",
    "        print(\"Initializing Programmer...\\n\")\n",
    "\n",
    "    def getSalary(self):\n",
    "        print(f\"No salary to programmers\")\n",
    "    \n",
    "    def takeBreath(self):\n",
    "        super().takeBreath()\n",
    "        print(\"I am a Progarmmer so I am breathing++..\")\n",
    "\n",
    "# p = Person()\n",
    "# p.takeBreath() \n",
    "\n",
    "# e = Employee()\n",
    "# e.takeBreath() \n",
    "\n",
    "pr = Programmer()\n",
    "pr.takeBreath() \n"
   ]
  },
  {
   "attachments": {},
   "cell_type": "markdown",
   "id": "4271b1e3",
   "metadata": {},
   "source": [
    "## Class methods\n",
    "\n",
    "A class method is a method which is bound to the class and not the object of the class.\n",
    "\n",
    "@classmethod decorator is used to create a class method.\n",
    "\n",
    "Syntax to create a class method:\n",
    "\n",
    "@classmethod\n",
    "\n",
    "def (cls, p1, p2):\n",
    "\t\n",
    "    #code"
   ]
  },
  {
   "cell_type": "code",
   "execution_count": 3,
   "id": "c83a5a56",
   "metadata": {},
   "outputs": [
    {
     "name": "stdout",
     "output_type": "stream",
     "text": [
      "100\n"
     ]
    }
   ],
   "source": [
    "class Employee:\n",
    "    company = \"Camel\"\n",
    "    salary = 100  # class atribute\n",
    "    location = \"Islamabad\"\n",
    "    \n",
    "e = Employee()\n",
    "print(e.salary)  # Simply print the salary"
   ]
  },
  {
   "cell_type": "code",
   "execution_count": 7,
   "id": "6a94bf48",
   "metadata": {},
   "outputs": [
    {
     "name": "stdout",
     "output_type": "stream",
     "text": [
      "100\n",
      "455\n",
      "100\n"
     ]
    }
   ],
   "source": [
    "# Changes are made by adding instance attribute not by the class\n",
    "# Class attribute could be changed by class method\n",
    "\n",
    "class Employee:\n",
    "    company = \"Camel\"\n",
    "    salary = 100\n",
    "    location = \"Islamabad\"\n",
    "\n",
    "    def changeSalary(self, sal):  # if I want to change the salary\n",
    "        self.salary = sal # instance attribute added not the class atribute\n",
    "\n",
    "e = Employee()\n",
    "print(e.salary)\n",
    "\n",
    "e.changeSalary(455)\n",
    "print(e.salary)\n",
    "print(Employee.salary)\n"
   ]
  },
  {
   "cell_type": "code",
   "execution_count": 8,
   "id": "64e45d27",
   "metadata": {},
   "outputs": [
    {
     "name": "stdout",
     "output_type": "stream",
     "text": [
      "100\n",
      "455\n",
      "455\n"
     ]
    }
   ],
   "source": [
    "# Change the class by Dander method\n",
    "class Employee:\n",
    "    company = \"Camel\"\n",
    "    salary = 100\n",
    "    location = \"Islamabad\"\n",
    "\n",
    "    # it can be done by below command to change class attribute\n",
    "    # Underscore method is called \"Dander\" method\n",
    "    def changeSalary(self, sal):\n",
    "        self.__class__.salary = sal   # Class attribute changed\n",
    "\n",
    "    #@classmethod\n",
    "    #def changeSalary(cls, sal):\n",
    "        #cls.salary = sal\n",
    "\n",
    "e = Employee()\n",
    "print(e.salary)\n",
    "e.changeSalary(455)\n",
    "print(e.salary)\n",
    "print(Employee.salary)"
   ]
  },
  {
   "cell_type": "code",
   "execution_count": 10,
   "id": "ad613fb6",
   "metadata": {},
   "outputs": [
    {
     "name": "stdout",
     "output_type": "stream",
     "text": [
      "100\n",
      "456\n",
      "456\n"
     ]
    }
   ],
   "source": [
    "# Change the class by Class method\n",
    "class Employee:\n",
    "    company = \"Camel\"\n",
    "    salary = 100\n",
    "    location = \"Islamabad\"\n",
    "\n",
    "    @classmethod  # It is class decorator\n",
    "    def changeSalary(cls, sal):   # cls = Class\n",
    "        cls.salary = sal\n",
    "\n",
    "e = Employee()\n",
    "print(e.salary)\n",
    "e.changeSalary(456)\n",
    "print(e.salary)\n",
    "print(Employee.salary)"
   ]
  },
  {
   "attachments": {},
   "cell_type": "markdown",
   "id": "19bf8323",
   "metadata": {},
   "source": [
    "## @property decorators\n",
    "\n",
    "Consider the following class\n",
    "\n",
    "class Employee:\n",
    "\t\n",
    "    @property \n",
    "\t\n",
    "    def name(self):\n",
    "\t\t\n",
    "        return self.ename"
   ]
  },
  {
   "cell_type": "code",
   "execution_count": 1,
   "id": "d52933a4",
   "metadata": {},
   "outputs": [
    {
     "name": "stdout",
     "output_type": "stream",
     "text": [
      "6000\n"
     ]
    }
   ],
   "source": [
    "# Property decorator is also called \"Getter\"\n",
    "class Employee:\n",
    "    company = \"Pakistan Patroleum\"\n",
    "    salary = 5600\n",
    "    salarybonus = 400\n",
    "    # totalSalary = 6000 # instead of hardcore,we use property decorator\n",
    "\n",
    "    @property  # it works as property\n",
    "    def totalSalary(self):\n",
    "        return self.salary + self.salarybonus\n",
    "    \n",
    "e = Employee()\n",
    "print(e.totalSalary)"
   ]
  },
  {
   "cell_type": "code",
   "execution_count": 2,
   "id": "f4c220c0",
   "metadata": {},
   "outputs": [
    {
     "name": "stdout",
     "output_type": "stream",
     "text": [
      "<bound method Employee.totalSalary of <__main__.Employee object at 0x0000026103A7A5E0>>\n"
     ]
    }
   ],
   "source": [
    "# if comments the property decorator\n",
    "class Employee:\n",
    "    company = \"Pakistan Patroleum\"\n",
    "    salary = 5600\n",
    "    salarybonus = 400\n",
    "    # totalSalary = 6100\n",
    "\n",
    "    # @property  # it works as property\n",
    "    def totalSalary(self):\n",
    "        return self.salary + self.salarybonus\n",
    "    \n",
    "e = Employee()\n",
    "print(e.totalSalary)"
   ]
  },
  {
   "attachments": {},
   "cell_type": "markdown",
   "id": "3b7fa768",
   "metadata": {},
   "source": [
    "## @.getters and @.setters\n",
    "\n",
    "The method name with @property decorator is called getter method.\n",
    "\n",
    "We can define a function + @name.setter decorator like below:\n",
    "\n",
    "@name.setter\n",
    "\n",
    "def name(self, value):\n",
    "\t\n",
    "    self.ename = value"
   ]
  },
  {
   "cell_type": "code",
   "execution_count": 3,
   "id": "578b1d39",
   "metadata": {},
   "outputs": [
    {
     "name": "stdout",
     "output_type": "stream",
     "text": [
      "6000\n",
      "5600\n",
      "200\n"
     ]
    }
   ],
   "source": [
    "# Setters\n",
    "class Employee:\n",
    "    company = \"Pakistan Patroleum\"\n",
    "    salary = 5600\n",
    "    salarybonus = 400\n",
    "    # totalSalary = 6100\n",
    "\n",
    "    @property\n",
    "    def totalSalary(self):\n",
    "        return self.salary + self.salarybonus\n",
    "\n",
    "    @totalSalary.setter\n",
    "    def totalSalary(self, val):\n",
    "        self.salarybonus = val - self.salary\n",
    "\n",
    "e = Employee()\n",
    "print(e.totalSalary)\n",
    "e.totalSalary = 5800\n",
    "print(e.salary)\n",
    "print(e.salarybonus)"
   ]
  },
  {
   "attachments": {},
   "cell_type": "markdown",
   "id": "5a1c61ab",
   "metadata": {},
   "source": [
    "## Operator overloading in Python / Dunder method\n",
    "\n",
    "Operators in python can be overloaded using dunder methods.\n",
    "\n",
    "These methods are called when a given operator is used on the objects.\n",
    "\n",
    "Operators in python can be overloaded using the following methods:\n",
    "\n",
    "p1 + p2 -> p1.__add__(p2)\n",
    "\n",
    "p1 – p2 -> p1.__sub__(p2)\n",
    "\n",
    "p1 * p2 -> p1.__mul__(p2)\n",
    "\n",
    "p1 / p2 -> p1.__truediv__(p2)\n",
    "\n",
    "p1 // p2 -> p1.__floordiv__(p2)"
   ]
  },
  {
   "cell_type": "code",
   "execution_count": 8,
   "id": "4eeab443",
   "metadata": {},
   "outputs": [
    {
     "name": "stdout",
     "output_type": "stream",
     "text": [
      "Lets add\n",
      "Lets multiply\n",
      "10\n",
      "24\n"
     ]
    }
   ],
   "source": [
    "class Number:\n",
    "    def __init__(self, num):  # __init__ is a dunder method\n",
    "        self.num = num\n",
    "\n",
    "    def __add__(self, num2):\n",
    "        print(\"Lets add\")\n",
    "        return self.num + num2.num\n",
    "\n",
    "    def __mul__(self, num2):\n",
    "        print(\"Lets multiply\")\n",
    "        return self.num * num2.num\n",
    "\n",
    "n1 = Number(4)\n",
    "n2 = Number(6)\n",
    "\n",
    "sum = n1 + n2\n",
    "mul = n1 * n2\n",
    "\n",
    "print(sum)\n",
    "print(mul)"
   ]
  },
  {
   "cell_type": "code",
   "execution_count": 2,
   "id": "6876530a",
   "metadata": {},
   "outputs": [
    {
     "name": "stdout",
     "output_type": "stream",
     "text": [
      "Decimal Number: 9\n",
      "1\n"
     ]
    }
   ],
   "source": [
    "class Number:\n",
    "    def __init__(self, num):\n",
    "        self.num = num\n",
    "\n",
    "    def __add__(self, num2):\n",
    "        print(\"Lets add\")\n",
    "        return self.num + num2.num\n",
    "\n",
    "    def __mul__(self, num2):\n",
    "        print(\"Lets multiply\")\n",
    "        return self.num * num2.num\n",
    "    \n",
    "    def __str__(self):\n",
    "        return f\"Decimal Number: {self.num}\"\n",
    "    \n",
    "    def __len__(self):\n",
    "        return 1\n",
    "\n",
    "n = Number(9)\n",
    "print(n)\n",
    "print(len(n))"
   ]
  },
  {
   "attachments": {},
   "cell_type": "markdown",
   "id": "42bb7c67",
   "metadata": {},
   "source": [
    "## Practice Set\n",
    "- 1- Create a class C-2d vector and use it to create another class representing a 3-d vector.\n",
    "- 2 -Create a class of pets from a class Animals and further create class Dog from Pets. Add a method bark to class Dog.\n",
    "- 3 - Create a class Employee and add salary and increment properties to it. Write a method SalaryAfterIncrement method with a @property decorator with a setter which changes the value of increment based on the salary.\n",
    "\n",
    "- 4 - Write a class complex to represent complex numbers, along with overloaded operators + and * which adds and multiplies them.\n",
    "- 5 - Write a class vector representing a vector of n dimension. Overload the + and * operator which calculates the sum and the dot product of them.\n",
    "- 6 - Write __str__() method to print the vector as follows:\n",
    "7i + 8j + 10k\n",
    "Assume vector of dimension 3 for this problem.\n",
    "\n",
    "- 7 - Override the __len__() method on vector of problem 5 to display the dimension of the vector."
   ]
  },
  {
   "attachments": {},
   "cell_type": "markdown",
   "id": "13d3e7fd",
   "metadata": {},
   "source": [
    "- 1- Create a class C-2d vector and use it to create another class representing a 3-d vector."
   ]
  },
  {
   "cell_type": "code",
   "execution_count": 9,
   "id": "75fe82cd",
   "metadata": {},
   "outputs": [
    {
     "name": "stdout",
     "output_type": "stream",
     "text": [
      "1i + 3j\n",
      "1i + 9j + 7k\n"
     ]
    }
   ],
   "source": [
    "class C2dVec:\n",
    "    def __init__(self, i, j):\n",
    "        self.icap = i\n",
    "        self.jcap = j\n",
    "\n",
    "    def __str__(self):\n",
    "        return f\"{self.icap}i + {self.jcap}j\"\n",
    "\n",
    "class C3dVec(C2dVec):\n",
    "    def __init__(self, i, j, k):\n",
    "        super().__init__(i, j)\n",
    "        self.kcap = k\n",
    "    \n",
    "    def __str__(self):\n",
    "        return f\"{self.icap}i + {self.jcap}j + {self.kcap}k\"\n",
    "    \n",
    "    \n",
    "v2d = C2dVec(1, 3)\n",
    "v3d = C3dVec(1, 9, 7)\n",
    "print(v2d)\n",
    "print(v3d)"
   ]
  },
  {
   "attachments": {},
   "cell_type": "markdown",
   "id": "c9943c3c",
   "metadata": {},
   "source": [
    "- 2 -Create a class of pets from a class Animals and further create class Dog from Pets. Add a method bark to class Dog."
   ]
  },
  {
   "cell_type": "code",
   "execution_count": 10,
   "id": "f3fa4a41",
   "metadata": {},
   "outputs": [
    {
     "name": "stdout",
     "output_type": "stream",
     "text": [
      "Bow bow!\n"
     ]
    }
   ],
   "source": [
    "class Animals:\n",
    "    animalType = \"Mammal\"\n",
    "\n",
    "class Pets:\n",
    "    color = \"White\"\n",
    "\n",
    "class Dog:\n",
    "    @staticmethod\n",
    "    def bark():\n",
    "        print(\"Bow bow!\")\n",
    "\n",
    "d  = Dog()\n",
    "d.bark()"
   ]
  },
  {
   "attachments": {},
   "cell_type": "markdown",
   "id": "026f0a9f",
   "metadata": {},
   "source": [
    "- 3 - Create a class Employee and add salary and increment properties to it. Write a method SalaryAfterIncrement method with a @property decorator with a setter which changes the value of increment based on the salary."
   ]
  },
  {
   "cell_type": "code",
   "execution_count": 11,
   "id": "57805b99",
   "metadata": {},
   "outputs": [
    {
     "name": "stdout",
     "output_type": "stream",
     "text": [
      "1500.0\n",
      "1.5\n",
      "2.0\n"
     ]
    }
   ],
   "source": [
    "# salaryAfterIncrement =  salary * increment\n",
    "\n",
    "class Employee:\n",
    "    salary = 1000\n",
    "    increment = 1.5\n",
    "    @property\n",
    "    def salaryAfterIncrement(self):\n",
    "        return self.salary*self.increment\n",
    "    \n",
    "    @salaryAfterIncrement.setter\n",
    "    def salaryAfterIncrement(self, sai): # sai=salary after increment\n",
    "        self.increment = sai/self.salary\n",
    "\n",
    "e = Employee()\n",
    "print(e.salaryAfterIncrement)\n",
    "\n",
    "print(e.increment)\n",
    "e.salaryAfterIncrement = 2000\n",
    "print(e.increment)"
   ]
  },
  {
   "attachments": {},
   "cell_type": "markdown",
   "id": "ec2b8869",
   "metadata": {},
   "source": [
    "- 4 - Write a class complex to represent complex numbers, along with overloaded operators + and * which adds and multiplies them."
   ]
  },
  {
   "cell_type": "code",
   "execution_count": 12,
   "id": "5ccb11f4",
   "metadata": {},
   "outputs": [
    {
     "name": "stdout",
     "output_type": "stream",
     "text": [
      "332 - 41i\n",
      "183 - 1361i\n"
     ]
    }
   ],
   "source": [
    "\n",
    "class Complex:\n",
    "    def __init__(self, r, i):\n",
    "        self.real = r \n",
    "        self.imaginary = i\n",
    "\n",
    "    def __add__(self, c):\n",
    "        return Complex(self.real + c.real, self.imaginary + c.imaginary)\n",
    "    \n",
    "    def __mul__(self, c):\n",
    "        mulReal =  self.real*c.real - self.imaginary*c.imaginary\n",
    "        mulImg =  self.real*c.imaginary + self.imaginary*c.real\n",
    "        return Complex(mulReal, mulImg)\n",
    "\n",
    "    def __str__(self):\n",
    "        if self.imaginary<0:\n",
    "            return f\"{self.real} - {-self.imaginary}i\"\n",
    "        else:\n",
    "            return f\"{self.real} + {self.imaginary}i\"\n",
    "\n",
    "c1 = Complex(1, -4)\n",
    "c2 = Complex(331, -37)\n",
    "print(c1 + c2)\n",
    "print(c1 * c2)"
   ]
  },
  {
   "attachments": {},
   "cell_type": "markdown",
   "id": "1e23c152",
   "metadata": {},
   "source": [
    "- 5 - Write a class vector representing a vector of n dimension. Overload the + and * operator which calculates the sum and the dot product of them."
   ]
  },
  {
   "cell_type": "code",
   "execution_count": 7,
   "id": "675a6aa5",
   "metadata": {},
   "outputs": [
    {
     "name": "stdout",
     "output_type": "stream",
     "text": [
      " 2a0 + 10a1 + 15a2 \n",
      "79\n"
     ]
    }
   ],
   "source": [
    "class Vector:\n",
    "    def __init__(self, vec):\n",
    "       self.vec = vec\n",
    "    \n",
    "    def __str__(self):\n",
    "        str1 = \"\" \n",
    "        index = 0\n",
    "        for i in self.vec:\n",
    "            str1 += f\" {i}a{index} +\"\n",
    "            index +=1\n",
    "        return str1[:-1]\n",
    "\n",
    "    def __add__(self, vec2):\n",
    "        newList = []\n",
    "        for i in range(len(self.vec)):\n",
    "            newList.append(self.vec[i] + vec2.vec[i])\n",
    "        return Vector(newList)\n",
    "    \n",
    "    def __mul__(self, vec2):\n",
    "        sum = 0\n",
    "        for i in range(len(self.vec)):\n",
    "            sum += self.vec[i] * vec2.vec[i]\n",
    "        return sum\n",
    "\n",
    "v1 = Vector([1, 4, 6])\n",
    "v2 = Vector([1, 6, 9])\n",
    "print(v1+v2)\n",
    "print(v1*v2)"
   ]
  },
  {
   "attachments": {},
   "cell_type": "markdown",
   "id": "1d93c52b",
   "metadata": {},
   "source": [
    "- 6 - Write __str__() method to print the vector as follows:\n",
    "7i + 8j + 10k\n",
    "Assume vector of dimension 3 for this problem."
   ]
  },
  {
   "cell_type": "code",
   "execution_count": 8,
   "id": "30e0118e",
   "metadata": {},
   "outputs": [
    {
     "name": "stdout",
     "output_type": "stream",
     "text": [
      "1i + 4j + 6k\n",
      "1i + 6j + 9k\n"
     ]
    }
   ],
   "source": [
    "class Vector:\n",
    "    def __init__(self, vec):\n",
    "       self.vec = vec\n",
    "    \n",
    "    def __str__(self):\n",
    "        return f\"{self.vec[0]}i + {self.vec[1]}j + {self.vec[2]}k\"\n",
    " \n",
    "\n",
    "v1 = Vector([1, 4, 6])\n",
    "v2 = Vector([1, 6, 9])\n",
    "print(v1)\n",
    "print(v2)"
   ]
  },
  {
   "attachments": {},
   "cell_type": "markdown",
   "id": "5134a19f",
   "metadata": {},
   "source": [
    "- 7 - Override the __len__() method on vector of problem 5 to display the dimension of the vector."
   ]
  },
  {
   "cell_type": "code",
   "execution_count": 10,
   "id": "2acbd2ba",
   "metadata": {},
   "outputs": [
    {
     "name": "stdout",
     "output_type": "stream",
     "text": [
      "4\n",
      "3\n"
     ]
    }
   ],
   "source": [
    "class Vector:\n",
    "    def __init__(self, vec):\n",
    "       self.vec = vec\n",
    "    \n",
    "    def __str__(self):\n",
    "        str1 = \"\" \n",
    "        index = 0\n",
    "        for i in self.vec:\n",
    "            str1 += f\" {i}a{index} +\"\n",
    "            index +=1\n",
    "        return str1[:-1]\n",
    "\n",
    "    def __add__(self, vec2):\n",
    "        newList = []\n",
    "        for i in range(len(self.vec)):\n",
    "            newList.append(self.vec[i] + vec2.vec[i])\n",
    "        return Vector(newList)\n",
    "    \n",
    "    def __mul__(self, vec2):\n",
    "        sum = 0\n",
    "        for i in range(len(self.vec)):\n",
    "            sum += self.vec[i] * vec2.vec[i]\n",
    "        return sum\n",
    "    \n",
    "    def __len__(self):\n",
    "        return len(self.vec)\n",
    "\n",
    "v1 = Vector([1, 4, 6, 6])\n",
    "v2 = Vector([1, 6, 9])\n",
    "print(len(v1))\n",
    "print(len(v2))"
   ]
  },
  {
   "cell_type": "code",
   "execution_count": null,
   "id": "e36b6d91",
   "metadata": {},
   "outputs": [],
   "source": []
  }
 ],
 "metadata": {
  "kernelspec": {
   "display_name": "Python 3 (ipykernel)",
   "language": "python",
   "name": "python3"
  },
  "language_info": {
   "codemirror_mode": {
    "name": "ipython",
    "version": 3
   },
   "file_extension": ".py",
   "mimetype": "text/x-python",
   "name": "python",
   "nbconvert_exporter": "python",
   "pygments_lexer": "ipython3",
   "version": "3.9.7"
  }
 },
 "nbformat": 4,
 "nbformat_minor": 5
}
