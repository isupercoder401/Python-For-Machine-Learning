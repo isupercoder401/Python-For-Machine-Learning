{
 "cells": [
  {
   "cell_type": "markdown",
   "id": "a3c197a1",
   "metadata": {},
   "source": [
    "## Virtual Environment\n",
    "An environment that is same as the system interpreter but is isolated from the other python environments on the system.\n",
    "\n",
    "## Installation\n",
    "\n",
    "- To use virtual environments, we write\n",
    "\n",
    "- pip install virtualenv          #Installs the package\n",
    "\n",
    "- We create a new environment using:\n",
    "\n",
    "- virtualenv myprojectenv             #Creates a new venv\n",
    "\n",
    "- The next step after creating the virtual environment is to activate it.\n",
    "\n",
    "- We can now use this virtual environment as a separate python installation."
   ]
  },
  {
   "cell_type": "code",
   "execution_count": null,
   "id": "c10f6b4f",
   "metadata": {},
   "outputs": [],
   "source": [
    "# Virtual Environment\n",
    "\n",
    "# For MacOS/linux users: source myprojectenv/bin/activate\n",
    "# For windows powershell users: .\\myprojectenv\\Scripts\\activate.ps1\n",
    "# https://stackoverflow.com/questions/18713086/virtualenv-wont-activate-on-windows\n",
    "\n",
    "import flask # flask - 0.5.2\n",
    "import pandas as pd\n",
    "import pygame"
   ]
  },
  {
   "cell_type": "markdown",
   "id": "79b9348b",
   "metadata": {},
   "source": [
    "## pip freeze command\n",
    "\n",
    "- pip freeze returns all the packages installed in a given python environment along with the versions.\n",
    "- just type “pip freeze > requirements.txt” (in command terminal). it it will generate the requirement.txt file\n",
    "\n",
    "- The above command creates a file named requirements.txt in the same directory containing the output of pip freeze.\n",
    "\n",
    "- We can distribute this file to other users and they can recreate the same environment using:\n",
    "\n",
    "- \"pip install –r requirements.txt\" (This command could be used to install same packages in new system)"
   ]
  },
  {
   "cell_type": "markdown",
   "id": "6c46fb8d",
   "metadata": {},
   "source": [
    "## Lambda functions\n",
    "\n",
    "- Functions created using an expression using the lambda keyword\n",
    "\n",
    "- Syntax:\n",
    "\n",
    "- lambda arguments: expressions (can be used as a normal function)\n",
    "\n",
    "Example:\n",
    "\n",
    "- Square = lambda x: x*x\n",
    "- Square(6)\t#returns 36\n",
    "- Sum = lambda a,b,c: a+b+c\n",
    "- Sum(1,2,3)\t#returns 6"
   ]
  },
  {
   "cell_type": "code",
   "execution_count": 1,
   "id": "2b1348f1",
   "metadata": {},
   "outputs": [
    {
     "name": "stdout",
     "output_type": "stream",
     "text": [
      "571\n"
     ]
    }
   ],
   "source": [
    "# Lamda\n",
    "\n",
    "def func(a):\n",
    "    return a+5\n",
    "\n",
    "x = 566\n",
    "print(func(x)) "
   ]
  },
  {
   "cell_type": "code",
   "execution_count": 2,
   "id": "31c6c32f",
   "metadata": {},
   "outputs": [
    {
     "name": "stdout",
     "output_type": "stream",
     "text": [
      "8\n",
      "9\n",
      "6\n"
     ]
    }
   ],
   "source": [
    "# Lamda, One liner function\n",
    "# It is used where Function will be passed as argument\n",
    "# def func(a):\n",
    "#     return a+5\n",
    "\n",
    "func = lambda a: a+5\n",
    "square = lambda x: x*x\n",
    "sum = lambda a, b, c: a+b+c\n",
    "\n",
    "x = 3\n",
    "print(func(x)) # Prints 8\n",
    "print(square(x)) # Prints 9\n",
    "print(sum(x, 1, 2)) # Prints 6"
   ]
  },
  {
   "cell_type": "markdown",
   "id": "95ff3416",
   "metadata": {},
   "source": [
    "## bin method(Strings) /Join\n",
    "\n",
    "Creates a string from iterable objects\n",
    "\n",
    "l = [“apple”, “mango”, “banana”]\n",
    "\n",
    "“,and,”.join(l)\n",
    "\n",
    "The above line will return “apple, and, mango, and, banana”"
   ]
  },
  {
   "cell_type": "code",
   "execution_count": 7,
   "id": "1e342e96",
   "metadata": {},
   "outputs": [
    {
     "name": "stdout",
     "output_type": "stream",
     "text": [
      "Camera\n",
      "Laptop\n",
      "Phone\n",
      "ipad\n",
      "Hard Disk\n",
      "Nvidia Graphic 3080 card\n",
      "<class 'str'>\n"
     ]
    }
   ],
   "source": [
    "# Join\n",
    "\n",
    "l = [\"Camera\", \"Laptop\", \"Phone\", \"ipad\", \"Hard Disk\", \"Nvidia Graphic 3080 card\"]\n",
    "sentence = \"\\n\".join(l)\n",
    "print(sentence)\n",
    "print(type(sentence))"
   ]
  },
  {
   "cell_type": "code",
   "execution_count": 8,
   "id": "b2c62b88",
   "metadata": {},
   "outputs": [
    {
     "name": "stdout",
     "output_type": "stream",
     "text": [
      "Camera~~Laptop~~Phone~~ipad~~Hard Disk~~Nvidia Graphic 3080 card\n",
      "<class 'str'>\n"
     ]
    }
   ],
   "source": [
    "# Join\n",
    "\n",
    "l = [\"Camera\", \"Laptop\", \"Phone\", \"ipad\", \"Hard Disk\", \"Nvidia Graphic 3080 card\"]\n",
    "\n",
    "sentence = \"~~\".join(l)\n",
    "print(sentence)\n",
    "print(type(sentence))"
   ]
  },
  {
   "cell_type": "code",
   "execution_count": 9,
   "id": "9d986d89",
   "metadata": {},
   "outputs": [
    {
     "name": "stdout",
     "output_type": "stream",
     "text": [
      "Camera==Laptop==Phone==ipad==Hard Disk==Nvidia Graphic 3080 card\n",
      "<class 'str'>\n"
     ]
    }
   ],
   "source": [
    "# Join\n",
    "\n",
    "l = [\"Camera\", \"Laptop\", \"Phone\", \"ipad\", \"Hard Disk\", \"Nvidia Graphic 3080 card\"]\n",
    "\n",
    "sentence = \"==\".join(l)\n",
    "print(sentence)\n",
    "print(type(sentence))"
   ]
  },
  {
   "cell_type": "code",
   "execution_count": 10,
   "id": "e619b985",
   "metadata": {},
   "outputs": [
    {
     "name": "stdout",
     "output_type": "stream",
     "text": [
      "Camera & Laptop & Phone & ipad & Hard Disk & Nvidia Graphic 3080 card\n",
      "<class 'str'>\n"
     ]
    }
   ],
   "source": [
    "# Join\n",
    "\n",
    "l = [\"Camera\", \"Laptop\", \"Phone\", \"ipad\", \"Hard Disk\", \"Nvidia Graphic 3080 card\"]\n",
    "\n",
    "sentence = \" & \".join(l)\n",
    "print(sentence)\n",
    "print(type(sentence))"
   ]
  },
  {
   "cell_type": "code",
   "execution_count": 11,
   "id": "03408a5a",
   "metadata": {},
   "outputs": [
    {
     "name": "stdout",
     "output_type": "stream",
     "text": [
      "Camera and Laptop and Phone and ipad and Hard Disk and Nvidia Graphic 3080 card\n",
      "<class 'str'>\n"
     ]
    }
   ],
   "source": [
    "# Join\n",
    "\n",
    "l = [\"Camera\", \"Laptop\", \"Phone\", \"ipad\", \"Hard Disk\", \"Nvidia Graphic 3080 card\"]\n",
    "\n",
    "sentence = \" and \".join(l)\n",
    "print(sentence)\n",
    "print(type(sentence))"
   ]
  },
  {
   "cell_type": "markdown",
   "id": "be62d593",
   "metadata": {},
   "source": [
    "## Format method(Strings)\n",
    "\n",
    "- it is a old method, so you should know about it\n",
    "- Formats the values inside the string into the desired output\n",
    "\n",
    "template.format(p1, p2, …)        #p1, p2 … are the arguments\n",
    "\n",
    "The syntax for format looks like:\n",
    "\n",
    "“{} is a good {}”.format(“Waseem”,”boy”) – 1\n",
    "\n",
    "“{1} is a good {0}”.format(“waseem”, “boy”) – 2\n",
    "\n",
    "Output for 1:\n",
    "\n",
    "Harry is a good boy\n",
    "\n",
    "Output for 2:\n",
    "\n",
    "boy is a good Harry"
   ]
  },
  {
   "cell_type": "code",
   "execution_count": 13,
   "id": "a7c737cb",
   "metadata": {},
   "outputs": [
    {
     "name": "stdout",
     "output_type": "stream",
     "text": [
      "This is Khursheed\n"
     ]
    }
   ],
   "source": [
    "# Format was used before \"f-string\" command\n",
    "\n",
    "name = \"Khursheed\"\n",
    "channel = \"Sky News\"\n",
    "type = \"Coding\"\n",
    "\n",
    "a = f\"This is {name}\"  # f-string\n",
    "print(a)"
   ]
  },
  {
   "cell_type": "code",
   "execution_count": 5,
   "id": "afe9d1ea",
   "metadata": {},
   "outputs": [
    {
     "name": "stdout",
     "output_type": "stream",
     "text": [
      "This is Khursheed\n"
     ]
    }
   ],
   "source": [
    "# Format\n",
    "\n",
    "name = \"Khursheed\"\n",
    "channel = \"Sky News\"\n",
    "type = \"Coding\"\n",
    "\n",
    "# a = f\"This is {name}\"\n",
    "a = \"This is {}\".format(name) # old method\n",
    "\n",
    "print(a)"
   ]
  },
  {
   "cell_type": "code",
   "execution_count": 14,
   "id": "0944f24b",
   "metadata": {},
   "outputs": [
    {
     "name": "stdout",
     "output_type": "stream",
     "text": [
      "This is Khursheed and his channel is Sky News\n"
     ]
    }
   ],
   "source": [
    "# Format\n",
    "\n",
    "name = \"Khursheed\"\n",
    "channel = \"Sky News\"\n",
    "type = \"Coding\"\n",
    "\n",
    "# a = f\"This is {name}\"\n",
    "# a = \"This is {}\".format(name)\n",
    "a = \"This is {} and his channel is {}\".format(name, channel)\n",
    "\n",
    "print(a)"
   ]
  },
  {
   "cell_type": "code",
   "execution_count": 15,
   "id": "d510161a",
   "metadata": {},
   "outputs": [
    {
     "name": "stdout",
     "output_type": "stream",
     "text": [
      "This is Khursheed and his Coding channel is Sky News\n"
     ]
    }
   ],
   "source": [
    "# Format\n",
    "\n",
    "name = \"Khursheed\"\n",
    "channel = \"Sky News\"\n",
    "type = \"Coding\"\n",
    "# a = f\"This is {name}\"\n",
    "# a = \"This is {}\".format(name)\n",
    "# a = \"This is {} and his channel is {}\".format(name, channel)\n",
    "a = \"This is {0} and his {2} channel is {1}\".format(name, channel, type)\n",
    "\n",
    "print(a)"
   ]
  },
  {
   "cell_type": "code",
   "execution_count": 16,
   "id": "330c58ff",
   "metadata": {},
   "outputs": [
    {
     "name": "stdout",
     "output_type": "stream",
     "text": [
      "This is Khursheed and his Sky News channel is Coding\n"
     ]
    }
   ],
   "source": [
    "# Format\n",
    "\n",
    "name = \"Khursheed\"\n",
    "channel = \"Sky News\"\n",
    "type = \"Coding\"\n",
    "# a = f\"This is {name}\"\n",
    "# a = \"This is {}\".format(name)\n",
    "# a = \"This is {} and his channel is {}\".format(name, channel)\n",
    "# a = \"This is {0} and his {2} channel is {1}\".format(name, channel, type)\n",
    "a = \"This is {} and his {} channel is {}\".format(name, channel, type)\n",
    "\n",
    "print(a)"
   ]
  },
  {
   "cell_type": "markdown",
   "id": "5366f89a",
   "metadata": {},
   "source": [
    "# Map\n",
    "\n",
    "def square(num):\n",
    "    return num*num\n",
    "\n",
    "l = [1, 2, 4]\n",
    "\n",
    "Method 1\n",
    "\n",
    "l2 = []\n",
    "\n",
    "for item in l:\n",
    "\n",
    "   l2.append(square(item))\n",
    "\n",
    "print(l2)\n",
    "\n",
    "\"--------\"\n",
    "\n",
    "Method 2\n",
    "\n",
    "print(list(map(square, l)))"
   ]
  },
  {
   "cell_type": "code",
   "execution_count": 11,
   "id": "f7b33231",
   "metadata": {},
   "outputs": [
    {
     "name": "stdout",
     "output_type": "stream",
     "text": [
      "[1, 4, 16]\n"
     ]
    }
   ],
   "source": [
    "# Map in conventional way\n",
    "# Take square root of the follwoing list\n",
    "\n",
    "def square(num):\n",
    "    return num*num\n",
    "\n",
    "l = [1, 2, 4]\n",
    "\n",
    "# Method 1\n",
    "l2 = []\n",
    "for item in l:\n",
    "    l2.append(square(item))\n",
    "print(l2)\n",
    "\n"
   ]
  },
  {
   "cell_type": "code",
   "execution_count": 17,
   "id": "29a59b59",
   "metadata": {},
   "outputs": [
    {
     "name": "stdout",
     "output_type": "stream",
     "text": [
      "[1, 4, 16]\n"
     ]
    }
   ],
   "source": [
    "def square(num):\n",
    "    return num*num\n",
    "\n",
    "l = [1, 2, 4]\n",
    "\n",
    "\n",
    "# Method 2\n",
    "print(list(map(square, l))) # here term is list for type casting, \n",
    "                            #it works without it also"
   ]
  },
  {
   "cell_type": "markdown",
   "id": "53bdefed",
   "metadata": {},
   "source": [
    "##  Filter\n",
    "\n",
    "\n",
    "- Filter creates a list of items for which the function returns true.\n",
    "\n",
    "- list(filter(function))            #function can be a lambda function"
   ]
  },
  {
   "cell_type": "code",
   "execution_count": 18,
   "id": "36477552",
   "metadata": {},
   "outputs": [
    {
     "name": "stdout",
     "output_type": "stream",
     "text": [
      "[6, 7, 8, 89, 98]\n"
     ]
    }
   ],
   "source": [
    "# Filter\n",
    "# Filter Syntax: list(filter(function, list))\n",
    "\n",
    "def greater_than_5(num):\n",
    "    if num > 5:\n",
    "        return True\n",
    "    else:\n",
    "        return False\n",
    "\n",
    "l = [1, 2, 3, 4, 5, 6, 7, 8, 89, 98]\n",
    "\n",
    "print(list(filter(greater_than_5, l))) # here list for typecasting\n",
    "# It retrun the function after filtering the elements greater than 5"
   ]
  },
  {
   "cell_type": "code",
   "execution_count": 19,
   "id": "3820ca59",
   "metadata": {},
   "outputs": [
    {
     "name": "stdout",
     "output_type": "stream",
     "text": [
      "[6, 7, 8, 89, 98]\n",
      "[89, 98]\n"
     ]
    }
   ],
   "source": [
    "# Filter\n",
    "# Filter Syntax: list(filter(function, list))\n",
    "\n",
    "def greater_than_5(num):\n",
    "    if num > 5:\n",
    "        return True\n",
    "    else:\n",
    "        return False\n",
    "\n",
    "g10 = lambda num: num>10\n",
    "\n",
    "l = [1, 2, 3, 4, 5, 6, 7, 8, 89, 98]\n",
    "\n",
    "print(list(filter(greater_than_5, l))) # here list here for typecasting\n",
    "print(list(filter(g10, l)))"
   ]
  },
  {
   "cell_type": "markdown",
   "id": "40beab5d",
   "metadata": {},
   "source": [
    "##  Reduce\n",
    "\n",
    "- Reduce applies a rolling computation to sequential pair of elements.\n",
    "\n",
    "- from functools import reduce\n",
    "\n",
    "- val = reduce(function, list1)        #function can be a lambda function\n",
    "\n",
    "- If the function computes sum of two numbers and the list is [1, 2, 3, 4]"
   ]
  },
  {
   "cell_type": "code",
   "execution_count": 20,
   "id": "0a120ef9",
   "metadata": {},
   "outputs": [
    {
     "name": "stdout",
     "output_type": "stream",
     "text": [
      "10\n"
     ]
    }
   ],
   "source": [
    "# Reduce\n",
    "\n",
    "from functools import reduce\n",
    "\n",
    "sum = lambda a, b: a+b\n",
    "\n",
    "l = [1, 2, 3, 4]\n",
    "val = reduce(sum, l)\n",
    "print(val)\n",
    "\n",
    "# It work like below\n",
    "# 1+2 = 3\n",
    "# 3+3 = 6\n",
    "# 6+4 = 10"
   ]
  },
  {
   "cell_type": "markdown",
   "id": "2e777d05",
   "metadata": {},
   "source": [
    "## Practice Set\n",
    "- 1 - Create two virtual environments, install few packages in the first one. How do you create a similar environment in the second one?\n",
    "- 2 - Write a program to input name, marks and phone number of a student and format it using the format function like below:  “The name of the student is Khursheed, his marks are 72 and the phone number is 99999888”\n",
    "- 3 - A list contains the multiplication table of 7. Write a program to convert it to a vertical string of the same numbers (7,14,….)\n",
    "- 4 - Write a program to filter a list of numbers that are divisible by 5.\n",
    "- 5 - Write a program to find the maximum of the numbers in a list using the reduce function.\n",
    "- 6 - Run pip freeze for the system interpreter. Take the contents and create a similar virtualenv.\n",
    "- 7 - Explore the flask module and create a web server using flask and Python."
   ]
  },
  {
   "cell_type": "markdown",
   "id": "b36bb6d6",
   "metadata": {},
   "source": [
    "## Problem 02\n",
    "Write a program to input name, marks and phone number of a student and format it using the format function like below:  “The name of the student is Khursheed, his marks are 72 and the phone number is 99999888”\n",
    "\n"
   ]
  },
  {
   "cell_type": "code",
   "execution_count": 21,
   "id": "58fcc57a",
   "metadata": {},
   "outputs": [
    {
     "name": "stdout",
     "output_type": "stream",
     "text": [
      "Enter your name: khursheed\n",
      "Enter your marks: 100\n",
      "Enter you phone Number: 999999999\n",
      "The name of the student is khursheed, his marks are 100 and phone number is 999999999 \n"
     ]
    }
   ],
   "source": [
    "# Problem 02\n",
    "name = input(\"Enter your name: \")\n",
    "marks = input(\"Enter your marks: \")\n",
    "phone = input(\"Enter you phone Number: \")\n",
    "\n",
    "template = \"The name of the student is {}, his marks are {} and phone number is {} \"\n",
    "output = template.format(name, marks, phone)\n",
    "print(output)"
   ]
  },
  {
   "cell_type": "markdown",
   "id": "9f2f0dcb",
   "metadata": {},
   "source": [
    "3 - A list contains the multiplication table of 7. Write a program to convert it to a vertical string of the same numbers (7,14,….)"
   ]
  },
  {
   "cell_type": "code",
   "execution_count": 22,
   "id": "c3836ec5",
   "metadata": {},
   "outputs": [
    {
     "name": "stdout",
     "output_type": "stream",
     "text": [
      "[7, 14, 21, 28, 35, 42, 49, 56, 63, 70]\n"
     ]
    }
   ],
   "source": [
    "# Problem 03 \n",
    "\n",
    "l = [(i*7) for i in range(1, 11)]\n",
    "print(l)"
   ]
  },
  {
   "cell_type": "code",
   "execution_count": 25,
   "id": "cd754025",
   "metadata": {},
   "outputs": [
    {
     "name": "stdout",
     "output_type": "stream",
     "text": [
      "7\n",
      "14\n",
      "21\n",
      "28\n",
      "35\n",
      "42\n",
      "49\n",
      "56\n",
      "63\n",
      "70\n"
     ]
    }
   ],
   "source": [
    "verticalTable = \"\\n\".join(l)\n",
    "print(verticalTable)"
   ]
  },
  {
   "cell_type": "code",
   "execution_count": 23,
   "id": "ec594bd2",
   "metadata": {},
   "outputs": [
    {
     "name": "stdout",
     "output_type": "stream",
     "text": [
      "['7', '14', '21', '28', '35', '42', '49', '56', '63', '70']\n"
     ]
    }
   ],
   "source": [
    "# Problem 03 \n",
    "# before applying join, convert into string\n",
    "l = [str(i*7) for i in range(1, 11)]  # Typecast string for vertical table\n",
    "print(l)"
   ]
  },
  {
   "cell_type": "code",
   "execution_count": 26,
   "id": "b6db4c70",
   "metadata": {},
   "outputs": [
    {
     "name": "stdout",
     "output_type": "stream",
     "text": [
      "['7', '14', '21', '28', '35', '42', '49', '56', '63', '70']\n",
      "7\n",
      "14\n",
      "21\n",
      "28\n",
      "35\n",
      "42\n",
      "49\n",
      "56\n",
      "63\n",
      "70\n"
     ]
    }
   ],
   "source": [
    "# Problem 03 \n",
    "\n",
    "l = [str(i*7) for i in range(1, 11)]\n",
    "print(l)\n",
    "\n",
    "verticalTable = \"\\n\".join(l)\n",
    "print(verticalTable)"
   ]
  },
  {
   "cell_type": "markdown",
   "id": "5bf7c1a4",
   "metadata": {},
   "source": [
    "4 - Write a program to filter a list of numbers that are divisible by 5."
   ]
  },
  {
   "cell_type": "code",
   "execution_count": 27,
   "id": "0018e060",
   "metadata": {},
   "outputs": [
    {
     "name": "stdout",
     "output_type": "stream",
     "text": [
      "[5, 55, 90, 60]\n"
     ]
    }
   ],
   "source": [
    "# Problem 04\n",
    "\n",
    "l = [1, 2, 3, 4, 5, 6, 7, 8, 9, 1, 2, 3, 4, 54, 23, 55, 90, 60]\n",
    "\n",
    "a = filter(lambda a: a%5==0, l)\n",
    "print(list(a))"
   ]
  },
  {
   "cell_type": "markdown",
   "id": "f24c1b4a",
   "metadata": {},
   "source": [
    "5 - Write a program to find the maximum of the numbers in a list using the reduce function."
   ]
  },
  {
   "cell_type": "code",
   "execution_count": 28,
   "id": "828d0c12",
   "metadata": {},
   "outputs": [
    {
     "name": "stdout",
     "output_type": "stream",
     "text": [
      "456\n",
      "456\n"
     ]
    }
   ],
   "source": [
    "# Problem 05\n",
    "\n",
    "from functools import reduce\n",
    "l = [3, 8, 455, 2, 5, 456]\n",
    "print(max(l)) # method 1\n",
    "\n",
    "a = reduce(max, l) # method 2 by pairing two elements\n",
    "print(a)"
   ]
  },
  {
   "cell_type": "markdown",
   "id": "b352d145",
   "metadata": {},
   "source": [
    "6 - Run pip freeze for the system interpreter. Take the contents and create a similar virtualenv."
   ]
  },
  {
   "cell_type": "code",
   "execution_count": null,
   "id": "f3f1e3db",
   "metadata": {},
   "outputs": [],
   "source": [
    "# Problem 06 -- Flask related programme - leave it\n",
    "\n",
    "from flask import Flask\n",
    "app = Flask(__name__)\n",
    "\n",
    "@app.route('/')\n",
    "def hello_world():\n",
    "    return '''<!doctype html>\n",
    "        <html lang=\"en\">\n",
    "        <head>\n",
    "            <!-- Required meta tags -->\n",
    "            <meta charset=\"utf-8\">\n",
    "            <meta name=\"viewport\" content=\"width=device-width, initial-scale=1, shrink-to-fit=no\">\n",
    "\n",
    "            <!-- Bootstrap CSS -->\n",
    "            <link rel=\"stylesheet\" href=\"https://stackpath.bootstrapcdn.com/bootstrap/4.5.2/css/bootstrap.min.css\" integrity=\"sha384-JcKb8q3iqJ61gNV9KGb8thSsNjpSL0n8PARn9HuZOnIxN0hoP+VmmDGMN5t9UJ0Z\" crossorigin=\"anonymous\">\n",
    "\n",
    "            <title>Hello, world!</title>\n",
    "        </head>\n",
    "        <body>\n",
    "            <h1>Hello, world!</h1>\n",
    "            <div class=\"alert alert-primary\" role=\"alert\">\n",
    "        A simple primary alert with <a href=\"#\" class=\"alert-link\">an example link</a>. Give it a click if you like.\n",
    "        </div>\n",
    "        <div class=\"alert alert-secondary\" role=\"alert\">\n",
    "        A simple secondary alert with <a href=\"#\" class=\"alert-link\">an example link</a>. Give it a click if you like.\n",
    "        </div>\n",
    "        <div class=\"alert alert-success\" role=\"alert\">\n",
    "        A simple success alert with <a href=\"#\" class=\"alert-link\">an example link</a>. Give it a click if you like.\n",
    "        </div>\n",
    "        <div class=\"alert alert-danger\" role=\"alert\">\n",
    "        A simple danger alert with <a href=\"#\" class=\"alert-link\">an example link</a>. Give it a click if you like.\n",
    "        </div>\n",
    "        <div class=\"alert alert-warning\" role=\"alert\">\n",
    "        A simple warning alert with <a href=\"#\" class=\"alert-link\">an example link</a>. Give it a click if you like.\n",
    "        </div>\n",
    "        <div class=\"alert alert-info\" role=\"alert\">\n",
    "        A simple info alert with <a href=\"#\" class=\"alert-link\">an example link</a>. Give it a click if you like.\n",
    "        </div>\n",
    "        <div class=\"alert alert-light\" role=\"alert\">\n",
    "        A simple light alert with <a href=\"#\" class=\"alert-link\">an example link</a>. Give it a click if you like.\n",
    "        </div>\n",
    "        <div class=\"alert alert-dark\" role=\"alert\">\n",
    "        A simple dark alert with <a href=\"#\" class=\"alert-link\">an example link</a>. Give it a click if you like.\n",
    "        </div>\n",
    "            <!-- Optional JavaScript -->\n",
    "            <!-- jQuery first, then Popper.js, then Bootstrap JS -->\n",
    "            <script src=\"https://code.jquery.com/jquery-3.5.1.slim.min.js\" integrity=\"sha384-DfXdz2htPH0lsSSs5nCTpuj/zy4C+OGpamoFVy38MVBnE+IbbVYUew+OrCXaRkfj\" crossorigin=\"anonymous\"></script>\n",
    "            <script src=\"https://cdn.jsdelivr.net/npm/popper.js@1.16.1/dist/umd/popper.min.js\" integrity=\"sha384-9/reFTGAW83EW2RDu2S0VKaIzap3H66lZH81PoYlFhbGU+6BZp6G7niu735Sk7lN\" crossorigin=\"anonymous\"></script>\n",
    "            <script src=\"https://stackpath.bootstrapcdn.com/bootstrap/4.5.2/js/bootstrap.min.js\" integrity=\"sha384-B4gt1jrGC7Jh4AgTPSdUtOBvfO8shuf57BaghqFfPlYxofvL8/KUEfYiJOMMV+rV\" crossorigin=\"anonymous\"></script>\n",
    "        </body>\n",
    "        </html>'''\n",
    "\n",
    "if __name__ == \"__main__\":\n",
    "    app.run(debug=True)"
   ]
  },
  {
   "cell_type": "code",
   "execution_count": null,
   "id": "e72681ca",
   "metadata": {},
   "outputs": [],
   "source": []
  },
  {
   "cell_type": "code",
   "execution_count": null,
   "id": "81cfd1e2",
   "metadata": {},
   "outputs": [],
   "source": []
  },
  {
   "cell_type": "code",
   "execution_count": null,
   "id": "3e7b7ba1",
   "metadata": {},
   "outputs": [],
   "source": []
  }
 ],
 "metadata": {
  "kernelspec": {
   "display_name": "Python 3 (ipykernel)",
   "language": "python",
   "name": "python3"
  },
  "language_info": {
   "codemirror_mode": {
    "name": "ipython",
    "version": 3
   },
   "file_extension": ".py",
   "mimetype": "text/x-python",
   "name": "python",
   "nbconvert_exporter": "python",
   "pygments_lexer": "ipython3",
   "version": "3.9.7"
  }
 },
 "nbformat": 4,
 "nbformat_minor": 5
}
