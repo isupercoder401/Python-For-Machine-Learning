{
 "cells": [
  {
   "cell_type": "markdown",
   "id": "0962ac4d",
   "metadata": {},
   "source": [
    "## Project 3: Student Library\n",
    "\n",
    "- Implement a student library system using OOPs where students can borrow a book from the list of books.\n",
    "\n",
    "- Create a separate Library and Student class.\n",
    "\n",
    "- Your program must be menu-driven.\n",
    "\n",
    "- You are free to choose the methods and attributes of your choice to implement this functionality."
   ]
  },
  {
   "cell_type": "code",
   "execution_count": 3,
   "id": "8893e4ed",
   "metadata": {},
   "outputs": [
    {
     "name": "stdout",
     "output_type": "stream",
     "text": [
      "Books present in this library are: \n",
      " *Algorithms\n",
      " *Django\n",
      " *Clrs\n",
      " *Python Notes\n"
     ]
    }
   ],
   "source": [
    "class Library:\n",
    "    def __init__(self, listOfBooks):\n",
    "        self.books = listOfBooks\n",
    "\n",
    "    def displayAvailableBooks(self):\n",
    "        print(\"Books present in this library are: \")\n",
    "        for book in self.books: \n",
    "            print(\" *\" + book)\n",
    "\n",
    "class Student:\n",
    "    pass\n",
    "            \n",
    "if __name__ == \"__main__\":\n",
    "    centraLibrary = Library([\"Algorithms\", \"Django\", \"Clrs\", \"Python Notes\"])\n",
    "    centraLibrary.displayAvailableBooks()"
   ]
  },
  {
   "cell_type": "code",
   "execution_count": 1,
   "id": "c0271f99",
   "metadata": {},
   "outputs": [
    {
     "name": "stdout",
     "output_type": "stream",
     "text": [
      "\n",
      " ====== Welcome to Central Library ======\n",
      "        Please choose an option:\n",
      "        1. List all the books\n",
      "        2. Request a book\n",
      "        3. Add/Return a book\n",
      "        4. Exit the Library\n",
      "        \n",
      "Enter a choice: 1\n",
      "Books present in this library are: \n",
      " *Algorithms\n",
      " *Django\n",
      " *Clrs\n",
      " *Python Notes\n",
      "\n",
      " ====== Welcome to Central Library ======\n",
      "        Please choose an option:\n",
      "        1. List all the books\n",
      "        2. Request a book\n",
      "        3. Add/Return a book\n",
      "        4. Exit the Library\n",
      "        \n",
      "Enter a choice: 5\n",
      "Invalid Choice!\n",
      "\n",
      " ====== Welcome to Central Library ======\n",
      "        Please choose an option:\n",
      "        1. List all the books\n",
      "        2. Request a book\n",
      "        3. Add/Return a book\n",
      "        4. Exit the Library\n",
      "        \n",
      "Enter a choice: 2\n",
      "Enter the name of the book you want to borrow: Clrs\n",
      "You have been issued Clrs. Please keep it safe and return it within 30 days\n",
      "\n",
      " ====== Welcome to Central Library ======\n",
      "        Please choose an option:\n",
      "        1. List all the books\n",
      "        2. Request a book\n",
      "        3. Add/Return a book\n",
      "        4. Exit the Library\n",
      "        \n",
      "Enter a choice: 1\n",
      "Books present in this library are: \n",
      " *Algorithms\n",
      " *Django\n",
      " *Python Notes\n",
      "\n",
      " ====== Welcome to Central Library ======\n",
      "        Please choose an option:\n",
      "        1. List all the books\n",
      "        2. Request a book\n",
      "        3. Add/Return a book\n",
      "        4. Exit the Library\n",
      "        \n",
      "Enter a choice: Django\n"
     ]
    },
    {
     "ename": "ValueError",
     "evalue": "invalid literal for int() with base 10: 'Django'",
     "output_type": "error",
     "traceback": [
      "\u001b[1;31m---------------------------------------------------------------------------\u001b[0m",
      "\u001b[1;31mValueError\u001b[0m                                Traceback (most recent call last)",
      "\u001b[1;32m~\\AppData\\Local\\Temp/ipykernel_1716/982822250.py\u001b[0m in \u001b[0;36m<module>\u001b[1;34m\u001b[0m\n\u001b[0;32m     44\u001b[0m         '''\n\u001b[0;32m     45\u001b[0m         \u001b[0mprint\u001b[0m\u001b[1;33m(\u001b[0m\u001b[0mwelcomeMsg\u001b[0m\u001b[1;33m)\u001b[0m\u001b[1;33m\u001b[0m\u001b[1;33m\u001b[0m\u001b[0m\n\u001b[1;32m---> 46\u001b[1;33m         \u001b[0ma\u001b[0m \u001b[1;33m=\u001b[0m \u001b[0mint\u001b[0m\u001b[1;33m(\u001b[0m\u001b[0minput\u001b[0m\u001b[1;33m(\u001b[0m\u001b[1;34m\"Enter a choice: \"\u001b[0m\u001b[1;33m)\u001b[0m\u001b[1;33m)\u001b[0m\u001b[1;33m\u001b[0m\u001b[1;33m\u001b[0m\u001b[0m\n\u001b[0m\u001b[0;32m     47\u001b[0m         \u001b[1;32mif\u001b[0m \u001b[0ma\u001b[0m \u001b[1;33m==\u001b[0m \u001b[1;36m1\u001b[0m\u001b[1;33m:\u001b[0m\u001b[1;33m\u001b[0m\u001b[1;33m\u001b[0m\u001b[0m\n\u001b[0;32m     48\u001b[0m             \u001b[0mcentraLibrary\u001b[0m\u001b[1;33m.\u001b[0m\u001b[0mdisplayAvailableBooks\u001b[0m\u001b[1;33m(\u001b[0m\u001b[1;33m)\u001b[0m\u001b[1;33m\u001b[0m\u001b[1;33m\u001b[0m\u001b[0m\n",
      "\u001b[1;31mValueError\u001b[0m: invalid literal for int() with base 10: 'Django'"
     ]
    }
   ],
   "source": [
    "class Library:\n",
    "    def __init__(self, listOfBooks):\n",
    "        self.books = listOfBooks\n",
    "\n",
    "    def displayAvailableBooks(self):\n",
    "        print(\"Books present in this library are: \")\n",
    "        for book in self.books: \n",
    "            print(\" *\" + book)\n",
    "    \n",
    "    def borrowBook(self, bookName):\n",
    "        if bookName in self.books:\n",
    "            print(f\"You have been issued {bookName}. Please keep it safe and return it within 30 days\")\n",
    "            self.books.remove(bookName)\n",
    "            return True\n",
    "        else:\n",
    "            print(\"Sorry, This book is either not available or has already been issued to someone else. Please wait until the book is available\")\n",
    "            return False\n",
    "\n",
    "    def returnBook(self, bookName):\n",
    "        self.books.append(bookName)\n",
    "        print(\"Thanks for returning this book! Hope you enjoyed reading it. Have a great day ahead!\")\n",
    "\n",
    "class Student: \n",
    "    def requestBook(self):\n",
    "        self.book = input(\"Enter the name of the book you want to borrow: \")\n",
    "        return self.book\n",
    "\n",
    "    def returnBook(self):\n",
    "        self.book = input(\"Enter the name of the book you want to return: \")\n",
    "        return self.book\n",
    "         \n",
    "\n",
    "if __name__ == \"__main__\":\n",
    "    centraLibrary = Library([\"Algorithms\", \"Django\", \"Clrs\", \"Python Notes\"])\n",
    "    student = Student()\n",
    "    # centraLibrary.displayAvailableBooks()\n",
    "    while(True):\n",
    "        welcomeMsg = '''\\n ====== Welcome to Central Library ======\n",
    "        Please choose an option:\n",
    "        1. List all the books\n",
    "        2. Request a book\n",
    "        3. Add/Return a book\n",
    "        4. Exit the Library\n",
    "        '''\n",
    "        print(welcomeMsg)\n",
    "        a = int(input(\"Enter a choice: \"))\n",
    "        if a == 1:\n",
    "            centraLibrary.displayAvailableBooks()\n",
    "        elif a == 2:\n",
    "            centraLibrary.borrowBook(student.requestBook())\n",
    "        elif a == 3:\n",
    "            centraLibrary.returnBook(student.returnBook())\n",
    "        elif a == 4:\n",
    "            print(\"Thanks for choosing Central Library. Have a great day ahead!\")\n",
    "            exit()\n",
    "        else:\n",
    "            print(\"Invalid Choice!\")\n"
   ]
  },
  {
   "cell_type": "code",
   "execution_count": null,
   "id": "e2868061",
   "metadata": {},
   "outputs": [],
   "source": []
  },
  {
   "cell_type": "code",
   "execution_count": null,
   "id": "fb881352",
   "metadata": {},
   "outputs": [],
   "source": []
  },
  {
   "cell_type": "code",
   "execution_count": null,
   "id": "265e81ae",
   "metadata": {},
   "outputs": [],
   "source": []
  },
  {
   "cell_type": "code",
   "execution_count": null,
   "id": "46e92087",
   "metadata": {},
   "outputs": [],
   "source": []
  },
  {
   "cell_type": "code",
   "execution_count": null,
   "id": "85450997",
   "metadata": {},
   "outputs": [],
   "source": []
  },
  {
   "cell_type": "code",
   "execution_count": null,
   "id": "95fd0ebc",
   "metadata": {},
   "outputs": [],
   "source": []
  }
 ],
 "metadata": {
  "kernelspec": {
   "display_name": "Python 3 (ipykernel)",
   "language": "python",
   "name": "python3"
  },
  "language_info": {
   "codemirror_mode": {
    "name": "ipython",
    "version": 3
   },
   "file_extension": ".py",
   "mimetype": "text/x-python",
   "name": "python",
   "nbconvert_exporter": "python",
   "pygments_lexer": "ipython3",
   "version": "3.9.7"
  }
 },
 "nbformat": 4,
 "nbformat_minor": 5
}
