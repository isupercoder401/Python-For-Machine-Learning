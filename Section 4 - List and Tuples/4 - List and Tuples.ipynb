{
 "cells": [
  {
   "cell_type": "markdown",
   "id": "f6b9cc02",
   "metadata": {},
   "source": [
    "# Lists and Tuples\n",
    "\n",
    "- Python Lists are containers to store a set of values of any data type.\n",
    "\n",
    "- friends = [‘Apple’, ‘Waseem’, ‘Shakeel’, 7, False]\n",
    "\n",
    "- The list can contain different types of elements such as int, float, string, Boolean, etc. Above list is a collection of different types of elements.\n",
    "\n",
    "- List Indexing\n",
    "- A list can be index just like a string.\n",
    "\n",
    "- L1 = [7, 9, ‘Khursheed’]\n",
    "- L1[0] –- 7\n",
    "- L1[1] –- 9\n",
    "- L1[70] –- Error\n",
    "- L1[0:2] –- [7,9]         (This is known as List Slicing)"
   ]
  },
  {
   "cell_type": "code",
   "execution_count": 1,
   "id": "387f89bb",
   "metadata": {},
   "outputs": [
    {
     "name": "stdout",
     "output_type": "stream",
     "text": [
      "[1, 2, 4, 56, 6]\n",
      "4\n",
      "[98, 2, 4, 56, 6]\n",
      "[45, 'Khursheed', False, 6.9]\n"
     ]
    }
   ],
   "source": [
    "# Create a list using []\n",
    "a = [1, 2 , 4, 56, 6]\n",
    "\n",
    "# Print the list using print() function\n",
    "print(a)\n",
    "\n",
    "# Access using index using a[0], a[1], a[2]\n",
    "print(a[2])\n",
    "\n",
    "# Change the value of list using\n",
    "a[0] = 98\n",
    "print(a)\n",
    "\n",
    "# We can create a list with items of different types\n",
    "c = [45, \"Khursheed\", False, 6.9]\n",
    "print(c)"
   ]
  },
  {
   "cell_type": "code",
   "execution_count": 4,
   "id": "04b2d3a1",
   "metadata": {},
   "outputs": [
    {
     "name": "stdout",
     "output_type": "stream",
     "text": [
      "['Khursheed', 'Sharjeel', 'Mohd', 'Sarmad']\n",
      "['Mohd', 'Sarmad', 'Danish', 45]\n"
     ]
    }
   ],
   "source": [
    "# List slicing\n",
    "friends = ['Khursheed', \"Sharjeel\", \"Mohd\", \"Sarmad\", \"Danish\", 45]\n",
    "print(friends[0:4])\n",
    "print(friends[-4:])"
   ]
  },
  {
   "cell_type": "markdown",
   "id": "cad0d88b",
   "metadata": {},
   "source": [
    "# List Functions"
   ]
  },
  {
   "cell_type": "code",
   "execution_count": 9,
   "id": "122da686",
   "metadata": {},
   "outputs": [
    {
     "name": "stdout",
     "output_type": "stream",
     "text": [
      "[1, 8, 7, 2, 21, 15]\n",
      "None\n"
     ]
    }
   ],
   "source": [
    "# sort() put the elements in assending order\n",
    "l1 = [1, 8, 7, 2, 21, 15]\n",
    "print(l1)\n",
    "l1_sort = l1.sort()  # It does not work because this command directly change l1\n",
    "print(l1_sort)  # Becuase changes are made in L1 directly"
   ]
  },
  {
   "cell_type": "code",
   "execution_count": 10,
   "id": "cd653afb",
   "metadata": {},
   "outputs": [
    {
     "name": "stdout",
     "output_type": "stream",
     "text": [
      "[1, 2, 7, 8, 15, 21]\n"
     ]
    }
   ],
   "source": [
    "l1 = [1, 8, 7, 2, 21, 15]\n",
    "l1_sort = l1.sort()\n",
    "print(l1)"
   ]
  },
  {
   "cell_type": "code",
   "execution_count": 12,
   "id": "20234cad",
   "metadata": {},
   "outputs": [
    {
     "name": "stdout",
     "output_type": "stream",
     "text": [
      "[15, 21, 2, 7, 8, 1]\n"
     ]
    }
   ],
   "source": [
    "# reverses the list\n",
    "l1 = [1, 8, 7, 2, 21, 15]\n",
    "l1.reverse() # reverses the list (decending order)\n",
    "print(l1)"
   ]
  },
  {
   "cell_type": "code",
   "execution_count": 13,
   "id": "85b505ba",
   "metadata": {},
   "outputs": [
    {
     "name": "stdout",
     "output_type": "stream",
     "text": [
      "[1, 8, 7, 2, 21, 15]\n",
      "[1, 8, 7, 2, 21, 15, 45]\n"
     ]
    }
   ],
   "source": [
    "# append at the end\n",
    "l1 = [1, 8, 7, 2, 21, 15]\n",
    "print(l1)\n",
    "l1.append(45) # adds 45 at the end of the list\n",
    "print(l1)"
   ]
  },
  {
   "cell_type": "code",
   "execution_count": 14,
   "id": "fdd92481",
   "metadata": {},
   "outputs": [
    {
     "name": "stdout",
     "output_type": "stream",
     "text": [
      "[1, 8, 7, 2, 21, 15]\n",
      "[1, 8, 544, 7, 2, 21, 15]\n"
     ]
    }
   ],
   "source": [
    "# inserts 544 at index 2\n",
    "l1 = [1, 8, 7, 2, 21, 15]\n",
    "print(l1)\n",
    "l1.insert(2, 544) # inserts 544 at index 2\n",
    "print(l1)"
   ]
  },
  {
   "cell_type": "code",
   "execution_count": 15,
   "id": "2bd4aec1",
   "metadata": {},
   "outputs": [
    {
     "name": "stdout",
     "output_type": "stream",
     "text": [
      "[1, 8, 7, 2, 21, 15]\n",
      "[1, 8, 2, 21, 15]\n"
     ]
    }
   ],
   "source": [
    "# removes element at index 2\n",
    "l1 = [1, 8, 7, 2, 21, 15]\n",
    "print(l1)\n",
    "l1.pop(2) # removes element at index 2\n",
    "print(l1)"
   ]
  },
  {
   "cell_type": "code",
   "execution_count": 16,
   "id": "58035c18",
   "metadata": {},
   "outputs": [
    {
     "name": "stdout",
     "output_type": "stream",
     "text": [
      "[1, 8, 7, 2, 21, 15]\n",
      "[1, 8, 7, 2, 15]\n"
     ]
    }
   ],
   "source": [
    "# removes 21 from the list\n",
    "l1 = [1, 8, 7, 2, 21, 15]\n",
    "print(l1)\n",
    "l1.remove(21) # removes 21 from the list\n",
    "print(l1)"
   ]
  },
  {
   "cell_type": "markdown",
   "id": "85dbf60c",
   "metadata": {},
   "source": [
    "# Tuples\n",
    "\n",
    "A tuple is an immutable (can’t change or modified) data type in Python.\n",
    "\n",
    "- a = ()           #It is an example of empty tuple\n",
    "- a = (1,)         #Tuple with only one element needs a comma\n",
    "- a = (1, 7, 2)    #Tuple with more than one element\n",
    "\n",
    "Once defined, tuple elements can’t be manipulated or altered.\n",
    "\n",
    "Tuple methods:\n",
    "\n",
    "Consider the following tuple,\n",
    "\n",
    "- a = (1, 7, 2)\n",
    "- count(1) – It will return the number of times 1 occurs in a.\n",
    "- index(1) – It will return the index of the first occurrence of 1 in a.\n"
   ]
  },
  {
   "cell_type": "code",
   "execution_count": 20,
   "id": "18fde84c",
   "metadata": {},
   "outputs": [
    {
     "name": "stdout",
     "output_type": "stream",
     "text": [
      "(1, 2, 4, 5)\n",
      "1\n"
     ]
    }
   ],
   "source": [
    "# Creating a tuple using ()\n",
    "t = (1, 2, 4, 5)\n",
    "print(t)\n",
    "# Printing the elements of a tuple\n",
    "print(t[0])\n",
    "\n",
    "# Cannot update the values of a tuple\n",
    "# t[0] = 34 # throws an error"
   ]
  },
  {
   "cell_type": "code",
   "execution_count": 18,
   "id": "929333bb",
   "metadata": {},
   "outputs": [
    {
     "ename": "TypeError",
     "evalue": "'tuple' object does not support item assignment",
     "output_type": "error",
     "traceback": [
      "\u001b[1;31m---------------------------------------------------------------------------\u001b[0m",
      "\u001b[1;31mTypeError\u001b[0m                                 Traceback (most recent call last)",
      "\u001b[1;32m~\\AppData\\Local\\Temp/ipykernel_2180/478991724.py\u001b[0m in \u001b[0;36m<module>\u001b[1;34m\u001b[0m\n\u001b[0;32m      1\u001b[0m \u001b[1;31m# Cannot update the values of a tuple\u001b[0m\u001b[1;33m\u001b[0m\u001b[1;33m\u001b[0m\u001b[0m\n\u001b[1;32m----> 2\u001b[1;33m \u001b[0mt\u001b[0m\u001b[1;33m[\u001b[0m\u001b[1;36m0\u001b[0m\u001b[1;33m]\u001b[0m \u001b[1;33m=\u001b[0m \u001b[1;36m34\u001b[0m \u001b[1;31m# throws an error\u001b[0m\u001b[1;33m\u001b[0m\u001b[1;33m\u001b[0m\u001b[0m\n\u001b[0m",
      "\u001b[1;31mTypeError\u001b[0m: 'tuple' object does not support item assignment"
     ]
    }
   ],
   "source": [
    "# Cannot update the values of a tuple\n",
    "t[0] = 34 # throws an error"
   ]
  },
  {
   "cell_type": "code",
   "execution_count": 19,
   "id": "e8959c4c",
   "metadata": {},
   "outputs": [
    {
     "name": "stdout",
     "output_type": "stream",
     "text": [
      "()\n"
     ]
    }
   ],
   "source": [
    "t1 = () # Empty tuple\n",
    "print(t1)"
   ]
  },
  {
   "cell_type": "code",
   "execution_count": 21,
   "id": "6dbc4b3a",
   "metadata": {},
   "outputs": [
    {
     "name": "stdout",
     "output_type": "stream",
     "text": [
      "1\n",
      "(1,)\n"
     ]
    }
   ],
   "source": [
    "t1 = (1) # Wrong way to declare a Tuple with Single element (consider as no)\n",
    "t2 = (1,) # Tuple with Single element\n",
    "print(t1)\n",
    "print(t2)"
   ]
  },
  {
   "cell_type": "code",
   "execution_count": 1,
   "id": "184f55fa",
   "metadata": {},
   "outputs": [
    {
     "name": "stdout",
     "output_type": "stream",
     "text": [
      "4\n",
      "3\n",
      "(1, 2, 4, 5, 4, 1, 2, 1, 1)\n"
     ]
    }
   ],
   "source": [
    "# Counting and Indexing\n",
    "# Creating a tuple using ()\n",
    "t = (1, 2, 4, 5, 4, 1, 2,1 ,1)\n",
    "\n",
    "print(t.count(1))  # Total no. of 1 in tuple t\n",
    "print(t.index(5))  # First index of value 5 (that is 3), index starts with 0\n",
    "print(t)"
   ]
  },
  {
   "cell_type": "markdown",
   "id": "73a4a42c",
   "metadata": {},
   "source": [
    "# Practice Set\n",
    "- Write a program to store seven fruits in a list entered by the user.\n",
    "- Write a program to accept the marks of 6 students and display them in a sorted manner.\n",
    "- Check that a tuple cannot be changed in Python.\n",
    "- Write a program to sum a list with 4 numbers.\n",
    "- Write a program to count the number of zeros in the following tuple:"
   ]
  },
  {
   "cell_type": "code",
   "execution_count": 24,
   "id": "68fb48c4",
   "metadata": {},
   "outputs": [
    {
     "name": "stdout",
     "output_type": "stream",
     "text": [
      "Enter Fruit Number 1: apple\n",
      "Enter Fruit Number 2: amroud\n",
      "Enter Fruit Number 3: anar\n",
      "Enter Fruit Number 4: orange\n",
      "Enter Fruit Number 5: grape\n",
      "Enter Fruit Number 6: peach\n",
      "Enter Fruit Number 7: almond\n",
      "['apple', 'amroud', 'anar', 'orange', 'grape', 'peach', 'almond']\n"
     ]
    }
   ],
   "source": [
    "# Write a program to store seven fruits in a list entered by the user.\n",
    "\n",
    "f1 = input(\"Enter Fruit Number 1: \")\n",
    "f2 = input(\"Enter Fruit Number 2: \")\n",
    "f3 = input(\"Enter Fruit Number 3: \")\n",
    "f4 = input(\"Enter Fruit Number 4: \")\n",
    "f5 = input(\"Enter Fruit Number 5: \")\n",
    "f6 = input(\"Enter Fruit Number 6: \")\n",
    "f7 = input(\"Enter Fruit Number 7: \")\n",
    "\n",
    "myFruitList = [f1, f2, f3, f4, f5, f6, f7]\n",
    "print(myFruitList)"
   ]
  },
  {
   "cell_type": "code",
   "execution_count": 25,
   "id": "8c755bad",
   "metadata": {},
   "outputs": [
    {
     "name": "stdout",
     "output_type": "stream",
     "text": [
      "Enter Marks for Student Number 1: 25\n",
      "Enter Marks for Student Number 2: 100\n",
      "Enter Marks for Student Number 3: 90\n",
      "Enter Marks for Student Number 4: 85\n",
      "Enter Marks for Student Number 5: 60\n",
      "Enter Marks for Student Number 6: 95\n",
      "[25, 60, 85, 90, 95, 100]\n"
     ]
    }
   ],
   "source": [
    "# Write a program to accept the marks of 6 students and display them in a \n",
    "# sorted manner\n",
    "\n",
    "m1 = int(input(\"Enter Marks for Student Number 1: \"))\n",
    "m2 = int(input(\"Enter Marks for Student Number 2: \"))\n",
    "m3 = int(input(\"Enter Marks for Student Number 3: \"))\n",
    "m4 = int(input(\"Enter Marks for Student Number 4: \"))\n",
    "m5 = int(input(\"Enter Marks for Student Number 5: \"))\n",
    "m6 = int(input(\"Enter Marks for Student Number 6: \"))\n",
    "\n",
    "myList = [m1, m2, m3, m4, m5, m6]\n",
    "myList.sort()\n",
    "print(myList)"
   ]
  },
  {
   "cell_type": "code",
   "execution_count": 26,
   "id": "09dcb8c3",
   "metadata": {},
   "outputs": [
    {
     "ename": "TypeError",
     "evalue": "'tuple' object does not support item assignment",
     "output_type": "error",
     "traceback": [
      "\u001b[1;31m---------------------------------------------------------------------------\u001b[0m",
      "\u001b[1;31mTypeError\u001b[0m                                 Traceback (most recent call last)",
      "\u001b[1;32m~\\AppData\\Local\\Temp/ipykernel_2180/204059952.py\u001b[0m in \u001b[0;36m<module>\u001b[1;34m\u001b[0m\n\u001b[0;32m      1\u001b[0m \u001b[1;31m# Check that a tuple cannot be changed in Python\u001b[0m\u001b[1;33m\u001b[0m\u001b[1;33m\u001b[0m\u001b[0m\n\u001b[0;32m      2\u001b[0m \u001b[0ma\u001b[0m \u001b[1;33m=\u001b[0m \u001b[1;33m(\u001b[0m\u001b[1;36m2\u001b[0m\u001b[1;33m,\u001b[0m\u001b[1;36m4\u001b[0m\u001b[1;33m,\u001b[0m\u001b[1;36m5\u001b[0m\u001b[1;33m,\u001b[0m\u001b[1;36m3\u001b[0m\u001b[1;33m,\u001b[0m\u001b[1;36m2\u001b[0m\u001b[1;33m)\u001b[0m\u001b[1;33m\u001b[0m\u001b[1;33m\u001b[0m\u001b[0m\n\u001b[1;32m----> 3\u001b[1;33m \u001b[0ma\u001b[0m\u001b[1;33m[\u001b[0m\u001b[1;36m0\u001b[0m\u001b[1;33m]\u001b[0m \u001b[1;33m=\u001b[0m \u001b[1;36m45\u001b[0m\u001b[1;33m\u001b[0m\u001b[1;33m\u001b[0m\u001b[0m\n\u001b[0m",
      "\u001b[1;31mTypeError\u001b[0m: 'tuple' object does not support item assignment"
     ]
    }
   ],
   "source": [
    "# Check that a tuple cannot be changed in Python\n",
    "a = (2,4,5,3,2)\n",
    "a[0] = 45"
   ]
  },
  {
   "cell_type": "code",
   "execution_count": 27,
   "id": "dac1d2a0",
   "metadata": {},
   "outputs": [
    {
     "name": "stdout",
     "output_type": "stream",
     "text": [
      "69\n",
      "69\n"
     ]
    }
   ],
   "source": [
    "# Write a program to sum a list with 4 numbers.\n",
    "\n",
    "a = [2, 4, 56, 7]\n",
    "\n",
    "print(a[0] + a[1] + a[2] + a[3])\n",
    "print(sum(a))"
   ]
  },
  {
   "cell_type": "code",
   "execution_count": 28,
   "id": "fd55c5d6",
   "metadata": {},
   "outputs": [
    {
     "name": "stdout",
     "output_type": "stream",
     "text": [
      "6\n"
     ]
    }
   ],
   "source": [
    "# Write a program to count the number of zeros in the following tuple:\n",
    "\n",
    "t = (1, 2,0, 4,0, 5, 4,0, 1, 2,0,1 ,1,0,0)\n",
    "\n",
    "print(t.count(0))  # Total no. of 0 in tuple t\n"
   ]
  },
  {
   "cell_type": "code",
   "execution_count": null,
   "id": "eb7dcb10",
   "metadata": {},
   "outputs": [],
   "source": []
  }
 ],
 "metadata": {
  "kernelspec": {
   "display_name": "Python 3",
   "language": "python",
   "name": "python3"
  },
  "language_info": {
   "codemirror_mode": {
    "name": "ipython",
    "version": 3
   },
   "file_extension": ".py",
   "mimetype": "text/x-python",
   "name": "python",
   "nbconvert_exporter": "python",
   "pygments_lexer": "ipython3",
   "version": "3.8.8"
  }
 },
 "nbformat": 4,
 "nbformat_minor": 5
}
