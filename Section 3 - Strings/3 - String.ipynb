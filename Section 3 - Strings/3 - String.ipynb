{
 "cells": [
  {
   "cell_type": "markdown",
   "id": "703327ec",
   "metadata": {},
   "source": [
    "# String\n",
    "\n",
    "The string is a data type in Python.\n",
    "\n",
    "A string is a sequence of characters enclosed in quotes.\n",
    "\n",
    "We can primarily write a string in three ways:\n",
    "\n",
    "- Single quoted strings : a = 'Khursheed'\n",
    "- Double quoted strings : b = \"Khursheed\"\n",
    "- Triple quoted strings : c = '''Khursheed'''\n",
    "\n"
   ]
  },
  {
   "cell_type": "code",
   "execution_count": 1,
   "id": "6b63666b",
   "metadata": {},
   "outputs": [],
   "source": [
    "b = 'Khursheed'"
   ]
  },
  {
   "cell_type": "code",
   "execution_count": 2,
   "id": "45fa75fb",
   "metadata": {},
   "outputs": [
    {
     "ename": "SyntaxError",
     "evalue": "invalid syntax (Temp/ipykernel_7032/2705531536.py, line 1)",
     "output_type": "error",
     "traceback": [
      "\u001b[1;36m  File \u001b[1;32m\"C:\\Users\\Sony\\AppData\\Local\\Temp/ipykernel_7032/2705531536.py\"\u001b[1;36m, line \u001b[1;32m1\u001b[0m\n\u001b[1;33m    b = 'Khursheed's Car'  # It does not work\u001b[0m\n\u001b[1;37m                   ^\u001b[0m\n\u001b[1;31mSyntaxError\u001b[0m\u001b[1;31m:\u001b[0m invalid syntax\n"
     ]
    }
   ],
   "source": [
    "b = 'Khursheed's Car'  # It does not work"
   ]
  },
  {
   "cell_type": "code",
   "execution_count": 3,
   "id": "6bb92dab",
   "metadata": {},
   "outputs": [
    {
     "name": "stdout",
     "output_type": "stream",
     "text": [
      "Khursheed's Car, Waseem is \"good\" boy\n",
      "<class 'str'>\n"
     ]
    }
   ],
   "source": [
    "b = \"Khursheed's Car,\" #Now it is ok, single qoute within double qoute\n",
    "c = '''Waseem is \"good\" boy'''  # double qoute within triple qoute\n",
    "print(b,c)\n",
    "print(type(b))"
   ]
  },
  {
   "cell_type": "code",
   "execution_count": 5,
   "id": "100117cd",
   "metadata": {},
   "outputs": [
    {
     "name": "stdout",
     "output_type": "stream",
     "text": [
      "Khursheed\"s and \n",
      "       Khursheed's\n"
     ]
    }
   ],
   "source": [
    "# b = \"Khursheed's\" # --> Use this if you have single quotes in your strings\n",
    "# b = 'Khursheed\"s'\n",
    "b = '''Khursheed\"s and \n",
    "       Khursheed's'''\n",
    "print(b)\n",
    "# print(type(b))"
   ]
  },
  {
   "cell_type": "code",
   "execution_count": 7,
   "id": "72589ea4",
   "metadata": {},
   "outputs": [
    {
     "name": "stdout",
     "output_type": "stream",
     "text": [
      "Good Morning Khursheed\n"
     ]
    }
   ],
   "source": [
    "# Concatenating two strings\n",
    "\n",
    "greeting = \"Good Morning \"\n",
    "name = \"Khursheed\"\n",
    "c = greeting + name\n",
    "print(c)"
   ]
  },
  {
   "cell_type": "code",
   "execution_count": 8,
   "id": "0ad57c9a",
   "metadata": {},
   "outputs": [
    {
     "name": "stdout",
     "output_type": "stream",
     "text": [
      "K\n",
      "h\n",
      "u\n",
      "r\n",
      "s\n",
      "h\n",
      "e\n",
      "e\n",
      "d\n"
     ]
    }
   ],
   "source": [
    "# String Slicing:\n",
    "# A string in Python can be sliced for getting a part of the string.\n",
    "# The index in a string starts from 0 to (length-1) in Python. \n",
    "# To slice a string, we use the following syntax:\n",
    "\n",
    "name = \"Khursheed\"\n",
    "print(name[0])\n",
    "print(name[1])\n",
    "print(name[2])\n",
    "print(name[3])\n",
    "print(name[4])\n",
    "print(name[5])\n",
    "print(name[6])\n",
    "print(name[7])\n",
    "print(name[8])"
   ]
  },
  {
   "cell_type": "code",
   "execution_count": 9,
   "id": "f8a0ea95",
   "metadata": {},
   "outputs": [
    {
     "ename": "TypeError",
     "evalue": "'str' object does not support item assignment",
     "output_type": "error",
     "traceback": [
      "\u001b[1;31m---------------------------------------------------------------------------\u001b[0m",
      "\u001b[1;31mTypeError\u001b[0m                                 Traceback (most recent call last)",
      "\u001b[1;32m~\\AppData\\Local\\Temp/ipykernel_7032/2852929083.py\u001b[0m in \u001b[0;36m<module>\u001b[1;34m\u001b[0m\n\u001b[1;32m----> 1\u001b[1;33m \u001b[0mname\u001b[0m\u001b[1;33m[\u001b[0m\u001b[1;36m3\u001b[0m\u001b[1;33m]\u001b[0m \u001b[1;33m=\u001b[0m \u001b[1;34m\"d\"\u001b[0m \u001b[1;31m# --> Does not work (You can not change the string)\u001b[0m\u001b[1;33m\u001b[0m\u001b[1;33m\u001b[0m\u001b[0m\n\u001b[0m",
      "\u001b[1;31mTypeError\u001b[0m: 'str' object does not support item assignment"
     ]
    }
   ],
   "source": [
    "name[3] = \"d\" # --> Does not work (You can not change the string)"
   ]
  },
  {
   "cell_type": "code",
   "execution_count": 10,
   "id": "84bb8203",
   "metadata": {},
   "outputs": [
    {
     "name": "stdout",
     "output_type": "stream",
     "text": [
      "Khur\n"
     ]
    }
   ],
   "source": [
    "# String Slicing:\n",
    "name = \"Khursheed\"\n",
    "print(name[0:4]) # Start from index 0 till index 4 (index 4 is not included) "
   ]
  },
  {
   "cell_type": "code",
   "execution_count": 11,
   "id": "3c8ae9b3",
   "metadata": {},
   "outputs": [
    {
     "name": "stdout",
     "output_type": "stream",
     "text": [
      "Khursheed\n"
     ]
    }
   ],
   "source": [
    "name = \"Khursheed\"\n",
    "print(name[0:9])\n"
   ]
  },
  {
   "cell_type": "code",
   "execution_count": 12,
   "id": "7c9e804d",
   "metadata": {
    "scrolled": true
   },
   "outputs": [
    {
     "name": "stdout",
     "output_type": "stream",
     "text": [
      "Khur\n",
      "hursheed\n"
     ]
    }
   ],
   "source": [
    "print(name[:4]) # is same as name[0:4]\n",
    "print(name[1:]) # is same as name[1:8]"
   ]
  },
  {
   "cell_type": "code",
   "execution_count": 14,
   "id": "6f020af9",
   "metadata": {},
   "outputs": [
    {
     "name": "stdout",
     "output_type": "stream",
     "text": [
      "d\n",
      "e\n",
      "e\n",
      "h\n",
      "s\n",
      "r\n",
      "u\n",
      "h\n",
      "K\n"
     ]
    }
   ],
   "source": [
    "print(name[-1])\n",
    "print(name[-2])\n",
    "print(name[-3])\n",
    "print(name[-4])\n",
    "print(name[-5])\n",
    "print(name[-6])\n",
    "print(name[-7])\n",
    "print(name[-8])\n",
    "print(name[-9])"
   ]
  },
  {
   "cell_type": "code",
   "execution_count": 16,
   "id": "155a242d",
   "metadata": {},
   "outputs": [
    {
     "name": "stdout",
     "output_type": "stream",
     "text": [
      "h\n",
      "d\n"
     ]
    }
   ],
   "source": [
    "print(name[-4])\n",
    "print(name[-1])"
   ]
  },
  {
   "cell_type": "code",
   "execution_count": 17,
   "id": "1ea41b88",
   "metadata": {},
   "outputs": [
    {
     "name": "stdout",
     "output_type": "stream",
     "text": [
      "hee\n",
      "Khurshee\n"
     ]
    }
   ],
   "source": [
    "name = \"Khursheed\"\n",
    "print(name[-4:-1])\n",
    "print(name[-9:-1])"
   ]
  },
  {
   "cell_type": "code",
   "execution_count": 18,
   "id": "2dd38925",
   "metadata": {
    "scrolled": true
   },
   "outputs": [
    {
     "name": "stdout",
     "output_type": "stream",
     "text": [
      "hee\n",
      "hur\n"
     ]
    }
   ],
   "source": [
    "name = \"Khursheed\"\n",
    "print(name[-4:-1])\n",
    "print(name[1:4])"
   ]
  },
  {
   "cell_type": "code",
   "execution_count": 21,
   "id": "c76e2fe8",
   "metadata": {},
   "outputs": [
    {
     "name": "stdout",
     "output_type": "stream",
     "text": [
      "KhursheedIsGood\n",
      "Kusedsod\n",
      "KreIo\n",
      "Ksdo\n",
      "Khs\n"
     ]
    }
   ],
   "source": [
    "name = \"KhursheedIsGood\"\n",
    "print(name[0:15])    # 0 to 15 all\n",
    "print(name[0:15:2])  # 0 to 11 escaping 1 (every 2nd is included)\n",
    "print(name[0:15:3])  # 0 to 11 escaping 2 (every 3rd is included)\n",
    "print(name[0:15:4])  # 0 to 11 escaping 3 (every 4th is included)\n",
    "print(name[0:15:5])  # 0 to 11 escaping 4 (every 5nd is included)"
   ]
  },
  {
   "cell_type": "code",
   "execution_count": 22,
   "id": "da850c46",
   "metadata": {},
   "outputs": [
    {
     "name": "stdout",
     "output_type": "stream",
     "text": [
      "KreIo\n",
      "KreIo\n"
     ]
    }
   ],
   "source": [
    "name = \"KhursheedIsGood\"\n",
    "print(name[0::3])  # it equivalent to --- print(name[0:15:3])\n",
    "print(name[0:15:3])"
   ]
  },
  {
   "cell_type": "markdown",
   "id": "d43f0314",
   "metadata": {},
   "source": [
    "# String Functions\n",
    "Some of the most used functions to perform operations on or manipulate strings are:\n",
    "\n",
    "- len() function : It returns the length of the string.\n",
    "-  endswith(“eed”) : This function tells whether the variable string ends with the string “eed” or not. If string is “Khursheed”, it returns for “eed” since Khursheed ends with eed.\n",
    "- count(“c”) : It counts the total number of occurrences of any character.\n",
    "- capitalize() : This function capitalizes the first character of a given string.\n",
    "- find(word) : This function finds a word and returns the index of first occurrence of that word in the string.\n",
    "- replace(oldword, newword) : This function replaces the old word with the new word in the entire string."
   ]
  },
  {
   "cell_type": "code",
   "execution_count": 26,
   "id": "c7c523e3",
   "metadata": {},
   "outputs": [
    {
     "name": "stdout",
     "output_type": "stream",
     "text": [
      "once up\n",
      "Length of String:  84\n",
      "String end with notes:  False\n",
      "String end with Army:  True\n",
      "no. of H in String:  5\n",
      "Once upon a time there was a king named sultan who conqured the \n",
      "world with his army\n",
      "Index of time in the string is:  12\n",
      "once upon a time there was a Queen named Sultan who conqured the \n",
      "world with his Army\n"
     ]
    }
   ],
   "source": [
    "# String Functions\n",
    "story = '''once upon a time there was a King named Sultan who conqured the \n",
    "world with his Army'''\n",
    "\n",
    "print(story[0:7])\n",
    "print(\"Length of String: \", len(story)) # It returns the length of the string.\n",
    "print(\"String end with notes: \",story.endswith(\"notes\")) # This function tells whether the variable string ends with the string “notes” or not.\n",
    "print(\"String end with Army: \",story.endswith(\"Army\"))\n",
    "print(\"no. of H in String: \",story.count(\"h\"))  # It counts the total number of occurrences of any character.\n",
    "print(story.capitalize()) # This function capitalizes the first character of a given string.\n",
    "print(\"Index of time in the string is: \", story.find(\"time\")) #This function finds a word and returns the index of first occurrence of that word in the string.\n",
    "print(story.replace(\"King\", \"Queen\")) # This function replaces the old word with the new word in the entire string.\n"
   ]
  },
  {
   "cell_type": "code",
   "execution_count": 29,
   "id": "72171f6a",
   "metadata": {},
   "outputs": [
    {
     "name": "stdout",
     "output_type": "stream",
     "text": [
      "Bashir is good.\n",
      "He is very good\n"
     ]
    }
   ],
   "source": [
    "# Write in multipile lines\n",
    "\n",
    "story = \"Bashir is good.\\nHe is very good\" # introducing new line\n",
    "print(story)\n",
    "\n"
   ]
  },
  {
   "cell_type": "code",
   "execution_count": 30,
   "id": "2832de0f",
   "metadata": {},
   "outputs": [
    {
     "name": "stdout",
     "output_type": "stream",
     "text": [
      "Bashir is good. He\tis very good\n"
     ]
    }
   ],
   "source": [
    "story = \"Bashir is good. He\\tis very good\"  # introducing tab\n",
    "print(story)"
   ]
  },
  {
   "cell_type": "code",
   "execution_count": 31,
   "id": "54e8ac29",
   "metadata": {},
   "outputs": [
    {
     "name": "stdout",
     "output_type": "stream",
     "text": [
      "Bashir is good.He is ve\\ry good\n"
     ]
    }
   ],
   "source": [
    "story = \"Bashir is good.He is ve\\\\ry good\"  # introducing back Slash (by writing two times)\n",
    "print(story)"
   ]
  },
  {
   "cell_type": "code",
   "execution_count": 32,
   "id": "16377b5e",
   "metadata": {},
   "outputs": [
    {
     "name": "stdout",
     "output_type": "stream",
     "text": [
      "Bashir is good. He'is very good\n"
     ]
    }
   ],
   "source": [
    "story = \"Bashir is good. He\\'is very good\"  # introducing Single qoute\n",
    "print(story)"
   ]
  },
  {
   "cell_type": "markdown",
   "id": "05006675",
   "metadata": {},
   "source": [
    "# Practice Set\n",
    "- Write a Python program to display a user-entered name followed by Good Afternoon using input() function.\n",
    "- Write a program to fill in a letter template given below with name and date.\n",
    "- Write a program to detect double spaces in a string.\n",
    "- Replace the double spaces from problem 3 with single spaces.\n",
    "- Write a program to format the following letter using escape sequence characters."
   ]
  },
  {
   "cell_type": "code",
   "execution_count": 33,
   "id": "ee473d7e",
   "metadata": {},
   "outputs": [
    {
     "name": "stdout",
     "output_type": "stream",
     "text": [
      "Enter your name\n",
      "Khursheed\n",
      "Good Afternoon, Khursheed\n"
     ]
    }
   ],
   "source": [
    "name = input(\"Enter your name\\n\")\n",
    "print(\"Good Afternoon, \" + name)"
   ]
  },
  {
   "cell_type": "code",
   "execution_count": 34,
   "id": "738b5945",
   "metadata": {},
   "outputs": [
    {
     "name": "stdout",
     "output_type": "stream",
     "text": [
      "Dear <|NAME|>,\n",
      "Greetings from ABC coding house. I am happy to tell you about your selection\n",
      "You are selected!\n",
      "Have a great day ahead!\n",
      "Thanks and regards,\n",
      "Bill\n",
      "Date: <|DATE|>\n",
      "\n"
     ]
    }
   ],
   "source": [
    "letter = '''Dear <|NAME|>,\n",
    "Greetings from ABC coding house. I am happy to tell you about your selection\n",
    "You are selected!\n",
    "Have a great day ahead!\n",
    "Thanks and regards,\n",
    "Bill\n",
    "Date: <|DATE|>\n",
    "'''\n",
    "# it will be printed as it is\n",
    "print(letter)"
   ]
  },
  {
   "cell_type": "code",
   "execution_count": 35,
   "id": "212c3305",
   "metadata": {},
   "outputs": [
    {
     "name": "stdout",
     "output_type": "stream",
     "text": [
      "Enter Your Name\n",
      "khursheed\n",
      "Enter Date\n",
      "August 18\n",
      "Dear khursheed,\n",
      "Greetings from ABC coding house. I am happy to tell you about your selection\n",
      "You are selected!\n",
      "Have a great day ahead!\n",
      "Thanks and regards,\n",
      "Bill\n",
      "Date: August 18\n",
      "\n"
     ]
    }
   ],
   "source": [
    "letter = '''Dear <|NAME|>,\n",
    "Greetings from ABC coding house. I am happy to tell you about your selection\n",
    "You are selected!\n",
    "Have a great day ahead!\n",
    "Thanks and regards,\n",
    "Bill\n",
    "Date: <|DATE|>\n",
    "'''\n",
    "name = input(\"Enter Your Name\\n\")\n",
    "date = input(\"Enter Date\\n\")\n",
    "letter = letter.replace(\"<|NAME|>\", name)\n",
    "letter = letter.replace(\"<|DATE|>\", date)\n",
    "print(letter)"
   ]
  },
  {
   "cell_type": "code",
   "execution_count": 36,
   "id": "f5386f34",
   "metadata": {},
   "outputs": [
    {
     "name": "stdout",
     "output_type": "stream",
     "text": [
      "4\n"
     ]
    }
   ],
   "source": [
    "st = \"This  is a string with double spaces\"  # find the index of double space\n",
    "\n",
    "doubleSpaces = st.find(\"  \")\n",
    "print(doubleSpaces)"
   ]
  },
  {
   "cell_type": "code",
   "execution_count": 37,
   "id": "31ad9715",
   "metadata": {},
   "outputs": [
    {
     "name": "stdout",
     "output_type": "stream",
     "text": [
      "This is a string with double spaces ok\n"
     ]
    }
   ],
   "source": [
    "# Replace double space with single space\n",
    "st = \"This  is a string with double spaces  ok\"\n",
    "\n",
    "st = st.replace(\"  \", \" \")\n",
    "print(st)"
   ]
  },
  {
   "cell_type": "code",
   "execution_count": 38,
   "id": "d6c466a2",
   "metadata": {},
   "outputs": [
    {
     "name": "stdout",
     "output_type": "stream",
     "text": [
      "Dear Khursheed, This Python course is nice! Thanks!\n",
      "Dear Khursheed,\n",
      "\tThis Python course is nice!\n",
      "Thanks!\n"
     ]
    }
   ],
   "source": [
    "# convert single line letter into multiple lines. by formating\n",
    "letter = \"Dear Khursheed, This Python course is nice! Thanks!\"\n",
    "print(letter)\n",
    "\n",
    "formatted_letter = \"Dear Khursheed,\\n\\tThis Python course is nice!\\nThanks!\"\n",
    "print(formatted_letter)"
   ]
  },
  {
   "cell_type": "code",
   "execution_count": null,
   "id": "89f914d7",
   "metadata": {},
   "outputs": [],
   "source": []
  },
  {
   "cell_type": "code",
   "execution_count": null,
   "id": "21f7300c",
   "metadata": {},
   "outputs": [],
   "source": []
  }
 ],
 "metadata": {
  "kernelspec": {
   "display_name": "Python 3",
   "language": "python",
   "name": "python3"
  },
  "language_info": {
   "codemirror_mode": {
    "name": "ipython",
    "version": 3
   },
   "file_extension": ".py",
   "mimetype": "text/x-python",
   "name": "python",
   "nbconvert_exporter": "python",
   "pygments_lexer": "ipython3",
   "version": "3.8.8"
  }
 },
 "nbformat": 4,
 "nbformat_minor": 5
}
