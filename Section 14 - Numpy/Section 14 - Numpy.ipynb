{
 "cells": [
  {
   "cell_type": "markdown",
   "id": "f8c10dda",
   "metadata": {},
   "source": [
    "# Numpy"
   ]
  },
  {
   "cell_type": "code",
   "execution_count": 2,
   "id": "cbd86807",
   "metadata": {},
   "outputs": [],
   "source": [
    "# Why we use NUMPY - Library\n",
    "\n",
    "# 1. NumPy provides efficient storage\n",
    "          #  it reduce space for the data storage\n",
    "          #  commparasion  to LIST it works better, e.g. Rmax\n",
    "\n",
    "# 2. It also provides better way of handling data for processing\n",
    "        # you can use ready made functions\n",
    "\n",
    "# 3. It is fast\n",
    "\n",
    "# 4. it is easy to learn\n",
    "\n",
    "# 5. NumPy uses relatively less memory to store data\n",
    "        # here, you can access memory location like pointers in C\n"
   ]
  },
  {
   "cell_type": "code",
   "execution_count": 3,
   "id": "3d1a6932",
   "metadata": {},
   "outputs": [],
   "source": [
    "# pip install numpy\n",
    "# intially lets import Numpy\n",
    "# import numpy as np"
   ]
  },
  {
   "cell_type": "markdown",
   "id": "46d5acc0",
   "metadata": {},
   "source": [
    "** This**"
   ]
  },
  {
   "cell_type": "markdown",
   "id": "d42a6ed4",
   "metadata": {},
   "source": [
    "*** This***"
   ]
  },
  {
   "cell_type": "code",
   "execution_count": 2,
   "id": "a72f40eb",
   "metadata": {},
   "outputs": [
    {
     "name": "stdout",
     "output_type": "stream",
     "text": [
      "[ 3  6 32  7]\n",
      "int32\n"
     ]
    }
   ],
   "source": [
    "import numpy as np\n",
    "\n",
    "myarr=np.array([3,6,32,7])  # 1-D array\n",
    "print(myarr)\n",
    "print(myarr.dtype)"
   ]
  },
  {
   "cell_type": "code",
   "execution_count": 5,
   "id": "b17e14ae",
   "metadata": {},
   "outputs": [
    {
     "name": "stdout",
     "output_type": "stream",
     "text": [
      "[ 3  6 32  7]\n",
      "int8\n"
     ]
    }
   ],
   "source": [
    "myarr=np.array([3,6,32,7], np.int8)  # (Specify data type) 1-D array\n",
    "print(myarr)\n",
    "print(myarr.dtype)"
   ]
  },
  {
   "cell_type": "code",
   "execution_count": 6,
   "id": "59b09b14",
   "metadata": {},
   "outputs": [
    {
     "name": "stdout",
     "output_type": "stream",
     "text": [
      "[  3   6 -54   7]\n"
     ]
    }
   ],
   "source": [
    "myarr1=np.array([3,6,324446666,7], np.int8)\n",
    "# myarr1 # output (-8) doest work becouase int 8 couldnot handle big numbers\n",
    "print(myarr1)"
   ]
  },
  {
   "cell_type": "code",
   "execution_count": 7,
   "id": "36541d58",
   "metadata": {},
   "outputs": [
    {
     "name": "stdout",
     "output_type": "stream",
     "text": [
      "[        3         6 324446666         7]\n",
      "<class 'numpy.ndarray'>\n",
      "int32\n"
     ]
    }
   ],
   "source": [
    "myarr1=np.array([3,6,324446666,7], np.int32)\n",
    "# myarr1 # It works because int 32 covers big range of data\n",
    "print(myarr1)\n",
    "print(type(myarr1))\n",
    "print(myarr1.dtype)\n",
    "\n",
    "# Memory managment is in your hand. by default it could take int 32\n",
    "# you may take int 8 instead of int 32 to save memory if needed\n"
   ]
  },
  {
   "cell_type": "code",
   "execution_count": 8,
   "id": "63f300cf",
   "metadata": {},
   "outputs": [
    {
     "name": "stdout",
     "output_type": "stream",
     "text": [
      "[ 3  6 32  7]\n",
      "(4,)\n"
     ]
    },
    {
     "data": {
      "text/plain": [
       "6"
      ]
     },
     "execution_count": 8,
     "metadata": {},
     "output_type": "execute_result"
    }
   ],
   "source": [
    "myarr=np.array([3,6,32,7], np.int8)\n",
    "print(myarr)\n",
    "print(myarr.shape)\n",
    "\n",
    "# acces the array through index location  1 colum\n",
    "myarr[1]"
   ]
  },
  {
   "cell_type": "code",
   "execution_count": 9,
   "id": "26101df4",
   "metadata": {},
   "outputs": [
    {
     "name": "stdout",
     "output_type": "stream",
     "text": [
      "(1, 4)\n"
     ]
    },
    {
     "data": {
      "text/plain": [
       "6"
      ]
     },
     "execution_count": 9,
     "metadata": {},
     "output_type": "execute_result"
    }
   ],
   "source": [
    "myarr=np.array([[3,6,32,7]]) # Convert 1-D array to 2-D array\n",
    "print(myarr.shape) # order is 1 row, 4 colum\n",
    "\n",
    "# acces the array through index location - 0 row, 1 colum\n",
    "myarr[0,1]  "
   ]
  },
  {
   "cell_type": "code",
   "execution_count": 10,
   "id": "e64932db",
   "metadata": {},
   "outputs": [
    {
     "name": "stdout",
     "output_type": "stream",
     "text": [
      "[[ 3  6 32  7]]\n",
      "6\n",
      "[[ 3 45 32  7]]\n",
      "45\n"
     ]
    }
   ],
   "source": [
    "print(myarr)\n",
    "print(myarr[0,1])\n",
    "\n",
    "# change the value of element of array\n",
    "myarr[0,1]=45 \n",
    "print(myarr)\n",
    "print(myarr[0,1])"
   ]
  },
  {
   "cell_type": "code",
   "execution_count": 11,
   "id": "dea44e66",
   "metadata": {},
   "outputs": [],
   "source": [
    "# There are 5 general mechanism to create arrays\n",
    "\n",
    "# 1st method: Conversion from other python structures (list, tuple)\n",
    "\n",
    "myarr=np.array([3,6,32,7])\n",
    "\n",
    "# 2nd method: Intrinsic numpy array creation objects(arrange, ones, zeros etc)\n",
    "# 3rd method: Reading arrays from disk, either from standard or custom formats\n",
    "# 4th method: Creating arrays from raw bytes through use of strings and buffers\n",
    "# 5th mehtod: Use special library functions (e.g. random)\n"
   ]
  },
  {
   "cell_type": "markdown",
   "id": "39f8aae6",
   "metadata": {},
   "source": [
    "## 1st method (array creation): Conversion from other python structures (list, tuple)*"
   ]
  },
  {
   "cell_type": "markdown",
   "id": "187a2c98",
   "metadata": {},
   "source": []
  },
  {
   "cell_type": "code",
   "execution_count": 12,
   "id": "c83dce84",
   "metadata": {},
   "outputs": [
    {
     "data": {
      "text/plain": [
       "array([[1, 2, 3],\n",
       "       [5, 8, 5],\n",
       "       [0, 3, 1]])"
      ]
     },
     "execution_count": 12,
     "metadata": {},
     "output_type": "execute_result"
    }
   ],
   "source": [
    "listarray = np.array([[1,2,3],[5,8,5],[0,3,1]]) \n",
    "# 2-D array, double big brackets are used\n",
    "listarray"
   ]
  },
  {
   "cell_type": "code",
   "execution_count": 13,
   "id": "377f1a49",
   "metadata": {},
   "outputs": [
    {
     "data": {
      "text/plain": [
       "dtype('int32')"
      ]
     },
     "execution_count": 13,
     "metadata": {},
     "output_type": "execute_result"
    }
   ],
   "source": [
    "listarray.dtype"
   ]
  },
  {
   "cell_type": "code",
   "execution_count": 14,
   "id": "3a4b81b6",
   "metadata": {},
   "outputs": [
    {
     "data": {
      "text/plain": [
       "(3, 3)"
      ]
     },
     "execution_count": 14,
     "metadata": {},
     "output_type": "execute_result"
    }
   ],
   "source": [
    "listarray.shape"
   ]
  },
  {
   "cell_type": "code",
   "execution_count": 15,
   "id": "6e55b0ab",
   "metadata": {},
   "outputs": [
    {
     "data": {
      "text/plain": [
       "9"
      ]
     },
     "execution_count": 15,
     "metadata": {},
     "output_type": "execute_result"
    }
   ],
   "source": [
    "listarray.size"
   ]
  },
  {
   "cell_type": "code",
   "execution_count": 16,
   "id": "3e620520",
   "metadata": {},
   "outputs": [
    {
     "name": "stdout",
     "output_type": "stream",
     "text": [
      "object\n"
     ]
    }
   ],
   "source": [
    "set_arr = np.array({34,23,23}) # numpy through set / dictionary\n",
    "#  it is dtype: object. objects are not always efficient\n",
    "# generally, array will be made from int or float\n",
    "print(set_arr.dtype)"
   ]
  },
  {
   "cell_type": "code",
   "execution_count": 17,
   "id": "2b4f4828",
   "metadata": {},
   "outputs": [
    {
     "name": "stdout",
     "output_type": "stream",
     "text": [
      "[[1 2 3 4 5]\n",
      " [2 3 4 5 6]\n",
      " [9 7 6 8 9]]\n",
      "(3, 5)\n",
      "[[1 2 3]\n",
      " [4 5 2]\n",
      " [3 4 5]\n",
      " [6 9 7]\n",
      " [6 8 9]]\n",
      "[[1 2 3 4 5 2 3 4 5 6 9 7 6 8 9]]\n"
     ]
    }
   ],
   "source": [
    "## Multi Diemesional array\n",
    "my_lst1=[1,2,3,4,5]\n",
    "my_lst2=[2,3,4,5,6]\n",
    "my_lst3=[9,7,6,8,9]\n",
    "arr=np.array([my_lst1,my_lst2,my_lst3])\n",
    "\n",
    "print(arr)\n",
    "print(arr.shape)\n",
    "print(arr.reshape(5,3))\n",
    "print(arr.reshape(1,15)) # no of element remains same (in this case 15)"
   ]
  },
  {
   "cell_type": "code",
   "execution_count": 18,
   "id": "e46d8e2a",
   "metadata": {},
   "outputs": [
    {
     "name": "stdout",
     "output_type": "stream",
     "text": [
      "int32\n",
      "[[1 2 3 4 5]\n",
      " [2 3 4 5 6]\n",
      " [9 7 6 8 9]]\n"
     ]
    }
   ],
   "source": [
    "## Multi Diemesional array\n",
    "my_lst1=[1,2,3,4,5]\n",
    "my_lst2=[2,3,4,5,6]\n",
    "my_lst3=[9,7,6,8,9]\n",
    "arr=np.array([my_lst1,my_lst2,my_lst3])\n",
    "print(arr.dtype)\n",
    "print(arr)"
   ]
  },
  {
   "cell_type": "markdown",
   "id": "36eeb32e",
   "metadata": {},
   "source": [
    "## Indexing"
   ]
  },
  {
   "cell_type": "code",
   "execution_count": 19,
   "id": "385b67f6",
   "metadata": {},
   "outputs": [
    {
     "name": "stdout",
     "output_type": "stream",
     "text": [
      "[[1 2 3 4 5]\n",
      " [2 3 4 5 6]\n",
      " [9 7 6 8 9]]\n"
     ]
    }
   ],
   "source": [
    "print(arr[:,:]) # All rows and all colums"
   ]
  },
  {
   "cell_type": "code",
   "execution_count": 20,
   "id": "4f3a19b0",
   "metadata": {},
   "outputs": [
    {
     "name": "stdout",
     "output_type": "stream",
     "text": [
      "[[1 2 3 4 5]]\n"
     ]
    }
   ],
   "source": [
    "print(arr[0:1,:])  # Start from 0th row to before 1st row - and all colums"
   ]
  },
  {
   "cell_type": "code",
   "execution_count": 21,
   "id": "6e7a9a92",
   "metadata": {},
   "outputs": [
    {
     "name": "stdout",
     "output_type": "stream",
     "text": [
      "[[1 2 3 4 5]\n",
      " [2 3 4 5 6]]\n",
      "[[1 2 3 4 5]\n",
      " [2 3 4 5 6]\n",
      " [9 7 6 8 9]]\n"
     ]
    }
   ],
   "source": [
    "print(arr[0:2,:]) # Start from 0th row to before 2nd row (1st two rows) - all colums\n",
    "print(arr[0:3,:]) # Start from 0th row to before 3rd row (1st 03 rows) - all colums"
   ]
  },
  {
   "cell_type": "code",
   "execution_count": 23,
   "id": "23404d34",
   "metadata": {},
   "outputs": [
    {
     "name": "stdout",
     "output_type": "stream",
     "text": [
      "[[1 2 3 4 5]\n",
      " [2 3 4 5 6]]\n",
      "[[1 2]\n",
      " [2 3]]\n",
      "[[5 6]\n",
      " [8 9]]\n"
     ]
    }
   ],
   "source": [
    "print(arr[0:2,:]) # Start:0th row to before 2nd row (1st two rows) - all colums\n",
    "print(arr[0:2,0:2]) # Start:0th row to before 2nd row (1st two rows) - and\n",
    "# Start:0th col to before 2nd col (1st two cols) \n",
    "print(arr[1:,3:])\n",
    "# Start:1st row to all rows- and 3rd col to all cols  "
   ]
  },
  {
   "cell_type": "markdown",
   "id": "2f245306",
   "metadata": {},
   "source": [
    "## 2nd method: Intrinsic numpy array creation objects(arrange, ones, zeros etc)"
   ]
  },
  {
   "cell_type": "code",
   "execution_count": 25,
   "id": "1e4465c3",
   "metadata": {},
   "outputs": [
    {
     "data": {
      "text/plain": [
       "array([0., 0., 0., 0., 0.])"
      ]
     },
     "execution_count": 25,
     "metadata": {},
     "output_type": "execute_result"
    }
   ],
   "source": [
    "zeros = np.zeros((5))  # 1 D, by default it is floating\n",
    "zeros"
   ]
  },
  {
   "cell_type": "code",
   "execution_count": 26,
   "id": "216f8504",
   "metadata": {},
   "outputs": [
    {
     "data": {
      "text/plain": [
       "array([[0., 0., 0., 0., 0.],\n",
       "       [0., 0., 0., 0., 0.]])"
      ]
     },
     "execution_count": 26,
     "metadata": {},
     "output_type": "execute_result"
    }
   ],
   "source": [
    "zeros = np.zeros((2,5))  # 2 D\n",
    "zeros"
   ]
  },
  {
   "cell_type": "code",
   "execution_count": 27,
   "id": "9d46370f",
   "metadata": {},
   "outputs": [
    {
     "data": {
      "text/plain": [
       "dtype('float64')"
      ]
     },
     "execution_count": 27,
     "metadata": {},
     "output_type": "execute_result"
    }
   ],
   "source": [
    "zeros.dtype"
   ]
  },
  {
   "cell_type": "code",
   "execution_count": 28,
   "id": "fba9350e",
   "metadata": {},
   "outputs": [
    {
     "data": {
      "text/plain": [
       "(2, 5)"
      ]
     },
     "execution_count": 28,
     "metadata": {},
     "output_type": "execute_result"
    }
   ],
   "source": [
    "zeros.shape"
   ]
  },
  {
   "cell_type": "code",
   "execution_count": 18,
   "id": "a7eacf5f",
   "metadata": {},
   "outputs": [
    {
     "data": {
      "text/plain": [
       "array([1., 1., 1., 1.])"
      ]
     },
     "execution_count": 18,
     "metadata": {},
     "output_type": "execute_result"
    }
   ],
   "source": [
    "np.ones(4) # 1-D, it is by default float"
   ]
  },
  {
   "cell_type": "code",
   "execution_count": 31,
   "id": "a0cdde76",
   "metadata": {},
   "outputs": [
    {
     "data": {
      "text/plain": [
       "array([[1, 1, 1, 1, 1],\n",
       "       [1, 1, 1, 1, 1]])"
      ]
     },
     "execution_count": 31,
     "metadata": {},
     "output_type": "execute_result"
    }
   ],
   "source": [
    "np.ones((2,5),dtype=int) # 2-D, specify int"
   ]
  },
  {
   "cell_type": "code",
   "execution_count": 39,
   "id": "ef5a78f5",
   "metadata": {},
   "outputs": [
    {
     "data": {
      "text/plain": [
       "array([1, 2, 3, 4, 5, 6, 7, 8, 9])"
      ]
     },
     "execution_count": 39,
     "metadata": {},
     "output_type": "execute_result"
    }
   ],
   "source": [
    "arr=np.arange(1,10)\n",
    "arr"
   ]
  },
  {
   "cell_type": "code",
   "execution_count": 40,
   "id": "b6d5c51b",
   "metadata": {},
   "outputs": [
    {
     "data": {
      "text/plain": [
       "array([ 0,  1,  2,  3,  4,  5,  6,  7,  8,  9, 10, 11, 12, 13, 14])"
      ]
     },
     "execution_count": 40,
     "metadata": {},
     "output_type": "execute_result"
    }
   ],
   "source": [
    "rng = np.arange(15) # make an array of 15 numbers\n",
    "rng"
   ]
  },
  {
   "cell_type": "code",
   "execution_count": 41,
   "id": "4f6f3ab8",
   "metadata": {},
   "outputs": [
    {
     "data": {
      "text/plain": [
       "array([1, 3, 5, 7, 9])"
      ]
     },
     "execution_count": 41,
     "metadata": {},
     "output_type": "execute_result"
    }
   ],
   "source": [
    "arr=np.arange(1,10, step=2)\n",
    "arr"
   ]
  },
  {
   "cell_type": "code",
   "execution_count": 43,
   "id": "12fc95ac",
   "metadata": {},
   "outputs": [
    {
     "data": {
      "text/plain": [
       "array([96, 25, 31, 13, 52, 58,  8, 93])"
      ]
     },
     "execution_count": 43,
     "metadata": {},
     "output_type": "execute_result"
    }
   ],
   "source": [
    "np.random.randint(0,100,8) # random integer between 0 to 100 (8 numbers)"
   ]
  },
  {
   "cell_type": "code",
   "execution_count": 44,
   "id": "dfb38e80",
   "metadata": {},
   "outputs": [
    {
     "data": {
      "text/plain": [
       "array([[68, 69, 37, 48],\n",
       "       [95, 59, 95, 19]])"
      ]
     },
     "execution_count": 44,
     "metadata": {},
     "output_type": "execute_result"
    }
   ],
   "source": [
    "a=np.random.randint(0,100,8).reshape(2,4)\n",
    "a"
   ]
  },
  {
   "cell_type": "code",
   "execution_count": 53,
   "id": "1f2af604",
   "metadata": {},
   "outputs": [
    {
     "name": "stdout",
     "output_type": "stream",
     "text": [
      "0.8608903362431596\n"
     ]
    }
   ],
   "source": [
    "# return the value between interval [0.0, 1.0]  -  Float\n",
    "a=np.random.random_sample()  # output random float value\n",
    "print(a)\n"
   ]
  },
  {
   "cell_type": "code",
   "execution_count": 50,
   "id": "a51e55fb",
   "metadata": {},
   "outputs": [
    {
     "name": "stdout",
     "output_type": "stream",
     "text": [
      "[0.4047907  0.04701183 0.63734691 0.99350069 0.2979636 ]\n"
     ]
    },
    {
     "data": {
      "text/plain": [
       "(5,)"
      ]
     },
     "execution_count": 50,
     "metadata": {},
     "output_type": "execute_result"
    }
   ],
   "source": [
    "a= np.random.random_sample((5,))\n",
    "print(a)\n",
    "a.shape"
   ]
  },
  {
   "cell_type": "code",
   "execution_count": 51,
   "id": "5366fbc1",
   "metadata": {},
   "outputs": [
    {
     "name": "stdout",
     "output_type": "stream",
     "text": [
      "[[0.14767563 0.75896362 0.18710585]]\n"
     ]
    },
    {
     "data": {
      "text/plain": [
       "(1, 3)"
      ]
     },
     "execution_count": 51,
     "metadata": {},
     "output_type": "execute_result"
    }
   ],
   "source": [
    "a=np.random.random_sample((1,3)) # Output 2D Array filled with random floats\n",
    "print(a)\n",
    "a.shape"
   ]
  },
  {
   "cell_type": "code",
   "execution_count": 38,
   "id": "1123863c",
   "metadata": {},
   "outputs": [
    {
     "data": {
      "text/plain": [
       "array([[0.4350403 , 0.86982456, 0.0503177 , 0.33743205, 0.22149708]])"
      ]
     },
     "execution_count": 38,
     "metadata": {},
     "output_type": "execute_result"
    }
   ],
   "source": [
    "np.random.random_sample((1,5))\n",
    "# It returns an array of specified shape and fills it with random floats \n",
    "# in the half-open interval [0.0, 1.0)."
   ]
  },
  {
   "cell_type": "code",
   "execution_count": 54,
   "id": "c31e3807",
   "metadata": {},
   "outputs": [
    {
     "name": "stdout",
     "output_type": "stream",
     "text": [
      "[[[0.64655932]\n",
      "  [0.79587687]]\n",
      "\n",
      " [[0.35418865]\n",
      "  [0.98385528]]\n",
      "\n",
      " [[0.11615668]\n",
      "  [0.02603095]]]\n"
     ]
    },
    {
     "data": {
      "text/plain": [
       "(3, 2, 1)"
      ]
     },
     "execution_count": 54,
     "metadata": {},
     "output_type": "execute_result"
    }
   ],
   "source": [
    "a=np.random.random_sample((3, 2, 1)) \n",
    "# Output 3D Array filled with random floats\n",
    "print(a)\n",
    "a.shape"
   ]
  },
  {
   "cell_type": "markdown",
   "id": "e523ffb8",
   "metadata": {},
   "source": [
    "The difference between a normal distribution and standard normal distribution is that a normal distribution can take on any value as its mean and standard deviation. On the other hand, a standard normal distribution has always the fixed mean and standard deviation.\n",
    "- The standard normal distribution is a normal distribution with mean μ = 0 and standard deviation σ = 1.\n",
    "- Normal distribution, also known as the Gaussian distribution, is a probability distribution that is symmetric about the mean, showing that data near the mean are more frequent in occurrence than data far from the mean."
   ]
  },
  {
   "cell_type": "code",
   "execution_count": 31,
   "id": "dfb75e25",
   "metadata": {},
   "outputs": [
    {
     "data": {
      "text/plain": [
       "array([[0.36244336, 0.60523158, 0.8428384 ],\n",
       "       [0.21565611, 0.42174299, 0.90755712],\n",
       "       [0.09086449, 0.27491883, 0.34090612]])"
      ]
     },
     "execution_count": 31,
     "metadata": {},
     "output_type": "execute_result"
    }
   ],
   "source": [
    "np.random.rand(3,3) # uniform distribution (b/w 0 to 1) and random sampling"
   ]
  },
  {
   "cell_type": "code",
   "execution_count": 33,
   "id": "538bce3b",
   "metadata": {},
   "outputs": [
    {
     "data": {
      "text/plain": [
       "array([[-0.97440565, -0.02563261,  0.47416025, -0.4511295 ],\n",
       "       [ 0.82149753, -0.99468942,  1.01362221,  1.17846688],\n",
       "       [-1.16947272, -1.36811922,  0.08565563, -1.82500362],\n",
       "       [-0.50411384, -0.60129408,  0.16934354, -0.71582417]])"
      ]
     },
     "execution_count": 33,
     "metadata": {},
     "output_type": "execute_result"
    }
   ],
   "source": [
    "arr_ex=np.random.randn(4,4)  # Standard Normal distribution\n",
    "arr_ex"
   ]
  },
  {
   "cell_type": "markdown",
   "id": "425beadf",
   "metadata": {},
   "source": [
    "## Copy function and boardcasting"
   ]
  },
  {
   "cell_type": "code",
   "execution_count": 56,
   "id": "4706fd23",
   "metadata": {},
   "outputs": [
    {
     "name": "stdout",
     "output_type": "stream",
     "text": [
      "[1 2 3 4 5 6 7 8 9]\n"
     ]
    },
    {
     "data": {
      "text/plain": [
       "array([  1,   2,   3, 100, 100, 100, 100, 100, 100])"
      ]
     },
     "execution_count": 56,
     "metadata": {},
     "output_type": "execute_result"
    }
   ],
   "source": [
    "# Copy function and boardcasting\n",
    "arr=np.arange(1,10)\n",
    "print(arr)\n",
    "arr[3:]=100  # From index 3 all element will be converted to 100\n",
    "arr"
   ]
  },
  {
   "cell_type": "code",
   "execution_count": 57,
   "id": "3ceb22aa",
   "metadata": {},
   "outputs": [
    {
     "data": {
      "text/plain": [
       "array([  1,   2,   3, 500, 500, 500, 500, 500, 500])"
      ]
     },
     "execution_count": 57,
     "metadata": {},
     "output_type": "execute_result"
    }
   ],
   "source": [
    "arr1=arr\n",
    "arr1[3:]=500\n",
    "arr1"
   ]
  },
  {
   "cell_type": "code",
   "execution_count": 58,
   "id": "9c093a8f",
   "metadata": {},
   "outputs": [
    {
     "name": "stdout",
     "output_type": "stream",
     "text": [
      "[  1   2   3 500 500 500 500 500 500]\n",
      "[   1    2    3 1000 1000 1000 1000 1000 1000]\n"
     ]
    }
   ],
   "source": [
    "print(arr)\n",
    "arr1[3:]=1000\n",
    "print(arr1)"
   ]
  },
  {
   "cell_type": "code",
   "execution_count": 59,
   "id": "7e5efea0",
   "metadata": {},
   "outputs": [
    {
     "data": {
      "text/plain": [
       "array([ True, False, False, False, False, False, False, False, False])"
      ]
     },
     "execution_count": 59,
     "metadata": {},
     "output_type": "execute_result"
    }
   ],
   "source": [
    "#  Sone conditions are very useful in  data explainatery analysis\n",
    "#val=2\n",
    "arr<2"
   ]
  },
  {
   "cell_type": "code",
   "execution_count": 60,
   "id": "529fd1de",
   "metadata": {},
   "outputs": [
    {
     "name": "stdout",
     "output_type": "stream",
     "text": [
      "[   1    2    3 1000 1000 1000 1000 1000 1000]\n",
      "[   2    4    6 2000 2000 2000 2000 2000 2000]\n",
      "[  0.5   1.    1.5 500.  500.  500.  500.  500.  500. ]\n",
      "[1 0 1 0 0 0 0 0 0]\n"
     ]
    }
   ],
   "source": [
    "print(arr)\n",
    "print(arr*2)\n",
    "print(arr/2)\n",
    "print(arr%2)"
   ]
  },
  {
   "cell_type": "code",
   "execution_count": 64,
   "id": "6405b3a7",
   "metadata": {},
   "outputs": [
    {
     "name": "stdout",
     "output_type": "stream",
     "text": [
      "[1 2 3 4 5 6 7 8 9]\n",
      "[1 2 3 4]\n",
      "[6 7 8 9]\n",
      "[7 8 9]\n"
     ]
    }
   ],
   "source": [
    "arr=np.arange(1,10)\n",
    "print(arr)\n",
    "print(arr[arr<5]) # Returns the no of values to be true\n",
    "print(arr[arr>5])\n",
    "print(arr[arr>=7])"
   ]
  },
  {
   "cell_type": "code",
   "execution_count": 65,
   "id": "5ace6f4b",
   "metadata": {},
   "outputs": [
    {
     "data": {
      "text/plain": [
       "array([1.        , 1.36363636, 1.72727273, 2.09090909, 2.45454545,\n",
       "       2.81818182, 3.18181818, 3.54545455, 3.90909091, 4.27272727,\n",
       "       4.63636364, 5.        ])"
      ]
     },
     "execution_count": 65,
     "metadata": {},
     "output_type": "execute_result"
    }
   ],
   "source": [
    "# Equally spaced points\n",
    "lspace = np.linspace(1,5,12) # give the array of 12 number equally spans from 1 to 5\n",
    "lspace"
   ]
  },
  {
   "cell_type": "code",
   "execution_count": 66,
   "id": "6ac3021b",
   "metadata": {},
   "outputs": [
    {
     "data": {
      "text/plain": [
       "array([1., 2., 3., 4.])"
      ]
     },
     "execution_count": 66,
     "metadata": {},
     "output_type": "execute_result"
    }
   ],
   "source": [
    "lspace = np.linspace(1,4,4) \n",
    "lspace"
   ]
  },
  {
   "cell_type": "code",
   "execution_count": 9,
   "id": "f1d51b12",
   "metadata": {},
   "outputs": [
    {
     "data": {
      "text/plain": [
       "array([[6.23042070e-307, 4.67296746e-307, 1.69121096e-306,\n",
       "        1.33511969e-306, 1.33508845e-306, 1.33511969e-306],\n",
       "       [6.23037996e-307, 6.23053954e-307, 9.34609790e-307,\n",
       "        8.45593934e-307, 9.34600963e-307, 1.86921143e-306],\n",
       "       [6.23061763e-307, 8.90104239e-307, 6.89804132e-307,\n",
       "        9.34605716e-307, 1.37962456e-306, 1.42418172e-306],\n",
       "       [2.04712906e-306, 7.56589622e-307, 1.11258277e-307,\n",
       "        8.90111708e-307, 2.11389826e-307, 1.11260619e-306]])"
      ]
     },
     "execution_count": 9,
     "metadata": {},
     "output_type": "execute_result"
    }
   ],
   "source": [
    "# Empty()\n",
    "# The empty() function is used to create a new array of given shape and type,\n",
    "# without initializing entries.\n",
    "emp = np.empty((4,6))  # random number filling of elements of array 4*6\n",
    "emp"
   ]
  },
  {
   "cell_type": "markdown",
   "id": "67023621",
   "metadata": {},
   "source": [
    "What is NP Empty_like?\n",
    "empty_like() function in Python is used to return a new array with the same shape and data type as the one passed to it. Note: The numpy. empty_like() function does not initialize the returned array."
   ]
  },
  {
   "cell_type": "code",
   "execution_count": 68,
   "id": "1c4db239",
   "metadata": {},
   "outputs": [
    {
     "name": "stdout",
     "output_type": "stream",
     "text": [
      "([1, 2, 3], [4, 5, 6])\n",
      "[[   37258796  1069737737   347861477]\n",
      " [ 1072187758 -1655318144  1070068501]]\n"
     ]
    }
   ],
   "source": [
    "# creating a prototype or array_like objec\n",
    "myarray = ([1,2,3], [4,5,6])  \n",
    "print(myarray)\n",
    "# using the numpy.empty() function \n",
    "newarray = np.empty_like(myarray)\n",
    "\n",
    "print(newarray)"
   ]
  },
  {
   "cell_type": "code",
   "execution_count": 69,
   "id": "d44cbfc2",
   "metadata": {},
   "outputs": [
    {
     "name": "stdout",
     "output_type": "stream",
     "text": [
      "[[1. 0. 0. 0. 0.]\n",
      " [0. 1. 0. 0. 0.]\n",
      " [0. 0. 1. 0. 0.]\n",
      " [0. 0. 0. 1. 0.]\n",
      " [0. 0. 0. 0. 1.]]\n",
      "(5, 5)\n"
     ]
    }
   ],
   "source": [
    "# Identity matrix creation\n",
    "ide =np.identity(5) \n",
    "print(ide)\n",
    "print(ide.shape)"
   ]
  },
  {
   "cell_type": "code",
   "execution_count": 70,
   "id": "98d97493",
   "metadata": {},
   "outputs": [
    {
     "data": {
      "text/plain": [
       "array([[1., 0., 0., ..., 0., 0., 0.],\n",
       "       [0., 1., 0., ..., 0., 0., 0.],\n",
       "       [0., 0., 1., ..., 0., 0., 0.],\n",
       "       ...,\n",
       "       [0., 0., 0., ..., 1., 0., 0.],\n",
       "       [0., 0., 0., ..., 0., 1., 0.],\n",
       "       [0., 0., 0., ..., 0., 0., 1.]])"
      ]
     },
     "execution_count": 70,
     "metadata": {},
     "output_type": "execute_result"
    }
   ],
   "source": [
    "ide =np.identity(45) # Identity matrix creation\n",
    "ide"
   ]
  },
  {
   "cell_type": "code",
   "execution_count": 71,
   "id": "0c3f056d",
   "metadata": {},
   "outputs": [
    {
     "name": "stdout",
     "output_type": "stream",
     "text": [
      "(45, 45)\n"
     ]
    }
   ],
   "source": [
    "print(ide.shape)"
   ]
  },
  {
   "cell_type": "code",
   "execution_count": 72,
   "id": "5ef7cd10",
   "metadata": {},
   "outputs": [
    {
     "data": {
      "text/plain": [
       "array([ 0,  1,  2,  3,  4,  5,  6,  7,  8,  9, 10, 11, 12, 13, 14, 15, 16,\n",
       "       17, 18, 19, 20, 21, 22, 23, 24, 25, 26, 27, 28, 29, 30, 31, 32, 33,\n",
       "       34, 35, 36, 37, 38, 39, 40, 41, 42, 43, 44])"
      ]
     },
     "execution_count": 72,
     "metadata": {},
     "output_type": "execute_result"
    }
   ],
   "source": [
    "arr = np.arange(45)\n",
    "arr"
   ]
  },
  {
   "cell_type": "code",
   "execution_count": 73,
   "id": "8efa8ad3",
   "metadata": {},
   "outputs": [
    {
     "data": {
      "text/plain": [
       "array([[ 0,  1,  2,  3,  4,  5,  6,  7,  8,  9, 10, 11, 12, 13, 14],\n",
       "       [15, 16, 17, 18, 19, 20, 21, 22, 23, 24, 25, 26, 27, 28, 29],\n",
       "       [30, 31, 32, 33, 34, 35, 36, 37, 38, 39, 40, 41, 42, 43, 44]])"
      ]
     },
     "execution_count": 73,
     "metadata": {},
     "output_type": "execute_result"
    }
   ],
   "source": [
    "arr.reshape(3,15) # here 45 numbers are divided in 3*15, other setting could \n",
    "# be done if possible the above arr is not changed. it could be changed if \n",
    "# arr = arr.reshape(3,15)\n",
    "# Conversion from 1D to 2D"
   ]
  },
  {
   "cell_type": "markdown",
   "id": "bf9f79a0",
   "metadata": {},
   "source": [
    "The numpy.ravel() functions returns contiguous flattened array(1D array with all the input-array elements and with the same type as it)."
   ]
  },
  {
   "cell_type": "code",
   "execution_count": 75,
   "id": "08fd02a3",
   "metadata": {},
   "outputs": [
    {
     "data": {
      "text/plain": [
       "array([ 0,  1,  2,  3,  4,  5,  6,  7,  8,  9, 10, 11, 12, 13, 14, 15, 16,\n",
       "       17, 18, 19, 20, 21, 22, 23, 24, 25, 26, 27, 28, 29, 30, 31, 32, 33,\n",
       "       34, 35, 36, 37, 38, 39, 40, 41, 42, 43, 44])"
      ]
     },
     "execution_count": 75,
     "metadata": {},
     "output_type": "execute_result"
    }
   ],
   "source": [
    "arr = arr.ravel()  # again convert to 1 D\n",
    "arr"
   ]
  },
  {
   "cell_type": "code",
   "execution_count": 76,
   "id": "40637910",
   "metadata": {},
   "outputs": [
    {
     "data": {
      "text/plain": [
       "array([ 0,  1,  2,  3,  4,  5,  6,  7,  8,  9, 10, 11, 12, 13, 14, 15, 16,\n",
       "       17, 18, 19, 20, 21, 22, 23, 24, 25, 26, 27, 28, 29, 30, 31, 32, 33,\n",
       "       34, 35, 36, 37, 38, 39, 40, 41, 42, 43, 44, 45, 46, 47, 48, 49, 50,\n",
       "       51, 52, 53, 54, 55, 56, 57, 58, 59, 60, 61, 62, 63, 64, 65, 66, 67,\n",
       "       68, 69, 70, 71, 72, 73, 74, 75, 76, 77, 78, 79, 80, 81, 82, 83, 84,\n",
       "       85, 86, 87, 88, 89, 90, 91, 92, 93, 94, 95, 96, 97, 98])"
      ]
     },
     "execution_count": 76,
     "metadata": {},
     "output_type": "execute_result"
    }
   ],
   "source": [
    "arr = np.arange(99)\n",
    "arr"
   ]
  },
  {
   "cell_type": "code",
   "execution_count": 77,
   "id": "3f39f798",
   "metadata": {},
   "outputs": [
    {
     "data": {
      "text/plain": [
       "array([[ 0,  1,  2,  3,  4,  5,  6,  7,  8,  9, 10, 11, 12, 13, 14, 15,\n",
       "        16, 17, 18, 19, 20, 21, 22, 23, 24, 25, 26, 27, 28, 29, 30, 31,\n",
       "        32],\n",
       "       [33, 34, 35, 36, 37, 38, 39, 40, 41, 42, 43, 44, 45, 46, 47, 48,\n",
       "        49, 50, 51, 52, 53, 54, 55, 56, 57, 58, 59, 60, 61, 62, 63, 64,\n",
       "        65],\n",
       "       [66, 67, 68, 69, 70, 71, 72, 73, 74, 75, 76, 77, 78, 79, 80, 81,\n",
       "        82, 83, 84, 85, 86, 87, 88, 89, 90, 91, 92, 93, 94, 95, 96, 97,\n",
       "        98]])"
      ]
     },
     "execution_count": 77,
     "metadata": {},
     "output_type": "execute_result"
    }
   ],
   "source": [
    "arr.reshape(3,33) # here 99 numbers are divided in 3*33, other setting could \n",
    "# be done if possible the above arr is not changed. it could be changed if \n",
    "# arr = arr.reshape(3,33)"
   ]
  },
  {
   "cell_type": "code",
   "execution_count": 78,
   "id": "69fdc3f4",
   "metadata": {},
   "outputs": [
    {
     "data": {
      "text/plain": [
       "array([[ 0,  1,  2,  3,  4,  5,  6,  7,  8,  9, 10, 11, 12, 13, 14, 15,\n",
       "        16, 17, 18, 19, 20, 21, 22, 23, 24, 25, 26, 27, 28, 29, 30, 31,\n",
       "        32],\n",
       "       [33, 34, 35, 36, 37, 38, 39, 40, 41, 42, 43, 44, 45, 46, 47, 48,\n",
       "        49, 50, 51, 52, 53, 54, 55, 56, 57, 58, 59, 60, 61, 62, 63, 64,\n",
       "        65],\n",
       "       [66, 67, 68, 69, 70, 71, 72, 73, 74, 75, 76, 77, 78, 79, 80, 81,\n",
       "        82, 83, 84, 85, 86, 87, 88, 89, 90, 91, 92, 93, 94, 95, 96, 97,\n",
       "        98]])"
      ]
     },
     "execution_count": 78,
     "metadata": {},
     "output_type": "execute_result"
    }
   ],
   "source": [
    "# the above arr is not changed. it could be changed if \n",
    "arr = arr.reshape(3,33) # Conversion from 1D to 2D\n",
    "arr"
   ]
  },
  {
   "cell_type": "code",
   "execution_count": 79,
   "id": "86640d53",
   "metadata": {},
   "outputs": [
    {
     "data": {
      "text/plain": [
       "array([ 0,  1,  2,  3,  4,  5,  6,  7,  8,  9, 10, 11, 12, 13, 14, 15, 16,\n",
       "       17, 18, 19, 20, 21, 22, 23, 24, 25, 26, 27, 28, 29, 30, 31, 32, 33,\n",
       "       34, 35, 36, 37, 38, 39, 40, 41, 42, 43, 44, 45, 46, 47, 48, 49, 50,\n",
       "       51, 52, 53, 54, 55, 56, 57, 58, 59, 60, 61, 62, 63, 64, 65, 66, 67,\n",
       "       68, 69, 70, 71, 72, 73, 74, 75, 76, 77, 78, 79, 80, 81, 82, 83, 84,\n",
       "       85, 86, 87, 88, 89, 90, 91, 92, 93, 94, 95, 96, 97, 98])"
      ]
     },
     "execution_count": 79,
     "metadata": {},
     "output_type": "execute_result"
    }
   ],
   "source": [
    "arr = arr.ravel()  # again convert to 1 D\n",
    "arr"
   ]
  },
  {
   "cell_type": "code",
   "execution_count": 80,
   "id": "f89bd327",
   "metadata": {},
   "outputs": [
    {
     "data": {
      "text/plain": [
       "(99,)"
      ]
     },
     "execution_count": 80,
     "metadata": {},
     "output_type": "execute_result"
    }
   ],
   "source": [
    "arr.shape # 1 D"
   ]
  },
  {
   "cell_type": "markdown",
   "id": "49204ed4",
   "metadata": {},
   "source": [
    "## Axis in numPy\n",
    "- 1-D  -- Axis 0 -- Rows\n",
    "- 2-D  -- Axis 1 -- Colums"
   ]
  },
  {
   "cell_type": "code",
   "execution_count": 5,
   "id": "2f9027e8",
   "metadata": {},
   "outputs": [
    {
     "data": {
      "text/plain": [
       "array([[1, 2, 3],\n",
       "       [4, 5, 6],\n",
       "       [7, 1, 0]])"
      ]
     },
     "execution_count": 5,
     "metadata": {},
     "output_type": "execute_result"
    }
   ],
   "source": [
    "x=[[1,2,3],[4,5,6],[7,1,0]]\n",
    "ar=np.array(x)\n",
    "ar"
   ]
  },
  {
   "cell_type": "code",
   "execution_count": 4,
   "id": "15e2de31",
   "metadata": {},
   "outputs": [
    {
     "data": {
      "text/plain": [
       "array([12,  8,  9])"
      ]
     },
     "execution_count": 4,
     "metadata": {},
     "output_type": "execute_result"
    }
   ],
   "source": [
    "ar.sum(axis=0) # row wise addition"
   ]
  },
  {
   "cell_type": "code",
   "execution_count": 5,
   "id": "cd8159b8",
   "metadata": {},
   "outputs": [
    {
     "data": {
      "text/plain": [
       "array([ 6, 15,  8])"
      ]
     },
     "execution_count": 5,
     "metadata": {},
     "output_type": "execute_result"
    }
   ],
   "source": [
    "ar.sum(axis=1) # column wise addition "
   ]
  },
  {
   "cell_type": "code",
   "execution_count": 45,
   "id": "76fed52c",
   "metadata": {},
   "outputs": [
    {
     "data": {
      "text/plain": [
       "array([[1, 4, 7],\n",
       "       [2, 5, 1],\n",
       "       [3, 6, 0]])"
      ]
     },
     "execution_count": 45,
     "metadata": {},
     "output_type": "execute_result"
    }
   ],
   "source": [
    "ar.T # Transpose of array"
   ]
  },
  {
   "cell_type": "code",
   "execution_count": 8,
   "id": "fafa732c",
   "metadata": {},
   "outputs": [
    {
     "name": "stdout",
     "output_type": "stream",
     "text": [
      "1\n",
      "2\n",
      "3\n",
      "4\n",
      "5\n",
      "6\n",
      "7\n",
      "1\n",
      "0\n"
     ]
    }
   ],
   "source": [
    "# It will give the flat array in one line\n",
    "ar.flat\n",
    "for item in ar.flat:\n",
    "    print(item) "
   ]
  },
  {
   "cell_type": "code",
   "execution_count": 9,
   "id": "c4c21b57",
   "metadata": {},
   "outputs": [
    {
     "data": {
      "text/plain": [
       "2"
      ]
     },
     "execution_count": 9,
     "metadata": {},
     "output_type": "execute_result"
    }
   ],
   "source": [
    "ar.ndim # no of dimension (2 dimensional matrix)"
   ]
  },
  {
   "cell_type": "code",
   "execution_count": 10,
   "id": "ffeac1e0",
   "metadata": {},
   "outputs": [
    {
     "data": {
      "text/plain": [
       "9"
      ]
     },
     "execution_count": 10,
     "metadata": {},
     "output_type": "execute_result"
    }
   ],
   "source": [
    "ar.size # no of elements"
   ]
  },
  {
   "cell_type": "code",
   "execution_count": 11,
   "id": "4e76f80f",
   "metadata": {},
   "outputs": [
    {
     "data": {
      "text/plain": [
       "36"
      ]
     },
     "execution_count": 11,
     "metadata": {},
     "output_type": "execute_result"
    }
   ],
   "source": [
    "ar.nbytes # total bytes consumed"
   ]
  },
  {
   "cell_type": "code",
   "execution_count": 12,
   "id": "5d72c886",
   "metadata": {},
   "outputs": [
    {
     "data": {
      "text/plain": [
       "3"
      ]
     },
     "execution_count": 12,
     "metadata": {},
     "output_type": "execute_result"
    }
   ],
   "source": [
    "one = np.array([1,3,4,636,2]) # 1-D array\n",
    "one.argmax() \n",
    "# Return the value of index where our array has maximum value \n",
    "# (in our case 3 (636), strating from 0) \n",
    "# here, used as a function as we are using brakets\n",
    "# if we used with brackets these are attributes e.g (ar.size)"
   ]
  },
  {
   "cell_type": "code",
   "execution_count": 13,
   "id": "e04f84e2",
   "metadata": {},
   "outputs": [
    {
     "data": {
      "text/plain": [
       "0"
      ]
     },
     "execution_count": 13,
     "metadata": {},
     "output_type": "execute_result"
    }
   ],
   "source": [
    "one.argmin() # return the index of minimum value (our case it first)"
   ]
  },
  {
   "cell_type": "code",
   "execution_count": 15,
   "id": "5ac9dcaa",
   "metadata": {},
   "outputs": [
    {
     "name": "stdout",
     "output_type": "stream",
     "text": [
      "[  1   3   4 636   2]\n"
     ]
    },
    {
     "data": {
      "text/plain": [
       "array([0, 4, 1, 2, 3], dtype=int64)"
      ]
     },
     "execution_count": 15,
     "metadata": {},
     "output_type": "execute_result"
    }
   ],
   "source": [
    "print(one)\n",
    "one.argsort() \n",
    "# give the indexes of elements which reflects the increasing order elements"
   ]
  },
  {
   "cell_type": "code",
   "execution_count": 16,
   "id": "92faca6f",
   "metadata": {},
   "outputs": [
    {
     "data": {
      "text/plain": [
       "array([[1, 2, 3],\n",
       "       [4, 5, 6],\n",
       "       [7, 1, 0]])"
      ]
     },
     "execution_count": 16,
     "metadata": {},
     "output_type": "execute_result"
    }
   ],
   "source": [
    "# now 2 Dimensional array\n",
    "ar"
   ]
  },
  {
   "cell_type": "code",
   "execution_count": 17,
   "id": "d1ad181d",
   "metadata": {},
   "outputs": [
    {
     "data": {
      "text/plain": [
       "8"
      ]
     },
     "execution_count": 17,
     "metadata": {},
     "output_type": "execute_result"
    }
   ],
   "source": [
    "ar.argmin() \n",
    "# First it will put all rows in one line and then count the index of minimum value element.\n",
    "# in our case it 0 @ index 8"
   ]
  },
  {
   "cell_type": "code",
   "execution_count": 19,
   "id": "433b1774",
   "metadata": {},
   "outputs": [
    {
     "name": "stdout",
     "output_type": "stream",
     "text": [
      "[[1 2 3]\n",
      " [4 5 6]\n",
      " [7 1 0]]\n"
     ]
    },
    {
     "data": {
      "text/plain": [
       "6"
      ]
     },
     "execution_count": 19,
     "metadata": {},
     "output_type": "execute_result"
    }
   ],
   "source": [
    "print(ar)\n",
    "ar.argmax() # 2-D method"
   ]
  },
  {
   "cell_type": "code",
   "execution_count": 6,
   "id": "71dd5b3b",
   "metadata": {},
   "outputs": [
    {
     "name": "stdout",
     "output_type": "stream",
     "text": [
      "[[1 2 3]\n",
      " [4 5 6]\n",
      " [7 1 0]]\n"
     ]
    },
    {
     "data": {
      "text/plain": [
       "array([2, 1, 1], dtype=int64)"
      ]
     },
     "execution_count": 6,
     "metadata": {},
     "output_type": "execute_result"
    }
   ],
   "source": [
    "print(ar)\n",
    "ar.argmax(axis=0)\n",
    "# Frist col largest number is on index 2 (7)\n",
    "# 2nd col largest number is on index 1 (5)\n",
    "# 3rd col largest number is on index 1 (6)"
   ]
  },
  {
   "cell_type": "code",
   "execution_count": 7,
   "id": "b46d413a",
   "metadata": {},
   "outputs": [
    {
     "data": {
      "text/plain": [
       "array([2, 2, 0], dtype=int64)"
      ]
     },
     "execution_count": 7,
     "metadata": {},
     "output_type": "execute_result"
    }
   ],
   "source": [
    "ar.argmax(axis=1)\n",
    "\n",
    "# Frist row largest number is on index 2 (3)\n",
    "# 2nd col largest number is on index 2 (6)\n",
    "# 3rd col largest number is on index 0 (7)"
   ]
  },
  {
   "cell_type": "code",
   "execution_count": 9,
   "id": "b027b5b7",
   "metadata": {},
   "outputs": [
    {
     "name": "stdout",
     "output_type": "stream",
     "text": [
      "[[1 2 3]\n",
      " [4 5 6]\n",
      " [7 1 0]]\n"
     ]
    },
    {
     "data": {
      "text/plain": [
       "array([[0, 1, 2],\n",
       "       [0, 1, 2],\n",
       "       [2, 1, 0]], dtype=int64)"
      ]
     },
     "execution_count": 9,
     "metadata": {},
     "output_type": "execute_result"
    }
   ],
   "source": [
    "print(ar)\n",
    "ar.argsort(axis=1)  # 1(0) 2(1) 3(2) first colum indeces\n",
    "                    # 4(0) 5(1) 6(2) 2nd colum indeces\n",
    "                    # 0(0) 1(1) 7(2) 3rd  -- 7(2) 1(1) 0(0) "
   ]
  },
  {
   "cell_type": "code",
   "execution_count": 10,
   "id": "9b2053ba",
   "metadata": {},
   "outputs": [
    {
     "name": "stdout",
     "output_type": "stream",
     "text": [
      "[[1 2 3]\n",
      " [4 5 6]\n",
      " [7 1 0]]\n"
     ]
    },
    {
     "data": {
      "text/plain": [
       "array([[0, 2, 2],\n",
       "       [1, 0, 0],\n",
       "       [2, 1, 1]], dtype=int64)"
      ]
     },
     "execution_count": 10,
     "metadata": {},
     "output_type": "execute_result"
    }
   ],
   "source": [
    "print(ar)\n",
    "ar.argsort(axis=0)\n",
    "\n",
    "                    # 1(0) 1(2) 0(2) \n",
    "                    # 4(1) 2(0) 3(0) \n",
    "                    # 7(2) 5(1) 6(1) "
   ]
  },
  {
   "cell_type": "code",
   "execution_count": 11,
   "id": "194feb93",
   "metadata": {},
   "outputs": [
    {
     "name": "stdout",
     "output_type": "stream",
     "text": [
      "[[1 2 3]\n",
      " [4 5 6]\n",
      " [7 1 0]]\n"
     ]
    },
    {
     "data": {
      "text/plain": [
       "array([1, 2, 3, 4, 5, 6, 7, 1, 0])"
      ]
     },
     "execution_count": 11,
     "metadata": {},
     "output_type": "execute_result"
    }
   ],
   "source": [
    "print(ar)\n",
    "ar.ravel() # matrix flatens # 1D"
   ]
  },
  {
   "cell_type": "code",
   "execution_count": 12,
   "id": "84793040",
   "metadata": {},
   "outputs": [
    {
     "data": {
      "text/plain": [
       "array([[1],\n",
       "       [2],\n",
       "       [3],\n",
       "       [4],\n",
       "       [5],\n",
       "       [6],\n",
       "       [7],\n",
       "       [1],\n",
       "       [0]])"
      ]
     },
     "execution_count": 12,
     "metadata": {},
     "output_type": "execute_result"
    }
   ],
   "source": [
    "ar.reshape((9,1)) # 2D"
   ]
  },
  {
   "cell_type": "code",
   "execution_count": 13,
   "id": "69c452dd",
   "metadata": {},
   "outputs": [
    {
     "data": {
      "text/plain": [
       "array([1, 2, 3, 4, 5, 6, 7, 1, 0])"
      ]
     },
     "execution_count": 13,
     "metadata": {},
     "output_type": "execute_result"
    }
   ],
   "source": [
    "ar.reshape((9,)) # (9,0) 1D"
   ]
  },
  {
   "cell_type": "code",
   "execution_count": 14,
   "id": "cefbf312",
   "metadata": {},
   "outputs": [],
   "source": [
    "ar2=np.array([[1,2,1],\n",
    "            [4,0,6],\n",
    "            [8,1,0]])"
   ]
  },
  {
   "cell_type": "code",
   "execution_count": 15,
   "id": "3a6f841c",
   "metadata": {},
   "outputs": [
    {
     "data": {
      "text/plain": [
       "array([[1, 2, 3],\n",
       "       [4, 5, 6],\n",
       "       [7, 1, 0]])"
      ]
     },
     "execution_count": 15,
     "metadata": {},
     "output_type": "execute_result"
    }
   ],
   "source": [
    "ar"
   ]
  },
  {
   "cell_type": "code",
   "execution_count": 16,
   "id": "48f8957b",
   "metadata": {
    "scrolled": true
   },
   "outputs": [
    {
     "data": {
      "text/plain": [
       "array([[1, 2, 1],\n",
       "       [4, 0, 6],\n",
       "       [8, 1, 0]])"
      ]
     },
     "execution_count": 16,
     "metadata": {},
     "output_type": "execute_result"
    }
   ],
   "source": [
    "ar2"
   ]
  },
  {
   "cell_type": "code",
   "execution_count": 18,
   "id": "dc8ea694",
   "metadata": {},
   "outputs": [
    {
     "name": "stdout",
     "output_type": "stream",
     "text": [
      "[[1 2 3]\n",
      " [4 5 6]\n",
      " [7 1 0]]\n",
      "[[1 2 1]\n",
      " [4 0 6]\n",
      " [8 1 0]]\n"
     ]
    },
    {
     "data": {
      "text/plain": [
       "array([[ 2,  4,  4],\n",
       "       [ 8,  5, 12],\n",
       "       [15,  2,  0]])"
      ]
     },
     "execution_count": 18,
     "metadata": {},
     "output_type": "execute_result"
    }
   ],
   "source": [
    "# Element by element addition of Numpy\n",
    "print(ar)\n",
    "print(ar2)\n",
    "ar + ar2 # this work can not be done in List"
   ]
  },
  {
   "cell_type": "code",
   "execution_count": 19,
   "id": "29b9ca8f",
   "metadata": {},
   "outputs": [
    {
     "data": {
      "text/plain": [
       "[324, 34, 34, 546]"
      ]
     },
     "execution_count": 19,
     "metadata": {},
     "output_type": "execute_result"
    }
   ],
   "source": [
    "# If you have two list\n",
    "# if we will try to add list it cannot be done, it will be extended\n",
    "# Numpy allows you do matrix operation not List\n",
    "[324, 34] + [34, 546]  \n"
   ]
  },
  {
   "cell_type": "code",
   "execution_count": 20,
   "id": "bae3c28b",
   "metadata": {},
   "outputs": [
    {
     "data": {
      "text/plain": [
       "array([[ 1,  4,  3],\n",
       "       [16,  0, 36],\n",
       "       [56,  1,  0]])"
      ]
     },
     "execution_count": 20,
     "metadata": {},
     "output_type": "execute_result"
    }
   ],
   "source": [
    "ar * ar2 # element-wise multiplication "
   ]
  },
  {
   "cell_type": "code",
   "execution_count": 21,
   "id": "1b9a3816",
   "metadata": {},
   "outputs": [
    {
     "data": {
      "text/plain": [
       "array([[1.        , 1.41421356, 1.73205081],\n",
       "       [2.        , 2.23606798, 2.44948974],\n",
       "       [2.64575131, 1.        , 0.        ]])"
      ]
     },
     "execution_count": 21,
     "metadata": {},
     "output_type": "execute_result"
    }
   ],
   "source": [
    "np.sqrt(ar)  # Element-wise square root"
   ]
  },
  {
   "cell_type": "code",
   "execution_count": 22,
   "id": "23adda32",
   "metadata": {},
   "outputs": [
    {
     "data": {
      "text/plain": [
       "29"
      ]
     },
     "execution_count": 22,
     "metadata": {},
     "output_type": "execute_result"
    }
   ],
   "source": [
    "ar.sum() # Sum of all elemens"
   ]
  },
  {
   "cell_type": "code",
   "execution_count": 23,
   "id": "a3638d95",
   "metadata": {},
   "outputs": [
    {
     "data": {
      "text/plain": [
       "7"
      ]
     },
     "execution_count": 23,
     "metadata": {},
     "output_type": "execute_result"
    }
   ],
   "source": [
    "ar.max() # max element value"
   ]
  },
  {
   "cell_type": "code",
   "execution_count": 24,
   "id": "b5dcef84",
   "metadata": {},
   "outputs": [
    {
     "data": {
      "text/plain": [
       "0"
      ]
     },
     "execution_count": 24,
     "metadata": {},
     "output_type": "execute_result"
    }
   ],
   "source": [
    "ar.min() # min element value"
   ]
  },
  {
   "cell_type": "code",
   "execution_count": 26,
   "id": "1e37ae99",
   "metadata": {},
   "outputs": [
    {
     "name": "stdout",
     "output_type": "stream",
     "text": [
      "[[1 2 3]\n",
      " [4 5 6]\n",
      " [7 1 0]]\n"
     ]
    },
    {
     "data": {
      "text/plain": [
       "(array([1, 2], dtype=int64), array([2, 0], dtype=int64))"
      ]
     },
     "execution_count": 26,
     "metadata": {},
     "output_type": "execute_result"
    }
   ],
   "source": [
    "print(ar)\n",
    "np.where(ar>5) # return the location where ar value is greater than 5\n",
    "# (1,2)= 6 & (2,0)=7"
   ]
  },
  {
   "cell_type": "code",
   "execution_count": 27,
   "id": "1e17f8a3",
   "metadata": {},
   "outputs": [
    {
     "data": {
      "text/plain": [
       "(array([1, 2], dtype=int64), array([2, 0], dtype=int64))"
      ]
     },
     "execution_count": 27,
     "metadata": {},
     "output_type": "execute_result"
    }
   ],
   "source": [
    "np.where(ar>5)"
   ]
  },
  {
   "cell_type": "code",
   "execution_count": 78,
   "id": "abcaebdc",
   "metadata": {},
   "outputs": [
    {
     "data": {
      "text/plain": [
       "tuple"
      ]
     },
     "execution_count": 78,
     "metadata": {},
     "output_type": "execute_result"
    }
   ],
   "source": [
    "type(np.where(ar>5)) # output will be saved in a tuple"
   ]
  },
  {
   "cell_type": "code",
   "execution_count": 29,
   "id": "b9a7c5d7",
   "metadata": {},
   "outputs": [
    {
     "name": "stdout",
     "output_type": "stream",
     "text": [
      "[[1 2 3]\n",
      " [4 5 6]\n",
      " [7 1 0]]\n"
     ]
    },
    {
     "data": {
      "text/plain": [
       "8"
      ]
     },
     "execution_count": 29,
     "metadata": {},
     "output_type": "execute_result"
    }
   ],
   "source": [
    "print(ar)\n",
    "np.count_nonzero(ar) # return the index of non zero elements 0 @ index 8"
   ]
  },
  {
   "cell_type": "code",
   "execution_count": 80,
   "id": "81e24e31",
   "metadata": {},
   "outputs": [
    {
     "data": {
      "text/plain": [
       "array([[1, 2, 3],\n",
       "       [4, 5, 6],\n",
       "       [7, 1, 0]])"
      ]
     },
     "execution_count": 80,
     "metadata": {},
     "output_type": "execute_result"
    }
   ],
   "source": [
    "ar"
   ]
  },
  {
   "cell_type": "code",
   "execution_count": 31,
   "id": "b6eb868d",
   "metadata": {},
   "outputs": [
    {
     "data": {
      "text/plain": [
       "(array([0, 0, 0, 1, 1, 1, 2, 2], dtype=int64),\n",
       " array([0, 1, 2, 0, 1, 2, 0, 1], dtype=int64))"
      ]
     },
     "execution_count": 31,
     "metadata": {},
     "output_type": "execute_result"
    }
   ],
   "source": [
    "np.nonzero(ar) # return row*col location of non zero elements"
   ]
  },
  {
   "cell_type": "code",
   "execution_count": 32,
   "id": "cbfa9a1e",
   "metadata": {},
   "outputs": [
    {
     "data": {
      "text/plain": [
       "(array([0, 0, 0, 1, 1, 2, 2], dtype=int64),\n",
       " array([0, 1, 2, 0, 1, 0, 1], dtype=int64))"
      ]
     },
     "execution_count": 32,
     "metadata": {},
     "output_type": "execute_result"
    }
   ],
   "source": [
    "ar[1,2] = 0\n",
    "np.nonzero(ar) # now (1,2) will be disappear as it is now zero"
   ]
  },
  {
   "cell_type": "code",
   "execution_count": 34,
   "id": "3e2916a6",
   "metadata": {},
   "outputs": [],
   "source": [
    "# we already said that numpy takes less space, to show it \n",
    "\n",
    "import sys\n",
    "\n",
    "py_ar = [0,4,55,2]       # normal python array\n",
    "np_ar = np.array(py_ar)  # Same array in numpy format"
   ]
  },
  {
   "cell_type": "code",
   "execution_count": 35,
   "id": "0d4446f1",
   "metadata": {},
   "outputs": [
    {
     "data": {
      "text/plain": [
       "112"
      ]
     },
     "execution_count": 35,
     "metadata": {},
     "output_type": "execute_result"
    }
   ],
   "source": [
    "sys.getsizeof(1) * len(py_ar)   # size of single element * total"
   ]
  },
  {
   "cell_type": "code",
   "execution_count": 36,
   "id": "e3eefeed",
   "metadata": {},
   "outputs": [
    {
     "data": {
      "text/plain": [
       "16"
      ]
     },
     "execution_count": 36,
     "metadata": {},
     "output_type": "execute_result"
    }
   ],
   "source": [
    "np_ar.itemsize * np_ar.size    # size of single element * total"
   ]
  },
  {
   "cell_type": "code",
   "execution_count": 87,
   "id": "a014a670",
   "metadata": {},
   "outputs": [],
   "source": [
    "# Above shows that numpy takes very less memory space"
   ]
  },
  {
   "cell_type": "code",
   "execution_count": null,
   "id": "e3be3144",
   "metadata": {},
   "outputs": [],
   "source": [
    "# see at google \"Scipy.org\" and methods and attributes"
   ]
  }
 ],
 "metadata": {
  "kernelspec": {
   "display_name": "Python 3",
   "language": "python",
   "name": "python3"
  },
  "language_info": {
   "codemirror_mode": {
    "name": "ipython",
    "version": 3
   },
   "file_extension": ".py",
   "mimetype": "text/x-python",
   "name": "python",
   "nbconvert_exporter": "python",
   "pygments_lexer": "ipython3",
   "version": "3.8.8"
  }
 },
 "nbformat": 4,
 "nbformat_minor": 5
}
