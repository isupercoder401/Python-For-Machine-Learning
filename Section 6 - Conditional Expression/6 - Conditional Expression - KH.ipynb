{
 "cells": [
  {
   "cell_type": "markdown",
   "id": "78ed635e",
   "metadata": {},
   "source": [
    "# Conditional Expression\n",
    "\n",
    "## If - elif - else  in Python\n",
    "\n",
    "If else and elif statements are a multiway decision taken by our program due to certain conditions in our code."
   ]
  },
  {
   "cell_type": "code",
   "execution_count": 1,
   "id": "18002f32",
   "metadata": {},
   "outputs": [
    {
     "name": "stdout",
     "output_type": "stream",
     "text": [
      "The value of a is greater than 3\n"
     ]
    }
   ],
   "source": [
    "# it is called \"if-elif-else Ladder\"\n",
    "a= 45\n",
    "if(a>3):\n",
    "    print(\"The value of a is greater than 3\")\n",
    "elif(a>13):\n",
    "    print(\"The value of a is greater than 13\")\n",
    "elif(a>7):\n",
    "    print(\"The value of a is greater than 7\")\n",
    "elif(a>17):\n",
    "    print(\"The value of a is greater than 17\")\n",
    "else:\n",
    "    print(\"The value of a is not greater than 3 & 7\")\n",
    "\n",
    "# here two conditions are ture but only first candition is excuted\n",
    "# if first condition is true it will be out of conditional loop\n",
    "# it will go to the next \"elif\" if current \"if\" or \"elif\" is become false\n",
    "# condition could contian many \"elif\"\n"
   ]
  },
  {
   "cell_type": "code",
   "execution_count": 2,
   "id": "233aa2cb",
   "metadata": {},
   "outputs": [],
   "source": [
    "# multiple if statement\n",
    "    # in \"if-elif-else laddar\" only one statement is works even if muliple conditions are ture\n",
    "    # However, in \"Multiple if Statements\", if multiple conditons are ture then multiple executed"
   ]
  },
  {
   "cell_type": "code",
   "execution_count": 3,
   "id": "c95b0e12",
   "metadata": {},
   "outputs": [
    {
     "name": "stdout",
     "output_type": "stream",
     "text": [
      "The value of a is greater than 3\n",
      "The value of a is greater than 13\n",
      "The value of a is greater than 7\n",
      "The value of a is greater than 17\n"
     ]
    }
   ],
   "source": [
    "a= 45\n",
    "if(a>3):\n",
    "    print(\"The value of a is greater than 3\")\n",
    "if(a>13):\n",
    "    print(\"The value of a is greater than 13\")\n",
    "if(a>7):\n",
    "    print(\"The value of a is greater than 7\")\n",
    "if(a>17):\n",
    "    print(\"The value of a is greater than 17\")\n",
    "else:\n",
    "    print(\"The value of a is not greater than 3 & 7\")\n",
    "\n",
    "# here first three are indpendent conditions and will be executed if true\n",
    "# however, for the last if-else, only one will be excuted if true, because it is pair of if-elif-else\n",
    "# ladder"
   ]
  },
  {
   "cell_type": "code",
   "execution_count": 5,
   "id": "f15ab7ac",
   "metadata": {},
   "outputs": [
    {
     "name": "stdout",
     "output_type": "stream",
     "text": [
      "The value of a is greater than 7\n"
     ]
    }
   ],
   "source": [
    "a= 45\n",
    "if(a>63):\n",
    "    print(\"The value of a is greater than 3\")\n",
    "elif(a>73):\n",
    "    print(\"The value of a is greater than 13\")\n",
    "elif(a>7):\n",
    "    print(\"The value of a is greater than 7\")\n",
    "elif(a>87):\n",
    "    print(\"The value of a is greater than 17\")\n",
    "else:\n",
    "    print(\"The value of a is not greater than 3 & 7\")\n"
   ]
  },
  {
   "cell_type": "code",
   "execution_count": 6,
   "id": "f9b58cec",
   "metadata": {},
   "outputs": [
    {
     "name": "stdout",
     "output_type": "stream",
     "text": [
      "The value of a is not greater than 3 & 7\n"
     ]
    }
   ],
   "source": [
    "a= 45\n",
    "if(a>83):\n",
    "    print(\"The value of a is greater than 3\")\n",
    "elif(a>93):\n",
    "    print(\"The value of a is greater than 13\")\n",
    "elif(a>77):\n",
    "    print(\"The value of a is greater than 7\")\n",
    "elif(a>97):\n",
    "    print(\"The value of a is greater than 17\")\n",
    "else:\n",
    "    print(\"The value of a is not greater than 3 & 7\")\n"
   ]
  },
  {
   "cell_type": "code",
   "execution_count": 10,
   "id": "f4be66f0",
   "metadata": {},
   "outputs": [
    {
     "name": "stdout",
     "output_type": "stream",
     "text": [
      "Enter your age: 47\n",
      "yes\n"
     ]
    }
   ],
   "source": [
    "age=int(input(\"Enter your age: \"))\n",
    "\n",
    "if age>18:\n",
    "    print(\"yes\")\n",
    "else:\n",
    "    print(\"no\")"
   ]
  },
  {
   "cell_type": "markdown",
   "id": "b86a42d2",
   "metadata": {},
   "source": [
    "## Relational operators (for inside IF conditions)"
   ]
  },
  {
   "cell_type": "code",
   "execution_count": 7,
   "id": "30212f92",
   "metadata": {},
   "outputs": [],
   "source": [
    "# These are used to evaluate conditons inside the \"IF\" statements e.g. are \n",
    "# ==\n",
    "# <= , <,>\n",
    "# >= etc\n",
    "# Because single (=) is used for assingment opeator"
   ]
  },
  {
   "cell_type": "markdown",
   "id": "2e698e6d",
   "metadata": {},
   "source": [
    "## Logical operators / Boleean"
   ]
  },
  {
   "cell_type": "code",
   "execution_count": 8,
   "id": "088d8c12",
   "metadata": {},
   "outputs": [],
   "source": [
    "# Logical operators operates on conditional statement e.g\n",
    "# and - True if both operands are ture else False\n",
    "# or  - True if at least one operad is ture else false\n",
    "# not - inverts ture to false or false to ture\n"
   ]
  },
  {
   "cell_type": "code",
   "execution_count": 13,
   "id": "99e6650c",
   "metadata": {},
   "outputs": [
    {
     "name": "stdout",
     "output_type": "stream",
     "text": [
      "Your can work with us\n"
     ]
    }
   ],
   "source": [
    "# Example of logical and relational operator\n",
    "\n",
    "age=47\n",
    "\n",
    "if (age>34 and age<56):\n",
    "    print(\"Your can work with us\")\n",
    "else:\n",
    "    print(\"You cannot work with us\")"
   ]
  },
  {
   "cell_type": "markdown",
   "id": "320134b0",
   "metadata": {},
   "source": [
    "## Example of \"is\" in IF conditional statement"
   ]
  },
  {
   "cell_type": "code",
   "execution_count": 15,
   "id": "8d40a147",
   "metadata": {},
   "outputs": [
    {
     "name": "stdout",
     "output_type": "stream",
     "text": [
      "No\n"
     ]
    }
   ],
   "source": [
    "# Example of \"is\" in IF conditional statement\n",
    "# there is no need of checking values by relational / logical operators. \n",
    "# this work is done by \"is\"\n",
    "# Because None is the same object\n",
    "\n",
    "a=None\n",
    "if (a is None): \n",
    "    print(\"No\")\n",
    "else:\n",
    "    print(\"Yes\")\n",
    "\n",
    "# here \"is\" is used as == (relational operator)"
   ]
  },
  {
   "cell_type": "markdown",
   "id": "2ce11f59",
   "metadata": {},
   "source": [
    "## Example of \"in\" in statement"
   ]
  },
  {
   "cell_type": "code",
   "execution_count": 2,
   "id": "10f041ba",
   "metadata": {},
   "outputs": [
    {
     "name": "stdout",
     "output_type": "stream",
     "text": [
      "True\n"
     ]
    }
   ],
   "source": [
    "# Example of \"in\" in statement\n",
    "\n",
    "a=[45, 56, 6]\n",
    "print(56 in a)\n"
   ]
  },
  {
   "cell_type": "code",
   "execution_count": 19,
   "id": "83bee7d2",
   "metadata": {},
   "outputs": [
    {
     "name": "stdout",
     "output_type": "stream",
     "text": [
      "False\n"
     ]
    }
   ],
   "source": [
    "# Example of \"in\" in statement\n",
    "\n",
    "a=[45, 56, 6]\n",
    "print(456 in a)"
   ]
  },
  {
   "cell_type": "code",
   "execution_count": 20,
   "id": "905b1894",
   "metadata": {},
   "outputs": [
    {
     "name": "stdout",
     "output_type": "stream",
     "text": [
      "True\n"
     ]
    }
   ],
   "source": [
    "# Example of \"in\" in statement\n",
    "\n",
    "a=[45, 56, 6]\n",
    "print(56 in a)"
   ]
  },
  {
   "cell_type": "code",
   "execution_count": 23,
   "id": "c23ebd0d",
   "metadata": {},
   "outputs": [
    {
     "name": "stdout",
     "output_type": "stream",
     "text": [
      "no\n"
     ]
    }
   ],
   "source": [
    "# Following command shows that \"else\" is optional\n",
    "a=57\n",
    "if(a==7):\n",
    "    print(\"yes\")\n",
    "elif(a>56):\n",
    "    print(\"no\")"
   ]
  },
  {
   "cell_type": "code",
   "execution_count": 13,
   "id": "817dfdd5",
   "metadata": {},
   "outputs": [
    {
     "name": "stdout",
     "output_type": "stream",
     "text": [
      "yes\n"
     ]
    }
   ],
   "source": [
    "# Following command shows that \"else\" is optional\n",
    "a=57\n",
    "if(a==57):\n",
    "    print(\"yes\")\n",
    "elif(a>56):\n",
    "    print(\"no\")"
   ]
  },
  {
   "cell_type": "markdown",
   "id": "339dd2a9",
   "metadata": {},
   "source": [
    "## Practice\n",
    "\n",
    "- Write a program to find the greatest of four numbers entered by the user.\n",
    "- Write a program to find out whether a student is pass or fail if it requires a total of 40% and at least 33% in each subject to pass. Assume 3 subjects and take marks as an input from the user.\n",
    "- A spam comment is defined as a text containing the following keywords: “make a lot of money”, “buy now”, “subscribe this”, “click this”. Write a program to detect these spams.\n",
    "\n",
    "- Write a program to find whether a given username contains less than 10 characters or not.\n",
    "- Write a program that finds out whether a given name is present in a list or not.\n",
    "- Write a program to calculate the grade of a student from his marks from the following scheme:\n",
    "- Write a program to find out whether a given post is talking about “Harry” or not."
   ]
  },
  {
   "cell_type": "code",
   "execution_count": 24,
   "id": "1d2409a1",
   "metadata": {},
   "outputs": [
    {
     "name": "stdout",
     "output_type": "stream",
     "text": [
      "Enter number 1: 15\n",
      "Enter number 2: 25\n",
      "Enter number 3: 35\n",
      "Enter number 4: 45\n",
      "45 is greatest\n"
     ]
    }
   ],
   "source": [
    " # Write a program to find the greatest of four numbers entered by the user.\n",
    "\n",
    "num1 = int(input(\"Enter number 1: \"))\n",
    "num2 = int(input(\"Enter number 2: \"))\n",
    "num3 = int(input(\"Enter number 3: \"))\n",
    "num4 = int(input(\"Enter number 4: \"))\n",
    "\n",
    "if(num1>num4):\n",
    "    f1 = num1\n",
    "else:\n",
    "    f1 = num4\n",
    "\n",
    "if(num2>num3):\n",
    "    f2 = num2\n",
    "else:\n",
    "    f2 = num3\n",
    "\n",
    "if(f1>f2):\n",
    "    print(str(f1) + \" is greatest\")\n",
    "else:\n",
    "    print(str(f2) + \" is greatest\")"
   ]
  },
  {
   "cell_type": "code",
   "execution_count": 29,
   "id": "933b78ee",
   "metadata": {},
   "outputs": [
    {
     "name": "stdout",
     "output_type": "stream",
     "text": [
      "Enter marks for the first subject\n",
      "90\n",
      "Enter marks for the second subject\n",
      "96\n",
      "Enter marks for the third subject\n",
      "99\n",
      "Congritulations you are passed\n"
     ]
    }
   ],
   "source": [
    "# Write a program to find out whether a student is pass or fail if it requires \n",
    "# a total of 40% and at least 33% in each subject to pass. Assume 3 subjects \n",
    "# and take marks as an input from the user.\n",
    "\n",
    "\n",
    "sub1 = int(input(\"Enter marks for the first subject\\n\"))\n",
    "sub2 = int(input(\"Enter marks for the second subject\\n\"))\n",
    "sub3 = int(input(\"Enter marks for the third subject\\n\"))\n",
    "\n",
    "if(sub1<33 or sub2<33 or sub3<33):\n",
    "    print(\"your are fial\")\n",
    "elif(sub1+sub2+sub3)/3 <40:\n",
    "    print(\"you are fial\")\n",
    "else:\n",
    "    print(\"Congritulations you are passed\")\n",
    "    \n"
   ]
  },
  {
   "cell_type": "code",
   "execution_count": 31,
   "id": "cecad5fe",
   "metadata": {},
   "outputs": [
    {
     "name": "stdout",
     "output_type": "stream",
     "text": [
      "Enter the text    buy now\n",
      "This text is spam\n"
     ]
    }
   ],
   "source": [
    "# A spam comment is defined as a text containing the following keywords: “make \n",
    "# a lot of money”, “buy now”, “subscribe this”, “click this”. Write a program \n",
    "# to detect these spams.\n",
    "\n",
    "# This program shows the importance of \"in\" in conditional statement\n",
    "# Spam identification program\n",
    "\n",
    "text = input(\"Enter the text    \")\n",
    "\n",
    "if(\"make a lot of money\" in text):\n",
    "    spam = True\n",
    "elif(\"buy now\" in text):\n",
    "    spam = True\n",
    "elif(\"Subscribe this\" in text):\n",
    "    spam = True\n",
    "else:\n",
    "    spam = False\n",
    "    \n",
    "if(spam):\n",
    "    print(\"This text is spam\")\n",
    "else:\n",
    "    print(\"This text is not spam\")\n",
    "    "
   ]
  },
  {
   "cell_type": "code",
   "execution_count": 33,
   "id": "856361e7",
   "metadata": {},
   "outputs": [
    {
     "name": "stdout",
     "output_type": "stream",
     "text": [
      "Enter the name to check: \n",
      "Salman\n",
      "Your name is present\n"
     ]
    }
   ],
   "source": [
    "# Write program that finds out whether a given name is present in a list or not.\n",
    "# This program shows the importance of \"in\" in conditional statement\n",
    "\n",
    "names = [\"Khursheed\", \"Salman\", \"Waseem\", \"Ahmed\"]\n",
    "name = input(\"Enter the name to check: \\n\")\n",
    "\n",
    "if name in names:\n",
    "    print(\"Your name is present\")\n",
    "else:\n",
    "    print(\"Your name is not present\")"
   ]
  },
  {
   "cell_type": "code",
   "execution_count": 38,
   "id": "4312763c",
   "metadata": {
    "scrolled": true
   },
   "outputs": [
    {
     "name": "stdout",
     "output_type": "stream",
     "text": [
      "Enter your marks\n",
      "99\n",
      "Your grade is Ex\n"
     ]
    }
   ],
   "source": [
    "# Write a program to calculate the grade of a student from his marks from the \n",
    "# following scheme:\n",
    "# Marks system\n",
    "\n",
    "marks = int(input(\"Enter your marks\\n\"))\n",
    "\n",
    "if marks>=90:\n",
    "    grade = \"Ex\"\n",
    "elif marks>=80:\n",
    "    grade = \"A\"\n",
    "elif marks>=70:\n",
    "    grade = \"B\"\n",
    "elif marks>=60:\n",
    "    grade = \"C\"\n",
    "elif marks>=50:\n",
    "    grade = \"D\"\n",
    "else:\n",
    "    grade = \"F\"\n",
    "\n",
    "print(\"Your grade is \" + grade)"
   ]
  },
  {
   "cell_type": "code",
   "execution_count": 39,
   "id": "0ae6a40f",
   "metadata": {},
   "outputs": [
    {
     "data": {
      "text/plain": [
       "'abc fdsfdfsdfffffffff\\nbcd'"
      ]
     },
     "execution_count": 39,
     "metadata": {},
     "output_type": "execute_result"
    }
   ],
   "source": [
    "# Triple single invertered commas are used for multiline comments\n",
    "'''abc fdsfdfsdfffffffff\n",
    "bcd'''"
   ]
  },
  {
   "cell_type": "code",
   "execution_count": null,
   "id": "ab13b6f4",
   "metadata": {},
   "outputs": [],
   "source": []
  }
 ],
 "metadata": {
  "kernelspec": {
   "display_name": "Python 3",
   "language": "python",
   "name": "python3"
  },
  "language_info": {
   "codemirror_mode": {
    "name": "ipython",
    "version": 3
   },
   "file_extension": ".py",
   "mimetype": "text/x-python",
   "name": "python",
   "nbconvert_exporter": "python",
   "pygments_lexer": "ipython3",
   "version": "3.8.8"
  }
 },
 "nbformat": 4,
 "nbformat_minor": 5
}
