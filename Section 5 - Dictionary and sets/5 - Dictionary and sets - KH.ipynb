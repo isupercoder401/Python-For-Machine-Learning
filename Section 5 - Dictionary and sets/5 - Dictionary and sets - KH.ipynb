{
 "cells": [
  {
   "cell_type": "markdown",
   "id": "fd35fb18",
   "metadata": {},
   "source": [
    "## Dictionary and Sets\n",
    "Dictionary is a collection of key-value pairs.\n",
    "\n",
    "Properties of Python Dictionaries\n",
    "- It is unordered\n",
    "- It is mutable\n",
    "- It is indexed\n",
    "- It cannot contain duplicate keys\n",
    "\n",
    "Dictionary Methods\n",
    "Consider the following dictionary,\n",
    "\n",
    "a = {“name”: “Khursheed”,\n",
    "\t“from”: “Pakistan”,\n",
    "\t“marks”: [92,98,96]}\n",
    "    \n",
    "- items() : returns a list of (key,value) tuple.\n",
    "- keys() : returns a list containing dictionary’s keys.\n",
    "- update({“friend”: “Baqar”}) : updates the dictionary with supplied key-value pairs.\n",
    "- get(“name”) : returns the value of the specified keys (and value is returned e.g., “Khursheed” is returned here)"
   ]
  },
  {
   "cell_type": "code",
   "execution_count": 1,
   "id": "b16761c4",
   "metadata": {},
   "outputs": [],
   "source": [
    "# in traditional meaning\n",
    "# in dictionary there are two things 1) Key 2) value\n",
    "# example: \"Power: Authority\" here the meaning of power is authority\n",
    "# here \"Key = Power\" & \"Value = Authrity\"\n",
    "\n",
    "# Dictionary is a collection of key-Value pairs"
   ]
  },
  {
   "cell_type": "code",
   "execution_count": 2,
   "id": "3af4e13c",
   "metadata": {},
   "outputs": [
    {
     "name": "stdout",
     "output_type": "stream",
     "text": [
      "In a quick manner\n",
      "A Coder\n",
      "[1,2,5]\n"
     ]
    }
   ],
   "source": [
    "myDict={\n",
    "    \"Fast\": \"In a quick manner\",  # String\n",
    "    \"Khursheed\": \"A Coder\",       # String\n",
    "    \"Marks\": \"[1,2,5]\",           # List can also be the part\n",
    "}\n",
    "\n",
    "print(myDict['Fast'])\n",
    "print(myDict['Khursheed'])\n",
    "print(myDict['Marks'])"
   ]
  },
  {
   "cell_type": "code",
   "execution_count": 3,
   "id": "947e92fc",
   "metadata": {},
   "outputs": [
    {
     "name": "stdout",
     "output_type": "stream",
     "text": [
      "{'Khursheed': 'Player'}\n",
      "Player\n"
     ]
    }
   ],
   "source": [
    "# dictionary within dictionary\n",
    "myDict={\n",
    "    \"Fast\": \"In a quick manner\",  # String\n",
    "    \"Khursheed\": \"A Coder\",       # String\n",
    "    \"Marks\": \"[1,2,5]\",           # List can also be the part\n",
    "    \"anotherdic\": {'Khursheed': 'Player'} \n",
    "    #\"anotherdic2\": {'Khursheed': 'Player'}\n",
    "}\n",
    "\n",
    "print(myDict['anotherdic']) # dictionary within dictionary\n",
    "print(myDict['anotherdic']['Khursheed']) # Value of dict - Nested Dictionary"
   ]
  },
  {
   "cell_type": "code",
   "execution_count": 16,
   "id": "58201844",
   "metadata": {},
   "outputs": [],
   "source": [
    "# Properties of python dictionary\n",
    "# - It is unordered\n",
    "# - It is mutable\n",
    "# - It is indexed\n",
    "# - Cannot contain duplicated keyies"
   ]
  },
  {
   "cell_type": "code",
   "execution_count": 18,
   "id": "492502fc",
   "metadata": {},
   "outputs": [
    {
     "name": "stdout",
     "output_type": "stream",
     "text": [
      "[1,2,5]\n",
      "[45, 78]\n"
     ]
    }
   ],
   "source": [
    "# mutable\n",
    "\n",
    "print(myDict['Marks'])\n",
    "myDict['Marks'] = [45,78]\n",
    "print(myDict['Marks'])"
   ]
  },
  {
   "cell_type": "code",
   "execution_count": 6,
   "id": "b6b1c38b",
   "metadata": {},
   "outputs": [
    {
     "name": "stdout",
     "output_type": "stream",
     "text": [
      "{'fast': 'In a quick manner', 'khursheed': 'A Coder', 'marks': '[1,2,5]', 'anotherdic': {'Khursheed': 'Player'}, 1: 2}\n"
     ]
    }
   ],
   "source": [
    "# Numeric key:value combination\n",
    "myDict={\n",
    "    \"fast\": \"In a quick manner\",\n",
    "    \"khursheed\": \"A Coder\",\n",
    "    \"marks\": \"[1,2,5]\",\n",
    "    \"anotherdic\": {'Khursheed': 'Player'},\n",
    "    1:2 # it also a key:value combination (it is numeric so dont need \"\")\n",
    "}\n",
    "print(myDict)"
   ]
  },
  {
   "cell_type": "code",
   "execution_count": 7,
   "id": "39e2fa79",
   "metadata": {},
   "outputs": [
    {
     "name": "stdout",
     "output_type": "stream",
     "text": [
      "dict_keys(['fast', 'khursheed', 'marks', 'anotherdic', 1])\n"
     ]
    }
   ],
   "source": [
    "# Dictionary mehtods\n",
    "# Print all keys\n",
    "print(myDict.keys()) # Print all keys"
   ]
  },
  {
   "cell_type": "code",
   "execution_count": 8,
   "id": "ee2c8c19",
   "metadata": {},
   "outputs": [
    {
     "name": "stdout",
     "output_type": "stream",
     "text": [
      "dict_values(['In a quick manner', 'A Coder', '[1,2,5]', {'Khursheed': 'Player'}, 2])\n"
     ]
    }
   ],
   "source": [
    "# Print all values\n",
    "print(myDict.values()) # Print all values"
   ]
  },
  {
   "cell_type": "code",
   "execution_count": 9,
   "id": "783194de",
   "metadata": {},
   "outputs": [
    {
     "name": "stdout",
     "output_type": "stream",
     "text": [
      "dict_items([('fast', 'In a quick manner'), ('khursheed', 'A Coder'), ('marks', '[1,2,5]'), ('anotherdic', {'Khursheed': 'Player'}), (1, 2)])\n"
     ]
    }
   ],
   "source": [
    "#items complete dictionary (key, value pairs), return tuples\n",
    "print(myDict.items()) # items complete dictionary (key, value pairs), return tuples"
   ]
  },
  {
   "cell_type": "code",
   "execution_count": 13,
   "id": "54e146ee",
   "metadata": {},
   "outputs": [
    {
     "name": "stdout",
     "output_type": "stream",
     "text": [
      "<class 'dict_keys'>\n",
      "<class 'dict_values'>\n",
      "<class 'dict_items'>\n"
     ]
    }
   ],
   "source": [
    "# Print type\n",
    "print(type(myDict.keys())) # Print type\n",
    "print(type(myDict.values()))\n",
    "print(type(myDict.items()))"
   ]
  },
  {
   "cell_type": "code",
   "execution_count": 26,
   "id": "05217572",
   "metadata": {},
   "outputs": [],
   "source": [
    "# It is of type - dict-keys, but it can be converted to type-list"
   ]
  },
  {
   "cell_type": "code",
   "execution_count": 14,
   "id": "10d2bda2",
   "metadata": {},
   "outputs": [
    {
     "name": "stdout",
     "output_type": "stream",
     "text": [
      "['fast', 'khursheed', 'marks', 'anotherdic', 1]\n",
      "['In a quick manner', 'A Coder', '[1,2,5]', {'Khursheed': 'Player'}, 2]\n"
     ]
    }
   ],
   "source": [
    "# Change type (from dict-key to list)\n",
    "print(list(myDict.keys())) # convert to list type\n",
    "print(list(myDict.values())) # convert to list type"
   ]
  },
  {
   "cell_type": "code",
   "execution_count": 15,
   "id": "80a216b5",
   "metadata": {},
   "outputs": [
    {
     "name": "stdout",
     "output_type": "stream",
     "text": [
      "{'fast': 'In a quick manner', 'khursheed': 'A Coder', 'marks': '[1,2,5]', 'anotherdic': {'Waseem': 'Player'}, 1: 2}\n",
      "{'fast': 'In a quick manner', 'khursheed': 'The expert', 'marks': '[1,2,5]', 'anotherdic': {'Waseem': 'Player'}, 1: 2, 'Lovish': 'Friend', 'Asim': 'Good Friend', 'Love': 'Pakistan'}\n"
     ]
    }
   ],
   "source": [
    "# Update (add/append) dictionary by \"updateDict\"\n",
    "myDict={\n",
    "    \"fast\": \"In a quick manner\",\n",
    "    \"khursheed\": \"A Coder\",\n",
    "    \"marks\": \"[1,2,5]\",\n",
    "    \"anotherdic\": {'Waseem': 'Player'},\n",
    "    1:2\n",
    "}\n",
    "# Dictionary mehtods\n",
    "# Update dictionary by \"updateDict\"\n",
    "# It will add new key:value pair and modify existing key:value pair if needed\n",
    "  # e.g. Khursheed:The expert\n",
    "\n",
    "print(myDict)\n",
    "updateDict = {\n",
    "    \"Lovish\" : \"Friend\",\n",
    "    \"Asim\": \"Good Friend\",\n",
    "    \"Love\": \"Pakistan\",\n",
    "    \"khursheed\": \"The expert\"\n",
    "}\n",
    "myDict.update(updateDict)\n",
    "print(myDict)"
   ]
  },
  {
   "cell_type": "code",
   "execution_count": 17,
   "id": "6f51b1a2",
   "metadata": {},
   "outputs": [
    {
     "name": "stdout",
     "output_type": "stream",
     "text": [
      "The expert\n",
      "The expert\n"
     ]
    }
   ],
   "source": [
    "# print in two ways\n",
    "print(myDict[\"khursheed\"])\n",
    "print(myDict.get(\"khursheed\"))\n",
    "\n",
    "# The output of both commands are same. however, if the key is missing\n",
    "# myDict.get() returns non and\n",
    "# mydict[] returns error"
   ]
  },
  {
   "cell_type": "code",
   "execution_count": 18,
   "id": "15cb5e52",
   "metadata": {},
   "outputs": [
    {
     "name": "stdout",
     "output_type": "stream",
     "text": [
      "None\n"
     ]
    }
   ],
   "source": [
    "print(myDict.get(\"khursheed2\"))  # Returns None as Khursheed2 is not present in the dictionary"
   ]
  },
  {
   "cell_type": "code",
   "execution_count": 19,
   "id": "51f7e218",
   "metadata": {},
   "outputs": [
    {
     "ename": "KeyError",
     "evalue": "'khursheed2'",
     "output_type": "error",
     "traceback": [
      "\u001b[1;31m---------------------------------------------------------------------------\u001b[0m",
      "\u001b[1;31mKeyError\u001b[0m                                  Traceback (most recent call last)",
      "\u001b[1;32m~\\AppData\\Local\\Temp/ipykernel_10756/3335260132.py\u001b[0m in \u001b[0;36m<module>\u001b[1;34m\u001b[0m\n\u001b[1;32m----> 1\u001b[1;33m \u001b[0mprint\u001b[0m\u001b[1;33m(\u001b[0m\u001b[0mmyDict\u001b[0m\u001b[1;33m[\u001b[0m\u001b[1;34m\"khursheed2\"\u001b[0m\u001b[1;33m]\u001b[0m\u001b[1;33m)\u001b[0m \u001b[1;31m# Throws an error as Khursheed2 is not present in the dictionary\u001b[0m\u001b[1;33m\u001b[0m\u001b[1;33m\u001b[0m\u001b[0m\n\u001b[0m",
      "\u001b[1;31mKeyError\u001b[0m: 'khursheed2'"
     ]
    }
   ],
   "source": [
    "print(myDict[\"khursheed2\"]) # Throws an error as Khursheed2 is not present in the dictionary"
   ]
  },
  {
   "cell_type": "markdown",
   "id": "f3b01f5b",
   "metadata": {},
   "source": [
    "# Sets\n",
    "\n",
    "Set is a collection of non-repetitive elements.\n",
    "\n",
    "- S= Set()          # No repetition allowed!\n",
    "- S.add(1)\n",
    "- S.add(2)\n",
    "- or Set = {1,2}\n",
    "\n",
    "- you can simply look at sets in python as data types containing unique values.\n",
    "\n",
    "## Properties of Sets\n",
    "\n",
    "- Sets are unordered # Elements order doesn’t matter\n",
    "- Sets are unindexed # Cannot access elements by index\n",
    "- There is no way to change items in sets\n",
    "- Sets cannot contain duplicate values\n",
    "\n",
    "## Operations on Sets\n",
    "Consider the following set:\n",
    "\n",
    "S = {1,8,2,3}\n",
    "\n",
    "- Len(s) : Returns 4, the length of the set\n",
    "- remove(8) : Updates the set S and removes 8 from S\n",
    "- pop() : Removes an arbitrary element from the set and returns the element removed.\n",
    "- clear() : Empties the set S\n",
    "- union({8, 11}) : Returns a new set with all items from both sets. #{1,8,2,3,11}\n",
    "- intersection({8, 11}) : Returns a set which contains only items in both sets. #{8}"
   ]
  },
  {
   "cell_type": "code",
   "execution_count": 1,
   "id": "fb5fff57",
   "metadata": {},
   "outputs": [],
   "source": [
    "# Set is a collection of non-repetative elements\n",
    "# If there are reptitves items in a set it shows it only once"
   ]
  },
  {
   "cell_type": "code",
   "execution_count": 20,
   "id": "cf7390f4",
   "metadata": {},
   "outputs": [
    {
     "name": "stdout",
     "output_type": "stream",
     "text": [
      "<class 'set'>\n",
      "{1, 3, 4, 5}\n"
     ]
    }
   ],
   "source": [
    "# type\n",
    "a={1,3,4,5}\n",
    "print(type(a)) # it shows the class set\n",
    "print(a)"
   ]
  },
  {
   "cell_type": "code",
   "execution_count": 21,
   "id": "0321b57d",
   "metadata": {},
   "outputs": [
    {
     "name": "stdout",
     "output_type": "stream",
     "text": [
      "{1, 3, 4, 5}\n"
     ]
    }
   ],
   "source": [
    "# Non reptive items\n",
    "a={1,3,4,5,1}\n",
    "print(a) # you can see that in the output only single one is present \n",
    "         # and in the input there are two times ones\n",
    "         # Set does not contain repetive items"
   ]
  },
  {
   "cell_type": "code",
   "execution_count": 4,
   "id": "7efe6a3a",
   "metadata": {},
   "outputs": [
    {
     "name": "stdout",
     "output_type": "stream",
     "text": [
      "<class 'dict'>\n"
     ]
    }
   ],
   "source": [
    "# Empty set wrong method\n",
    "# If you write a={} to make a empty set\n",
    "# it will consider as Dictionary. it will not be an empty set\n",
    "# Following syntax will create an empty dictionary and not an empty set\n",
    "a={}  # it will be considered as dictionary not set\n",
    "print(type(a))"
   ]
  },
  {
   "cell_type": "code",
   "execution_count": 22,
   "id": "90d8e0b7",
   "metadata": {},
   "outputs": [
    {
     "name": "stdout",
     "output_type": "stream",
     "text": [
      "<class 'set'>\n",
      "{4, 5}\n"
     ]
    }
   ],
   "source": [
    "# Empty set creating method (Correct method)\n",
    "# An empty set can created using the below sytax\n",
    "b=set()\n",
    "print(type(b))\n",
    "\n",
    "b.add(4)\n",
    "b.add(5)\n",
    "b.add(5)\n",
    "b.add(5)\n",
    "print(b)   \n",
    "# it does not add 5 (3) times as it is the collection of non repetive items"
   ]
  },
  {
   "cell_type": "code",
   "execution_count": 23,
   "id": "40572e18",
   "metadata": {},
   "outputs": [
    {
     "ename": "TypeError",
     "evalue": "unhashable type: 'list'",
     "output_type": "error",
     "traceback": [
      "\u001b[1;31m---------------------------------------------------------------------------\u001b[0m",
      "\u001b[1;31mTypeError\u001b[0m                                 Traceback (most recent call last)",
      "\u001b[1;32m~\\AppData\\Local\\Temp/ipykernel_10756/1165972452.py\u001b[0m in \u001b[0;36m<module>\u001b[1;34m\u001b[0m\n\u001b[0;32m      3\u001b[0m \u001b[1;31m# But Tuple can be added\u001b[0m\u001b[1;33m\u001b[0m\u001b[1;33m\u001b[0m\u001b[0m\n\u001b[0;32m      4\u001b[0m \u001b[1;33m\u001b[0m\u001b[0m\n\u001b[1;32m----> 5\u001b[1;33m \u001b[0mb\u001b[0m\u001b[1;33m.\u001b[0m\u001b[0madd\u001b[0m\u001b[1;33m(\u001b[0m\u001b[1;33m[\u001b[0m\u001b[1;36m4\u001b[0m\u001b[1;33m,\u001b[0m \u001b[1;36m5\u001b[0m\u001b[1;33m,\u001b[0m \u001b[1;36m6\u001b[0m\u001b[1;33m]\u001b[0m\u001b[1;33m)\u001b[0m \u001b[1;31m# List can not be added in the content of set()\u001b[0m\u001b[1;33m\u001b[0m\u001b[1;33m\u001b[0m\u001b[0m\n\u001b[0m\u001b[0;32m      6\u001b[0m \u001b[0mprint\u001b[0m\u001b[1;33m(\u001b[0m\u001b[0mb\u001b[0m\u001b[1;33m)\u001b[0m\u001b[1;33m\u001b[0m\u001b[1;33m\u001b[0m\u001b[0m\n",
      "\u001b[1;31mTypeError\u001b[0m: unhashable type: 'list'"
     ]
    }
   ],
   "source": [
    "# List can not be added in the content of set() \n",
    "# because content of list can be modified after some time \n",
    "# But Tuple can be added\n",
    "\n",
    "b.add([4, 5, 6]) # List can not be added in the content of set()\n",
    "print(b)"
   ]
  },
  {
   "cell_type": "code",
   "execution_count": 24,
   "id": "dc3989ac",
   "metadata": {},
   "outputs": [
    {
     "name": "stdout",
     "output_type": "stream",
     "text": [
      "{4, 5, (4, 5, 6)}\n"
     ]
    }
   ],
   "source": [
    "b.add((4, 5, 6)) # Tuples can be added\n",
    "print(b)"
   ]
  },
  {
   "cell_type": "code",
   "execution_count": 25,
   "id": "eb8e16f7",
   "metadata": {},
   "outputs": [
    {
     "ename": "TypeError",
     "evalue": "unhashable type: 'dict'",
     "output_type": "error",
     "traceback": [
      "\u001b[1;31m---------------------------------------------------------------------------\u001b[0m",
      "\u001b[1;31mTypeError\u001b[0m                                 Traceback (most recent call last)",
      "\u001b[1;32m~\\AppData\\Local\\Temp/ipykernel_10756/1590400766.py\u001b[0m in \u001b[0;36m<module>\u001b[1;34m\u001b[0m\n\u001b[0;32m      2\u001b[0m \u001b[1;31m# because content of dictionary can be modified / hasable after some time\u001b[0m\u001b[1;33m\u001b[0m\u001b[1;33m\u001b[0m\u001b[0m\n\u001b[0;32m      3\u001b[0m \u001b[1;33m\u001b[0m\u001b[0m\n\u001b[1;32m----> 4\u001b[1;33m \u001b[0mb\u001b[0m\u001b[1;33m.\u001b[0m\u001b[0madd\u001b[0m\u001b[1;33m(\u001b[0m\u001b[1;33m{\u001b[0m\u001b[1;36m4\u001b[0m\u001b[1;33m:\u001b[0m\u001b[1;36m5\u001b[0m\u001b[1;33m}\u001b[0m\u001b[1;33m)\u001b[0m \u001b[1;31m# cannot add list or dictionary to set\u001b[0m\u001b[1;33m\u001b[0m\u001b[1;33m\u001b[0m\u001b[0m\n\u001b[0m\u001b[0;32m      5\u001b[0m \u001b[0mprint\u001b[0m\u001b[1;33m(\u001b[0m\u001b[0mb\u001b[0m\u001b[1;33m)\u001b[0m\u001b[1;33m\u001b[0m\u001b[1;33m\u001b[0m\u001b[0m\n",
      "\u001b[1;31mTypeError\u001b[0m: unhashable type: 'dict'"
     ]
    }
   ],
   "source": [
    "# Dictionary can not be added in the content of set() \n",
    "# because content of dictionary can be modified / hasable after some time\n",
    "\n",
    "b.add({4:5}) # cannot add list or dictionary to set\n",
    "print(b)"
   ]
  },
  {
   "cell_type": "code",
   "execution_count": 26,
   "id": "e982a28d",
   "metadata": {},
   "outputs": [],
   "source": [
    " # Properties of set\n",
    "\n",
    "# Sets are unordered\n",
    "# Sets are unindexed\n",
    "# Set cannot contain duplicate items"
   ]
  },
  {
   "cell_type": "code",
   "execution_count": 28,
   "id": "77a72b9d",
   "metadata": {},
   "outputs": [
    {
     "name": "stdout",
     "output_type": "stream",
     "text": [
      "{1, 3, 4, 5}\n",
      "{1, 3, 4, 5, 6}\n",
      "{1, 3, 4, 6}\n",
      "4\n"
     ]
    }
   ],
   "source": [
    "# methods \n",
    "b={1,3,4,5}\n",
    "print(b)\n",
    "\n",
    "b.add(6) # Addition in sets\n",
    "print(b)\n",
    "\n",
    "b.remove(5) # removal in sets\n",
    "print(b)\n",
    "\n",
    "print(len(b)) # print length of set"
   ]
  },
  {
   "cell_type": "code",
   "execution_count": 29,
   "id": "4069c99d",
   "metadata": {},
   "outputs": [
    {
     "ename": "KeyError",
     "evalue": "15",
     "output_type": "error",
     "traceback": [
      "\u001b[1;31m---------------------------------------------------------------------------\u001b[0m",
      "\u001b[1;31mKeyError\u001b[0m                                  Traceback (most recent call last)",
      "\u001b[1;32m~\\AppData\\Local\\Temp/ipykernel_10756/2297277405.py\u001b[0m in \u001b[0;36m<module>\u001b[1;34m\u001b[0m\n\u001b[1;32m----> 1\u001b[1;33m \u001b[0mb\u001b[0m\u001b[1;33m.\u001b[0m\u001b[0mremove\u001b[0m\u001b[1;33m(\u001b[0m\u001b[1;36m15\u001b[0m\u001b[1;33m)\u001b[0m \u001b[1;31m# throws an error while trying to remove an item which not present in set\u001b[0m\u001b[1;33m\u001b[0m\u001b[1;33m\u001b[0m\u001b[0m\n\u001b[0m\u001b[0;32m      2\u001b[0m \u001b[0mprint\u001b[0m\u001b[1;33m(\u001b[0m\u001b[0mb\u001b[0m\u001b[1;33m)\u001b[0m\u001b[1;33m\u001b[0m\u001b[1;33m\u001b[0m\u001b[0m\n",
      "\u001b[1;31mKeyError\u001b[0m: 15"
     ]
    }
   ],
   "source": [
    "b.remove(15) # throws an error while trying to remove an item which not present in set\n",
    "print(b)"
   ]
  },
  {
   "cell_type": "code",
   "execution_count": 30,
   "id": "66781369",
   "metadata": {},
   "outputs": [
    {
     "name": "stdout",
     "output_type": "stream",
     "text": [
      "{1, 3, 4, 5}\n",
      "{3, 4, 5}\n"
     ]
    }
   ],
   "source": [
    "# pop \n",
    "# Randomly remove value from set \n",
    "b={1,3,4,5}\n",
    "print(b)\n",
    "\n",
    "b.pop()\n",
    "print(b)\n"
   ]
  },
  {
   "cell_type": "code",
   "execution_count": 31,
   "id": "d2a8cb22",
   "metadata": {},
   "outputs": [
    {
     "name": "stdout",
     "output_type": "stream",
     "text": [
      "set()\n"
     ]
    }
   ],
   "source": [
    "# s.clear() # empties the set S\n",
    "s = {1,8,2,3}\n",
    "s.clear()\n",
    "print(s)"
   ]
  },
  {
   "cell_type": "code",
   "execution_count": 32,
   "id": "2ac2c417",
   "metadata": {},
   "outputs": [
    {
     "name": "stdout",
     "output_type": "stream",
     "text": [
      "{1, 2, 3, 8, 11}\n"
     ]
    }
   ],
   "source": [
    "# s.union({8,11}) # return new set with all item from both sets\n",
    "s = {1,8,2,3}\n",
    "b = s.union({8,11})\n",
    "print(b)"
   ]
  },
  {
   "cell_type": "code",
   "execution_count": 19,
   "id": "d3e222c0",
   "metadata": {},
   "outputs": [
    {
     "name": "stdout",
     "output_type": "stream",
     "text": [
      "{8}\n"
     ]
    }
   ],
   "source": [
    "# s.intersection({8,11}) # return a set which contains only item in both sets\n",
    "s = {1,8,2,3}\n",
    "b = s.intersection({8,11})\n",
    "print(b)"
   ]
  },
  {
   "cell_type": "markdown",
   "id": "e3bdc680",
   "metadata": {},
   "source": [
    "## Practice\n",
    "Practice Set\n",
    "- Write a program to create a dictionary of urdu words with values as their English translation. Provide the user with an option to look it up!\n",
    "- Write a program to input eight numbers from the user and display all the unique numbers (once).\n",
    "- Can we have a set with 18(int) and “18”(str) as a value in it?\n",
    "- What will be the length of the following set S:"
   ]
  },
  {
   "cell_type": "code",
   "execution_count": 34,
   "id": "b9beaf75",
   "metadata": {},
   "outputs": [
    {
     "name": "stdout",
     "output_type": "stream",
     "text": [
      "Options are  dict_keys(['Pankha', 'Dabba', 'Cheese'])\n",
      "enter the urdu word\n",
      "Dabba\n",
      "The meaning of your word is:  Box\n"
     ]
    }
   ],
   "source": [
    "# Q1. Write a program to create a dictionary of urdu words with values as \n",
    "# their English translation. Provide the user with an option to look it up!\n",
    "myDict = {\n",
    "    \"Pankha\":\"Fan\",\n",
    "    \"Dabba\":\"Box\",\n",
    "    \"Cheese\":\"Item\"\n",
    "}\n",
    "print(\"Options are \", myDict.keys())\n",
    "a=input(\"enter the urdu word\\n\")\n",
    "print(\"The meaning of your word is: \", myDict[a])"
   ]
  },
  {
   "cell_type": "code",
   "execution_count": 35,
   "id": "526f0413",
   "metadata": {},
   "outputs": [
    {
     "name": "stdout",
     "output_type": "stream",
     "text": [
      "Options are  dict_keys(['Pankha', 'Dabba', 'Cheese'])\n",
      "enter the urdu word\n",
      "pan\n"
     ]
    },
    {
     "ename": "KeyError",
     "evalue": "'pan'",
     "output_type": "error",
     "traceback": [
      "\u001b[1;31m---------------------------------------------------------------------------\u001b[0m",
      "\u001b[1;31mKeyError\u001b[0m                                  Traceback (most recent call last)",
      "\u001b[1;32m~\\AppData\\Local\\Temp/ipykernel_10756/4124828030.py\u001b[0m in \u001b[0;36m<module>\u001b[1;34m\u001b[0m\n\u001b[0;32m      8\u001b[0m \u001b[0mprint\u001b[0m\u001b[1;33m(\u001b[0m\u001b[1;34m\"Options are \"\u001b[0m\u001b[1;33m,\u001b[0m \u001b[0mmyDict\u001b[0m\u001b[1;33m.\u001b[0m\u001b[0mkeys\u001b[0m\u001b[1;33m(\u001b[0m\u001b[1;33m)\u001b[0m\u001b[1;33m)\u001b[0m\u001b[1;33m\u001b[0m\u001b[1;33m\u001b[0m\u001b[0m\n\u001b[0;32m      9\u001b[0m \u001b[0ma\u001b[0m\u001b[1;33m=\u001b[0m\u001b[0minput\u001b[0m\u001b[1;33m(\u001b[0m\u001b[1;34m\"enter the urdu word\\n\"\u001b[0m\u001b[1;33m)\u001b[0m\u001b[1;33m\u001b[0m\u001b[1;33m\u001b[0m\u001b[0m\n\u001b[1;32m---> 10\u001b[1;33m \u001b[0mprint\u001b[0m\u001b[1;33m(\u001b[0m\u001b[1;34m\"The meaning of your word is: \"\u001b[0m\u001b[1;33m,\u001b[0m \u001b[0mmyDict\u001b[0m\u001b[1;33m[\u001b[0m\u001b[0ma\u001b[0m\u001b[1;33m]\u001b[0m\u001b[1;33m)\u001b[0m\u001b[1;33m\u001b[0m\u001b[1;33m\u001b[0m\u001b[0m\n\u001b[0m",
      "\u001b[1;31mKeyError\u001b[0m: 'pan'"
     ]
    }
   ],
   "source": [
    "# This is copy of upper command\n",
    "# it will throw an error if someone type wrong word, for instance it type pen\n",
    "myDict = {\n",
    "    \"Pankha\":\"Fan\",\n",
    "    \"Dabba\":\"Box\",\n",
    "    \"Cheese\":\"Item\"\n",
    "}\n",
    "print(\"Options are \", myDict.keys())\n",
    "a=input(\"enter the urdu word\\n\")\n",
    "print(\"The meaning of your word is: \", myDict[a])"
   ]
  },
  {
   "cell_type": "code",
   "execution_count": 36,
   "id": "d35d28b6",
   "metadata": {},
   "outputs": [
    {
     "name": "stdout",
     "output_type": "stream",
     "text": [
      "Options are  dict_keys(['Pankha', 'Dabba', 'Cheese'])\n",
      "enter the urdu word\n",
      "pen\n",
      "The meaning of your word is:  None\n"
     ]
    }
   ],
   "source": [
    "# To avoid the above error use (.get) we can use the following command\n",
    "# it will not throw an error if wrong word will be typed\n",
    "myDict = {\n",
    "    \"Pankha\":\"Fan\",\n",
    "    \"Dabba\":\"Box\",\n",
    "    \"Cheese\":\"Item\"\n",
    "}\n",
    "print(\"Options are \", myDict.keys())\n",
    "a=input(\"enter the urdu word\\n\")\n",
    "# print(\"The meaning of your word is: \", myDict[a])\n",
    "# Below line will not throw an error if the key is not present in dictionary\n",
    "print(\"The meaning of your word is: \", myDict.get(a))"
   ]
  },
  {
   "cell_type": "code",
   "execution_count": 37,
   "id": "837b07c9",
   "metadata": {},
   "outputs": [
    {
     "name": "stdout",
     "output_type": "stream",
     "text": [
      "Enter number 1\n",
      "98\n",
      "Enter number 2\n",
      "99\n",
      "Enter number 3\n",
      "99\n",
      "Enter number 4\n",
      "87\n",
      "Enter number 5\n",
      "88\n",
      "Enter number 6\n",
      "88\n",
      "Enter number 7\n",
      "94\n",
      "Enter number 8\n",
      "97\n",
      "{97, 98, 99, 87, 88, 94}\n"
     ]
    }
   ],
   "source": [
    "# Q2. Write a program to input eight numbers from the user and display \n",
    "# all the unique numbers (once).\n",
    "\n",
    "# if we take input by using input command it will be a string\n",
    "# to convert it we must use int or float before it\n",
    "\n",
    "num1 = int(input(\"Enter number 1\\n\"))\n",
    "num2 = int(input(\"Enter number 2\\n\"))\n",
    "num3 = int(input(\"Enter number 3\\n\"))\n",
    "num4 = int(input(\"Enter number 4\\n\"))\n",
    "num5 = int(input(\"Enter number 5\\n\"))\n",
    "num6 = int(input(\"Enter number 6\\n\"))\n",
    "num7 = int(input(\"Enter number 7\\n\"))\n",
    "num8 = int(input(\"Enter number 8\\n\"))\n",
    "\n",
    "# combine all in a set\n",
    "s={num1,num2,num3,num4,num5,num6,num7,num8}\n",
    "print(s)"
   ]
  },
  {
   "cell_type": "code",
   "execution_count": 25,
   "id": "c3486e76",
   "metadata": {},
   "outputs": [],
   "source": [
    "# in the above repitive items are not printed as it is not allowed in the set"
   ]
  },
  {
   "cell_type": "code",
   "execution_count": 38,
   "id": "00a10fd2",
   "metadata": {},
   "outputs": [
    {
     "name": "stdout",
     "output_type": "stream",
     "text": [
      "{'17', 18.1, 14}\n"
     ]
    }
   ],
   "source": [
    "# Q3. Can we have a set with 14(int) and “17”(str) and 18.1 (float) as a \n",
    "# value in it?\n",
    "\n",
    "s={14,\"17\",18.1}\n",
    "print(s) # for python all three things are different int,string,flot"
   ]
  },
  {
   "cell_type": "code",
   "execution_count": 39,
   "id": "cf805ead",
   "metadata": {},
   "outputs": [
    {
     "name": "stdout",
     "output_type": "stream",
     "text": [
      "{20, '20'}\n",
      "2\n"
     ]
    }
   ],
   "source": [
    "# Q5. What will be the length of the following set S:\n",
    "s={20, 20.0, \"20\"}\n",
    "print(s)\n",
    "print(len(s)) # length of set is 2 instead of 3. \n",
    "# because set count 20 and 20.0 as one value and repitition is not allowed in sets"
   ]
  },
  {
   "cell_type": "code",
   "execution_count": 40,
   "id": "8294564f",
   "metadata": {},
   "outputs": [
    {
     "name": "stdout",
     "output_type": "stream",
     "text": [
      "<class 'dict'>\n"
     ]
    }
   ],
   "source": [
    "s={}\n",
    "print(type(s))  # it the way we define empty dictionary"
   ]
  },
  {
   "cell_type": "code",
   "execution_count": 41,
   "id": "e7f21eb3",
   "metadata": {},
   "outputs": [
    {
     "name": "stdout",
     "output_type": "stream",
     "text": [
      "Enter your favorite language Ahmed\n",
      "bbb\n",
      "Enter your favorite language Waseem\n",
      "ccc\n",
      "Enter your favorite language Kazim\n",
      "ddd\n",
      "Enter your favorite language Jawad\n",
      "eee\n",
      "{'Ahmed': 'bbb', 'Waseem': 'ccc', 'Kazim': 'ddd', 'Jawad': 'eee'}\n"
     ]
    }
   ],
   "source": [
    "favLang = {}\n",
    "a = input(\"Enter your favorite language Ahmed\\n\")\n",
    "b = input(\"Enter your favorite language Waseem\\n\")\n",
    "c = input(\"Enter your favorite language Kazim\\n\")\n",
    "d = input(\"Enter your favorite language Jawad\\n\")\n",
    "\n",
    "favLang['Ahmed'] = a\n",
    "favLang['Waseem'] = b\n",
    "favLang['Kazim'] = c\n",
    "favLang['Jawad'] = d\n",
    "\n",
    "print(favLang)"
   ]
  },
  {
   "cell_type": "code",
   "execution_count": 45,
   "id": "ad905c55",
   "metadata": {},
   "outputs": [
    {
     "ename": "TypeError",
     "evalue": "unhashable type: 'list'",
     "output_type": "error",
     "traceback": [
      "\u001b[1;31m---------------------------------------------------------------------------\u001b[0m",
      "\u001b[1;31mTypeError\u001b[0m                                 Traceback (most recent call last)",
      "\u001b[1;32m~\\AppData\\Local\\Temp/ipykernel_10756/4095572230.py\u001b[0m in \u001b[0;36m<module>\u001b[1;34m\u001b[0m\n\u001b[0;32m      2\u001b[0m \u001b[1;31m# Ans: It is imposible\u001b[0m\u001b[1;33m\u001b[0m\u001b[1;33m\u001b[0m\u001b[0m\n\u001b[0;32m      3\u001b[0m \u001b[1;31m# List can not be the part of set because list is mutable\u001b[0m\u001b[1;33m\u001b[0m\u001b[1;33m\u001b[0m\u001b[0m\n\u001b[1;32m----> 4\u001b[1;33m \u001b[0ms\u001b[0m\u001b[1;33m=\u001b[0m \u001b[1;33m{\u001b[0m\u001b[1;36m8\u001b[0m\u001b[1;33m,\u001b[0m\u001b[1;36m7\u001b[0m\u001b[1;33m,\u001b[0m\u001b[1;36m12\u001b[0m\u001b[1;33m,\u001b[0m\u001b[1;34m\"Harry\"\u001b[0m\u001b[1;33m,\u001b[0m \u001b[1;33m[\u001b[0m\u001b[1;36m1\u001b[0m\u001b[1;33m,\u001b[0m\u001b[1;36m2\u001b[0m\u001b[1;33m]\u001b[0m\u001b[1;33m}\u001b[0m\u001b[1;33m\u001b[0m\u001b[1;33m\u001b[0m\u001b[0m\n\u001b[0m\u001b[0;32m      5\u001b[0m \u001b[1;31m# it shows the following error\u001b[0m\u001b[1;33m\u001b[0m\u001b[1;33m\u001b[0m\u001b[0m\n",
      "\u001b[1;31mTypeError\u001b[0m: unhashable type: 'list'"
     ]
    }
   ],
   "source": [
    "# Can you change the values inside a list which is contained in set S\n",
    "# Ans: It is imposible\n",
    "# List can not be the part of set because list is mutable\n",
    "s= {8,7,12,\"Harry\", [1,2]}\n",
    "# it shows the following error"
   ]
  },
  {
   "cell_type": "code",
   "execution_count": null,
   "id": "f8b20b80",
   "metadata": {},
   "outputs": [],
   "source": []
  }
 ],
 "metadata": {
  "kernelspec": {
   "display_name": "Python 3",
   "language": "python",
   "name": "python3"
  },
  "language_info": {
   "codemirror_mode": {
    "name": "ipython",
    "version": 3
   },
   "file_extension": ".py",
   "mimetype": "text/x-python",
   "name": "python",
   "nbconvert_exporter": "python",
   "pygments_lexer": "ipython3",
   "version": "3.8.8"
  }
 },
 "nbformat": 4,
 "nbformat_minor": 5
}
