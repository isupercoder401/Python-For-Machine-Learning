{
 "cells": [
  {
   "cell_type": "markdown",
   "id": "ec9e4696",
   "metadata": {},
   "source": [
    "## File I/O\n",
    "- The random access memory is volatile, and all its contents are lost once a program terminates.\n",
    "\n",
    "- In order to persist the data forever, we use files.\n",
    "\n",
    "- A file is data stored in a storage device. A python program can talk to the file by reading content from it and writing content to it.\n",
    "SuPRerSekiet\n",
    "https://send.cm/a/6L3\n",
    "\n"
   ]
  },
  {
   "cell_type": "markdown",
   "id": "c4b973cc",
   "metadata": {},
   "source": [
    "## Types of Files\n",
    "\n",
    "There are 2 types of files:\n",
    "\n",
    "- Text files (.txt, .c, etc)\n",
    "- Binary files (.jpg, .dat, etc)\n",
    "- Python has a lot of functions for reading, updating, and deleting files."
   ]
  },
  {
   "cell_type": "markdown",
   "id": "19639f50",
   "metadata": {},
   "source": [
    "## Opening a file\n",
    "\n",
    "Python has an open() function for opening files. It takes 2 parameters: filename and mode.\n",
    "\n",
    "- open(“this.txt”, “r”)\n",
    "- Here, “this” is the file name and “r” is the mode of opening (read mode)\n",
    "\n",
    "## Reading a file in Python\n",
    "\n",
    "- f = open(“this.txt”, “r”)     #Opens the file in r mode\n",
    "- text = f.read()          #Read its content\n",
    "- print(text)     #Print its contents\n",
    "- f.close()         #Close the fie\n",
    "\n",
    "We can also specify the number of characters in read() function:\n",
    "\n",
    "f.read(2)       #Reads first 2 characters\n",
    "\n"
   ]
  },
  {
   "cell_type": "code",
   "execution_count": 1,
   "id": "82e8ca2c",
   "metadata": {},
   "outputs": [
    {
     "name": "stdout",
     "output_type": "stream",
     "text": [
      "$%^@$^#\n"
     ]
    }
   ],
   "source": [
    "# Use open function to read the content of a file!\n",
    "f = open('sample.txt','r') \n",
    "data = f.read() \n",
    "print(data)\n",
    "f.close()"
   ]
  },
  {
   "cell_type": "code",
   "execution_count": 2,
   "id": "0db928e6",
   "metadata": {},
   "outputs": [
    {
     "name": "stdout",
     "output_type": "stream",
     "text": [
      "Khurs\n"
     ]
    }
   ],
   "source": [
    "# Use open function to read the content of a file!\n",
    "# f = open('sample.txt', 'r')\n",
    "f = open('sample.txt') # by default the mode is r\n",
    "# data = f.read()\n",
    "data = f.read(5) # reads first 5 characters from the file\n",
    "print(data)\n",
    "f.close()"
   ]
  },
  {
   "cell_type": "markdown",
   "id": "079d54ad",
   "metadata": {},
   "source": [
    "## Other methods to read the file\n",
    "We can also use f.readline() function to read one full line at a time.\n",
    "\n",
    "f.readline() #Reads one line from the file"
   ]
  },
  {
   "cell_type": "code",
   "execution_count": 4,
   "id": "97351d4d",
   "metadata": {},
   "outputs": [
    {
     "name": "stdout",
     "output_type": "stream",
     "text": [
      "Khursheed is a good officer\n",
      "\n",
      "He works in AITeC\n",
      "\n",
      "His designation is General Manager\n",
      "\n"
     ]
    }
   ],
   "source": [
    "f = open('sample.txt')\n",
    "# read first line\n",
    "data = f.readline() \n",
    "print(data)\n",
    "\n",
    "# Read second line\n",
    "data = f.readline() \n",
    "print(data)\n",
    "\n",
    "# Read third line\n",
    "data = f.readline() \n",
    "print(data)\n",
    "\n",
    "# Read fourth line... and so on...\n",
    "# data = f.readline() \n",
    "# print(data)\n",
    "f.close()"
   ]
  },
  {
   "cell_type": "markdown",
   "id": "26e218de",
   "metadata": {},
   "source": [
    "## Modes of opening a file\n",
    "\n",
    "- r – open for reading\n",
    "- w – open for writing\n",
    "- a – open for appending\n",
    "- \"+\" – open  for updating (read and write both)\n",
    "- ‘rb’ will open for read in binary mode\n",
    "- ‘rt’ will open for read in text mode"
   ]
  },
  {
   "cell_type": "markdown",
   "id": "b2eb6367",
   "metadata": {},
   "source": [
    "## Writing Files in Python\n",
    "\n",
    "In order to write to a file, we first open it in write or append mode, after which, we use the python’s f.write() method to write to the file!\n",
    "\n",
    "- f = open(“this.txt”, “w”)\n",
    "- f.write(“This is nice”)        #Can be called multiple times\n",
    "- f.close()\n",
    "\n"
   ]
  },
  {
   "cell_type": "code",
   "execution_count": 5,
   "id": "48b1ce17",
   "metadata": {},
   "outputs": [],
   "source": [
    "f = open('another.txt', 'w') # if the file is not present, it will be created\n",
    "f.write(\"I am writing\") \n",
    "f.close()"
   ]
  },
  {
   "cell_type": "code",
   "execution_count": 6,
   "id": "b62e4383",
   "metadata": {},
   "outputs": [],
   "source": [
    "f = open('another.txt', 'a') # if the file is not present, it will be created\n",
    "f.write(\"I am appending\") # If you write this command multiple times it append multiple time\n",
    "f.close()\n",
    "\n",
    "# Difference beteween write mode and append mode is that\n",
    "\n",
    "# Write mode: It will create the file if not present. if it already exsit it will \n",
    "              # clear the content and new content will be added.\n",
    "\n",
    "# Append mode: It will append the content in the existing file"
   ]
  },
  {
   "cell_type": "code",
   "execution_count": 7,
   "id": "9c53ea83",
   "metadata": {},
   "outputs": [],
   "source": [
    "f = open('another2.txt', 'w') # if the file is not present, it will be created\n",
    "f.write(\"I am Writing\") \n",
    "f.write(\"I am Writing\")\n",
    "f.write(\"I am Writing\")\n",
    "f.write(\"I am Writing\") # it will write 4 times because file is not closed\n",
    "f.close()"
   ]
  },
  {
   "cell_type": "markdown",
   "id": "3e18383f",
   "metadata": {},
   "source": [
    "## With statement\n",
    "\n",
    "- The best way to open and close the file automatically is the “with” statement.\n",
    "- with open(“this.txt”) as f:\n",
    "- f.read()\n",
    "#There is no need to write f.close() as it is done automatically"
   ]
  },
  {
   "cell_type": "code",
   "execution_count": 12,
   "id": "a9bdc5b8",
   "metadata": {},
   "outputs": [
    {
     "name": "stdout",
     "output_type": "stream",
     "text": [
      "me fklsdjf kljflkdfj\n"
     ]
    }
   ],
   "source": [
    "with open('another2.txt', 'r') as f:  # There is no need of file closing\n",
    "    a = f.read()\n",
    "# with open('another2.txt', 'w') as f:\n",
    "  #  a = f.write(\"me\")\n",
    "print(a)"
   ]
  },
  {
   "cell_type": "code",
   "execution_count": 13,
   "id": "1ca83954",
   "metadata": {},
   "outputs": [],
   "source": [
    " with open('another2.txt', 'w') as f:\n",
    "    a = f.write(\"me\")\n",
    "# You can see that the file will be written by \"me\" -rewrite - old clear"
   ]
  },
  {
   "cell_type": "code",
   "execution_count": 14,
   "id": "5dd36aca",
   "metadata": {},
   "outputs": [
    {
     "name": "stdout",
     "output_type": "stream",
     "text": [
      "me\n"
     ]
    }
   ],
   "source": [
    "with open('another2.txt', 'r') as f:  # There is no need of file closing\n",
    "    a = f.read()\n",
    "print(a)"
   ]
  },
  {
   "cell_type": "markdown",
   "id": "3c39988e",
   "metadata": {},
   "source": [
    "## Practice Set\n",
    "- Write a program to read the text from a given file, “poems.txt” and find out whether it contains the word ‘twinkle’.\n",
    "- The game() function in a program lets a user play a game and returns the score as an integer. You need to read a file “Hiscore.txt” which is either blank or contains the previous Hi-score. You need to write a program to update the Hi-score whenever game() breaks the Hi-Score.\n",
    "- Write a program to generate multiplication tables from 2 to 20 and write it to the different files. Place these files in a folder for a 13- year old boy.\n",
    "A file contains the word “Donkey” multiple times. You need to write a program which replaces this word with ###### by updating the same file.\n",
    "- Repeat program 4 for a list of such words to be censored.\n",
    "- Write a program to mine a log file and find out whether it contains ‘python’.\n",
    "- Write a program to find out the line number where python is present from question 6.\n",
    "- Write a program to make a copy of a text file “this.txt.”\n",
    "- Write a program to find out whether a file is identical and matches the content of another file.\n",
    "- Write a program to wipe out the contents of a file using python.\n",
    "- Write a python program to rename a file to “renamed_by_python.txt.”\n",
    "\n",
    "\"-----------------------------------------------------------------\""
   ]
  },
  {
   "cell_type": "markdown",
   "id": "30f179b8",
   "metadata": {},
   "source": [
    "- Write a program to read the text from a given file, “poems.txt” and find out whether it contains the word ‘twinkle’."
   ]
  },
  {
   "cell_type": "code",
   "execution_count": 20,
   "id": "46778a62",
   "metadata": {},
   "outputs": [],
   "source": [
    "with open('poems.txt', 'w') as f:\n",
    "    a = f.write(\"Twinkle Twinkle littile Star, How I wonder you are\")"
   ]
  },
  {
   "cell_type": "code",
   "execution_count": 23,
   "id": "fb60c343",
   "metadata": {},
   "outputs": [
    {
     "name": "stdout",
     "output_type": "stream",
     "text": [
      "Twinkle is present\n"
     ]
    }
   ],
   "source": [
    "with open('poems.txt', 'r') as f:  # There is no need of file closing\n",
    "    a = f.read()\n",
    "if 'Twinkle' in t:\n",
    "    print(\"Twinkle is present\")\n",
    "else:\n",
    "    print(\"Twinkle is not present\")\n",
    "f.close()"
   ]
  },
  {
   "cell_type": "markdown",
   "id": "8ebac784",
   "metadata": {},
   "source": [
    "- The game() function in a program lets a user play a game and returns the score as an integer. You need to read a file “Hiscore.txt” which is either blank or contains the previous Hi-score. You need to write a program to update the Hi-score whenever game() breaks the Hi-Score."
   ]
  },
  {
   "cell_type": "code",
   "execution_count": 27,
   "id": "c7e0959c",
   "metadata": {},
   "outputs": [],
   "source": [
    "def game():\n",
    "    return 36\n",
    "\n",
    "score = game()\n",
    "with open(\"hiscore.txt\") as f:\n",
    "    hiScoreStr = f.read()\n",
    "    \n",
    "if int(hiScoreStr)<score :\n",
    "    with open(\"hiscore.txt\", \"w\") as f:\n",
    "        f.write(str(score))"
   ]
  },
  {
   "cell_type": "code",
   "execution_count": 28,
   "id": "94f27854",
   "metadata": {},
   "outputs": [],
   "source": [
    "def game():\n",
    "    return 40\n",
    "\n",
    "score = game()\n",
    "with open(\"hiscore.txt\") as f:\n",
    "    hiScoreStr = f.read()\n",
    "    \n",
    "if hiScoreStr=='':  # if the file is empty\n",
    "    with open(\"hiscore.txt\", \"w\") as f:\n",
    "        f.write(str(score))\n",
    "\n",
    "elif int(hiScoreStr)<score :\n",
    "    with open(\"hiscore.txt\", \"w\") as f:\n",
    "        f.write(str(score))"
   ]
  },
  {
   "cell_type": "markdown",
   "id": "e56ec7c8",
   "metadata": {},
   "source": [
    "Write a program to generate multiplication tables from 2 to 20 and write it to the different files. Place these files in a folder for a 13- year old boy. "
   ]
  },
  {
   "cell_type": "code",
   "execution_count": 32,
   "id": "8c9a6a24",
   "metadata": {},
   "outputs": [],
   "source": [
    "for i in range(2, 21):\n",
    "    with open(f\"tables/Multiplication_table_of_{i}.txt\", 'w') as f:\n",
    "        for j in range(1, 11):\n",
    "            f.write(f\"{i}X{j}={i*j}\")\n",
    "            if j!=10:\n",
    "                f.write('\\n')"
   ]
  },
  {
   "cell_type": "markdown",
   "id": "92790c73",
   "metadata": {},
   "source": [
    "A file contains the word “Donkey” multiple times. You need to write a program which replaces this word with ###### by updating the same file."
   ]
  },
  {
   "cell_type": "code",
   "execution_count": 42,
   "id": "1b2b0b1e",
   "metadata": {},
   "outputs": [
    {
     "name": "stdout",
     "output_type": "stream",
     "text": [
      "waseem ahmed waqar\n",
      "$%^@$^# ahmed waqar\n"
     ]
    }
   ],
   "source": [
    "with open(\"sample2.txt\") as f:\n",
    "    content = f.read()\n",
    "    print(content)\n",
    "\n",
    "content = content.replace(\"waseem\", \"$%^@$^#\")\n",
    "\n",
    "with open(\"sample2.txt\", \"w\") as f:\n",
    "    f.write(content)\n",
    "    print(content)"
   ]
  },
  {
   "cell_type": "code",
   "execution_count": null,
   "id": "fddac519",
   "metadata": {},
   "outputs": [],
   "source": [
    "?????????????????????????????????????????????????????"
   ]
  },
  {
   "cell_type": "code",
   "execution_count": 45,
   "id": "e7eb425e",
   "metadata": {},
   "outputs": [],
   "source": [
    "words = [\"Waseem\", \"Akber\", \"Basit\"]\n",
    "# a = [\"Waseem\", \"Akber\", \"Basit\"]\n",
    "with open(\"sample2.txt\") as f:\n",
    "    content = f.read()\n",
    "\n",
    "# for word in a\n",
    "for word in words:\n",
    "    content = content.replace(word, \"######\")\n",
    "    with open(\"sample2.txt\", \"w\") as f:\n",
    "        f.write(content)"
   ]
  },
  {
   "cell_type": "markdown",
   "id": "43c4b466",
   "metadata": {},
   "source": [
    "Write a program to mine a log file and find out whether it contains ‘python’."
   ]
  },
  {
   "cell_type": "code",
   "execution_count": 51,
   "id": "83d0b329",
   "metadata": {},
   "outputs": [
    {
     "name": "stdout",
     "output_type": "stream",
     "text": [
      "Yes python is present\n"
     ]
    }
   ],
   "source": [
    "with open(\"log.txt\") as f:\n",
    "    content = f.read()\n",
    "\n",
    "if 'python' in content.lower(): # it converts the alphabats into lower case if it is upper case\n",
    "    print(\"Yes python is present\")\n",
    "else:\n",
    "    print(\"No python is not present\")"
   ]
  },
  {
   "cell_type": "code",
   "execution_count": 50,
   "id": "5a71ea08",
   "metadata": {},
   "outputs": [
    {
     "name": "stdout",
     "output_type": "stream",
     "text": [
      "No python is not present\n"
     ]
    }
   ],
   "source": [
    "with open(\"log2.txt\") as f:\n",
    "    content = f.read()\n",
    "\n",
    "if 'python' in content.lower(): # it converts the alphabats into lower case if it is upper case\n",
    "    print(\"Yes python is present\")\n",
    "else:\n",
    "    print(\"No python is not present\")"
   ]
  },
  {
   "cell_type": "markdown",
   "id": "9b215624",
   "metadata": {},
   "source": [
    "- Write a program to find out the line number where python is present from question 6 (above program)."
   ]
  },
  {
   "cell_type": "code",
   "execution_count": null,
   "id": "00bd4201",
   "metadata": {},
   "outputs": [],
   "source": [
    "??????????????????????"
   ]
  },
  {
   "cell_type": "code",
   "execution_count": 52,
   "id": "1e2db52d",
   "metadata": {},
   "outputs": [
    {
     "name": "stdout",
     "output_type": "stream",
     "text": [
      "03/22 08:51:06 INFO   :.....mailslot_create: creating mailslot for RSVP Python\n",
      "\n",
      "Yes python is present on line number 56\n"
     ]
    }
   ],
   "source": [
    "content = True\n",
    "i = 1\n",
    "with open(\"log.txt\") as f:\n",
    "    while content:\n",
    "        content = f.readline()\n",
    "        if 'python' in content.lower():\n",
    "            print(content)\n",
    "            print(f\"Yes python is present on line number {i}\") \n",
    "        i+=1"
   ]
  },
  {
   "cell_type": "code",
   "execution_count": 53,
   "id": "defeaf90",
   "metadata": {},
   "outputs": [
    {
     "name": "stdout",
     "output_type": "stream",
     "text": [
      "ffff ffff ffff Python\n",
      "\n",
      "Yes python is present on line number 2\n"
     ]
    }
   ],
   "source": [
    "content = True\n",
    "i = 1\n",
    "with open(\"log2.txt\") as f:\n",
    "    while content:\n",
    "        content = f.readline()\n",
    "        if 'python' in content.lower():\n",
    "            print(content)\n",
    "            print(f\"Yes python is present on line number {i}\") \n",
    "        i+=1"
   ]
  },
  {
   "cell_type": "markdown",
   "id": "0e8e4938",
   "metadata": {},
   "source": [
    "- Write a program to make a copy of a text file “this.txt.”"
   ]
  },
  {
   "cell_type": "code",
   "execution_count": 54,
   "id": "32434fd5",
   "metadata": {},
   "outputs": [],
   "source": [
    "with open(\"this.txt\") as f:\n",
    "    content = f.read()\n",
    "\n",
    "with open(\"copy.txt\", 'w') as f:\n",
    "    f.write(content)"
   ]
  },
  {
   "cell_type": "markdown",
   "id": "bd2f2333",
   "metadata": {},
   "source": [
    "- Write a program to find out whether a file is identical and matches the content of another file."
   ]
  },
  {
   "cell_type": "code",
   "execution_count": 55,
   "id": "1148880d",
   "metadata": {},
   "outputs": [
    {
     "name": "stdout",
     "output_type": "stream",
     "text": [
      "Files are not identical\n"
     ]
    }
   ],
   "source": [
    "file1 = \"log.txt\"\n",
    "file2 = \"this.txt\"\n",
    "\n",
    "with open(file1) as f:\n",
    "    f1 = f.read()\n",
    "\n",
    "with open(file2) as f:\n",
    "    f2= f.read()\n",
    "\n",
    "if f1 == f2:\n",
    "    print(\"Files are identical\")\n",
    "else:\n",
    "    print(\"Files are not identical\")"
   ]
  },
  {
   "cell_type": "code",
   "execution_count": 56,
   "id": "d0462b2f",
   "metadata": {},
   "outputs": [
    {
     "name": "stdout",
     "output_type": "stream",
     "text": [
      "Files are identical\n"
     ]
    }
   ],
   "source": [
    "file1 = \"copy.txt\"\n",
    "file2 = \"this.txt\"\n",
    "\n",
    "with open(file1) as f:\n",
    "    f1 = f.read()\n",
    "\n",
    "with open(file2) as f:\n",
    "    f2= f.read()\n",
    "\n",
    "if f1 == f2:\n",
    "    print(\"Files are identical\")\n",
    "else:\n",
    "    print(\"Files are not identical\")"
   ]
  },
  {
   "cell_type": "markdown",
   "id": "18b3a2e1",
   "metadata": {},
   "source": [
    "Write a program to wipe out the contents of a file using python."
   ]
  },
  {
   "cell_type": "code",
   "execution_count": 57,
   "id": "55c81317",
   "metadata": {},
   "outputs": [],
   "source": [
    "filename = \"sample3.txt\"\n",
    "with open(filename, \"w\") as f:\n",
    "    f.write(\"\") # Write blanks (Delete the contents of files)"
   ]
  },
  {
   "cell_type": "markdown",
   "id": "fc942ab0",
   "metadata": {},
   "source": [
    " Write a python program to rename a file to “renamed_by_python.txt.”"
   ]
  },
  {
   "cell_type": "code",
   "execution_count": 58,
   "id": "7415d577",
   "metadata": {},
   "outputs": [],
   "source": [
    "import os\n",
    "\n",
    "oldname = \"sample4.txt\"\n",
    "newname = \"renamed_by_python.txt\"\n",
    "with open(oldname) as f:\n",
    "    content = f.read()\n",
    "\n",
    "with open(newname, \"w\") as f:\n",
    "    f.write(content)\n",
    "\n",
    "os.remove(oldname)"
   ]
  },
  {
   "cell_type": "code",
   "execution_count": null,
   "id": "75f4d1eb",
   "metadata": {},
   "outputs": [],
   "source": []
  },
  {
   "cell_type": "code",
   "execution_count": null,
   "id": "89638551",
   "metadata": {},
   "outputs": [],
   "source": []
  }
 ],
 "metadata": {
  "kernelspec": {
   "display_name": "Python 3",
   "language": "python",
   "name": "python3"
  },
  "language_info": {
   "codemirror_mode": {
    "name": "ipython",
    "version": 3
   },
   "file_extension": ".py",
   "mimetype": "text/x-python",
   "name": "python",
   "nbconvert_exporter": "python",
   "pygments_lexer": "ipython3",
   "version": "3.8.8"
  }
 },
 "nbformat": 4,
 "nbformat_minor": 5
}
