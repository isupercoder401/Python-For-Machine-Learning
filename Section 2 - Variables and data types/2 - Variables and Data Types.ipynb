{
 "cells": [
  {
   "cell_type": "markdown",
   "id": "0f2d0c44",
   "metadata": {},
   "source": [
    "# Variables, Data Types, Operators and Input Functions\n",
    "\n",
    "A variable is a name given to a memory location in a program. For example\n",
    "\n",
    "a=30\n",
    "\n",
    "b=”Khursheed”\n",
    "\n",
    "c=71.22"
   ]
  },
  {
   "cell_type": "code",
   "execution_count": 2,
   "id": "7852f0eb",
   "metadata": {},
   "outputs": [],
   "source": [
    "a_122 = '''Khursheed'''\n",
    "# a = 'Khursheed'\n",
    "a = \"Khursheed\"\n",
    "b = 345\n",
    "c = 45.32\n",
    "d = True\n",
    "# d = None\n",
    "\n"
   ]
  },
  {
   "cell_type": "markdown",
   "id": "2f16fddc",
   "metadata": {},
   "source": [
    "Variable – Container to store a value\n",
    "\n",
    "Keywords – Reserved words in Python (def, class) - List is available on website\n",
    "         - Do not use keywards for making variables\n",
    "         \n",
    "Identifiers – class/function/variable name (Discuss in next topics)\n",
    "\n",
    "Data Types:\n",
    "Primarily there are the following data types in Python:\n",
    "\n",
    "- Integers\n",
    "- Floating point numbers\n",
    "- Strings\n",
    "- Booleans (True / False)\n",
    "- None\n",
    "\n",
    "(None is a special constant in Python that represents the absence of a value or a null value (neither True nor False). It is an object of its own datatype, the NoneType. We cannot create multiple None objects but can assign it to variables. These variables will be equal to one another.)\n",
    "\n",
    "Python is a fantastic language that automatically identifies the type of data for us (e.g. int / float / string)."
   ]
  },
  {
   "cell_type": "code",
   "execution_count": 1,
   "id": "1069dbec",
   "metadata": {},
   "outputs": [
    {
     "name": "stdout",
     "output_type": "stream",
     "text": [
      "Khursheed\n",
      "345\n",
      "45.32\n",
      "True\n",
      "None\n",
      "False\n",
      "<class 'str'>\n",
      "<class 'int'>\n",
      "<class 'float'>\n",
      "<class 'bool'>\n",
      "<class 'NoneType'>\n",
      "<class 'bool'>\n"
     ]
    }
   ],
   "source": [
    "# There are three methods to define string\n",
    "# 1) 'Khursheed'\n",
    "# 2) \"Khursheed\"\n",
    "# 3) '''Khursheed'''   - It is used when Single or double Quate ' ' or \" \" in \n",
    "                        # a single statement\n",
    "\n",
    "a = \"Khursheed\"\n",
    "b = 345\n",
    "c = 45.32\n",
    "d = True\n",
    "e = None\n",
    "f = False\n",
    "\n",
    "# Printing the variables\n",
    "print(a)\n",
    "print(b)\n",
    "print(c)\n",
    "print(d)\n",
    "print(e)\n",
    "print(f)\n",
    "\n",
    "# Printing the type of variables\n",
    "print(type(a))\n",
    "print(type(b))\n",
    "print(type(c))\n",
    "print(type(d))\n",
    "print(type(e))\n",
    "print(type(f))"
   ]
  },
  {
   "cell_type": "markdown",
   "id": "020395fd",
   "metadata": {},
   "source": [
    "# Rules for defining a variable name: (Also applicable to other identifiers)\n",
    "\n",
    "- A variable name can contain alphabets, digits, and underscore.\n",
    "- A variable name can only start with an alphabet and underscore.\n",
    "- A variable can’t start with a digit.\n",
    "- No white space is allowed to be used inside a variable name.\n",
    "- Examples of few valid variable names,\n",
    "\n",
    "Khursheed, khursheed, one8, _Imran, khursheed, Ahmed_bro, etc."
   ]
  },
  {
   "cell_type": "code",
   "execution_count": 2,
   "id": "1fa3c3ce",
   "metadata": {},
   "outputs": [
    {
     "ename": "SyntaxError",
     "evalue": "invalid syntax (<ipython-input-2-f799a2338889>, line 2)",
     "output_type": "error",
     "traceback": [
      "\u001b[1;36m  File \u001b[1;32m\"<ipython-input-2-f799a2338889>\"\u001b[1;36m, line \u001b[1;32m2\u001b[0m\n\u001b[1;33m    1a = 5  # It should alwasys start with alphbet not with digit\u001b[0m\n\u001b[1;37m     ^\u001b[0m\n\u001b[1;31mSyntaxError\u001b[0m\u001b[1;31m:\u001b[0m invalid syntax\n"
     ]
    }
   ],
   "source": [
    "# A variable can’t start with a digit.\n",
    "1a = 5  # It should alwasys start with alphbet not with digit"
   ]
  },
  {
   "cell_type": "code",
   "execution_count": 3,
   "id": "2ecbe15d",
   "metadata": {},
   "outputs": [
    {
     "name": "stdout",
     "output_type": "stream",
     "text": [
      "5\n"
     ]
    }
   ],
   "source": [
    "# A variable name can only start with an alphabet and underscore\n",
    "_a = 5\n",
    "print(_a)"
   ]
  },
  {
   "cell_type": "code",
   "execution_count": 4,
   "id": "4d60b4ec",
   "metadata": {},
   "outputs": [
    {
     "ename": "SyntaxError",
     "evalue": "invalid syntax (<ipython-input-4-4494ddf1c1e7>, line 3)",
     "output_type": "error",
     "traceback": [
      "\u001b[1;36m  File \u001b[1;32m\"<ipython-input-4-4494ddf1c1e7>\"\u001b[1;36m, line \u001b[1;32m3\u001b[0m\n\u001b[1;33m    abc de = 123\u001b[0m\n\u001b[1;37m        ^\u001b[0m\n\u001b[1;31mSyntaxError\u001b[0m\u001b[1;31m:\u001b[0m invalid syntax\n"
     ]
    }
   ],
   "source": [
    "# No white space is allowed to be used inside a variable name.\n",
    "\n",
    "abc de = 123"
   ]
  },
  {
   "cell_type": "code",
   "execution_count": 15,
   "id": "d6e79c05",
   "metadata": {},
   "outputs": [
    {
     "name": "stdout",
     "output_type": "stream",
     "text": [
      "a= 24\n",
      "A= 76\n"
     ]
    }
   ],
   "source": [
    "# Python is case sensitive\n",
    "\n",
    "a= 24\n",
    "A= 76\n",
    "\n",
    "print(\"a=\", a )\n",
    "print(\"A=\", A )\n"
   ]
  },
  {
   "cell_type": "markdown",
   "id": "24e06815",
   "metadata": {},
   "source": [
    "# Operators in Python\n",
    "The following are some common operators in Python:\n",
    "\n",
    "- Arithmetic Operators (+, -, *, /, etc.)\n",
    "- Assignment Operators (=, +=, -=, etc.)\n",
    "- Comparison Operators (==, >=, <=, >, <, !=, etc.)\n",
    "- Logical Operators (and, or, not)"
   ]
  },
  {
   "cell_type": "code",
   "execution_count": 5,
   "id": "598d9f38",
   "metadata": {},
   "outputs": [
    {
     "name": "stdout",
     "output_type": "stream",
     "text": [
      "The value of 3+4 is  7\n",
      "The value of 3-4 is  -1\n",
      "The value of 3*4 is  12\n",
      "The value of 3/4 is  0.75\n"
     ]
    }
   ],
   "source": [
    "a = 3\n",
    "b = 4\n",
    "\n",
    "# Arithmetic Operators\n",
    "print(\"The value of 3+4 is \", 3+4)\n",
    "print(\"The value of 3-4 is \", 3-4)\n",
    "print(\"The value of 3*4 is \", 3*4)\n",
    "print(\"The value of 3/4 is \", 3/4)"
   ]
  },
  {
   "cell_type": "code",
   "execution_count": 6,
   "id": "75a66b18",
   "metadata": {},
   "outputs": [
    {
     "name": "stdout",
     "output_type": "stream",
     "text": [
      "36\n",
      "22\n",
      "408\n",
      "2.8333333333333335\n"
     ]
    }
   ],
   "source": [
    "# Assignment Operators\n",
    "a = 34\n",
    "b = 34\n",
    "c = 34\n",
    "d = 34\n",
    "a += 2 # 34 +2 = 36\n",
    "b -= 12  # 34-12 = 22\n",
    "c *= 12  # 34*12 = 408\n",
    "d /= 12  # 34/12 = 2.833\n",
    "print(a)\n",
    "print(b)\n",
    "print(c)\n",
    "print(d)"
   ]
  },
  {
   "cell_type": "code",
   "execution_count": 19,
   "id": "27c60bad",
   "metadata": {},
   "outputs": [
    {
     "name": "stdout",
     "output_type": "stream",
     "text": [
      "False\n",
      "True\n",
      "False\n",
      "True\n",
      "False\n",
      "True\n"
     ]
    }
   ],
   "source": [
    "# Comparison Operators, it retruns boolean\n",
    "x = (14<=7) # False\n",
    "y = (14>=7)  # True\n",
    "z = (14<7)  # False\n",
    "a = (14>7)  # True\n",
    "b = (14==7)  # False\n",
    "c = (14!=7) # True\n",
    "\n",
    "print(x)\n",
    "print(y)\n",
    "print(z)\n",
    "print(a)\n",
    "print(b)\n",
    "print(c)"
   ]
  },
  {
   "cell_type": "code",
   "execution_count": 20,
   "id": "1141d450",
   "metadata": {},
   "outputs": [
    {
     "name": "stdout",
     "output_type": "stream",
     "text": [
      "The value of bool1 and bool2 is ---  False\n",
      "The value of bool1 or bool2 is ---  True\n",
      "The value of not bool2 is ---  True\n"
     ]
    }
   ],
   "source": [
    "# Logical Operators\n",
    "\n",
    "bool1 = True\n",
    "bool2 = False\n",
    "print(\"The value of bool1 and bool2 is --- \", (bool1 and bool2))\n",
    "print(\"The value of bool1 or bool2 is --- \", (bool1 or bool2))\n",
    "print(\"The value of not bool2 is --- \", (not bool2))"
   ]
  },
  {
   "cell_type": "code",
   "execution_count": 21,
   "id": "9f7ba46b",
   "metadata": {},
   "outputs": [
    {
     "data": {
      "text/plain": [
       "str"
      ]
     },
     "execution_count": 21,
     "metadata": {},
     "output_type": "execute_result"
    }
   ],
   "source": [
    "# Type Casting\n",
    "a = \"3534\"\n",
    "type(a)\n"
   ]
  },
  {
   "cell_type": "code",
   "execution_count": 22,
   "id": "2b443457",
   "metadata": {},
   "outputs": [
    {
     "ename": "TypeError",
     "evalue": "can only concatenate str (not \"int\") to str",
     "output_type": "error",
     "traceback": [
      "\u001b[1;31m---------------------------------------------------------------------------\u001b[0m",
      "\u001b[1;31mTypeError\u001b[0m                                 Traceback (most recent call last)",
      "\u001b[1;32m~\\AppData\\Local\\Temp/ipykernel_7004/3751924471.py\u001b[0m in \u001b[0;36m<module>\u001b[1;34m\u001b[0m\n\u001b[1;32m----> 1\u001b[1;33m \u001b[0mc\u001b[0m \u001b[1;33m=\u001b[0m \u001b[0ma\u001b[0m\u001b[1;33m+\u001b[0m\u001b[1;36m5\u001b[0m\u001b[1;33m\u001b[0m\u001b[1;33m\u001b[0m\u001b[0m\n\u001b[0m",
      "\u001b[1;31mTypeError\u001b[0m: can only concatenate str (not \"int\") to str"
     ]
    }
   ],
   "source": [
    "c = a+5\n"
   ]
  },
  {
   "cell_type": "code",
   "execution_count": 23,
   "id": "19ada488",
   "metadata": {},
   "outputs": [
    {
     "name": "stdout",
     "output_type": "stream",
     "text": [
      "<class 'int'>\n",
      "3539\n"
     ]
    }
   ],
   "source": [
    "a = int(a)\n",
    "print(type(a))\n",
    "print(a + 5)"
   ]
  },
  {
   "cell_type": "code",
   "execution_count": 24,
   "id": "af2440f1",
   "metadata": {},
   "outputs": [
    {
     "ename": "ValueError",
     "evalue": "invalid literal for int() with base 10: '35abc34'",
     "output_type": "error",
     "traceback": [
      "\u001b[1;31m---------------------------------------------------------------------------\u001b[0m",
      "\u001b[1;31mValueError\u001b[0m                                Traceback (most recent call last)",
      "\u001b[1;32m~\\AppData\\Local\\Temp/ipykernel_7004/3163150810.py\u001b[0m in \u001b[0;36m<module>\u001b[1;34m\u001b[0m\n\u001b[0;32m      1\u001b[0m \u001b[0ma\u001b[0m \u001b[1;33m=\u001b[0m \u001b[1;34m\"35abc34\"\u001b[0m  \u001b[1;31m# It does not work because it is hybrid\u001b[0m\u001b[1;33m\u001b[0m\u001b[1;33m\u001b[0m\u001b[0m\n\u001b[1;32m----> 2\u001b[1;33m \u001b[0ma\u001b[0m \u001b[1;33m=\u001b[0m \u001b[0mint\u001b[0m\u001b[1;33m(\u001b[0m\u001b[0ma\u001b[0m\u001b[1;33m)\u001b[0m\u001b[1;33m\u001b[0m\u001b[1;33m\u001b[0m\u001b[0m\n\u001b[0m\u001b[0;32m      3\u001b[0m \u001b[0mprint\u001b[0m\u001b[1;33m(\u001b[0m\u001b[0mtype\u001b[0m\u001b[1;33m(\u001b[0m\u001b[0ma\u001b[0m\u001b[1;33m)\u001b[0m\u001b[1;33m)\u001b[0m\u001b[1;33m\u001b[0m\u001b[1;33m\u001b[0m\u001b[0m\n\u001b[0;32m      4\u001b[0m \u001b[0mprint\u001b[0m\u001b[1;33m(\u001b[0m\u001b[0ma\u001b[0m \u001b[1;33m+\u001b[0m \u001b[1;36m5\u001b[0m\u001b[1;33m)\u001b[0m\u001b[1;33m\u001b[0m\u001b[1;33m\u001b[0m\u001b[0m\n",
      "\u001b[1;31mValueError\u001b[0m: invalid literal for int() with base 10: '35abc34'"
     ]
    }
   ],
   "source": [
    "a = \"35abc34\"  # It does not work because it is hybrid\n",
    "a = int(a)\n",
    "print(type(a))\n",
    "print(a + 5)"
   ]
  },
  {
   "cell_type": "code",
   "execution_count": 25,
   "id": "31d0ab3d",
   "metadata": {},
   "outputs": [
    {
     "name": "stdout",
     "output_type": "stream",
     "text": [
      "34\n"
     ]
    },
    {
     "ename": "TypeError",
     "evalue": "can only concatenate str (not \"int\") to str",
     "output_type": "error",
     "traceback": [
      "\u001b[1;31m---------------------------------------------------------------------------\u001b[0m",
      "\u001b[1;31mTypeError\u001b[0m                                 Traceback (most recent call last)",
      "\u001b[1;32m~\\AppData\\Local\\Temp/ipykernel_7004/3579861491.py\u001b[0m in \u001b[0;36m<module>\u001b[1;34m\u001b[0m\n\u001b[0;32m      1\u001b[0m \u001b[0ma\u001b[0m \u001b[1;33m=\u001b[0m \u001b[0mstr\u001b[0m\u001b[1;33m(\u001b[0m\u001b[1;36m34\u001b[0m\u001b[1;33m)\u001b[0m\u001b[1;33m\u001b[0m\u001b[1;33m\u001b[0m\u001b[0m\n\u001b[0;32m      2\u001b[0m \u001b[0mprint\u001b[0m\u001b[1;33m(\u001b[0m\u001b[0ma\u001b[0m\u001b[1;33m)\u001b[0m\u001b[1;33m\u001b[0m\u001b[1;33m\u001b[0m\u001b[0m\n\u001b[1;32m----> 3\u001b[1;33m \u001b[0mprint\u001b[0m\u001b[1;33m(\u001b[0m\u001b[0ma\u001b[0m\u001b[1;33m+\u001b[0m\u001b[1;36m5\u001b[0m\u001b[1;33m)\u001b[0m \u001b[1;31m# it can not be added\u001b[0m\u001b[1;33m\u001b[0m\u001b[1;33m\u001b[0m\u001b[0m\n\u001b[0m",
      "\u001b[1;31mTypeError\u001b[0m: can only concatenate str (not \"int\") to str"
     ]
    }
   ],
   "source": [
    "a = str(34)\n",
    "print(a)\n",
    "print(a+5) # it can not be added"
   ]
  },
  {
   "cell_type": "code",
   "execution_count": 21,
   "id": "445d7dc7",
   "metadata": {},
   "outputs": [
    {
     "name": "stdout",
     "output_type": "stream",
     "text": [
      "35.0\n"
     ]
    }
   ],
   "source": [
    "a = float(35)\n",
    "print(a)"
   ]
  },
  {
   "cell_type": "markdown",
   "id": "4352c1fa",
   "metadata": {},
   "source": [
    "# Input Function\n",
    "\n",
    "- This function allows the user to take input from the keyboard as a string.\n",
    "\n",
    "- a = input(“Enter name”)       #if a is “khursheed”, the user entered khursheed\n",
    "\n",
    "- Note: The output of the input function is always a string even if the number is entered by the user.\n",
    "\n",
    "- Suppose if a user enters 34, then this 34 will automatically convert to “34” string literal."
   ]
  },
  {
   "cell_type": "code",
   "execution_count": 26,
   "id": "a42a039c",
   "metadata": {},
   "outputs": [
    {
     "name": "stdout",
     "output_type": "stream",
     "text": [
      "Enter a number: 6\n",
      "<class 'str'>\n",
      "<class 'int'>\n"
     ]
    }
   ],
   "source": [
    "# Input Function\n",
    "# It saves the value as str\n",
    "\n",
    "a = input(\"Enter a number: \")  \n",
    "# takes the input as string even if you give a integer\n",
    "print(type(a))\n",
    "a = int(a) # Convert a to an Integer(if possible)\n",
    "print(type(a))"
   ]
  },
  {
   "cell_type": "code",
   "execution_count": 27,
   "id": "ed0d2251",
   "metadata": {},
   "outputs": [
    {
     "name": "stdout",
     "output_type": "stream",
     "text": [
      "Enter a Name: Khursheed\n",
      "Khursheed\n"
     ]
    }
   ],
   "source": [
    "a = input(\"Enter a Name: \")  \n",
    "print(a)"
   ]
  },
  {
   "cell_type": "code",
   "execution_count": 28,
   "id": "63b70327",
   "metadata": {},
   "outputs": [
    {
     "name": "stdout",
     "output_type": "stream",
     "text": [
      "The sum of a and b is 45\n",
      "The remainder when a is divided by b is 8\n"
     ]
    }
   ],
   "source": [
    "# Print Addtion / Reminder / Average\n",
    "a = 30\n",
    "b = 15\n",
    "print(\"The sum of a and b is\", a + b)\n",
    "\n",
    "a = 458\n",
    "b = 15\n",
    "\n",
    "print(\"The remainder when a is divided by b is\", a%b)\n",
    "\n"
   ]
  },
  {
   "cell_type": "code",
   "execution_count": 29,
   "id": "56765863",
   "metadata": {},
   "outputs": [
    {
     "name": "stdout",
     "output_type": "stream",
     "text": [
      "Enter first number: 10\n",
      "Enter second number: 20\n",
      "The average of a and b is 15.0\n"
     ]
    }
   ],
   "source": [
    "a = input(\"Enter first number: \")\n",
    "b = input(\"Enter second number: \")\n",
    "a = int(a)\n",
    "b = int(b)\n",
    "avg = (a + b)/2\n",
    "print(\"The average of a and b is\", avg)"
   ]
  },
  {
   "cell_type": "code",
   "execution_count": null,
   "id": "eaa469a2",
   "metadata": {},
   "outputs": [],
   "source": []
  }
 ],
 "metadata": {
  "kernelspec": {
   "display_name": "Python 3",
   "language": "python",
   "name": "python3"
  },
  "language_info": {
   "codemirror_mode": {
    "name": "ipython",
    "version": 3
   },
   "file_extension": ".py",
   "mimetype": "text/x-python",
   "name": "python",
   "nbconvert_exporter": "python",
   "pygments_lexer": "ipython3",
   "version": "3.8.8"
  }
 },
 "nbformat": 4,
 "nbformat_minor": 5
}
