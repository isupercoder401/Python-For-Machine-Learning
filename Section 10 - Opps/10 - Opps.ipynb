{
 "cells": [
  {
   "cell_type": "markdown",
   "id": "88f21816",
   "metadata": {},
   "source": [
    "# Object-Oriented Programming"
   ]
  },
  {
   "cell_type": "markdown",
   "id": "848eabf9",
   "metadata": {},
   "source": [
    "- Solving a problem by creating objects is one of the most popular approaches in programming. This is called object-oriented programming.\n",
    "\n",
    "- This concept focuses on using reusable code. (Implements DRY principle)\n",
    "- DRY: Donot Repeat Yourself\n",
    "\n",
    "Class\n",
    "- A class is a blueprint for creating objects.\n",
    "\n"
   ]
  },
  {
   "cell_type": "markdown",
   "id": "610134b1",
   "metadata": {},
   "source": [
    "Object\n",
    "\n",
    "An object is an instantiation of a class. When class is defined, a template(info) is defined. Memory is allocated only after object instantiation.\n",
    "\n",
    "Objects of a given class can invoke the methods available to it without revealing the implementation details to the user.     #Abstraction & Encapsulation!"
   ]
  },
  {
   "cell_type": "code",
   "execution_count": 2,
   "id": "d07943e6",
   "metadata": {},
   "outputs": [
    {
     "name": "stdout",
     "output_type": "stream",
     "text": [
      "The sum of a and b is  46\n"
     ]
    }
   ],
   "source": [
    "# Procedural oriented programing\n",
    "a = 12\n",
    "b = 34\n",
    "\n",
    "print(\"The sum of a and b is \", a+b)"
   ]
  },
  {
   "cell_type": "code",
   "execution_count": 6,
   "id": "9c039791",
   "metadata": {},
   "outputs": [
    {
     "name": "stdout",
     "output_type": "stream",
     "text": [
      "46\n"
     ]
    }
   ],
   "source": [
    "# Same above programme with object oriented method\n",
    "\n",
    "class Number:\n",
    "    def sum(self):\n",
    "        return self.a + self.b\n",
    "\n",
    "num = Number()\n",
    "num.a = 12\n",
    "num.b = 34\n",
    "s = num.sum()\n",
    "print(s)"
   ]
  },
  {
   "cell_type": "markdown",
   "id": "928f3e89",
   "metadata": {},
   "source": [
    "Class\n",
    "- A class is a blueprint or template for creating objects.\n",
    "- For instance a template of NCP form where you write varitiey of information against each question.\n",
    "- Therefore classes / templates donot take memory\n",
    "- Once you fill/instantiate the class/template it occupies the memory\n",
    "- Class has method and variables (will be defined ahead)\n",
    "\n",
    "Generally, Classes are written in Pascal case\n",
    "- PascalCase (every first letter is capital letter)\n",
    "- EmployeeName -->PascalCase \n",
    "\n",
    "- camelCase (only initial first letter is small letter and after every first letter is capital letter)\n",
    "- isNumeric, isFloatOrInt -->camelCase\n",
    "\n",
    "\n",
    "Object\n",
    "\n",
    "- An object is a application (when you fill the template/class)\n",
    "- If you donot fill the template/class, it does not mean any thing\n",
    "- Once the template is filled, it is meaningful\n",
    "\n",
    "- Get info for NCP form >>>>>> Filled by Student >>>>>> Student Application\n",
    "- Get info to creat object >>>>> Object instantiation >>>>> Object\n",
    "\n",
    "An object is an instantiation of a class. When class is defined, a template(info) is defined. Memory is allocated only after object instantiation.\n",
    "\n",
    "#Abstraction\n",
    "\n",
    "Objects of a given class can invoke the methods available to it without revealing the implementation details to the user. For instance, If you are making a class to take a picture by clicking a button. Now, user dont need to revealing the details of button information (Electronic circuits, camera shutter, power to the camera from cells etc.)  \n",
    "\n",
    "#Encapsulation\n",
    "\n",
    "Gather same type of functions in the related class"
   ]
  },
  {
   "cell_type": "code",
   "execution_count": 10,
   "id": "f2885cfe",
   "metadata": {},
   "outputs": [
    {
     "name": "stdout",
     "output_type": "stream",
     "text": [
      "Name is Waseem\n",
      "Train is Karachi Express\n"
     ]
    }
   ],
   "source": [
    "class RailwayForm:\n",
    "    formType = \"RailwayForm\"\n",
    "    def printData(self):\n",
    "        print(f\"Name is {self.name}\")\n",
    "        print(f\"Train is {self.train}\")\n",
    "\n",
    "waseemApplication = RailwayForm()\n",
    "waseemApplication.name = \"Waseem\"\n",
    "waseemApplication.train = \"Karachi Express\"\n",
    "waseemApplication.printData()"
   ]
  },
  {
   "cell_type": "markdown",
   "id": "bd8f70b4",
   "metadata": {},
   "source": [
    "- The above programme does not need OOPs why we did it?\n",
    "- For the small programes it is not effective but for large programes it could be essential"
   ]
  },
  {
   "cell_type": "markdown",
   "id": "c8e554f1",
   "metadata": {},
   "source": [
    "## Modelling a problem in OOPs\n",
    "\n",
    "We identify the following in our problem\n",
    "\n",
    "Noun ->>>>>>> Class ->>>>>> Employee\n",
    "\n",
    "Adjective ->>>> Attributes ->>> Name, Age, Salary\n",
    "\n",
    "Verbs ->>>>>> Methods ->>>> GetSalary(), increment()"
   ]
  },
  {
   "cell_type": "markdown",
   "id": "f603c8f1",
   "metadata": {},
   "source": [
    "## Class Attributes\n",
    "\n",
    "An attribute that belongs to the class rather than a particular object.\n",
    "\n",
    "Example:\n",
    "\n",
    "Class Employee:\n",
    "\t\n",
    "    company = “Google” \t#Specific to each class\n",
    "- khursheed = Employee()\t#Object instantiation\n",
    "- khursheed.company\n",
    "\n",
    "- It autmatically take khursheed.company = Google\n",
    "\n",
    "However, I can change it, for e.g\n",
    "- Employee.company = “YouTube”\t#changing class attribute\n",
    "- now it will take khursheed.company = Youtube"
   ]
  },
  {
   "cell_type": "code",
   "execution_count": 12,
   "id": "bf5912fb",
   "metadata": {},
   "outputs": [
    {
     "name": "stdout",
     "output_type": "stream",
     "text": [
      "Google\n",
      "Google\n"
     ]
    }
   ],
   "source": [
    "# Change the class attribute during the program\n",
    "class Employee:\n",
    "    company = \"Google\"\n",
    "    \n",
    "khursheed = Employee()\n",
    "akber = Employee()\n",
    "\n",
    "print(khursheed.company)\n",
    "print(khursheed.company)"
   ]
  },
  {
   "cell_type": "code",
   "execution_count": 13,
   "id": "92e024ae",
   "metadata": {},
   "outputs": [
    {
     "name": "stdout",
     "output_type": "stream",
     "text": [
      "Google\n",
      "Google\n",
      "Youtube\n",
      "Youtube\n"
     ]
    }
   ],
   "source": [
    "class Employee:\n",
    "    company = \"Google\"\n",
    "    \n",
    "khursheed = Employee()\n",
    "akber = Employee()\n",
    "\n",
    "print(khursheed.company)\n",
    "print(khursheed.company)\n",
    "\n",
    "Employee.company = \"Youtube\"\n",
    "print(khursheed.company)\n",
    "print(khursheed.company)\n"
   ]
  },
  {
   "cell_type": "markdown",
   "id": "b66e0bc2",
   "metadata": {},
   "source": [
    "## Instance Attributes\n",
    "\n",
    "An attribute that belongs to the Instance (object)\n",
    "\n",
    "Assuming the class from the previous example:\n",
    "\n",
    "- khursheed.name = “Khursheed”\n",
    "- khursheed.salary = “600K”\t   #Adding instance attributes\n",
    "\n",
    "Note: Instance attributes take preference over class attributes during assignment and retrieval.\n",
    "\n",
    "khursheed.attribute1: it will check below commnad (Instance will be prefared over class)\n",
    "\n",
    "- Is attribute1 present in the object?\n",
    "- Is attribute1 present in class?"
   ]
  },
  {
   "cell_type": "code",
   "execution_count": 2,
   "id": "1e7ee8b0",
   "metadata": {},
   "outputs": [
    {
     "name": "stdout",
     "output_type": "stream",
     "text": [
      "100\n",
      "100\n"
     ]
    }
   ],
   "source": [
    "class Employee:\n",
    "    company = \"Google\"\n",
    "    salary = 100\n",
    "\n",
    "khursheed = Employee()\n",
    "akber = Employee()\n",
    "\n",
    "print(khursheed.salary)\n",
    "print(khursheed.salary)"
   ]
  },
  {
   "cell_type": "code",
   "execution_count": 6,
   "id": "217c062d",
   "metadata": {},
   "outputs": [
    {
     "name": "stdout",
     "output_type": "stream",
     "text": [
      "300\n",
      "400\n"
     ]
    }
   ],
   "source": [
    "class Employee:\n",
    "    company = \"Google\"\n",
    "    salary = 100\n",
    "\n",
    "khursheed = Employee()\n",
    "akber = Employee()\n",
    "\n",
    "#Creating instance attribute salary for both the objects\n",
    "khursheed.salary = 300 \n",
    "akber.salary = 400\n",
    "\n",
    "print(khursheed.salary)\n",
    "print(akber.salary)\n",
    "\n",
    "# Note: Instance attributes take preference over class attributes during assignment and retrieval.\n",
    "\n",
    "# khursheed.attribute1: it will check below commnad (Instance will be prefared over class)\n",
    "\n",
    "# - Is attribute1 present in the object?\n",
    "# - Is attribute1 present in class?"
   ]
  },
  {
   "cell_type": "code",
   "execution_count": 8,
   "id": "fe4286d3",
   "metadata": {},
   "outputs": [
    {
     "name": "stdout",
     "output_type": "stream",
     "text": [
      "45\n",
      "100\n"
     ]
    }
   ],
   "source": [
    "class Employee:\n",
    "    company = \"Google\"\n",
    "    salary = 100\n",
    "\n",
    "khursheed = Employee()\n",
    "akber = Employee()\n",
    "\n",
    "khursheed.salary = 45\n",
    "print(khursheed.salary)\n",
    "print(akber.salary)\n",
    "\n"
   ]
  },
  {
   "cell_type": "code",
   "execution_count": 9,
   "id": "dd1b9fee",
   "metadata": {},
   "outputs": [
    {
     "name": "stdout",
     "output_type": "stream",
     "text": [
      "600\n",
      "400\n"
     ]
    }
   ],
   "source": [
    "class Employee:\n",
    "    company = \"Google\"\n",
    "    salary = 100\n",
    "\n",
    "khursheed = Employee()\n",
    "akber = Employee()\n",
    "\n",
    "khursheed.salary = 600\n",
    "akber.salary = 400\n",
    "\n",
    "print(khursheed.salary)\n",
    "print(akber.salary)"
   ]
  },
  {
   "cell_type": "markdown",
   "id": "541b0d5a",
   "metadata": {},
   "source": [
    "## ‘self’ parameter\n",
    "\n",
    "self refers to the instance of the class.\n",
    "\n",
    "It is automatically passed with a function call from an object.\n",
    "\n",
    "- khursheed.getSalary()\n",
    "\n",
    "here, self is khursheed, and the above line of code is equivalent to Employee.getSalary(khursheed)\n",
    "\n",
    "This function getsalary is defined as:\n",
    "\n",
    "class Employee:\n",
    "\t\n",
    "    company = “Google”\n",
    "\t\n",
    "    def getSalary(self):\n",
    "\t\n",
    "    print(“Salary is not there”)"
   ]
  },
  {
   "cell_type": "code",
   "execution_count": 12,
   "id": "e5609e5d",
   "metadata": {},
   "outputs": [
    {
     "ename": "TypeError",
     "evalue": "getSalary() takes 0 positional arguments but 1 was given",
     "output_type": "error",
     "traceback": [
      "\u001b[1;31m---------------------------------------------------------------------------\u001b[0m",
      "\u001b[1;31mTypeError\u001b[0m                                 Traceback (most recent call last)",
      "\u001b[1;32m~\\AppData\\Local\\Temp/ipykernel_3756/2724524505.py\u001b[0m in \u001b[0;36m<module>\u001b[1;34m\u001b[0m\n\u001b[0;32m      5\u001b[0m \u001b[1;33m\u001b[0m\u001b[0m\n\u001b[0;32m      6\u001b[0m \u001b[0mkhursheed\u001b[0m \u001b[1;33m=\u001b[0m \u001b[0mEmployee\u001b[0m\u001b[1;33m(\u001b[0m\u001b[1;33m)\u001b[0m\u001b[1;33m\u001b[0m\u001b[1;33m\u001b[0m\u001b[0m\n\u001b[1;32m----> 7\u001b[1;33m \u001b[0mkhursheed\u001b[0m\u001b[1;33m.\u001b[0m\u001b[0mgetSalary\u001b[0m\u001b[1;33m(\u001b[0m\u001b[1;33m)\u001b[0m \u001b[1;31m# it gives an error\u001b[0m\u001b[1;33m\u001b[0m\u001b[1;33m\u001b[0m\u001b[0m\n\u001b[0m",
      "\u001b[1;31mTypeError\u001b[0m: getSalary() takes 0 positional arguments but 1 was given"
     ]
    }
   ],
   "source": [
    "# it gives an error without using self operator\n",
    "class Employee:\n",
    "    company = \"Google\"\n",
    "    def getSalary():\n",
    "        print(\"Salary is 100k\")\n",
    "\n",
    "khursheed = Employee()\n",
    "khursheed.getSalary() # it gives an error without using self operator"
   ]
  },
  {
   "cell_type": "code",
   "execution_count": 14,
   "id": "deb98a9f",
   "metadata": {},
   "outputs": [
    {
     "name": "stdout",
     "output_type": "stream",
     "text": [
      "Salary is 100k\n"
     ]
    }
   ],
   "source": [
    "# Using of self operator\n",
    "class Employee:\n",
    "    company = \"Google\"\n",
    "    def getSalary(self):\n",
    "        print(\"Salary is 100k\")\n",
    "\n",
    "khursheed = Employee()\n",
    "khursheed.getSalary() # Employee.getSalary(harry)"
   ]
  },
  {
   "cell_type": "code",
   "execution_count": 21,
   "id": "e938f1a2",
   "metadata": {},
   "outputs": [
    {
     "name": "stdout",
     "output_type": "stream",
     "text": [
      "Salary is 100k\n"
     ]
    }
   ],
   "source": [
    "# Using of self operator\n",
    "class Employee:\n",
    "    company = \"Google\"\n",
    "    def getSalary(self):\n",
    "        print(\"Salary is 100k\")\n",
    "\n",
    "khursheed = Employee()\n",
    "# khursheed.getSalary()\n",
    "Employee.getSalary(khursheed) # Employee.getSalary(khursheed)\n",
    "\n",
    "# khursheed.getSalary() = Employee.getSalary(khursheed) --- Internally"
   ]
  },
  {
   "cell_type": "code",
   "execution_count": 22,
   "id": "0ca153a9",
   "metadata": {},
   "outputs": [
    {
     "ename": "TypeError",
     "evalue": "getSalary() takes 0 positional arguments but 1 was given",
     "output_type": "error",
     "traceback": [
      "\u001b[1;31m---------------------------------------------------------------------------\u001b[0m",
      "\u001b[1;31mTypeError\u001b[0m                                 Traceback (most recent call last)",
      "\u001b[1;32m~\\AppData\\Local\\Temp/ipykernel_3756/1238885077.py\u001b[0m in \u001b[0;36m<module>\u001b[1;34m\u001b[0m\n\u001b[0;32m      7\u001b[0m \u001b[0mkhursheed\u001b[0m \u001b[1;33m=\u001b[0m \u001b[0mEmployee\u001b[0m\u001b[1;33m(\u001b[0m\u001b[1;33m)\u001b[0m\u001b[1;33m\u001b[0m\u001b[1;33m\u001b[0m\u001b[0m\n\u001b[0;32m      8\u001b[0m \u001b[1;31m# khursheed.getSalary()\u001b[0m\u001b[1;33m\u001b[0m\u001b[1;33m\u001b[0m\u001b[0m\n\u001b[1;32m----> 9\u001b[1;33m \u001b[0mEmployee\u001b[0m\u001b[1;33m.\u001b[0m\u001b[0mgetSalary\u001b[0m\u001b[1;33m(\u001b[0m\u001b[0mkhursheed\u001b[0m\u001b[1;33m)\u001b[0m \u001b[1;31m# Employee.getSalary(khursheed)\u001b[0m\u001b[1;33m\u001b[0m\u001b[1;33m\u001b[0m\u001b[0m\n\u001b[0m\u001b[0;32m     10\u001b[0m \u001b[1;33m\u001b[0m\u001b[0m\n",
      "\u001b[1;31mTypeError\u001b[0m: getSalary() takes 0 positional arguments but 1 was given"
     ]
    }
   ],
   "source": [
    "# Using of self operator\n",
    "class Employee:\n",
    "    company = \"Google\"\n",
    "    def getSalary():\n",
    "        print(\"Salary is 100k\")\n",
    "\n",
    "khursheed = Employee()\n",
    "# khursheed.getSalary()\n",
    "Employee.getSalary(khursheed) # Employee.getSalary(khursheed)\n",
    "\n",
    "#  Employee.getSalary(khursheed)  =  def getSalary()\n",
    "#  One arugment is passed and here -  No argument here\n",
    "# Error: getSalary() takes 0 positional arguments but 1 was given"
   ]
  },
  {
   "cell_type": "code",
   "execution_count": 10,
   "id": "a8da22a1",
   "metadata": {},
   "outputs": [
    {
     "name": "stdout",
     "output_type": "stream",
     "text": [
      "Salary for this employee working in Google is 100000\n"
     ]
    }
   ],
   "source": [
    "# Self is used both classes and objects\n",
    "class Employee:\n",
    "    company = \"Google\"\n",
    "    def getSalary(self):\n",
    "        print(f\"Salary for this employee working in {self.company} is {self.salary}\")\n",
    "\n",
    "khursheed = Employee()\n",
    "khursheed.salary = 100000\n",
    "khursheed.getSalary() # Employee.getSalary(harry)"
   ]
  },
  {
   "cell_type": "markdown",
   "id": "55068039",
   "metadata": {},
   "source": [
    "# Static method\n",
    "\n",
    "Sometimes we need a function that doesn’t use the self-parameter. We can define a static method like this:\n",
    "\n",
    "@staticmethod\t#decorator to mark greet as a static method\n",
    "\n",
    "def greet():\n",
    "\t\n",
    "    print(“Hello user”)"
   ]
  },
  {
   "cell_type": "code",
   "execution_count": 26,
   "id": "579607bf",
   "metadata": {},
   "outputs": [
    {
     "name": "stdout",
     "output_type": "stream",
     "text": [
      "Good Morning, Sir\n"
     ]
    }
   ],
   "source": [
    "# Static method (No neede to pass arugment - Self parameter is not required)\n",
    "# Sometimes we need a function that doesn’t use the self-parameter. \n",
    "# We can define a static method like this:\n",
    "\n",
    "\n",
    "class Employee:\n",
    "    company = \"Google\"\n",
    "\n",
    "    @staticmethod\n",
    "    def greet():  # Because no argument is passed\n",
    "        print(\"Good Morning, Sir\")\n",
    "\n",
    "khursheed = Employee()\n",
    "khursheed.greet() # Employee.greet()\n"
   ]
  },
  {
   "cell_type": "code",
   "execution_count": 27,
   "id": "58a0f3a6",
   "metadata": {},
   "outputs": [
    {
     "ename": "TypeError",
     "evalue": "greet() missing 1 required positional argument: 'Self'",
     "output_type": "error",
     "traceback": [
      "\u001b[1;31m---------------------------------------------------------------------------\u001b[0m",
      "\u001b[1;31mTypeError\u001b[0m                                 Traceback (most recent call last)",
      "\u001b[1;32m~\\AppData\\Local\\Temp/ipykernel_3756/3710316457.py\u001b[0m in \u001b[0;36m<module>\u001b[1;34m\u001b[0m\n\u001b[0;32m      7\u001b[0m \u001b[1;33m\u001b[0m\u001b[0m\n\u001b[0;32m      8\u001b[0m \u001b[0mkhursheed\u001b[0m \u001b[1;33m=\u001b[0m \u001b[0mEmployee\u001b[0m\u001b[1;33m(\u001b[0m\u001b[1;33m)\u001b[0m\u001b[1;33m\u001b[0m\u001b[1;33m\u001b[0m\u001b[0m\n\u001b[1;32m----> 9\u001b[1;33m \u001b[0mkhursheed\u001b[0m\u001b[1;33m.\u001b[0m\u001b[0mgreet\u001b[0m\u001b[1;33m(\u001b[0m\u001b[1;33m)\u001b[0m \u001b[1;31m# Employee.greet()\u001b[0m\u001b[1;33m\u001b[0m\u001b[1;33m\u001b[0m\u001b[0m\n\u001b[0m",
      "\u001b[1;31mTypeError\u001b[0m: greet() missing 1 required positional argument: 'Self'"
     ]
    }
   ],
   "source": [
    "# Gives an error if self is used in static method\n",
    "class Employee:\n",
    "    company = \"Google\"\n",
    "\n",
    "    @staticmethod\n",
    "    def greet(Self):  # Because no argument is passed\n",
    "        print(\"Good Morning, Sir\")\n",
    "\n",
    "khursheed = Employee()\n",
    "khursheed.greet() # Employee.greet()"
   ]
  },
  {
   "cell_type": "code",
   "execution_count": 29,
   "id": "2c0e2c79",
   "metadata": {},
   "outputs": [
    {
     "name": "stdout",
     "output_type": "stream",
     "text": [
      "Salary for this employee working in Google is 100000\n",
      "Thanks!\n",
      "Good Morning, Sir\n",
      "The time is 9AM in the morning\n"
     ]
    }
   ],
   "source": [
    "# Static method with greeting also called \"Decorators\"\n",
    "class Employee:\n",
    "    company = \"Google\"\n",
    "\n",
    "    def getSalary(self, signature):\n",
    "        print(f\"Salary for this employee working in {self.company} is {self.salary}\\n{signature}\")\n",
    "\n",
    "    @staticmethod\n",
    "    def greet():\n",
    "        print(\"Good Morning, Sir\")\n",
    "\n",
    "    @staticmethod\n",
    "    def time():\n",
    "        print(\"The time is 9AM in the morning\")\n",
    "\n",
    "khursheed = Employee()\n",
    "khursheed.salary = 100000\n",
    "khursheed.getSalary(\"Thanks!\") # Employee.getSalary(harry)\n",
    "khursheed.greet() # Employee.greet()\n",
    "khursheed.time()"
   ]
  },
  {
   "cell_type": "markdown",
   "id": "f288ab0e",
   "metadata": {},
   "source": [
    "## Constructor\n",
    "\n",
    "__init__() constructor\n",
    "\n",
    "__init__() is a special method which runs as soon as the object is created.\n",
    "\n",
    "__init__() method is also known as constructor.\n",
    "\n",
    "It takes self-argument and can also take further arguments.\n",
    "\n",
    "For Example:\n",
    "\n",
    "class Employee:\n",
    "\t\n",
    "    def __init__(self,name):\n",
    "\t\t\n",
    "        self.name = name\n",
    "\t\n",
    "    def getSalary(self):\n",
    "\t\t\n",
    "        #Some code…\n",
    "khursheed = Employee(“khursheed”)\t#Object can be instantiated using constructor like this!"
   ]
  },
  {
   "cell_type": "code",
   "execution_count": 1,
   "id": "85411198",
   "metadata": {},
   "outputs": [
    {
     "name": "stdout",
     "output_type": "stream",
     "text": [
      "Employee is created\n"
     ]
    }
   ],
   "source": [
    "# It runs without calling it\n",
    "class Employee:\n",
    "    company = \"Google\"\n",
    "\n",
    "    def __init__(self):\n",
    "        print(\"Employee is created\")\n",
    "        \n",
    "khursheed = Employee()"
   ]
  },
  {
   "cell_type": "code",
   "execution_count": 3,
   "id": "40c11ccd",
   "metadata": {},
   "outputs": [],
   "source": [
    "# it does not work with changed name for example __init2__\n",
    "class Employee:\n",
    "    company = \"Google\"\n",
    "\n",
    "    def __init2__(self):\n",
    "        print(\"Employee is created\")\n",
    "        \n",
    "khursheed = Employee()"
   ]
  },
  {
   "cell_type": "code",
   "execution_count": 4,
   "id": "262753b2",
   "metadata": {},
   "outputs": [
    {
     "name": "stdout",
     "output_type": "stream",
     "text": [
      "Employee is created\n"
     ]
    }
   ],
   "source": [
    "# It runs without calling it\n",
    "class Employee:\n",
    "    company = \"Google\"\n",
    "\n",
    "    def __init__(self):\n",
    "        print(\"Employee is created\")\n",
    "    \n",
    "    def getSalary(self, signature):\n",
    "        print(f\"Salary for this employee working in {self.company} is {self.salary}\\n{signature}\")\n",
    "\n",
    "    @staticmethod\n",
    "    def greet():\n",
    "        print(\"Good Morning, Sir\")\n",
    "\n",
    "    @staticmethod\n",
    "    def time():\n",
    "        print(\"The time is 9AM in the morning\")\n",
    "\n",
    "khursheed = Employee()\n"
   ]
  },
  {
   "cell_type": "code",
   "execution_count": 6,
   "id": "87bf7260",
   "metadata": {},
   "outputs": [
    {
     "name": "stdout",
     "output_type": "stream",
     "text": [
      "Employee is created!\n",
      "The name of the employee is Khursheed\n",
      "The salary of the employee is 100\n",
      "The subunit of the employee is YouTube\n"
     ]
    }
   ],
   "source": [
    "class Employee:\n",
    "    company = \"Google\"\n",
    "\n",
    "    def __init__(self, name, salary, subunit):\n",
    "        self.name = name\n",
    "        self.salary = salary\n",
    "        self.subunit = subunit\n",
    "        print(\"Employee is created!\") \n",
    "\n",
    "    def getDetails(self):\n",
    "        print(f\"The name of the employee is {self.name}\")\n",
    "        print(f\"The salary of the employee is {self.salary}\")\n",
    "        print(f\"The subunit of the employee is {self.subunit}\")\n",
    "\n",
    "    def getSalary(self, signature):\n",
    "        print(f\"Salary for this employee working in {self.company} is {self.salary}\\n{signature}\")\n",
    "\n",
    "    @staticmethod\n",
    "    def greet():\n",
    "        print(\"Good Morning, Sir\")\n",
    "\n",
    "    @staticmethod\n",
    "    def time():\n",
    "        print(\"The time is 9AM in the morning\")\n",
    "\n",
    "khursheed = Employee(\"Khursheed\", 100, \"YouTube\")\n",
    "khursheed.getDetails()"
   ]
  },
  {
   "cell_type": "code",
   "execution_count": 7,
   "id": "79d11a64",
   "metadata": {},
   "outputs": [
    {
     "ename": "SyntaxError",
     "evalue": "invalid syntax (Temp/ipykernel_5088/2428914822.py, line 26)",
     "output_type": "error",
     "traceback": [
      "\u001b[1;36m  File \u001b[1;32m\"C:\\Users\\Sony\\AppData\\Local\\Temp/ipykernel_5088/2428914822.py\"\u001b[1;36m, line \u001b[1;32m26\u001b[0m\n\u001b[1;33m    khursheed = Employee() --> This throws an error (missing 3 required positional arguments:)\u001b[0m\n\u001b[1;37m                            ^\u001b[0m\n\u001b[1;31mSyntaxError\u001b[0m\u001b[1;31m:\u001b[0m invalid syntax\n"
     ]
    }
   ],
   "source": [
    "class Employee:\n",
    "    company = \"Google\"\n",
    "\n",
    "    def __init__(self, name, salary, subunit):\n",
    "        self.name = name\n",
    "        self.salary = salary\n",
    "        self.subunit = subunit\n",
    "        print(\"Employee is created!\") \n",
    "\n",
    "    def getDetails(self):\n",
    "        print(f\"The name of the employee is {self.name}\")\n",
    "        print(f\"The salary of the employee is {self.salary}\")\n",
    "        print(f\"The subunit of the employee is {self.subunit}\")\n",
    "\n",
    "    def getSalary(self, signature):\n",
    "        print(f\"Salary for this employee working in {self.company} is {self.salary}\\n{signature}\")\n",
    "\n",
    "    @staticmethod\n",
    "    def greet():\n",
    "        print(\"Good Morning, Sir\")\n",
    "\n",
    "    @staticmethod\n",
    "    def time():\n",
    "        print(\"The time is 9AM in the morning\")\n",
    "\n",
    "khursheed = Employee() --> This throws an error (missing 3 required positional arguments:)\n",
    "khursheed.getDetails()"
   ]
  },
  {
   "cell_type": "markdown",
   "id": "4e11a9e7",
   "metadata": {},
   "source": [
    "## 10 – Practice Set\n",
    "1. Create a class programmer for storing information of a few programmers working at Microsoft.\n",
    "2. Write a class calculator capable of finding square, cube, and the square root of a number.\n",
    "3. Create a class with a class attribute a; create an object from it and set a directly using object.a=0 Does this change the class attribute?\n",
    "4. Add a static method in problem 2 to greet the user with hello.\n",
    "5. Write a class Train which has methods to book a ticket, get status(no of seats), and get fare information of trains running under Indian Railways.\n",
    "6. Can you change the self parameter inside a class to something else (say ‘harry’)? Try changing self to ‘slf’ or ‘harry’ and see the effects.\n",
    "\n",
    "\"----------------------------------------\"\n",
    "\n"
   ]
  },
  {
   "cell_type": "markdown",
   "id": "d9797a2f",
   "metadata": {},
   "source": [
    "1. Create a class programmer for storing information of a few programmers working at Microsoft.\n"
   ]
  },
  {
   "cell_type": "code",
   "execution_count": 8,
   "id": "a60be8b0",
   "metadata": {},
   "outputs": [
    {
     "name": "stdout",
     "output_type": "stream",
     "text": [
      "The name of the Microsoft programmer is Khursheed and the product is Skype\n",
      "The name of the Microsoft programmer is Waseem and the product is GitHub\n"
     ]
    }
   ],
   "source": [
    "class Programmer:\n",
    "    company = \"Microsoft\"\n",
    "\n",
    "    def __init__(self, name, product):\n",
    "        self.name = name\n",
    "        self.product = product\n",
    "\n",
    "    def getInfo(self):\n",
    "        print(f\"The name of the {self.company} programmer is {self.name} and the product is {self.product}\")\n",
    "\n",
    "\n",
    "khursheed = Programmer(\"Khursheed\", \"Skype\")\n",
    "waseem = Programmer(\"Waseem\", \"GitHub\")\n",
    "khursheed.getInfo()\n",
    "waseem.getInfo()"
   ]
  },
  {
   "cell_type": "markdown",
   "id": "75fd5690",
   "metadata": {},
   "source": [
    "2. Write a class calculator capable of finding square, cube, and the square root of a number."
   ]
  },
  {
   "cell_type": "code",
   "execution_count": 9,
   "id": "c8e9106c",
   "metadata": {},
   "outputs": [
    {
     "name": "stdout",
     "output_type": "stream",
     "text": [
      "The value of 9 square is 81\n",
      "The value of 9 square root is 3.0\n",
      "The value of 9 cube is 729\n"
     ]
    }
   ],
   "source": [
    "class Calculator:\n",
    "    def __init__(self, num):\n",
    "        self.number = num\n",
    "\n",
    "    def square(self):\n",
    "        print(f\"The value of {self.number} square is {self.number **2}\")\n",
    "\n",
    "    def squareRoot(self):\n",
    "        print(f\"The value of {self.number} square root is {self.number **0.5}\")\n",
    "\n",
    "    def cube(self):\n",
    "        print(f\"The value of {self.number} cube is {self.number **3}\")\n",
    "\n",
    "a = Calculator(9)\n",
    "a.square()\n",
    "a.squareRoot() \n",
    "a.cube()"
   ]
  },
  {
   "cell_type": "markdown",
   "id": "e5c3cb5b",
   "metadata": {},
   "source": [
    "3. Create a class with a class attribute a; create an object from it and set a directly using object.a=0 Does this change the class attribute? Ans: No"
   ]
  },
  {
   "cell_type": "code",
   "execution_count": 10,
   "id": "800a1fa6",
   "metadata": {},
   "outputs": [
    {
     "name": "stdout",
     "output_type": "stream",
     "text": [
      "Khursheed\n",
      "Waseem\n"
     ]
    }
   ],
   "source": [
    "class Sample:\n",
    "    a = \"Khursheed\"\n",
    "\n",
    "obj = Sample()\n",
    "obj.a = \"Waseem\"\n",
    "# Sample.a = \"Waseem\" # for this command both prints will be Waseem\n",
    "\n",
    "print(Sample.a)\n",
    "print(obj.a)"
   ]
  },
  {
   "cell_type": "code",
   "execution_count": 12,
   "id": "d4d4312c",
   "metadata": {},
   "outputs": [
    {
     "name": "stdout",
     "output_type": "stream",
     "text": [
      "Waseem\n",
      "Waseem\n"
     ]
    }
   ],
   "source": [
    "class Sample:\n",
    "    a = \"Khursheed\"\n",
    "\n",
    "obj = Sample()\n",
    "obj.a = \"Waseem\"\n",
    "Sample.a = \"Waseem\" # for this command both prints will be Waseem\n",
    "\n",
    "print(Sample.a)\n",
    "print(obj.a)"
   ]
  },
  {
   "cell_type": "markdown",
   "id": "c69ca3fe",
   "metadata": {},
   "source": [
    "4. Add a static method in problem 2 to greet the user with hello."
   ]
  },
  {
   "cell_type": "code",
   "execution_count": 11,
   "id": "b9408853",
   "metadata": {},
   "outputs": [
    {
     "name": "stdout",
     "output_type": "stream",
     "text": [
      "*******Hello there welcome to the best calculator of the world*******\n",
      "The value of 9 square is 81\n",
      "The value of 9 square root is 3.0\n",
      "The value of 9 cube is 729\n"
     ]
    }
   ],
   "source": [
    "class Calculator:\n",
    "    def __init__(self, num):\n",
    "        self.number = num\n",
    "\n",
    "    def square(self):\n",
    "        print(f\"The value of {self.number} square is {self.number **2}\")\n",
    "\n",
    "    def squareRoot(self):\n",
    "        print(f\"The value of {self.number} square root is {self.number **0.5}\")\n",
    "\n",
    "    def cube(self):\n",
    "        print(f\"The value of {self.number} cube is {self.number **3}\")\n",
    "    \n",
    "    @staticmethod\n",
    "    def greet():\n",
    "        print(\"*******Hello there welcome to the best calculator of the world*******\")\n",
    "\n",
    "a = Calculator(9)\n",
    "a.greet()\n",
    "a.square()\n",
    "a.squareRoot() \n",
    "a.cube()"
   ]
  },
  {
   "cell_type": "markdown",
   "id": "e7cde128",
   "metadata": {},
   "source": [
    "5. Write a class Train which has methods to book a ticket, get status(no of seats), and get fare information of trains running under Indian Railways."
   ]
  },
  {
   "cell_type": "code",
   "execution_count": 1,
   "id": "c7f1e687",
   "metadata": {},
   "outputs": [
    {
     "name": "stdout",
     "output_type": "stream",
     "text": [
      "************\n",
      "The name of the train is Intercity Express: 14015\n",
      "The seats available in the train are 2\n",
      "************\n",
      "The price of the ticket is: Rs 90\n"
     ]
    }
   ],
   "source": [
    "class Train:\n",
    "    def __init__(self, name, fare, seats):\n",
    "        self.name = name\n",
    "        self.fare = fare\n",
    "        self.seats = seats\n",
    "\n",
    "    def getStatus(self):\n",
    "        print(\"************\")\n",
    "        print(f\"The name of the train is {self.name}\")\n",
    "        print(f\"The seats available in the train are {self.seats}\")\n",
    "        print(\"************\")\n",
    "\n",
    "    def fareInfo(self):\n",
    "        print(f\"The price of the ticket is: Rs {self.fare}\")\n",
    "\n",
    "   \n",
    "intercity = Train(\"Intercity Express: 14015\", 90, 2)\n",
    "intercity.getStatus() \n",
    "intercity.fareInfo() "
   ]
  },
  {
   "cell_type": "code",
   "execution_count": 2,
   "id": "aadde6ad",
   "metadata": {},
   "outputs": [
    {
     "name": "stdout",
     "output_type": "stream",
     "text": [
      "************\n",
      "The name of the train is Intercity Express: 14015\n",
      "The seats available in the train are 2\n",
      "************\n",
      "Your ticket has been booked! Your seat number is 2\n",
      "Your ticket has been booked! Your seat number is 1\n",
      "Sorry this train is full!\n",
      "************\n",
      "The name of the train is Intercity Express: 14015\n",
      "The seats available in the train are 0\n",
      "************\n"
     ]
    }
   ],
   "source": [
    "'''\n",
    "1 2 3 4 5 6 7 8 9 10   Seats numbers\n",
    "'''\n",
    "\n",
    "class Train:\n",
    "    def __init__(self, name, fare, seats):\n",
    "        self.name = name\n",
    "        self.fare = fare\n",
    "        self.seats = seats\n",
    "\n",
    "    def getStatus(self):\n",
    "        print(\"************\")\n",
    "        print(f\"The name of the train is {self.name}\")\n",
    "        print(f\"The seats available in the train are {self.seats}\")\n",
    "        print(\"************\")\n",
    "\n",
    "    def fareInfo(self):\n",
    "        print(f\"The price of the ticket is: Rs {self.fare}\")\n",
    "\n",
    "    def bookTicket(self):\n",
    "        if(self.seats>0):\n",
    "            print(f\"Your ticket has been booked! Your seat number is {self.seats}\")\n",
    "            self.seats = self.seats - 1\n",
    "        else:\n",
    "            print(\"Sorry this train is full!\")\n",
    "\n",
    "    def cancelTicket(self, seatNo):\n",
    "        pass\n",
    "\n",
    "intercity = Train(\"Intercity Express: 14015\", 90, 2)\n",
    "intercity.getStatus() \n",
    "intercity.bookTicket()\n",
    "intercity.bookTicket()\n",
    "intercity.bookTicket()\n",
    "intercity.getStatus()"
   ]
  },
  {
   "cell_type": "markdown",
   "id": "7593c9d8",
   "metadata": {},
   "source": [
    "6. Can you change the self parameter inside a class to something else (say ‘harry’)? Try changing self to ‘slf’ or ‘harry’ and see the effects."
   ]
  },
  {
   "cell_type": "code",
   "execution_count": 17,
   "id": "362f99d5",
   "metadata": {},
   "outputs": [
    {
     "name": "stdout",
     "output_type": "stream",
     "text": [
      "Khursheed\n"
     ]
    }
   ],
   "source": [
    "# Not important\n",
    "class Sample: \n",
    "    def __init__(slf, name):\n",
    "        slf.name = name\n",
    "\n",
    "obj = Sample(\"Khursheed\") \n",
    "print(obj.name) \n",
    " "
   ]
  },
  {
   "cell_type": "code",
   "execution_count": null,
   "id": "7bbc0737",
   "metadata": {},
   "outputs": [],
   "source": []
  }
 ],
 "metadata": {
  "kernelspec": {
   "display_name": "Python 3 (ipykernel)",
   "language": "python",
   "name": "python3"
  },
  "language_info": {
   "codemirror_mode": {
    "name": "ipython",
    "version": 3
   },
   "file_extension": ".py",
   "mimetype": "text/x-python",
   "name": "python",
   "nbconvert_exporter": "python",
   "pygments_lexer": "ipython3",
   "version": "3.9.7"
  }
 },
 "nbformat": 4,
 "nbformat_minor": 5
}
