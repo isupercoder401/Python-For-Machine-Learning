{
 "cells": [
  {
   "cell_type": "markdown",
   "id": "27742f82",
   "metadata": {},
   "source": [
    "# Assignment 1\n",
    "\n",
    "1. Write a program to print Twinkle-Twinkle Little Star poem in python.\n",
    "2. Install an external module and use it to perform an operation of your interest.\n",
    "3. Write a python program to print the contents of a directory using os module. Search online for the function which does that.\n",
    "4. Label the program written in problem 4 with comments."
   ]
  },
  {
   "cell_type": "markdown",
   "id": "b19cbdd2",
   "metadata": {},
   "source": [
    "# 1\n",
    "Write a program to print Twinkle-Twinkle Little Star poem in python"
   ]
  },
  {
   "cell_type": "code",
   "execution_count": 3,
   "id": "88491c1b",
   "metadata": {},
   "outputs": [
    {
     "name": "stdout",
     "output_type": "stream",
     "text": [
      "Twinkle, twinkle, little star,\n",
      "How I wonder what you are!\n",
      "Up above the world so high,\n",
      "Like a diamond in the sky.\n"
     ]
    }
   ],
   "source": [
    "print('''Twinkle, twinkle, little star,\n",
    "How I wonder what you are!\n",
    "Up above the world so high,\n",
    "Like a diamond in the sky.''')"
   ]
  },
  {
   "cell_type": "code",
   "execution_count": 4,
   "id": "a6c669fe",
   "metadata": {},
   "outputs": [
    {
     "name": "stdout",
     "output_type": "stream",
     "text": [
      "Twinkle, twinkle, little star\n"
     ]
    }
   ],
   "source": [
    "print('Twinkle, twinkle, little star')"
   ]
  },
  {
   "cell_type": "code",
   "execution_count": 5,
   "id": "e1c6bcb5",
   "metadata": {},
   "outputs": [
    {
     "name": "stdout",
     "output_type": "stream",
     "text": [
      "Twinkle, twinkle, little star\n"
     ]
    }
   ],
   "source": [
    "print(\"Twinkle, twinkle, little star\")"
   ]
  },
  {
   "cell_type": "markdown",
   "id": "2647624a",
   "metadata": {},
   "source": [
    "# 2\n",
    "use pip install command"
   ]
  },
  {
   "cell_type": "code",
   "execution_count": 6,
   "id": "7f9628c6",
   "metadata": {},
   "outputs": [
    {
     "name": "stdout",
     "output_type": "stream",
     "text": [
      "Requirement already satisfied: playsound in c:\\users\\sony\\anaconda3\\lib\\site-packages (1.3.0)\n",
      "Note: you may need to restart the kernel to use updated packages.\n"
     ]
    },
    {
     "name": "stderr",
     "output_type": "stream",
     "text": [
      "WARNING: You are using pip version 22.1.2; however, version 22.3.1 is available.\n",
      "You should consider upgrading via the 'C:\\Users\\Sony\\Anaconda3\\python.exe -m pip install --upgrade pip' command.\n"
     ]
    }
   ],
   "source": [
    "pip install playsound"
   ]
  },
  {
   "cell_type": "code",
   "execution_count": 7,
   "id": "22266dd7",
   "metadata": {},
   "outputs": [],
   "source": [
    "from playsound import playsound"
   ]
  },
  {
   "cell_type": "code",
   "execution_count": null,
   "id": "b07604f8",
   "metadata": {},
   "outputs": [],
   "source": [
    "playsound('C:\\\\Users\\\\Sony\\\\Desktop\\\\Fellow Course\\\\play.mp3')"
   ]
  },
  {
   "cell_type": "markdown",
   "id": "d2ee6742",
   "metadata": {},
   "source": [
    "# 3\n",
    "Write a python program to print the contents of a directory using os module. Search online for the function which does that."
   ]
  },
  {
   "cell_type": "code",
   "execution_count": 8,
   "id": "b4901e71",
   "metadata": {},
   "outputs": [
    {
     "name": "stdout",
     "output_type": "stream",
     "text": [
      "['.ipynb_checkpoints', '1 - Assignment 1.ipynb', '1 - Modules Comments PIP.ipynb', '1.txt']\n"
     ]
    }
   ],
   "source": [
    "import os\n",
    "print(os.listdir())"
   ]
  },
  {
   "cell_type": "code",
   "execution_count": null,
   "id": "eff67da4",
   "metadata": {},
   "outputs": [],
   "source": []
  },
  {
   "cell_type": "code",
   "execution_count": null,
   "id": "8956eaca",
   "metadata": {},
   "outputs": [],
   "source": []
  },
  {
   "cell_type": "code",
   "execution_count": null,
   "id": "42499688",
   "metadata": {},
   "outputs": [],
   "source": []
  }
 ],
 "metadata": {
  "kernelspec": {
   "display_name": "Python 3",
   "language": "python",
   "name": "python3"
  },
  "language_info": {
   "codemirror_mode": {
    "name": "ipython",
    "version": 3
   },
   "file_extension": ".py",
   "mimetype": "text/x-python",
   "name": "python",
   "nbconvert_exporter": "python",
   "pygments_lexer": "ipython3",
   "version": "3.8.8"
  }
 },
 "nbformat": 4,
 "nbformat_minor": 5
}
