{
 "cells": [
  {
   "cell_type": "markdown",
   "id": "33997c01",
   "metadata": {},
   "source": [
    "## What is Programming?\n",
    "Programming is a way to instruct the computer to perform various tasks.\n",
    "\n",
    "## What is Python?\n",
    "Python is a simple and easy-to-understand language that feels like reading simple English. This Pseudo code nature of Python makes it easy to learn and understandable for beginners.\n",
    "\n",
    "## Features of Python:\n",
    "- Easy to understand = Less development time\n",
    "- Free and open source\n",
    "- High-level language\n",
    "- Portable – works on Windows/Linux/Mac\n",
    "\n",
    "## Installation\n",
    "\n",
    "Python can be easily installed from python.org\n",
    "\n",
    "When you click on the download button, python can be installed right after you complete the setup by executing the file for your platform."
   ]
  },
  {
   "cell_type": "markdown",
   "id": "506c9e77",
   "metadata": {},
   "source": [
    "# Modules\n",
    "A module is a file containing code written by somebody else (usually) which can be imported and used in our programs.\n",
    "\n",
    "# Types of modules\n",
    "There are two types of modules in Python:\n",
    "\n",
    "Built-in modules – Pre-installed in Python\n",
    "External modules – Need to install using pip\n",
    "Some examples of built-in modules are os, abc, etc.\n",
    "\n",
    "Some examples of external modules are TensorFlow, flask, etc.\n",
    "\n",
    "List of buildin modules can be found in the website below\n",
    "https://docs.python.org/3/py-modindex.html"
   ]
  },
  {
   "cell_type": "code",
   "execution_count": null,
   "id": "9ee9c50c",
   "metadata": {},
   "outputs": [],
   "source": [
    "import os # buildin  module with python"
   ]
  },
  {
   "cell_type": "code",
   "execution_count": null,
   "id": "04fe595b",
   "metadata": {},
   "outputs": [],
   "source": [
    "import tensorflow  # not buildin module with python, we must install it externally, "
   ]
  },
  {
   "cell_type": "markdown",
   "id": "d874287e",
   "metadata": {},
   "source": [
    "# Pip\n",
    "Pip is a package manager for python. You can use pip to install a module on your system."
   ]
  },
  {
   "cell_type": "code",
   "execution_count": null,
   "id": "157f9a92",
   "metadata": {},
   "outputs": [],
   "source": [
    "pip install tensorflow   # write the command on current file directory / command prompt, \n",
    "                         # it will install the tenssor flow and you can use it now by importing"
   ]
  },
  {
   "cell_type": "markdown",
   "id": "b0f4e735",
   "metadata": {},
   "source": [
    "# Using Python as a Calculator\n",
    "\n",
    "We can use python as a calculator by typing “python” + TO DO on the terminal. [It opens REPL or read evaluation print loop]\n",
    "You can use it on python terminal"
   ]
  },
  {
   "cell_type": "code",
   "execution_count": 20,
   "id": "e9ab039d",
   "metadata": {},
   "outputs": [
    {
     "data": {
      "text/plain": [
       "5"
      ]
     },
     "execution_count": 20,
     "metadata": {},
     "output_type": "execute_result"
    }
   ],
   "source": [
    "2+3"
   ]
  },
  {
   "cell_type": "code",
   "execution_count": 21,
   "id": "d33b999f",
   "metadata": {},
   "outputs": [
    {
     "data": {
      "text/plain": [
       "13"
      ]
     },
     "execution_count": 21,
     "metadata": {},
     "output_type": "execute_result"
    }
   ],
   "source": [
    "6+7"
   ]
  },
  {
   "cell_type": "markdown",
   "id": "b5f1aa7e",
   "metadata": {},
   "source": [
    "# Comments\n",
    "Comments are used to write something which the programmer does not want to execute.\n",
    "\n",
    "Comments can be used to mark the author's name, date, etc.\n",
    "\n",
    "# Types of Comments:\n",
    "\n",
    "There are two types of comments in python,\n",
    "\n",
    "Single line comments – Written using # (pound/hash symbol)\n",
    "\n",
    "Multi-line comments – Written using '''Comment ''' or  \"\"\"\"Comment \"\"\"\""
   ]
  },
  {
   "cell_type": "code",
   "execution_count": 22,
   "id": "11eef580",
   "metadata": {},
   "outputs": [
    {
     "data": {
      "text/plain": [
       "12"
      ]
     },
     "execution_count": 22,
     "metadata": {},
     "output_type": "execute_result"
    }
   ],
   "source": [
    "# Author Khursheed\n",
    "# organization. AITeC\n",
    "\n",
    "5+7"
   ]
  },
  {
   "cell_type": "code",
   "execution_count": 24,
   "id": "cf824269",
   "metadata": {},
   "outputs": [
    {
     "data": {
      "text/plain": [
       "12"
      ]
     },
     "execution_count": 24,
     "metadata": {},
     "output_type": "execute_result"
    }
   ],
   "source": [
    "'''*************  \n",
    "Author Khursheed  \n",
    "organization. AITeC  \n",
    "************ ''' \n",
    "\n",
    "\n",
    "5+7"
   ]
  },
  {
   "cell_type": "code",
   "execution_count": 25,
   "id": "8e62fe9a",
   "metadata": {},
   "outputs": [
    {
     "data": {
      "text/plain": [
       "9"
      ]
     },
     "execution_count": 25,
     "metadata": {},
     "output_type": "execute_result"
    }
   ],
   "source": [
    "\"\"\" *************  \n",
    "Author Khursheed  \n",
    "organization. AITeC  \n",
    "************ \"\"\"\n",
    "\n",
    "2+7"
   ]
  },
  {
   "cell_type": "markdown",
   "id": "1a0d07ee",
   "metadata": {},
   "source": [
    "# Print"
   ]
  },
  {
   "cell_type": "code",
   "execution_count": 26,
   "id": "4285b875",
   "metadata": {},
   "outputs": [
    {
     "name": "stdout",
     "output_type": "stream",
     "text": [
      "Hello\n"
     ]
    }
   ],
   "source": [
    "print(\"Hello\")"
   ]
  },
  {
   "cell_type": "code",
   "execution_count": 27,
   "id": "3971233c",
   "metadata": {},
   "outputs": [
    {
     "name": "stdout",
     "output_type": "stream",
     "text": [
      "My First Name is Syed Khursheed and My Last Name is Hasnain\n"
     ]
    }
   ],
   "source": [
    "first_name='Syed Khursheed'\n",
    "last_name='Hasnain'\n",
    "print(\"My First Name is {} and My Last Name is {}\".format(first_name,last_name))"
   ]
  },
  {
   "cell_type": "code",
   "execution_count": 9,
   "id": "e5601471",
   "metadata": {},
   "outputs": [
    {
     "name": "stdout",
     "output_type": "stream",
     "text": [
      "9\n"
     ]
    }
   ],
   "source": [
    "print(len('Khursheed'))"
   ]
  },
  {
   "cell_type": "code",
   "execution_count": 10,
   "id": "158b0f0b",
   "metadata": {},
   "outputs": [
    {
     "name": "stdout",
     "output_type": "stream",
     "text": [
      "20 5 Wasem 9 Syed Khursheed\n"
     ]
    }
   ],
   "source": [
    "a=20\n",
    "b=5\n",
    "print(a,b,\"Wasem\",len('Khursheed'),first_name)"
   ]
  },
  {
   "cell_type": "code",
   "execution_count": 28,
   "id": "de4e133a",
   "metadata": {},
   "outputs": [
    {
     "name": "stdout",
     "output_type": "stream",
     "text": [
      "Yes0\n",
      "Yes1\n",
      "Yes2\n",
      "Yes3\n",
      "Yes4\n"
     ]
    }
   ],
   "source": [
    "i=0\n",
    "while i<5:\n",
    "    print(\"Yes\" + str(i))\n",
    "    # print(\"Yes\" + i) # can only concatenate str (not \"int\") to str\n",
    "    i = i+1\n"
   ]
  },
  {
   "cell_type": "code",
   "execution_count": 29,
   "id": "261cb04b",
   "metadata": {},
   "outputs": [
    {
     "ename": "TypeError",
     "evalue": "can only concatenate str (not \"int\") to str",
     "output_type": "error",
     "traceback": [
      "\u001b[1;31m---------------------------------------------------------------------------\u001b[0m",
      "\u001b[1;31mTypeError\u001b[0m                                 Traceback (most recent call last)",
      "\u001b[1;32m<ipython-input-29-743c640d1996>\u001b[0m in \u001b[0;36m<module>\u001b[1;34m\u001b[0m\n\u001b[0;32m      2\u001b[0m \u001b[0mi\u001b[0m\u001b[1;33m=\u001b[0m\u001b[1;36m0\u001b[0m\u001b[1;33m\u001b[0m\u001b[1;33m\u001b[0m\u001b[0m\n\u001b[0;32m      3\u001b[0m \u001b[1;32mwhile\u001b[0m \u001b[0mi\u001b[0m\u001b[1;33m<\u001b[0m\u001b[1;36m5\u001b[0m\u001b[1;33m:\u001b[0m\u001b[1;33m\u001b[0m\u001b[1;33m\u001b[0m\u001b[0m\n\u001b[1;32m----> 4\u001b[1;33m     \u001b[0mprint\u001b[0m\u001b[1;33m(\u001b[0m\u001b[1;34m\"Yes\"\u001b[0m\u001b[1;33m+\u001b[0m \u001b[0mi\u001b[0m\u001b[1;33m)\u001b[0m\u001b[1;33m\u001b[0m\u001b[1;33m\u001b[0m\u001b[0m\n\u001b[0m\u001b[0;32m      5\u001b[0m     \u001b[0mi\u001b[0m \u001b[1;33m=\u001b[0m \u001b[0mi\u001b[0m\u001b[1;33m+\u001b[0m\u001b[1;36m1\u001b[0m\u001b[1;33m\u001b[0m\u001b[1;33m\u001b[0m\u001b[0m\n",
      "\u001b[1;31mTypeError\u001b[0m: can only concatenate str (not \"int\") to str"
     ]
    }
   ],
   "source": [
    "# It will through a error \"+\" concatante two strings (not intergers and strings)\n",
    "i=0\n",
    "while i<5:\n",
    "    print(\"Yes\"+ i)\n",
    "    i = i+1"
   ]
  },
  {
   "cell_type": "code",
   "execution_count": 13,
   "id": "a3ec3a4e",
   "metadata": {},
   "outputs": [
    {
     "name": "stdout",
     "output_type": "stream",
     "text": [
      "Yes 0\n",
      "Yes 1\n",
      "Yes 2\n",
      "Yes 3\n",
      "Yes 4\n"
     ]
    }
   ],
   "source": [
    "i=0\n",
    "while i<5:\n",
    "    print(\"Yes\", str(i)) # comma add a space between two units\n",
    "    i = i+1"
   ]
  },
  {
   "cell_type": "code",
   "execution_count": 14,
   "id": "fadee978",
   "metadata": {},
   "outputs": [
    {
     "name": "stdout",
     "output_type": "stream",
     "text": [
      "Yes 0\n",
      "Yes 1\n",
      "Yes 2\n",
      "Yes 3\n",
      "Yes 4\n"
     ]
    }
   ],
   "source": [
    "i=0\n",
    "while i<5:\n",
    "    print(\"Yes\", i) # i is without string\n",
    "    i = i+1"
   ]
  },
  {
   "cell_type": "code",
   "execution_count": 15,
   "id": "c6c9fd76",
   "metadata": {},
   "outputs": [
    {
     "name": "stdout",
     "output_type": "stream",
     "text": [
      "yes\n"
     ]
    }
   ],
   "source": [
    "print(\"yes\")  # print String"
   ]
  },
  {
   "cell_type": "code",
   "execution_count": 30,
   "id": "4fd5faea",
   "metadata": {},
   "outputs": [
    {
     "name": "stdout",
     "output_type": "stream",
     "text": [
      "Enter the number5\n",
      "5X1=5\n",
      "5X2=10\n",
      "5X3=15\n",
      "5X4=20\n",
      "5X5=25\n",
      "5X6=30\n",
      "5X7=35\n",
      "5X8=40\n",
      "5X9=45\n",
      "5X10=50\n"
     ]
    }
   ],
   "source": [
    "# Table program\n",
    "num = int(input(\"Enter the number\"))\n",
    "for i in range(1,11):\n",
    "    print(str(num) + \"X\" + str(i) + \"=\" + str(i*num))"
   ]
  },
  {
   "cell_type": "code",
   "execution_count": 17,
   "id": "b63f0621",
   "metadata": {},
   "outputs": [
    {
     "name": "stdout",
     "output_type": "stream",
     "text": [
      "Enter the number5\n",
      "5X1=5\n",
      "5X2=10\n",
      "5X3=15\n",
      "5X4=20\n",
      "5X5=25\n",
      "5X6=30\n",
      "5X7=35\n",
      "5X8=40\n",
      "5X9=45\n",
      "5X10=50\n"
     ]
    }
   ],
   "source": [
    "# Table program by f-string (print(f))\n",
    "num = int(input(\"Enter the number\"))\n",
    "for i in range(1,11):\n",
    "    print(f\"{num}X{i}={num*i}\")"
   ]
  },
  {
   "cell_type": "code",
   "execution_count": 31,
   "id": "446cba9f",
   "metadata": {},
   "outputs": [
    {
     "name": "stdout",
     "output_type": "stream",
     "text": [
      "Enter the number:5\n",
      "The factorial of 5 is 120\n"
     ]
    }
   ],
   "source": [
    "# Factorial program\n",
    " \n",
    "num = int(input(\"Enter the number:\"))\n",
    "factorial=1\n",
    "for i in range(1,num+1):\n",
    "    factorial = factorial*i\n",
    "    \n",
    "print(f\"The factorial of {num} is {factorial}\")"
   ]
  },
  {
   "cell_type": "code",
   "execution_count": 19,
   "id": "3d265df7",
   "metadata": {},
   "outputs": [
    {
     "name": "stdout",
     "output_type": "stream",
     "text": [
      "*****\n"
     ]
    }
   ],
   "source": [
    "print(\"*\"*5)"
   ]
  },
  {
   "cell_type": "code",
   "execution_count": null,
   "id": "75c362b0",
   "metadata": {},
   "outputs": [],
   "source": []
  }
 ],
 "metadata": {
  "kernelspec": {
   "display_name": "Python 3",
   "language": "python",
   "name": "python3"
  },
  "language_info": {
   "codemirror_mode": {
    "name": "ipython",
    "version": 3
   },
   "file_extension": ".py",
   "mimetype": "text/x-python",
   "name": "python",
   "nbconvert_exporter": "python",
   "pygments_lexer": "ipython3",
   "version": "3.8.8"
  }
 },
 "nbformat": 4,
 "nbformat_minor": 5
}
