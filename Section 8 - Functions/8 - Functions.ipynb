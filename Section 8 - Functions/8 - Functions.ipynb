{
 "cells": [
  {
   "cell_type": "markdown",
   "id": "c210328a",
   "metadata": {},
   "source": [
    "# Functions\n",
    "\n",
    "A function is a group of statements performing a specific task.\n",
    "\n",
    "When a program gets bigger in size and its complexity grows, it gets difficult for a programmer to keep track of which piece of code is doing what!\n",
    "\n",
    "A function can be reused by the programmer in a given program any number of times.\n",
    "\n",
    "Example and Syntax of a function\n",
    "\n",
    "The syntax of a function looks as follows:\n",
    "\n",
    "def func1():\n",
    "\n",
    "    print(“Hello”)\n",
    "\n",
    "This function can be called any number of times, anywhere in the program.\n",
    "\n",
    "Function call\n",
    "\n",
    "Whenever we want to call a function, we put the name of the function followed by parenthesis as follows:\n",
    "\n",
    "func1() #This is called function call\n",
    "\n",
    "Function definition\n",
    "\n",
    "The part containing the exact set of instructions that are executed during the function call.\n"
   ]
  },
  {
   "cell_type": "markdown",
   "id": "f56d1db5",
   "metadata": {},
   "source": [
    "# Functions with arguments\n",
    "\n",
    "A function can accept some values it can work with. We can put these values in the parenthesis. A function can also return values as shown below:\n",
    "\n",
    "def greet(name):\n",
    "gr = “Hello” + name\n",
    "return gr\n",
    "\n",
    "a = greet(“Khursheed”) #“Khursheed” is passed to greet in name\n",
    "\n",
    "a will now contain “Hello Khursheed”\n",
    "\n",
    "## Default Parameter Value\n",
    "\n",
    "We can have a value as the default argument in a function.\n",
    "\n",
    "If we specify name = “stranger” in the line containing def, this value is used when no argument is passed.\n"
   ]
  },
  {
   "cell_type": "code",
   "execution_count": 1,
   "id": "025d07a3",
   "metadata": {},
   "outputs": [
    {
     "name": "stdout",
     "output_type": "stream",
     "text": [
      "71.5 74.75\n"
     ]
    }
   ],
   "source": [
    "# Function input is a list of 4 entries - Return Numeric value\n",
    "def percent(marks):\n",
    "    p=((marks[0]+marks[1]+marks[2]+marks[3])/400)*100\n",
    "    return p\n",
    "\n",
    "marks1=[45, 78, 86, 77]\n",
    "percentage1=percent(marks1)\n",
    "\n",
    "marks2=[45, 78, 86, 90]\n",
    "percentage2=percent(marks2)\n",
    "\n",
    "print(percentage1,percentage2)"
   ]
  },
  {
   "cell_type": "code",
   "execution_count": 2,
   "id": "51a581a3",
   "metadata": {},
   "outputs": [
    {
     "name": "stdout",
     "output_type": "stream",
     "text": [
      "Good Day, Khursheed\n"
     ]
    }
   ],
   "source": [
    "# Function input is a string - No return (Direct print)\n",
    "def greet(name):\n",
    "    print(\"Good Day, \"+ name)\n",
    "    \n",
    "greet(\"Khursheed\")"
   ]
  },
  {
   "cell_type": "code",
   "execution_count": 4,
   "id": "13965a21",
   "metadata": {},
   "outputs": [
    {
     "name": "stdout",
     "output_type": "stream",
     "text": [
      "Good Day, Khursheed\n",
      "Good Day, Stranger\n"
     ]
    }
   ],
   "source": [
    "# function with default value\n",
    "def greet(name=\"Stranger\"):\n",
    "    print(\"Good Day, \"+ name)\n",
    "    \n",
    "greet(\"Khursheed\")\n",
    "greet()  # for the default  value - here it is Stranger"
   ]
  },
  {
   "cell_type": "code",
   "execution_count": 5,
   "id": "068b3e2a",
   "metadata": {},
   "outputs": [
    {
     "name": "stdout",
     "output_type": "stream",
     "text": [
      "720\n"
     ]
    }
   ],
   "source": [
    "n=6\n",
    "product =1\n",
    "for i in range(n):\n",
    "    product=product*(i+1) # Like factorial\n",
    "print(product)\n",
    "\n",
    "# Product * (n+1) \n",
    "# 1 *  (0+1) = 1*1  = 1\n",
    "# 1 *  (1+1) = 1*2  = 2\n",
    "# 2 *  (1+2) = 2*3  = 6\n",
    "# 6 *  (1+3) = 6*4  = 24\n",
    "# 24 * (1+4) = 24*5 = 120\n",
    "# 120 * (1+5) = 120*6 = 720"
   ]
  },
  {
   "cell_type": "code",
   "execution_count": 1,
   "id": "56d40bd7",
   "metadata": {},
   "outputs": [
    {
     "name": "stdout",
     "output_type": "stream",
     "text": [
      "120\n"
     ]
    }
   ],
   "source": [
    "# Function input numeric - Return numeric\n",
    "def factorial_iter(n):\n",
    "    product =1\n",
    "    for i in range(n):\n",
    "        product=product*(i+1)\n",
    "    # print(product) # Direct print\n",
    "    return product\n",
    "\n",
    "f= factorial_iter(5)\n",
    "print(f)"
   ]
  },
  {
   "attachments": {},
   "cell_type": "markdown",
   "id": "7730b779",
   "metadata": {},
   "source": [
    "## Practice Set\n",
    "\n",
    "- Write a program using the function to find the greatest of three numbers.\n",
    "- Write a python program using the function to convert Celsius to Fahrenheit.\n",
    "- How do you prevent a python print() function to print a new line at the end?\n",
    "- Write a recursive function to calculate the sum of first n natural numbers.\n",
    "- Write a python function to print the first n lines of the following pattern.\n",
    "- Write a python function that converts inches to cms.\n",
    "- Write a python function to remove a given word from a list and strip it at the same time.\n",
    "- Write a python function to print the multiplication table of a given number.\n"
   ]
  },
  {
   "cell_type": "code",
   "execution_count": 12,
   "id": "66afa741",
   "metadata": {},
   "outputs": [
    {
     "name": "stdout",
     "output_type": "stream",
     "text": [
      "the value of maximum is 234\n"
     ]
    }
   ],
   "source": [
    "# Write a program using the function to find the greatest of three numbers.\n",
    "\n",
    "def maximum (num1,num2,num3):\n",
    "    if (num1>num2):\n",
    "        if(num1>num3):\n",
    "            return num1\n",
    "        else:\n",
    "            return num3\n",
    "    else:\n",
    "        if num2>num3:\n",
    "            return num2\n",
    "        else:\n",
    "            return num3\n",
    "m = maximum(3, 5, 234)\n",
    "print(\"the value of maximum is \" + str(m))\n",
    "    \n",
    "        "
   ]
  },
  {
   "cell_type": "code",
   "execution_count": 15,
   "id": "a9d475df",
   "metadata": {},
   "outputs": [
    {
     "name": "stdout",
     "output_type": "stream",
     "text": [
      "Fahrenheit Temperature is 80.6\n"
     ]
    }
   ],
   "source": [
    "# Write a python program using the function to convert Celsius to Fahrenheit.\n",
    "\n",
    "def farh(cel):\n",
    "    return(cel*(9/5)) + 32\n",
    "\n",
    "c = 27\n",
    "f = farh(c)\n",
    "print(\"Fahrenheit Temperature is \" + str(f))"
   ]
  },
  {
   "cell_type": "code",
   "execution_count": 16,
   "id": "d80e713d",
   "metadata": {},
   "outputs": [
    {
     "name": "stdout",
     "output_type": "stream",
     "text": [
      "Hellow\n",
      "How\n",
      "Are\n",
      "You\n"
     ]
    }
   ],
   "source": [
    "# How do you prevent a python print() function to print a new line at the end\n",
    "print(\"Hellow\")\n",
    "print(\"How\")\n",
    "print(\"Are\")\n",
    "print(\"You\")"
   ]
  },
  {
   "cell_type": "code",
   "execution_count": 17,
   "id": "c54130c7",
   "metadata": {},
   "outputs": [
    {
     "name": "stdout",
     "output_type": "stream",
     "text": [
      "HellowHowAreYou"
     ]
    }
   ],
   "source": [
    "print(\"Hellow\", end=\"\") # It will attached what will be defined in \"\"\n",
    "print(\"How\", end=\"\")    # By default \"\" it is line removal\n",
    "print(\"Are\", end=\"\")\n",
    "print(\"You\", end=\"\")"
   ]
  },
  {
   "cell_type": "code",
   "execution_count": 18,
   "id": "372e5172",
   "metadata": {},
   "outputs": [
    {
     "name": "stdout",
     "output_type": "stream",
     "text": [
      "Hellow How Are You "
     ]
    }
   ],
   "source": [
    "print(\"Hellow\", end=\" \") # it removes the next line but add spaces\n",
    "print(\"How\", end=\" \")\n",
    "print(\"Are\", end=\" \")\n",
    "print(\"You\", end=\" \")"
   ]
  },
  {
   "cell_type": "code",
   "execution_count": 19,
   "id": "d584b193",
   "metadata": {},
   "outputs": [
    {
     "name": "stdout",
     "output_type": "stream",
     "text": [
      "Hellow\n",
      " How\n",
      " Are\n",
      " You\n",
      " "
     ]
    }
   ],
   "source": [
    "print(\"Hellow\", end=\"\\n \") # default value is \"\\n \"\n",
    "print(\"How\", end=\"\\n \")\n",
    "print(\"Are\", end=\"\\n \")\n",
    "print(\"You\", end=\"\\n \")"
   ]
  },
  {
   "cell_type": "code",
   "execution_count": 20,
   "id": "5fa93298",
   "metadata": {},
   "outputs": [
    {
     "name": "stdout",
     "output_type": "stream",
     "text": [
      "******\n",
      "*****\n",
      "****\n",
      "***\n",
      "**\n",
      "*\n"
     ]
    }
   ],
   "source": [
    "# Write a python function to print the first n lines of the following pattern.\n",
    "\n",
    "n=6\n",
    "for i in range(n):\n",
    "    print(\"*\" * (n-i))"
   ]
  },
  {
   "cell_type": "code",
   "execution_count": 21,
   "id": "4a14ab26",
   "metadata": {},
   "outputs": [
    {
     "name": "stdout",
     "output_type": "stream",
     "text": [
      "***\n",
      "**\n",
      "*\n"
     ]
    }
   ],
   "source": [
    "# Write a python function to print the first n lines of the following pattern.\n",
    "n=3\n",
    "for i in range(n):\n",
    "    print(\"*\" * (n-i))\n",
    "    #print(n)\n"
   ]
  },
  {
   "cell_type": "code",
   "execution_count": 22,
   "id": "ff695e06",
   "metadata": {},
   "outputs": [
    {
     "name": "stdout",
     "output_type": "stream",
     "text": [
      "       Khursheed is good      \n",
      "Khursheed is good\n"
     ]
    }
   ],
   "source": [
    "# Strip function  is used to remove the extra spaces\n",
    "this = \"       Khursheed is good      \"\n",
    "print(this)\n",
    "print(this.strip())"
   ]
  },
  {
   "cell_type": "code",
   "execution_count": 23,
   "id": "1704d926",
   "metadata": {},
   "outputs": [
    {
     "name": "stdout",
     "output_type": "stream",
     "text": [
      "is good\n"
     ]
    }
   ],
   "source": [
    "# Write a python function to remove a given word from a String \n",
    "# and strip it at the same time.\n",
    "\n",
    "def remove_and_split(string, word): # We will pas a sentence (String) and remove a word\n",
    "    newStr=string.replace(word,\"\") # this command replace the word with \"\"\n",
    "    return newStr.strip()\n",
    "\n",
    "# For this example, \"remove_and_split\" function \n",
    "# take the input -  this = \"      Khursheed is good      \"\n",
    "# string.replace - word (Khursheed) will be replace by null (\"\")\n",
    "# newStr.strip  - Extra spaces will be removed\n",
    "\n",
    "this = \"       Khursheed is good      \"\n",
    "n=remove_and_split(this,\"Khursheed\")\n",
    "print(n)"
   ]
  },
  {
   "cell_type": "code",
   "execution_count": null,
   "id": "56beca96",
   "metadata": {},
   "outputs": [],
   "source": []
  }
 ],
 "metadata": {
  "kernelspec": {
   "display_name": "Python 3",
   "language": "python",
   "name": "python3"
  },
  "language_info": {
   "codemirror_mode": {
    "name": "ipython",
    "version": 3
   },
   "file_extension": ".py",
   "mimetype": "text/x-python",
   "name": "python",
   "nbconvert_exporter": "python",
   "pygments_lexer": "ipython3",
   "version": "3.8.8"
  }
 },
 "nbformat": 4,
 "nbformat_minor": 5
}
