{
 "cells": [
  {
   "cell_type": "markdown",
   "id": "b864fa3d",
   "metadata": {},
   "source": [
    "## Exception handling"
   ]
  },
  {
   "cell_type": "markdown",
   "id": "2382bfac",
   "metadata": {},
   "source": [
    "There are many built-in exceptions that are raised in Python when something goes wrong.\n",
    "\n",
    "Exceptions in Python can be handled using a try statement. The code that handles the exception is written in except clause."
   ]
  },
  {
   "cell_type": "markdown",
   "id": "9189b491",
   "metadata": {},
   "source": [
    "When the exception is handled, the code flow continues without program interruption.\n",
    "\n",
    "We can also specify the exceptions to catch like below:"
   ]
  },
  {
   "cell_type": "code",
   "execution_count": 17,
   "id": "201ab35c",
   "metadata": {},
   "outputs": [
    {
     "name": "stdout",
     "output_type": "stream",
     "text": [
      "Enter value for a:10\n",
      "Enter value for b:20\n",
      "0.5\n"
     ]
    }
   ],
   "source": [
    "a = int(input(\"Enter value for a:\"))  # e.g = 10\n",
    "b = int(input(\"Enter value for b:\"))  # e.g = 20\n",
    "l = [10, 20, 30, 40, 50]\n",
    "\n",
    "c = a/b\n",
    "print(c)\n",
    "# with the 10 and 20 example the the value of C=0.5 and no error occur"
   ]
  },
  {
   "cell_type": "code",
   "execution_count": 18,
   "id": "97d4f57e",
   "metadata": {},
   "outputs": [
    {
     "name": "stdout",
     "output_type": "stream",
     "text": [
      "Enter value for a:10\n",
      "Enter value for b:0\n"
     ]
    },
    {
     "ename": "ZeroDivisionError",
     "evalue": "division by zero",
     "output_type": "error",
     "traceback": [
      "\u001b[1;31m---------------------------------------------------------------------------\u001b[0m",
      "\u001b[1;31mZeroDivisionError\u001b[0m                         Traceback (most recent call last)",
      "\u001b[1;32m~\\AppData\\Local\\Temp/ipykernel_6408/2263727374.py\u001b[0m in \u001b[0;36m<module>\u001b[1;34m\u001b[0m\n\u001b[0;32m      3\u001b[0m \u001b[0ml\u001b[0m \u001b[1;33m=\u001b[0m \u001b[1;33m[\u001b[0m\u001b[1;36m10\u001b[0m\u001b[1;33m,\u001b[0m \u001b[1;36m20\u001b[0m\u001b[1;33m,\u001b[0m \u001b[1;36m30\u001b[0m\u001b[1;33m,\u001b[0m \u001b[1;36m40\u001b[0m\u001b[1;33m,\u001b[0m \u001b[1;36m50\u001b[0m\u001b[1;33m]\u001b[0m\u001b[1;33m\u001b[0m\u001b[1;33m\u001b[0m\u001b[0m\n\u001b[0;32m      4\u001b[0m \u001b[1;33m\u001b[0m\u001b[0m\n\u001b[1;32m----> 5\u001b[1;33m \u001b[0mc\u001b[0m \u001b[1;33m=\u001b[0m \u001b[0ma\u001b[0m\u001b[1;33m/\u001b[0m\u001b[0mb\u001b[0m\u001b[1;33m\u001b[0m\u001b[1;33m\u001b[0m\u001b[0m\n\u001b[0m\u001b[0;32m      6\u001b[0m \u001b[0mprint\u001b[0m\u001b[1;33m(\u001b[0m\u001b[0mc\u001b[0m\u001b[1;33m)\u001b[0m\u001b[1;33m\u001b[0m\u001b[1;33m\u001b[0m\u001b[0m\n\u001b[0;32m      7\u001b[0m \u001b[1;31m# with the 10 and 0 example the the value of C=infinity\u001b[0m\u001b[1;33m\u001b[0m\u001b[1;33m\u001b[0m\u001b[0m\n",
      "\u001b[1;31mZeroDivisionError\u001b[0m: division by zero"
     ]
    }
   ],
   "source": [
    "a = int(input(\"Enter value for a:\"))  # e.g = 10\n",
    "b = int(input(\"Enter value for b:\"))  # e.g = 0\n",
    "l = [10, 20, 30, 40, 50]\n",
    "\n",
    "c = a/b\n",
    "print(c)\n",
    "# with the 10 and 0 example the the value of C=infinity\n",
    "# ZeroDivisionError will occour and program stops \n",
    "# and incase of GUI will have serious issues"
   ]
  },
  {
   "cell_type": "markdown",
   "id": "bb14f2a2",
   "metadata": {},
   "source": [
    "There are multiple type of errors for example\n",
    "- AttributeError\n",
    "- FileNotFoundError\n",
    "- IndexError\n",
    "- KeyError\n",
    "- NameError\n",
    "- TypeError\n",
    "- ValueError\n",
    "- ZeroDivisionError"
   ]
  },
  {
   "cell_type": "code",
   "execution_count": 23,
   "id": "f2221fad",
   "metadata": {},
   "outputs": [
    {
     "name": "stdout",
     "output_type": "stream",
     "text": [
      "Enter value for a:10\n",
      "Enter value for b:0\n",
      "Exception Raised\n"
     ]
    }
   ],
   "source": [
    "a = int(input(\"Enter value for a:\"))  # e.g = 10\n",
    "b = int(input(\"Enter value for b:\"))  # e.g = 0\n",
    "l = [10, 20, 30, 40, 50]\n",
    "\n",
    "try:\n",
    "    c = a/b\n",
    "    print(c)\n",
    "    print(l[6])  # it is wrong, as it does not exist\n",
    "except:\n",
    "    print(\"Exception Raised\")\n",
    "    \n",
    "# print(l[6]) it will not executed if c = a/b is wrong. \n",
    "# After first error program is interpted"
   ]
  },
  {
   "cell_type": "code",
   "execution_count": 24,
   "id": "c6104f35",
   "metadata": {},
   "outputs": [
    {
     "name": "stdout",
     "output_type": "stream",
     "text": [
      "Enter value for a:10\n",
      "Enter value for b:20\n",
      "0.5\n",
      "Exception Raised\n"
     ]
    }
   ],
   "source": [
    "a = int(input(\"Enter value for a:\"))  # e.g = 10\n",
    "b = int(input(\"Enter value for b:\"))  # e.g = 20\n",
    "l = [10, 20, 30, 40, 50]\n",
    "\n",
    "try:\n",
    "    c = a/b\n",
    "    print(c)\n",
    "    print(l[6])  # it is wrong, as it does not exist\n",
    "except:\n",
    "    print(\"Exception Raised\")\n",
    "    \n",
    "# print(l[6]) it will be executed if c = a/b is Right. \n",
    "# program is interpted due to print(l[6])"
   ]
  },
  {
   "cell_type": "code",
   "execution_count": 26,
   "id": "a5b93306",
   "metadata": {},
   "outputs": [
    {
     "name": "stdout",
     "output_type": "stream",
     "text": [
      "Enter value for a:10\n",
      "Enter value for b:0\n",
      "division by zero\n"
     ]
    }
   ],
   "source": [
    "# if you want to know which execption is occur\n",
    "\n",
    "a = int(input(\"Enter value for a:\"))  # e.g = 10\n",
    "b = int(input(\"Enter value for b:\"))  # e.g = 0\n",
    "l = [10, 20, 30, 40, 50]\n",
    "\n",
    "try:\n",
    "    c = a/b\n",
    "    print(c)\n",
    "    print(l[6])  # it is wrong, as it does not exist\n",
    "except Exception as e:\n",
    "    print(e)\n",
    "\n",
    "# Error/Exception occur at division at C will be copied in e"
   ]
  },
  {
   "cell_type": "code",
   "execution_count": 27,
   "id": "807344e3",
   "metadata": {},
   "outputs": [
    {
     "name": "stdout",
     "output_type": "stream",
     "text": [
      "Enter value for a:10\n",
      "Enter value for b:20\n",
      "0.5\n",
      "list index out of range\n"
     ]
    }
   ],
   "source": [
    "# if you want to know which execption is occur\n",
    "\n",
    "a = int(input(\"Enter value for a:\"))  # e.g = 10\n",
    "b = int(input(\"Enter value for b:\"))  # e.g = 20\n",
    "l = [10, 20, 30, 40, 50]\n",
    "\n",
    "try:\n",
    "    c = a/b\n",
    "    print(c)\n",
    "    print(l[6])  # it is wrong, as it does not exist\n",
    "except Exception as e:\n",
    "    print(e)\n",
    "\n",
    "# Error/Exception occur at l[6] C will be copied in e"
   ]
  },
  {
   "cell_type": "code",
   "execution_count": 35,
   "id": "7be0e472",
   "metadata": {},
   "outputs": [
    {
     "name": "stdout",
     "output_type": "stream",
     "text": [
      "Enter value for a:10\n",
      "Enter value for b:0\n",
      "Execption raised & using default value for denominator\n",
      "10.0\n"
     ]
    }
   ],
   "source": [
    "# if you want to know which execption is occur\n",
    "\n",
    "a = int(input(\"Enter value for a:\"))  # e.g = 10\n",
    "b = int(input(\"Enter value for b:\"))  # e.g = 0\n",
    "l = [10, 20, 30, 40, 50]\n",
    "\n",
    "try:\n",
    "    c = a/b\n",
    "    print(c)\n",
    "    #print(l[4])  # now it is correct\n",
    "except:\n",
    "    print(\"Execption raised & using default value for denominator\")\n",
    "    b=1\n",
    "    c=a/b\n",
    "    print(c)\n",
    "\n",
    "# except block will fix the error as above"
   ]
  },
  {
   "cell_type": "code",
   "execution_count": 36,
   "id": "7202e81b",
   "metadata": {},
   "outputs": [
    {
     "name": "stdout",
     "output_type": "stream",
     "text": [
      "Enter value for a:10\n",
      "Enter value for b:0\n"
     ]
    },
    {
     "ename": "ZeroDivisionError",
     "evalue": "division by zero",
     "output_type": "error",
     "traceback": [
      "\u001b[1;31m---------------------------------------------------------------------------\u001b[0m",
      "\u001b[1;31mZeroDivisionError\u001b[0m                         Traceback (most recent call last)",
      "\u001b[1;32m~\\AppData\\Local\\Temp/ipykernel_6408/978358066.py\u001b[0m in \u001b[0;36m<module>\u001b[1;34m\u001b[0m\n\u001b[0;32m      6\u001b[0m \u001b[1;33m\u001b[0m\u001b[0m\n\u001b[0;32m      7\u001b[0m \u001b[1;32mtry\u001b[0m\u001b[1;33m:\u001b[0m\u001b[1;33m\u001b[0m\u001b[1;33m\u001b[0m\u001b[0m\n\u001b[1;32m----> 8\u001b[1;33m     \u001b[0mc\u001b[0m \u001b[1;33m=\u001b[0m \u001b[0ma\u001b[0m\u001b[1;33m/\u001b[0m\u001b[0mb\u001b[0m\u001b[1;33m\u001b[0m\u001b[1;33m\u001b[0m\u001b[0m\n\u001b[0m\u001b[0;32m      9\u001b[0m     \u001b[0mprint\u001b[0m\u001b[1;33m(\u001b[0m\u001b[0mc\u001b[0m\u001b[1;33m)\u001b[0m\u001b[1;33m\u001b[0m\u001b[1;33m\u001b[0m\u001b[0m\n\u001b[0;32m     10\u001b[0m     \u001b[0mprint\u001b[0m\u001b[1;33m(\u001b[0m\u001b[0ml\u001b[0m\u001b[1;33m[\u001b[0m\u001b[1;36m6\u001b[0m\u001b[1;33m]\u001b[0m\u001b[1;33m)\u001b[0m  \u001b[1;31m# it is not correct\u001b[0m\u001b[1;33m\u001b[0m\u001b[1;33m\u001b[0m\u001b[0m\n",
      "\u001b[1;31mZeroDivisionError\u001b[0m: division by zero"
     ]
    }
   ],
   "source": [
    "# If you want specific error handling put it in except block\n",
    "# Below block only handle Index error not the ZeroDivisionError\n",
    "\n",
    "a = int(input(\"Enter value for a:\"))  # e.g = 10\n",
    "b = int(input(\"Enter value for b:\"))  # e.g = 0\n",
    "l = [10, 20, 30, 40, 50]\n",
    "\n",
    "try:\n",
    "    c = a/b\n",
    "    print(c)\n",
    "    print(l[6])  # it is not correct\n",
    "except IndexError:\n",
    "    print(\"Execption raised & using default value for denominator\")\n",
    "    b=1\n",
    "    c=a/b\n",
    "    print(c)\n"
   ]
  },
  {
   "cell_type": "code",
   "execution_count": 37,
   "id": "341332b8",
   "metadata": {},
   "outputs": [
    {
     "name": "stdout",
     "output_type": "stream",
     "text": [
      "Enter value for a:10\n",
      "Enter value for b:20\n",
      "0.5\n",
      "Execption raised & using default value for denominator\n",
      "10.0\n"
     ]
    }
   ],
   "source": [
    "# If you want specific error handling put it in except block\n",
    "# Below block only handle Index error not the ZeroDivisionError\n",
    "\n",
    "a = int(input(\"Enter value for a:\"))  # e.g = 10\n",
    "b = int(input(\"Enter value for b:\"))  # e.g = 20\n",
    "l = [10, 20, 30, 40, 50]\n",
    "\n",
    "try:\n",
    "    c = a/b\n",
    "    print(c)\n",
    "    print(l[6])  # it is not correct\n",
    "except IndexError:\n",
    "    print(\"Execption raised & using default value for denominator\")\n",
    "    b=1\n",
    "    c=a/b\n",
    "    print(c)"
   ]
  },
  {
   "cell_type": "code",
   "execution_count": null,
   "id": "ba3e5556",
   "metadata": {},
   "outputs": [],
   "source": [
    "# If you want specific error handling put it in except block\n",
    "\n",
    "a = int(input(\"Enter value for a:\"))  # e.g = 10\n",
    "b = int(input(\"Enter value for b:\"))  # e.g = 20\n",
    "l = [10, 20, 30, 40, 50]\n",
    "\n",
    "try:\n",
    "    c = a/b\n",
    "    print(c)\n",
    "    print(l[6])  # it is not correct\n",
    "except IndexError:\n",
    "    print(\"Execption raised & using default value for denominator\")\n",
    "    b=1\n",
    "    c=a/b\n",
    "    print(c)\n"
   ]
  },
  {
   "cell_type": "code",
   "execution_count": 2,
   "id": "a25342d4",
   "metadata": {},
   "outputs": [
    {
     "name": "stdout",
     "output_type": "stream",
     "text": [
      "Press q to quit\n",
      "Enter a number: 8\n",
      "You entered a number greater than 6\n",
      "Press q to quit\n",
      "Enter a number: q\n",
      "Thanks for playing this game\n"
     ]
    }
   ],
   "source": [
    "# The below program through a error if user enter a string instead of number\n",
    "# to handle this error exception  handling will be used\n",
    "\n",
    "while(True):\n",
    "    print(\"Press q to quit\")\n",
    "    a = input(\"Enter a number: \")\n",
    "    if a == 'q':\n",
    "        break\n",
    "    \n",
    "    a = int(a)\n",
    "    if a>6:\n",
    "        print(\"You entered a number greater than 6\")\n",
    "    \n",
    "print(\"Thanks for playing this game\")"
   ]
  },
  {
   "cell_type": "code",
   "execution_count": 1,
   "id": "c0cbb331",
   "metadata": {},
   "outputs": [
    {
     "name": "stdout",
     "output_type": "stream",
     "text": [
      "Press q to quit\n",
      "Enter a number: 5\n",
      "Trying...\n",
      "Press q to quit\n",
      "Enter a number: g\n",
      "Trying...\n",
      "Your input resulted in an error: invalid literal for int() with base 10: 'g'\n",
      "Press q to quit\n",
      "Enter a number: q\n",
      "Thanks for playing this game\n"
     ]
    }
   ],
   "source": [
    "while(True):\n",
    "    print(\"Press q to quit\")\n",
    "    a = input(\"Enter a number: \")\n",
    "    if a == 'q':\n",
    "        break\n",
    "    try:\n",
    "        print(\"Trying...\")\n",
    "        a = int(a)\n",
    "        if a>6:\n",
    "            print(\"You entered a number greater than 6\")\n",
    "    except Exception as e:\n",
    "        print(f\"Your input resulted in an error: {e}\")\n",
    "\n",
    "print(\"Thanks for playing this game\")"
   ]
  },
  {
   "cell_type": "code",
   "execution_count": 7,
   "id": "69086660",
   "metadata": {},
   "outputs": [
    {
     "name": "stdout",
     "output_type": "stream",
     "text": [
      "Enter a number: q\n",
      "Please Enter a valid value\n",
      "Thanks for using this code!\n"
     ]
    }
   ],
   "source": [
    "# Handling different exceptions\n",
    "\n",
    "try:\n",
    "    a = int(input(\"Enter a number: \"))\n",
    "    c = 1/a\n",
    "    print(c)\n",
    "    \n",
    "except ValueError as e:   # Specific exception handling\n",
    "    print(\"Please Enter a valid value\") \n",
    "\n",
    "except ZeroDivisionError as e:\n",
    "    print(\"Make sure you are not dividing by 0\") \n",
    "\n",
    "print(\"Thanks for using this code!\")"
   ]
  },
  {
   "cell_type": "markdown",
   "id": "cabcf6c1",
   "metadata": {},
   "source": [
    "## Raising Exception "
   ]
  },
  {
   "cell_type": "markdown",
   "id": "6db9e8e8",
   "metadata": {},
   "source": [
    "- If there is any problem in input or with data the exception will be automattically executed by the interpreter\n",
    "- However, we can write the exception or indicated the exception by ourself in order to validate the input by \"Raise\"."
   ]
  },
  {
   "cell_type": "code",
   "execution_count": 1,
   "id": "e1f9a27e",
   "metadata": {},
   "outputs": [
    {
     "name": "stdout",
     "output_type": "stream",
     "text": [
      "Enter value for a:10\n",
      "Enter value for b:0\n",
      "Exception raised\n"
     ]
    }
   ],
   "source": [
    "a = int(input(\"Enter value for a:\"))  # e.g = 10\n",
    "b = int(input(\"Enter value for b:\"))  # e.g = 0\n",
    "\n",
    "try:\n",
    "    c = a/b\n",
    "    print(c)\n",
    "        \n",
    "except:\n",
    "    print(\"Exception raised\")"
   ]
  },
  {
   "cell_type": "code",
   "execution_count": 3,
   "id": "2903663d",
   "metadata": {},
   "outputs": [
    {
     "name": "stdout",
     "output_type": "stream",
     "text": [
      "Enter value for a:10\n",
      "Enter value for b:0\n",
      "Exception raised\n"
     ]
    }
   ],
   "source": [
    "a = int(input(\"Enter value for a:\"))  # e.g = 10\n",
    "b = int(input(\"Enter value for b:\"))  # e.g = 0\n",
    "\n",
    "try:\n",
    "    if b==0:\n",
    "        raise Exception\n",
    "    c = a/b\n",
    "    print(c)\n",
    "        \n",
    "except:\n",
    "    print(\"Exception raised\")"
   ]
  },
  {
   "cell_type": "code",
   "execution_count": 4,
   "id": "a9323248",
   "metadata": {},
   "outputs": [
    {
     "name": "stdout",
     "output_type": "stream",
     "text": [
      "Enter value for a:10\n",
      "Enter value for b:0\n",
      "Exception raised\n"
     ]
    }
   ],
   "source": [
    "a = int(input(\"Enter value for a:\"))  # e.g = 10\n",
    "b = int(input(\"Enter value for b:\"))  # e.g = 0\n",
    "\n",
    "try:\n",
    "    if b==0:\n",
    "        raise ZeroDivisionError  # Specify the exception \n",
    "    c = a/b\n",
    "    print(c)\n",
    "        \n",
    "except ZeroDivisionError:\n",
    "    print(\"Exception raised\")"
   ]
  },
  {
   "cell_type": "code",
   "execution_count": 6,
   "id": "1a33f3a8",
   "metadata": {},
   "outputs": [
    {
     "name": "stdout",
     "output_type": "stream",
     "text": [
      "Enter value for a:10\n",
      "Enter value for b:0\n",
      "Exception raised by Khursheed\n"
     ]
    }
   ],
   "source": [
    "a = int(input(\"Enter value for a:\"))  # e.g = 10\n",
    "b = int(input(\"Enter value for b:\"))  # e.g = 0\n",
    "\n",
    "try:\n",
    "    if b==0:\n",
    "        raise Exception (\"Exception raised by Khursheed\")  # Custom exception \n",
    "    c = a/b\n",
    "    print(c)\n",
    "        \n",
    "except Exception as e:\n",
    "    print(e)"
   ]
  },
  {
   "cell_type": "code",
   "execution_count": 8,
   "id": "0afc128d",
   "metadata": {},
   "outputs": [
    {
     "name": "stdout",
     "output_type": "stream",
     "text": [
      "Enter Marks :120\n",
      "Marks should be between 0 and 100\n"
     ]
    }
   ],
   "source": [
    "marks = int(input(\"Enter Marks :\"))\n",
    "try:\n",
    "    if marks<0 or marks>100:\n",
    "        raise Exception(\"Marks should be between 0 and 100\")\n",
    "    print(\"Marks :\", marks)\n",
    "except Exception as e:\n",
    "    print(e)"
   ]
  },
  {
   "cell_type": "markdown",
   "id": "15c30ed0",
   "metadata": {},
   "source": [
    "## try with else clause"
   ]
  },
  {
   "cell_type": "code",
   "execution_count": 16,
   "id": "10f8057d",
   "metadata": {},
   "outputs": [
    {
     "name": "stdout",
     "output_type": "stream",
     "text": [
      "Enter a number: 10\n",
      "We were successful\n"
     ]
    }
   ],
   "source": [
    "# try with else clause\n",
    "\n",
    "# Sometimes we want to run a piece of code when try was successful.\n",
    "# Else and try run together\n",
    "\n",
    "try:\n",
    "    i = int(input(\"Enter a number: \"))\n",
    "    c = 1/i\n",
    "except Exception as e:\n",
    "    print(e)\n",
    "else:\n",
    "    print(\"We were successful\") # this is executed when try was successful\n",
    "\n",
    "# if the input number is correct, else statement will run, otherwise error\n",
    "# prints"
   ]
  },
  {
   "cell_type": "markdown",
   "id": "701cfcc3",
   "metadata": {},
   "source": [
    "## try with finally\n",
    "- Python offers a finally clause which ensures execution of a piece of code irrespective of the exception."
   ]
  },
  {
   "cell_type": "code",
   "execution_count": 17,
   "id": "ea1d9a3c",
   "metadata": {},
   "outputs": [
    {
     "data": {
      "text/plain": [
       "'\\ntry:\\n\\t#some code\\nexcept:\\n\\t#some code\\nfinally:\\n\\t#some code\\t\\t(executed regardless of error!)\\n'"
      ]
     },
     "execution_count": 17,
     "metadata": {},
     "output_type": "execute_result"
    }
   ],
   "source": [
    "'''\n",
    "try:\n",
    "\t#some code\n",
    "except:\n",
    "\t#some code\n",
    "finally:\n",
    "\t#some code\t\t(executed regardless of error!)\n",
    "'''\n",
    "\n",
    "\n"
   ]
  },
  {
   "cell_type": "code",
   "execution_count": 1,
   "id": "0f422369",
   "metadata": {},
   "outputs": [
    {
     "name": "stdout",
     "output_type": "stream",
     "text": [
      "Enter a number: 0\n",
      "division by zero\n",
      "We are done\n",
      "Thanks for using the program\n"
     ]
    }
   ],
   "source": [
    "# Here if input is either correct or not, \"Finally\" statement run in any case\n",
    "# if input is not correct it will also show the error + Finally statement\n",
    "# if input is correct it will show output + Finally statement\n",
    "# \"Finally\" excecute regardless of error even though the program quits\n",
    "try:\n",
    "    i = int(input(\"Enter a number: \"))\n",
    "    c = 1/i\n",
    "except Exception as e:\n",
    "    print(e)\n",
    "    exit()\n",
    "finally:\n",
    "    print(\"We are done\")\n",
    "\n",
    "print(\"Thanks for using the program\")"
   ]
  },
  {
   "cell_type": "markdown",
   "id": "b3ca75fe",
   "metadata": {},
   "source": [
    "## if __name__==’__main__’ in Python\n",
    "\n",
    "__name__ evaluates to the name of the module in Python from where the program is ran.\n",
    "\n",
    "If the module is being run directly from the command line, the __name__ is set to string “__main__”.\n",
    "\n",
    "Thus this behavior is used to check whether the module is run directly or imported to another file."
   ]
  },
  {
   "cell_type": "code",
   "execution_count": 1,
   "id": "1641c19f",
   "metadata": {},
   "outputs": [
    {
     "name": "stdout",
     "output_type": "stream",
     "text": [
      "Enter a name\n",
      "Zameer\n",
      "Good morning, Zameer\n"
     ]
    }
   ],
   "source": [
    "# See the testing of this program in m06_file1 & m07_file2\n",
    "# 41 min\n",
    "# Example should be in spyder\n",
    "\n",
    "def greet(name):\n",
    "    print(f\"Good morning, {name}\")\n",
    "\n",
    "    n = input(\"Enter a name\\n\")\n",
    "    greet(n)"
   ]
  },
  {
   "cell_type": "code",
   "execution_count": null,
   "id": "f1cb0004",
   "metadata": {},
   "outputs": [],
   "source": [
    "# See the testing of this program in m06_file1 & m07_file2\n",
    "\n",
    "import m06_file1\n",
    "m06_file1.greet(\"Khursheed\")"
   ]
  },
  {
   "cell_type": "markdown",
   "id": "230fb397",
   "metadata": {},
   "source": [
    "Notes for above two lines\n",
    "\n",
    "- the above two lines are value able if works as independent file in spyder or \n",
    "- If we run the second last line it will ask the name and print greeting\n",
    "- If we run the last line it will call the first line and asked again the name for greeting. but we already passed the preson to greet\n",
    "- so to resolve the issue we modify the command as follows, it will not ask the person for greetings"
   ]
  },
  {
   "cell_type": "code",
   "execution_count": null,
   "id": "27944fd7",
   "metadata": {},
   "outputs": [],
   "source": [
    "def greet(name):\n",
    "    print(f\"Good morning, {name}\")\n",
    "\n",
    "# print(__name__)\n",
    "if __name__ == \"__main__\":\n",
    "    n = input(\"Enter a name\\n\")\n",
    "    greet(n)\n",
    "\n",
    "    \n",
    "# if the same file runs it will ask the name for greeting\n",
    "# if it is call by other file it will not ask the person but use person by calling file\n",
    "# here (__name__ == \"__main__\") work as main of the file. if only works when it\n",
    "# runs indepently otherwise when the complete file call from other file, it will\n",
    "# not run the main()"
   ]
  },
  {
   "cell_type": "markdown",
   "id": "bcbe43f9",
   "metadata": {},
   "source": [
    "## The global keyword\n",
    "\n",
    "- global keyword is used to modify the variable outside of the current scope."
   ]
  },
  {
   "cell_type": "code",
   "execution_count": 1,
   "id": "d2a8c020",
   "metadata": {},
   "outputs": [
    {
     "name": "stdout",
     "output_type": "stream",
     "text": [
      "Variable: 8\n"
     ]
    }
   ],
   "source": [
    "# How the variable is modified\n",
    "a = 54 \n",
    "def func1():\n",
    "    a = 8 \n",
    "    print(f\"Local Variable: {a}\")\n",
    "\n",
    "func1()\n",
    "# is the value of a is changed to 8 from 54 ??"
   ]
  },
  {
   "cell_type": "code",
   "execution_count": 2,
   "id": "ce2e9053",
   "metadata": {},
   "outputs": [
    {
     "name": "stdout",
     "output_type": "stream",
     "text": [
      "Local Variable: 8\n",
      "Global Variable: 54\n"
     ]
    }
   ],
   "source": [
    "# How the variable is modified\n",
    "a = 54 \n",
    "def func1():\n",
    "    a = 8 \n",
    "    print(f\"Local Variable: {a}\")\n",
    "\n",
    "func1()\n",
    "print(f\"Global Variable: {a}\")\n",
    "# is the value of a is changed to 8 from 54 ??"
   ]
  },
  {
   "cell_type": "code",
   "execution_count": 3,
   "id": "a52f2307",
   "metadata": {},
   "outputs": [
    {
     "name": "stdout",
     "output_type": "stream",
     "text": [
      "Print statement A: 8\n",
      "Print statement C: 54\n"
     ]
    }
   ],
   "source": [
    "a = 54 # Global variable\n",
    "def func1():\n",
    "    a = 8 # Local Variable if global keyword is not used, \n",
    "    #value of global varaible remains unchanged\n",
    "    print(f\"Print statement A: {a}\")\n",
    "\n",
    "func1()\n",
    "print(f\"Print statement C: {a}\")"
   ]
  },
  {
   "cell_type": "code",
   "execution_count": 4,
   "id": "6c815ef0",
   "metadata": {},
   "outputs": [
    {
     "name": "stdout",
     "output_type": "stream",
     "text": [
      "Print statement 1: 54\n",
      "Print statement 2: 8\n",
      "Print statement 3: 8\n"
     ]
    }
   ],
   "source": [
    "a = 54 # Global variable\n",
    "def func1():\n",
    "    global a # Once keyword golbal is used, now the value of global varible \n",
    "    # will be changed\n",
    "    print(f\"Print statement 1: {a}\")\n",
    "    a = 8 # now global varible = local variable\n",
    "    print(f\"Print statement 2: {a}\")\n",
    "\n",
    "func1()\n",
    "print(f\"Print statement 3: {a}\")"
   ]
  },
  {
   "cell_type": "markdown",
   "id": "c8eaa5a0",
   "metadata": {},
   "source": [
    "## enumerate function in Python\n",
    "\n",
    "The enumerate function adds counter to an iterable and returns it.\n",
    "\n",
    "for i, item in list1:\n",
    "\n",
    "    print(i, item)            #Prints the items of list1 with index!"
   ]
  },
  {
   "cell_type": "code",
   "execution_count": 5,
   "id": "c244e4f7",
   "metadata": {},
   "outputs": [
    {
     "name": "stdout",
     "output_type": "stream",
     "text": [
      "3\n",
      "53\n",
      "2\n",
      "False\n",
      "6.2\n",
      "Khursheed\n"
     ]
    }
   ],
   "source": [
    "list1 = [3, 53, 2, False, 6.2, \"Khursheed\"]\n",
    "\n",
    "for item in list1:\n",
    "     print(item) # Print the list item but not the index of list"
   ]
  },
  {
   "cell_type": "code",
   "execution_count": 6,
   "id": "fd3d5f00",
   "metadata": {},
   "outputs": [
    {
     "name": "stdout",
     "output_type": "stream",
     "text": [
      "3 0\n",
      "53 1\n",
      "2 2\n",
      "False 3\n",
      "6.2 4\n",
      "Khursheed 5\n"
     ]
    }
   ],
   "source": [
    "# if we want to print the index of the items, we could use the following\n",
    "\n",
    "list1 = [3, 53, 2, False, 6.2, \"Khursheed\"]\n",
    "\n",
    "index = 0\n",
    "for item in list1:\n",
    "     print(item, index)\n",
    "     index += 1"
   ]
  },
  {
   "cell_type": "code",
   "execution_count": 8,
   "id": "5e5df317",
   "metadata": {},
   "outputs": [
    {
     "name": "stdout",
     "output_type": "stream",
     "text": [
      "3 0\n",
      "53 1\n",
      "2 2\n",
      "False 3\n",
      "6.2 4\n",
      "Khursheed 5\n"
     ]
    }
   ],
   "source": [
    "# The same work could be done by using \"enumerate\"\n",
    "list1 = [3, 53, 2, False, 6.2, \"Khursheed\"]\n",
    "\n",
    "#for item in list1:\n",
    "for index, item in enumerate(list1):\n",
    "    print(item, index)"
   ]
  },
  {
   "cell_type": "markdown",
   "id": "e7dabee1",
   "metadata": {},
   "source": [
    "## List comprehensions\n",
    "\n",
    "List comprehensions is an elegant way to create lists based on existing lists.\n",
    "\n",
    "list1 = [1, 7, 12, 11, 22]\n",
    "\n",
    "list2 = [i for item in list1 if item>8]"
   ]
  },
  {
   "cell_type": "code",
   "execution_count": 9,
   "id": "b4436566",
   "metadata": {},
   "outputs": [
    {
     "name": "stdout",
     "output_type": "stream",
     "text": [
      "[6, 8, 2, 4]\n"
     ]
    }
   ],
   "source": [
    "# make a list of even numbers from a\n",
    "a = [3, 6, 7, 8, 9, 2, 4, 23, 75, 23, 123, 67]\n",
    "b = []\n",
    "for item in a:\n",
    "     if item%2==0:\n",
    "         b.append(item)\n",
    "print(b)"
   ]
  },
  {
   "cell_type": "code",
   "execution_count": 10,
   "id": "1436fcab",
   "metadata": {},
   "outputs": [
    {
     "name": "stdout",
     "output_type": "stream",
     "text": [
      "[6, 8, 2, 4]\n",
      "{1, 2, 3, 4}\n"
     ]
    }
   ],
   "source": [
    "# The above work can be done by list comprehensions\n",
    "\n",
    "a = [3, 6, 7, 8, 9, 2, 4, 23, 75, 23, 123, 67]\n",
    "\n",
    "# Shortcut to write the same:\n",
    "b = [i for i in a if i%2==0] # Same command for the above multiple lines\n",
    "print(b)\n",
    "\n",
    "t = [1, 4, 2, 4, 1, 2, 3] # multiple items\n",
    "s = {i for i in t} # After list comprehension, now multiple items delted and ordered \n",
    "print(s)            # {set} doesnot allow repeated values"
   ]
  },
  {
   "cell_type": "markdown",
   "id": "bbf11c11",
   "metadata": {},
   "source": [
    "## Practice Set\n",
    "- 1 -  Write a program to open three files 1.txt, 2.txt, and 3.txt. if any of these files are not present, a message without exiting the program must be printed prompting the same.\n",
    "- 2 - Write a program to print the third, fifth, and seventh elements from a list using the enumerate function.\n",
    "- 3 - Write a list comprehension to print a list that contains the multiplication table of a user-entered number.\n",
    "- 4 -  Write a program to display a/b where a and b are integers. If b=0, display infinite by handling the ZeroDivisionError.\n",
    "- 5 - Store the multiplication tables generated in problem 3 in a file named Tables.txt."
   ]
  },
  {
   "cell_type": "markdown",
   "id": "177a4a88",
   "metadata": {},
   "source": [
    "- 1 -  Write a program to open three files 1.txt, 2.txt, and 3.txt. if any of these files are not present, a message without exiting the program must be printed prompting the same."
   ]
  },
  {
   "cell_type": "code",
   "execution_count": 21,
   "id": "bd7ec24e",
   "metadata": {},
   "outputs": [
    {
     "name": "stdout",
     "output_type": "stream",
     "text": [
      "This is one\n",
      "This is two\n",
      "This is three\n"
     ]
    }
   ],
   "source": [
    "def readFile(filename):\n",
    "    with open(filename, \"r\") as f:\n",
    "            print(f.read())\n",
    "            \n",
    "readFile(\"1.txt\")\n",
    "readFile(\"2.txt\")\n",
    "readFile(\"3.txt\")"
   ]
  },
  {
   "cell_type": "code",
   "execution_count": 22,
   "id": "6c60e02c",
   "metadata": {},
   "outputs": [
    {
     "name": "stdout",
     "output_type": "stream",
     "text": [
      "This is one\n"
     ]
    },
    {
     "ename": "FileNotFoundError",
     "evalue": "[Errno 2] No such file or directory: '4.txt'",
     "output_type": "error",
     "traceback": [
      "\u001b[1;31m---------------------------------------------------------------------------\u001b[0m",
      "\u001b[1;31mFileNotFoundError\u001b[0m                         Traceback (most recent call last)",
      "\u001b[1;32m~\\AppData\\Local\\Temp/ipykernel_1324/2018698141.py\u001b[0m in \u001b[0;36m<module>\u001b[1;34m\u001b[0m\n\u001b[0;32m      5\u001b[0m \u001b[1;33m\u001b[0m\u001b[0m\n\u001b[0;32m      6\u001b[0m \u001b[0mreadFile\u001b[0m\u001b[1;33m(\u001b[0m\u001b[1;34m\"1.txt\"\u001b[0m\u001b[1;33m)\u001b[0m\u001b[1;33m\u001b[0m\u001b[1;33m\u001b[0m\u001b[0m\n\u001b[1;32m----> 7\u001b[1;33m \u001b[0mreadFile\u001b[0m\u001b[1;33m(\u001b[0m\u001b[1;34m\"4.txt\"\u001b[0m\u001b[1;33m)\u001b[0m\u001b[1;33m\u001b[0m\u001b[1;33m\u001b[0m\u001b[0m\n\u001b[0m\u001b[0;32m      8\u001b[0m \u001b[0mreadFile\u001b[0m\u001b[1;33m(\u001b[0m\u001b[1;34m\"2.txt\"\u001b[0m\u001b[1;33m)\u001b[0m\u001b[1;33m\u001b[0m\u001b[1;33m\u001b[0m\u001b[0m\n\u001b[0;32m      9\u001b[0m \u001b[0mreadFile\u001b[0m\u001b[1;33m(\u001b[0m\u001b[1;34m\"3.txt\"\u001b[0m\u001b[1;33m)\u001b[0m\u001b[1;33m\u001b[0m\u001b[1;33m\u001b[0m\u001b[0m\n",
      "\u001b[1;32m~\\AppData\\Local\\Temp/ipykernel_1324/2018698141.py\u001b[0m in \u001b[0;36mreadFile\u001b[1;34m(filename)\u001b[0m\n\u001b[0;32m      1\u001b[0m \u001b[1;31m# create error if it not found 4.txt, because this file does not exist.\u001b[0m\u001b[1;33m\u001b[0m\u001b[1;33m\u001b[0m\u001b[0m\n\u001b[0;32m      2\u001b[0m \u001b[1;32mdef\u001b[0m \u001b[0mreadFile\u001b[0m\u001b[1;33m(\u001b[0m\u001b[0mfilename\u001b[0m\u001b[1;33m)\u001b[0m\u001b[1;33m:\u001b[0m\u001b[1;33m\u001b[0m\u001b[1;33m\u001b[0m\u001b[0m\n\u001b[1;32m----> 3\u001b[1;33m     \u001b[1;32mwith\u001b[0m \u001b[0mopen\u001b[0m\u001b[1;33m(\u001b[0m\u001b[0mfilename\u001b[0m\u001b[1;33m,\u001b[0m \u001b[1;34m\"r\"\u001b[0m\u001b[1;33m)\u001b[0m \u001b[1;32mas\u001b[0m \u001b[0mf\u001b[0m\u001b[1;33m:\u001b[0m\u001b[1;33m\u001b[0m\u001b[1;33m\u001b[0m\u001b[0m\n\u001b[0m\u001b[0;32m      4\u001b[0m             \u001b[0mprint\u001b[0m\u001b[1;33m(\u001b[0m\u001b[0mf\u001b[0m\u001b[1;33m.\u001b[0m\u001b[0mread\u001b[0m\u001b[1;33m(\u001b[0m\u001b[1;33m)\u001b[0m\u001b[1;33m)\u001b[0m\u001b[1;33m\u001b[0m\u001b[1;33m\u001b[0m\u001b[0m\n\u001b[0;32m      5\u001b[0m \u001b[1;33m\u001b[0m\u001b[0m\n",
      "\u001b[1;31mFileNotFoundError\u001b[0m: [Errno 2] No such file or directory: '4.txt'"
     ]
    }
   ],
   "source": [
    "# create error if it not found 4.txt, because this file does not exist.\n",
    "def readFile(filename):\n",
    "    with open(filename, \"r\") as f:\n",
    "            print(f.read())\n",
    "            \n",
    "readFile(\"1.txt\")\n",
    "readFile(\"4.txt\")\n",
    "readFile(\"2.txt\")\n",
    "readFile(\"3.txt\")"
   ]
  },
  {
   "cell_type": "code",
   "execution_count": 23,
   "id": "42c87bc3",
   "metadata": {},
   "outputs": [
    {
     "name": "stdout",
     "output_type": "stream",
     "text": [
      "This is one\n",
      "File 4.txt is not found\n",
      "This is two\n",
      "This is three\n"
     ]
    }
   ],
   "source": [
    "def readFile(filename):\n",
    "    try:\n",
    "        with open(filename, \"r\") as f:\n",
    "            print(f.read())\n",
    "    except FileNotFoundError:\n",
    "        print(f\"File {filename} is not found\")\n",
    "        \n",
    "readFile(\"1.txt\")\n",
    "readFile(\"4.txt\")\n",
    "readFile(\"2.txt\")\n",
    "readFile(\"3.txt\")"
   ]
  },
  {
   "cell_type": "markdown",
   "id": "e6c052fc",
   "metadata": {},
   "source": [
    "- 2 - Write a program to print the third, fifth, and seventh elements from a list using the enumerate function."
   ]
  },
  {
   "cell_type": "code",
   "execution_count": 9,
   "id": "6debc29a",
   "metadata": {},
   "outputs": [
    {
     "name": "stdout",
     "output_type": "stream",
     "text": [
      "0 1\n",
      "1 2\n",
      "2 3\n",
      "3 4\n",
      "4 5\n",
      "5 6\n",
      "6 7\n",
      "7 8\n",
      "8 9\n",
      "9 10\n"
     ]
    }
   ],
   "source": [
    "l = [1, 2, 3, 4, 5, 6, 7, 8, 9, 10]\n",
    "for index, item in enumerate(l):\n",
    "    print(index, item)\n",
    "       "
   ]
  },
  {
   "cell_type": "code",
   "execution_count": 24,
   "id": "145458b6",
   "metadata": {},
   "outputs": [
    {
     "name": "stdout",
     "output_type": "stream",
     "text": [
      "2 3\n",
      "4 5\n",
      "6 7\n"
     ]
    }
   ],
   "source": [
    "l = [1, 2, 3, 4, 5, 6, 7, 8, 9, 10]\n",
    "for index, item in enumerate(l):\n",
    "    if index==2 or index== 4 or index==6:\n",
    "        print(index, item)\n",
    "        "
   ]
  },
  {
   "cell_type": "code",
   "execution_count": 25,
   "id": "cce401e6",
   "metadata": {},
   "outputs": [
    {
     "name": "stdout",
     "output_type": "stream",
     "text": [
      "The 3th element is 3\n",
      "The 5th element is 5\n",
      "The 7th element is 7\n"
     ]
    }
   ],
   "source": [
    "l = [1, 2, 3, 4, 5, 6, 7, 8, 9, 10]\n",
    "for index, item in enumerate(l):\n",
    "    if index==2 or index== 4 or index==6:\n",
    "        #print(index, item)\n",
    "        print(f\"The {index + 1}th element is {item}\")"
   ]
  },
  {
   "cell_type": "markdown",
   "id": "bc7a8494",
   "metadata": {},
   "source": [
    "- 3 - Write a list comprehension to print a list that contains the multiplication table of a user-entered number."
   ]
  },
  {
   "cell_type": "code",
   "execution_count": 26,
   "id": "925e09e4",
   "metadata": {},
   "outputs": [
    {
     "name": "stdout",
     "output_type": "stream",
     "text": [
      "Enter your number: 5\n",
      "[5, 10, 15, 20, 25, 30, 35, 40, 45, 50]\n"
     ]
    }
   ],
   "source": [
    "num = int(input(\"Enter your number: \"))\n",
    "\n",
    "table = [num*i for i in range(1, 11)]\n",
    "print(table)"
   ]
  },
  {
   "cell_type": "markdown",
   "id": "ff02ad5d",
   "metadata": {},
   "source": [
    "- 4 -  Write a program to display a/b where a and b are integers. If b=0, display infinite by handling the ZeroDivisionError."
   ]
  },
  {
   "cell_type": "code",
   "execution_count": 27,
   "id": "d20f4766",
   "metadata": {},
   "outputs": [
    {
     "name": "stdout",
     "output_type": "stream",
     "text": [
      "Enter number a: 3\n",
      "Enter number b: 0\n",
      "Infinite\n"
     ]
    }
   ],
   "source": [
    "a = int(input(\"Enter number a: \"))\n",
    "b = int(input(\"Enter number b: \"))\n",
    "\n",
    "try:\n",
    "    print(a/b)\n",
    "except:\n",
    "    print(\"Infinite\")"
   ]
  },
  {
   "cell_type": "markdown",
   "id": "53e9b92e",
   "metadata": {},
   "source": [
    "- 5 - Store the multiplication tables generated in problem 3 in a file named Tables.txt."
   ]
  },
  {
   "cell_type": "code",
   "execution_count": 28,
   "id": "10539de6",
   "metadata": {},
   "outputs": [
    {
     "name": "stdout",
     "output_type": "stream",
     "text": [
      "Enter your number: 5\n",
      "[5, 10, 15, 20, 25, 30, 35, 40, 45, 50]\n"
     ]
    }
   ],
   "source": [
    "num = int(input(\"Enter your number: \"))\n",
    "\n",
    "table = [num*i for i in range(1, 11)]\n",
    "print(table)\n",
    "with open(\"tables.txt\", \"a\") as f:\n",
    "    f.write(str(table))\n",
    "    f.write('\\n')"
   ]
  },
  {
   "cell_type": "code",
   "execution_count": null,
   "id": "8cc2ed99",
   "metadata": {},
   "outputs": [],
   "source": []
  },
  {
   "cell_type": "code",
   "execution_count": null,
   "id": "4e10c6b4",
   "metadata": {},
   "outputs": [],
   "source": []
  }
 ],
 "metadata": {
  "kernelspec": {
   "display_name": "Python 3 (ipykernel)",
   "language": "python",
   "name": "python3"
  },
  "language_info": {
   "codemirror_mode": {
    "name": "ipython",
    "version": 3
   },
   "file_extension": ".py",
   "mimetype": "text/x-python",
   "name": "python",
   "nbconvert_exporter": "python",
   "pygments_lexer": "ipython3",
   "version": "3.9.7"
  }
 },
 "nbformat": 4,
 "nbformat_minor": 5
}
