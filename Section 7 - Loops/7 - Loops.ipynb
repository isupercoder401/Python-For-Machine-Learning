{
 "cells": [
  {
   "cell_type": "markdown",
   "id": "ad75b007",
   "metadata": {},
   "source": [
    "# Loops\n",
    "\n",
    "Sometimes we want to repeat a set of statements in our program. For instance: Print 1 to 1000\n",
    "\n",
    "Loops make it easy for a programmer to tell the computer, which set of instructions to repeat, and how!\n",
    "\n",
    "Types of loops in Python\n",
    "Primarily there are two types of loops in Python\n",
    "\n",
    "- While loop\n",
    "- For loop\n"
   ]
  },
  {
   "cell_type": "markdown",
   "id": "5f1d6ad5",
   "metadata": {},
   "source": [
    "## While Loops\n",
    "\n",
    "In while loops, the condition is checked first. If it evaluates to true, the body of the loop is executed, otherwise not!\n",
    "\n",
    "If the loop is entered, the process of condition check and execution is continued until the condition becomes false.\n",
    "\n",
    "Note: if the condition never becomes false, the loop keeps getting executed."
   ]
  },
  {
   "cell_type": "code",
   "execution_count": 1,
   "id": "9b727f37",
   "metadata": {},
   "outputs": [
    {
     "name": "stdout",
     "output_type": "stream",
     "text": [
      "Yes0\n",
      "Yes1\n",
      "Yes2\n",
      "Yes3\n",
      "Yes4\n"
     ]
    }
   ],
   "source": [
    "i=0\n",
    "while i<5:\n",
    "    print(\"Yes\" + str(i))\n",
    "    i = i+1\n",
    "\n",
    "# Print(\"Done\")"
   ]
  },
  {
   "cell_type": "code",
   "execution_count": 2,
   "id": "84faf383",
   "metadata": {},
   "outputs": [
    {
     "name": "stdout",
     "output_type": "stream",
     "text": [
      "1\n",
      "2\n",
      "3\n",
      "4\n",
      "5\n",
      "6\n"
     ]
    }
   ],
   "source": [
    "i=1\n",
    "while i<=6:\n",
    "    print(i)\n",
    "    i = i+1"
   ]
  },
  {
   "cell_type": "code",
   "execution_count": 3,
   "id": "ef513e65",
   "metadata": {},
   "outputs": [
    {
     "name": "stdout",
     "output_type": "stream",
     "text": [
      "yes\n"
     ]
    }
   ],
   "source": [
    "print(\"yes\")"
   ]
  },
  {
   "cell_type": "code",
   "execution_count": 4,
   "id": "2ab9e36d",
   "metadata": {},
   "outputs": [
    {
     "name": "stdout",
     "output_type": "stream",
     "text": [
      "Banana\n",
      "Watermelon\n",
      "Grapes\n",
      "Mangoes\n"
     ]
    }
   ],
   "source": [
    "fruits=['Banana','Watermelon','Grapes','Mangoes']\n",
    "i=0\n",
    "while i<len(fruits):\n",
    "    print(fruits[i])\n",
    "    i=i+1"
   ]
  },
  {
   "cell_type": "markdown",
   "id": "11544cac",
   "metadata": {},
   "source": [
    "## For loops\n",
    "\n",
    "A for loop is used to iterate through a sequence like a list, tuple, or string (iterables)\n",
    "\n",
    "The syntax of a for loop looks like this:\n",
    "\n",
    "l = [1, 7, 8]\n",
    "\n",
    "for item in l:\n",
    "\t\n",
    "    print(item)\n",
    "\n",
    "(Above program will print 1, 7, and 8)"
   ]
  },
  {
   "cell_type": "markdown",
   "id": "48abb4ec",
   "metadata": {},
   "source": [
    "## For loop - Item style"
   ]
  },
  {
   "cell_type": "code",
   "execution_count": 6,
   "id": "a322023a",
   "metadata": {},
   "outputs": [
    {
     "name": "stdout",
     "output_type": "stream",
     "text": [
      "Banana\n",
      "Watermelon\n",
      "Grapes\n",
      "Mangoes\n"
     ]
    }
   ],
   "source": [
    "# A for loop is used to iterate through a sequence like a list, tuple, \n",
    "# or string (iterables)\n",
    "fruits=['Banana','Watermelon','Grapes','Mangoes']\n",
    "\n",
    "for item in fruits:\n",
    "    print(item)"
   ]
  },
  {
   "cell_type": "markdown",
   "id": "67ea04ae",
   "metadata": {},
   "source": [
    "Range function in Python\n",
    "\n",
    "The range function in python is used to generate a sequence of numbers.\n",
    "\n",
    "We can also specify the start, stop, and step-size as follows:\n",
    "\n",
    "            range(start, stop, step_size)\n",
    "\n",
    "step size is usually not used with range()\n",
    "\n",
    "An example demonstrating range() function\n",
    "\n",
    "for i in range(0, 7):\t        \t# range(7) can also be used\n",
    "\t\n",
    "    print(i)\t\t#prints 0 to 6"
   ]
  },
  {
   "cell_type": "markdown",
   "id": "0b838a03",
   "metadata": {},
   "source": [
    "## For Loop - Range style"
   ]
  },
  {
   "cell_type": "code",
   "execution_count": 8,
   "id": "efb7eaa0",
   "metadata": {},
   "outputs": [
    {
     "name": "stdout",
     "output_type": "stream",
     "text": [
      "1\n",
      "apple\n",
      "3\n",
      "4\n",
      "5\n",
      "banana\n"
     ]
    }
   ],
   "source": [
    "a=[1,\"apple\",3,4,5,\"banana\"]\n",
    "i=0\n",
    "for i in range(len(a)):\n",
    "    print(a[i])\n",
    "    i+=1"
   ]
  },
  {
   "cell_type": "markdown",
   "id": "0e3af12b",
   "metadata": {},
   "source": [
    "## For loop -  Simple in Style"
   ]
  },
  {
   "cell_type": "code",
   "execution_count": 6,
   "id": "7af3f2a2",
   "metadata": {},
   "outputs": [
    {
     "name": "stdout",
     "output_type": "stream",
     "text": [
      "1\n",
      "apple\n",
      "3\n",
      "4\n",
      "5\n",
      "banana\n"
     ]
    }
   ],
   "source": [
    "a=[1,\"apple\",3,4,5,\"banana\"]\n",
    "i=0\n",
    "for item in a:\n",
    "    print(item)"
   ]
  },
  {
   "cell_type": "markdown",
   "id": "847fe362",
   "metadata": {},
   "source": [
    "## Numeric For loop"
   ]
  },
  {
   "cell_type": "code",
   "execution_count": 9,
   "id": "5079df60",
   "metadata": {},
   "outputs": [
    {
     "name": "stdout",
     "output_type": "stream",
     "text": [
      "0\n",
      "1\n",
      "2\n",
      "3\n"
     ]
    }
   ],
   "source": [
    "for i in range(4):\n",
    "    print(i)"
   ]
  },
  {
   "cell_type": "code",
   "execution_count": 10,
   "id": "60086b64",
   "metadata": {},
   "outputs": [
    {
     "name": "stdout",
     "output_type": "stream",
     "text": [
      "3\n",
      "4\n",
      "5\n",
      "6\n"
     ]
    }
   ],
   "source": [
    "for i in range(3,7):\n",
    "     print(i)"
   ]
  },
  {
   "cell_type": "code",
   "execution_count": 11,
   "id": "e0883380",
   "metadata": {},
   "outputs": [
    {
     "name": "stdout",
     "output_type": "stream",
     "text": [
      "1\n",
      "3\n",
      "5\n",
      "7\n"
     ]
    }
   ],
   "source": [
    "for i in range(1,8,2):\n",
    "     print(i)"
   ]
  },
  {
   "cell_type": "code",
   "execution_count": 12,
   "id": "f9b26806",
   "metadata": {},
   "outputs": [
    {
     "name": "stdout",
     "output_type": "stream",
     "text": [
      "0\n",
      "1\n",
      "2\n",
      "3\n",
      "This is inside else of for loop\n"
     ]
    }
   ],
   "source": [
    "for i in range(4):\n",
    "     print(i)\n",
    "else:\n",
    "    print(\"This is inside else of for loop\")\n",
    "    \n",
    "# Else works when for-loop completed, This command is recommended"
   ]
  },
  {
   "cell_type": "code",
   "execution_count": 13,
   "id": "611de182",
   "metadata": {},
   "outputs": [
    {
     "name": "stdout",
     "output_type": "stream",
     "text": [
      "1\n",
      "7\n",
      "8\n",
      "Done\n"
     ]
    }
   ],
   "source": [
    "l=[1,7,8]\n",
    "for item in l:\n",
    "    print(item)\n",
    "else:\n",
    "    print(\"Done\")\n",
    "    "
   ]
  },
  {
   "cell_type": "markdown",
   "id": "c18ad077",
   "metadata": {},
   "source": [
    "## The break statement\n",
    "‘break’ is used to come out of the loop when encountered. It instructs the program to – Exit the loop now."
   ]
  },
  {
   "cell_type": "code",
   "execution_count": 14,
   "id": "c70850dd",
   "metadata": {},
   "outputs": [
    {
     "name": "stdout",
     "output_type": "stream",
     "text": [
      "0\n",
      "1\n",
      "2\n",
      "3\n",
      "4\n",
      "5\n",
      "6\n",
      "7\n",
      "8\n",
      "9\n"
     ]
    }
   ],
   "source": [
    "\n",
    "for i in range(10):\n",
    "    print(i)\n",
    "    #if i==5:\n",
    "        #break"
   ]
  },
  {
   "cell_type": "code",
   "execution_count": 15,
   "id": "1d06a7cd",
   "metadata": {},
   "outputs": [
    {
     "name": "stdout",
     "output_type": "stream",
     "text": [
      "0\n",
      "1\n",
      "2\n",
      "3\n",
      "4\n",
      "5\n"
     ]
    }
   ],
   "source": [
    "for i in range(10):\n",
    "    print(i)\n",
    "    if i==5:\n",
    "        break"
   ]
  },
  {
   "cell_type": "code",
   "execution_count": 16,
   "id": "5adafb65",
   "metadata": {},
   "outputs": [
    {
     "name": "stdout",
     "output_type": "stream",
     "text": [
      "0\n",
      "1\n",
      "2\n",
      "3\n",
      "4\n",
      "5\n"
     ]
    }
   ],
   "source": [
    "for i in range(10):\n",
    "    print(i)\n",
    "    if i==5:\n",
    "        break\n",
    "else:\n",
    "    print(\"This is inside else of For loop\")\n",
    "\n",
    "# Else command is only executed if loop is completed with all its value\n",
    "# If loop is terminated by break - ELSE commoand will not be executed\n"
   ]
  },
  {
   "cell_type": "markdown",
   "id": "63a929d1",
   "metadata": {},
   "source": [
    "## The continue statement\n",
    "‘continue’ is used to stop the current iteration of the loop and continue with the next one. It instructs the program to “skip this iteration.”"
   ]
  },
  {
   "cell_type": "code",
   "execution_count": 1,
   "id": "1570ce22",
   "metadata": {},
   "outputs": [
    {
     "name": "stdout",
     "output_type": "stream",
     "text": [
      "0\n",
      "1\n",
      "2\n",
      "3\n",
      "4\n",
      "6\n"
     ]
    }
   ],
   "source": [
    "for i in range(7):\n",
    "    if i==5:\n",
    "        continue\n",
    "    print(i)\n",
    "# When it will find i=5, it will not go to (further statements below continue) print, 5 print is skipped"
   ]
  },
  {
   "cell_type": "markdown",
   "id": "2e568ad3",
   "metadata": {},
   "source": [
    "## pass statement\n",
    "pass is a null statement in python. It instructs to “Do nothing.”"
   ]
  },
  {
   "cell_type": "code",
   "execution_count": 1,
   "id": "97c08556",
   "metadata": {},
   "outputs": [
    {
     "name": "stdout",
     "output_type": "stream",
     "text": [
      "good boy\n"
     ]
    }
   ],
   "source": [
    "i=4\n",
    "if i>0:\n",
    "    pass\n",
    "print(\"good boy\")\n",
    "# Pass is a null statement, nothing to do\n",
    "# Pass is just to make pipeline, to create futuristic option"
   ]
  },
  {
   "cell_type": "code",
   "execution_count": 2,
   "id": "0b3f24ea",
   "metadata": {},
   "outputs": [
    {
     "name": "stdout",
     "output_type": "stream",
     "text": [
      "good boy\n"
     ]
    }
   ],
   "source": [
    "i=4\n",
    "while i>6:\n",
    "    pass\n",
    "\n",
    "print(\"good boy\")\n"
   ]
  },
  {
   "cell_type": "markdown",
   "id": "b48e78db",
   "metadata": {},
   "source": [
    "## Practice Set\n",
    "- Write a program to print the multiplication table of a given number using for loop.\n",
    "- Write a program to greet all the person names stored in a list l1 and which starts with S.\n",
    "- Attempt problem 1 using a while loop.\n",
    "- Write a program to find whether a given number is prime or not.\n",
    "- Write a program to find the sum of first n natural numbers using a while loop.\n",
    "- Write a program to calculate the factorial of a given number using for loop.\n",
    "- Write a program to print the following star pattern.\n",
    "- Write a program to print the following star pattern:\n",
    "- Write a program to print the following star pattern:\n",
    "- Write a program to print the multiplication table of n using for loop in reversed order."
   ]
  },
  {
   "cell_type": "code",
   "execution_count": 3,
   "id": "f5ae2ff9",
   "metadata": {},
   "outputs": [
    {
     "name": "stdout",
     "output_type": "stream",
     "text": [
      "Enter the number15\n",
      "15X1=15\n",
      "15X2=30\n",
      "15X3=45\n",
      "15X4=60\n",
      "15X5=75\n",
      "15X6=90\n",
      "15X7=105\n",
      "15X8=120\n",
      "15X9=135\n",
      "15X10=150\n"
     ]
    }
   ],
   "source": [
    "# Write a program to print the multiplication table of a given number using for\n",
    "# loop.  # Table program\n",
    "\n",
    "num = int(input(\"Enter the number\"))\n",
    "for i in range(1,11):\n",
    "    print(str(num) + \"X\" + str(i) + \"=\" + str(i*num))"
   ]
  },
  {
   "cell_type": "code",
   "execution_count": 4,
   "id": "22690964",
   "metadata": {},
   "outputs": [
    {
     "name": "stdout",
     "output_type": "stream",
     "text": [
      "Enter the number20\n",
      "20X1=20\n",
      "20X2=40\n",
      "20X3=60\n",
      "20X4=80\n",
      "20X5=100\n",
      "20X6=120\n",
      "20X7=140\n",
      "20X8=160\n",
      "20X9=180\n",
      "20X10=200\n"
     ]
    }
   ],
   "source": [
    "# Table program by f-string (print(f))\n",
    "num = int(input(\"Enter the number\"))\n",
    "for i in range(1,11):\n",
    "    print(f\"{num}X{i}={num*i}\")"
   ]
  },
  {
   "cell_type": "code",
   "execution_count": 20,
   "id": "90eda8c7",
   "metadata": {},
   "outputs": [
    {
     "name": "stdout",
     "output_type": "stream",
     "text": [
      "HelloSajid\n",
      "HelloSarwar\n"
     ]
    }
   ],
   "source": [
    "# Write a program to greet all the person names stored in a list l1 and which \n",
    "# starts with S.\n",
    "\n",
    "l1=[\"Hamid\",\"Sajid\",\"Sarwar\",\"Rizwan\"]\n",
    "\n",
    "for name in l1:\n",
    "    if name.startswith(\"S\"):\n",
    "        print(\"Hello\" + name)"
   ]
  },
  {
   "cell_type": "code",
   "execution_count": 18,
   "id": "8dc11e63",
   "metadata": {},
   "outputs": [
    {
     "name": "stdout",
     "output_type": "stream",
     "text": [
      "HelloHamid\n",
      "HelloSajid\n"
     ]
    }
   ],
   "source": [
    "l1=[\"Hamid\",\"Sajid\",\"Sarwar\",\"Rizwan\"]\n",
    "\n",
    "for name in l1:\n",
    "    if name.endswith(\"d\"):\n",
    "        print(\"Hello\" + name)"
   ]
  },
  {
   "cell_type": "code",
   "execution_count": 7,
   "id": "f1ea41a5",
   "metadata": {},
   "outputs": [
    {
     "name": "stdout",
     "output_type": "stream",
     "text": [
      "Enter the number:5\n",
      "This number is prime\n"
     ]
    }
   ],
   "source": [
    "# Write a program to find whether a given number is prime or not.\n",
    "# Prime number  program\n",
    "\n",
    "num = int(input(\"Enter the number:\"))\n",
    "prime=True\n",
    "\n",
    "for i in range(2,num):\n",
    "    if (num%i==0):\n",
    "        prime=False\n",
    "        break\n",
    "if prime:\n",
    "    print(\"This number is prime\")\n",
    "else:\n",
    "    print(\"This number is not prime\")"
   ]
  },
  {
   "cell_type": "code",
   "execution_count": 8,
   "id": "f2168c6b",
   "metadata": {},
   "outputs": [
    {
     "name": "stdout",
     "output_type": "stream",
     "text": [
      "Enter the number:5\n",
      "1\n",
      "2\n",
      "6\n",
      "24\n",
      "120\n",
      "The factorial of 5 is 120\n"
     ]
    }
   ],
   "source": [
    "# Write a program to calculate the factorial of a given number using for loop\n",
    "# Factorial program\n",
    " \n",
    "num = int(input(\"Enter the number:\"))\n",
    "factorial=1\n",
    "for i in range(1,num+1):\n",
    "    factorial = factorial*i\n",
    "    print(factorial)\n",
    "print(f\"The factorial of {num} is {factorial}\")"
   ]
  },
  {
   "cell_type": "code",
   "execution_count": 10,
   "id": "34e148c0",
   "metadata": {},
   "outputs": [
    {
     "name": "stdout",
     "output_type": "stream",
     "text": [
      "*\n",
      "**\n",
      "***\n",
      "****\n",
      "*****\n"
     ]
    }
   ],
   "source": [
    "# Star printing\n",
    "n=4\n",
    "for i in range(4):\n",
    "    print(\"*\" * (i+1))\n",
    "    \n",
    "print(\"*\"*5)"
   ]
  },
  {
   "cell_type": "code",
   "execution_count": 17,
   "id": "8a379c13",
   "metadata": {},
   "outputs": [
    {
     "name": "stdout",
     "output_type": "stream",
     "text": [
      "  \n",
      "* \n",
      "  \n",
      " \n",
      "* * * \n",
      " \n",
      "\n",
      "* * * * * \n",
      "\n"
     ]
    }
   ],
   "source": [
    "n=3\n",
    "for i in range(3): # no. of rows\n",
    "    \n",
    "    print(\" \" * (n-i-1))\n",
    "    print(\"* \" * (2*i+1))\n",
    "    print(\" \" * (n-i-1))\n",
    "    "
   ]
  },
  {
   "cell_type": "code",
   "execution_count": 3,
   "id": "c516fbda",
   "metadata": {},
   "outputs": [
    {
     "name": "stdout",
     "output_type": "stream",
     "text": [
      "  *   \n",
      " * * *  \n",
      "* * * * * \n"
     ]
    }
   ],
   "source": [
    "n=3\n",
    "for i in range(3):  # no. of rows\n",
    "    \n",
    "    print(\" \" * (n-i-1),end=\"\") # To romove extra line in above program\n",
    "    print(\"* \" * (2*i+1),end=\"\")\n",
    "    print(\" \" * (n-i-1))"
   ]
  },
  {
   "cell_type": "code",
   "execution_count": 25,
   "id": "1cb8d769-f415-4b6b-ad24-9cf0d4b0fb3c",
   "metadata": {},
   "outputs": [
    {
     "name": "stdout",
     "output_type": "stream",
     "text": [
      "Welcome\n"
     ]
    }
   ],
   "source": [
    "print(\"Welcome\")"
   ]
  },
  {
   "cell_type": "code",
   "execution_count": null,
   "id": "a3b1a8c9-45d1-4a6f-8f8f-b74cb2226d6f",
   "metadata": {},
   "outputs": [],
   "source": []
  },
  {
   "cell_type": "code",
   "execution_count": null,
   "id": "1b9cf7f0",
   "metadata": {},
   "outputs": [],
   "source": []
  }
 ],
 "metadata": {
  "kernelspec": {
   "display_name": "Python 3",
   "language": "python",
   "name": "python3"
  },
  "language_info": {
   "codemirror_mode": {
    "name": "ipython",
    "version": 3
   },
   "file_extension": ".py",
   "mimetype": "text/x-python",
   "name": "python",
   "nbconvert_exporter": "python",
   "pygments_lexer": "ipython3",
   "version": "3.8.8"
  }
 },
 "nbformat": 4,
 "nbformat_minor": 5
}
